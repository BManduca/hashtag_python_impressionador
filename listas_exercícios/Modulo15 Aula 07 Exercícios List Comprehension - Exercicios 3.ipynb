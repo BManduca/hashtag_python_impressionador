{
 "cells": [
  {
   "cell_type": "markdown",
   "metadata": {
    "id": "_hqX4qRpTXRw"
   },
   "source": [
    "# Exercícios\n",
    "\n",
    "## 1. Tamanho do Pedido de Compras\n",
    "\n",
    "Nesse exercício vamos avaliar o estoque de uma empresa. Vamos considerar que todos os produtos dessa empresa são comprados em lotes de 500 unidades.\n",
    "\n",
    "- Caso o estoque esteja abaixo de 1000 unidades, devemos fazer um pedido de 500 unidades.\n",
    "- Caso o estoque esteja abaixo de 200 unidades, devemos fazer um pedido de 1000 unidades.\n",
    "\n",
    "Defina o valor a ser pedido de cada produto para enviar ao time de compras."
   ]
  },
  {
   "cell_type": "code",
   "execution_count": 4,
   "metadata": {
    "id": "yjccxaBZTXRy"
   },
   "outputs": [
    {
     "name": "stdout",
     "output_type": "stream",
     "text": [
      "[500, 500, 500, 500, 500, 500, 500, 500, 500, 500, 500, 500, 500, 500, 500, 500, 500, 1000, 1000, 500, 500, 500, 500, 1000, 500, 500, 500, 500, 1000, 500, 500, 1000, 500, 500, 500, 500, 500]\n"
     ]
    }
   ],
   "source": [
    "estoque = [('BSA2199',396),('PPF5239',251),('BSA1212',989),('PPF2154',449),('BEB3410',241),('PPF8999',527),('EMB9591',601),('BSA2006',314),('EMB3604',469),('EMB2070',733),('PPF9018',339),('PPF1468',906),('BSA5819',291),('PPF8666',850),('BEB2983',353),('BEB5877',456),('PPF5008',963),('PPF3877',185),('PPF7321',163),('BSA8833',644),('PPF4980',421),('PPF3063',757),('BSA2089',271),('BSA8398',180),('EMB4622',515),('EMB9814',563),('PPF3784',229),('PPF2398',270),('BEB3211',181),('PPF8655',459),('PPF1874',799),('PPF8789',126),('PPF6324',375),('EMB9290',883),('BSA5516',555),('BSA8451',243),('BSA8213',423)]\n",
    "\n",
    "pedido_qtde_produto = []\n",
    "\n",
    "for produto, qtde_estoque in estoque:\n",
    "    if qtde_estoque < 200:\n",
    "        pedido_qtde_produto.append(1000)\n",
    "    else:\n",
    "        pedido_qtde_produto.append(500)\n",
    "\n",
    "print(pedido_qtde_produto)\n"
   ]
  },
  {
   "cell_type": "code",
   "execution_count": 7,
   "metadata": {},
   "outputs": [
    {
     "name": "stdout",
     "output_type": "stream",
     "text": [
      "[('BSA2199', 396, 500), ('PPF5239', 251, 500), ('BSA1212', 989, 500), ('PPF2154', 449, 500), ('BEB3410', 241, 500), ('PPF8999', 527, 500), ('EMB9591', 601, 500), ('BSA2006', 314, 500), ('EMB3604', 469, 500), ('EMB2070', 733, 500), ('PPF9018', 339, 500), ('PPF1468', 906, 500), ('BSA5819', 291, 500), ('PPF8666', 850, 500), ('BEB2983', 353, 500), ('BEB5877', 456, 500), ('PPF5008', 963, 500), ('PPF3877', 185, 1000), ('PPF7321', 163, 1000), ('BSA8833', 644, 500), ('PPF4980', 421, 500), ('PPF3063', 757, 500), ('BSA2089', 271, 500), ('BSA8398', 180, 1000), ('EMB4622', 515, 500), ('EMB9814', 563, 500), ('PPF3784', 229, 500), ('PPF2398', 270, 500), ('BEB3211', 181, 1000), ('PPF8655', 459, 500), ('PPF1874', 799, 500), ('PPF8789', 126, 1000), ('PPF6324', 375, 500), ('EMB9290', 883, 500), ('BSA5516', 555, 500), ('BSA8451', 243, 500), ('BSA8213', 423, 500)]\n"
     ]
    }
   ],
   "source": [
    "lista_produtos = [produto for produto, qtde_estoque in estoque]\n",
    "\n",
    "lista_estoque = [qtde_estoque for produto, qtde_estoque in estoque]\n",
    "\n",
    "lista_pedidos_qtde_produto = [1000 if qtde_estoque < 200 else 500 for produto, qtde_estoque in estoque]\n",
    "\n",
    "lista_produtos_estoque_pedido = list(zip(lista_produtos, lista_estoque, lista_pedidos_qtde_produto))\n",
    "\n",
    "print(lista_produtos_estoque_pedido)"
   ]
  }
 ],
 "metadata": {
  "colab": {
   "collapsed_sections": [],
   "name": "16.04.01 Exercícios de List Comprehension.ipynb",
   "provenance": []
  },
  "kernelspec": {
   "display_name": "venv",
   "language": "python",
   "name": "python3"
  },
  "language_info": {
   "codemirror_mode": {
    "name": "ipython",
    "version": 3
   },
   "file_extension": ".py",
   "mimetype": "text/x-python",
   "name": "python",
   "nbconvert_exporter": "python",
   "pygments_lexer": "ipython3",
   "version": "3.12.5"
  }
 },
 "nbformat": 4,
 "nbformat_minor": 0
}
