{
 "cells": [
  {
   "cell_type": "markdown",
   "id": "a2fee89b",
   "metadata": {},
   "source": [
    "### Forma de pensar"
   ]
  },
  {
   "cell_type": "code",
   "execution_count": null,
   "id": "1be9db7d",
   "metadata": {},
   "outputs": [],
   "source": [
    "# Decomposição Top -> Down\n",
    "# partir do desafio de mais alto nível e ir até o de mais baixo nível\n",
    "# ou seja. quebrar o mesmo em etapas menores.\n",
    "\n",
    "# Exemplo simples: atravessar a rua\n",
    "\n",
    "# Atrevessar a rua\n",
    "    # procurar uma faixa de pedestre\n",
    "    # Olhar para os dois lados\n",
    "        # Olhar para a direita e ver se vem carro\n",
    "        # Olhar para a esquerda e ver se vem carro\n",
    "        # Se não vier carro em nenhum dos dois lados\n",
    "            # Andar até o outro lado da calçada"
   ]
  },
  {
   "cell_type": "markdown",
   "id": "672e10e0",
   "metadata": {},
   "source": [
    "### Exemplo de Exercício do Curso"
   ]
  },
  {
   "cell_type": "markdown",
   "id": "fee80189",
   "metadata": {},
   "source": [
    "#### 23. Faça um Programa para uma loja de tintas. O programa deverá pedir o tamanho em metros quadrados da área a ser pintada. Considere que a cobertura da tinta é de 1 litro para cada 6 metros quadrados e que a tinta é vendida em latas de 18 litros, que custam R\\\\$ 80,00 ou em galões de 3,6 litros, que custam R\\\\$ 25,00."
   ]
  },
  {
   "cell_type": "code",
   "execution_count": null,
   "id": "4499bb83",
   "metadata": {},
   "outputs": [
    {
     "name": "stdout",
     "output_type": "stream",
     "text": [
      "Area: 104 m²\n",
      "Total de litros: 17.33 litros\n",
      "Quantidade de latas: 1\n",
      "Custo das latas: R$ 80.00\n"
     ]
    }
   ],
   "source": [
    "# Programa loja de tintas\n",
    "# Descobrir quantas latas de tintas são necessárias e o custo para pintar uma área\n",
    "    # Descobrir quantas latas de tinta são necessárias\n",
    "        # Descobrir qual a área que o usuário vai pintar\n",
    "area = int(input('Informe a área a ser pintada(m²): '))\n",
    "        # Descobrir quantos litros de tinta serão necessarios para pintar essa área\n",
    "total_litros = area / 6\n",
    "        # Calcular quantas latas serão necessárias para chegar nessa quantidade de tinta\n",
    "qtde_latas = total_litros / 18\n",
    "if qtde_latas > int(qtde_latas):\n",
    "    qtde_latas = int(qtde_latas) + 1\n",
    "\n",
    "# outra forma\n",
    "# if total_litros % 18 > 0:\n",
    "#     qtde_latas = total_litros // 18 + 1\n",
    "# else:\n",
    "#     qtde_latas = total_litros // 18\n",
    "\n",
    "    # Calcular o custo das Latas de tinta\n",
    "        # Quantidade de latas * preço da lata\n",
    "custo_latas = qtde_latas * 80\n",
    "\n",
    "print(f'Area: {area} m²\\nTotal de litros: {total_litros:.2f} litros\\nQuantidade de latas: {qtde_latas}\\nCusto das latas: R$ {custo_latas:,.2f}')\n"
   ]
  },
  {
   "cell_type": "markdown",
   "id": "0d5fa10a",
   "metadata": {},
   "source": [
    "##### Informe ao usuário as quantidades de tinta a serem compradas e os respectivos preços em 3 situações.\n",
    "\n",
    "Dica: lembre dos operadores // e % mostrados em exercícios anteriores<br>\n",
    "Dica1: numero // 10 vai te dar como resposta a parte inteira da divisão do número por 10. Ex: 7 // 3 = 2; 10 // 3 = 3<br> \n",
    "Dica2: numero % 10 vai te dar o resto da divisão do número por 10. Ex: 7 % 3 = 1; 10 % 3 = 1; 15 % 3 = 0\n",
    "\n",
    "##### 1. Comprar apenas latas de 18 litros: (apenas latas inteiras)"
   ]
  },
  {
   "cell_type": "code",
   "execution_count": null,
   "id": "bc38cdcd",
   "metadata": {},
   "outputs": [
    {
     "name": "stdout",
     "output_type": "stream",
     "text": [
      "Area: 152 m²\n",
      "Total de litros: 25.33 litros\n",
      "Quantidade de latas: 2.0\n",
      "Custo das latas: R$ 160.00\n"
     ]
    }
   ],
   "source": [
    "# resolucao exercicio 1\n",
    "def tamanho_area_a_ser_pintada():\n",
    "    area = int(input('Informe a área a ser pintada(m²): '))\n",
    "    return area\n",
    "\n",
    "def calcular_quantidade_litros(area):\n",
    "    total_litros = area/6\n",
    "    return total_litros\n",
    "\n",
    "def calcular_qtde_latas_necessarias(litros):\n",
    "    if litros % 18 > 0:\n",
    "        qtde_latas = litros // 18 + 1\n",
    "    else:\n",
    "        qtde_latas = litros // 18\n",
    "\n",
    "    return qtde_latas\n",
    "\n",
    "def calcular_custo(qtde_latas):\n",
    "    custo_latas = qtde_latas * 80\n",
    "    return custo_latas\n",
    "\n",
    "area = tamanho_area_a_ser_pintada()\n",
    "litros = calcular_quantidade_litros(area)\n",
    "quantidade_latas = calcular_qtde_latas_necessarias(litros)\n",
    "custo = calcular_custo(quantidade_latas)\n",
    "\n",
    "print(f'Area: {area} m²\\nTotal de litros: {litros:.2f} litros\\nQuantidade de latas: {quantidade_latas}\\nCusto das latas: R$ {custo:,.2f}')"
   ]
  },
  {
   "cell_type": "markdown",
   "id": "15dc7322",
   "metadata": {},
   "source": [
    "##### 2. Comprar apenas galões de 3,6 litros: (apenas galoes inteiros)"
   ]
  },
  {
   "cell_type": "code",
   "execution_count": 14,
   "id": "6e0a01af",
   "metadata": {},
   "outputs": [
    {
     "name": "stdout",
     "output_type": "stream",
     "text": [
      "Area: 80 m²\n",
      "Total de litros: 13.33 litros\n",
      "Quantidade de galões: 4.0\n",
      "Custo dos galões: R$ 100.00\n"
     ]
    }
   ],
   "source": [
    "# resolucao exercicio 2\n",
    "def tamanho_area_a_ser_pintada():\n",
    "    area = int(input('Informe a área a ser pintada(m²): '))\n",
    "    return area\n",
    "\n",
    "def calcular_quantidade_litros(area):\n",
    "    total_litros = area/6\n",
    "    return total_litros\n",
    "\n",
    "def calcular_qtde_galoes_necessarios(litros):\n",
    "    if litros % 3.6 > 0:\n",
    "        qtde_galoes = litros // 3.6 + 1\n",
    "    else:\n",
    "        qtde_galoes = litros // 3.6\n",
    "\n",
    "    return qtde_galoes\n",
    "\n",
    "def calcular_custo(qtde_galoes):\n",
    "    custo_latas = qtde_galoes * 25\n",
    "    return custo_latas\n",
    "\n",
    "area = tamanho_area_a_ser_pintada()\n",
    "litros = calcular_quantidade_litros(area)\n",
    "quantidade_galoes = calcular_qtde_galoes_necessarios(litros)\n",
    "custo = calcular_custo(quantidade_galoes)\n",
    "\n",
    "print(f'Area: {area} m²\\nTotal de litros: {litros:.2f} litros\\nQuantidade de galões: {quantidade_galoes}\\nCusto dos galões: R$ {custo:,.2f}')"
   ]
  },
  {
   "cell_type": "markdown",
   "id": "35e0aa11",
   "metadata": {},
   "source": [
    "##### 3. Misturar latas e galões, de forma que o desperdício de tinta seja menor. Sempre arredonde os valores para cima, isto é, considere latas cheias."
   ]
  },
  {
   "cell_type": "markdown",
   "id": "95a3d342",
   "metadata": {},
   "source": [
    "O custo da lata é 80/18 = 4,44 R\\\\$/L\n",
    "\n",
    "O custo do galão é 25/3,6 = 6,94 R\\\\$/L\n",
    "\n",
    "A lata é mais econômica, então todas as latas inteiras que pudermos usar devemos comprar em latas. Se ficar faltando alguma coisa para completar devemos avaliar se é melhor comprar latas ou galões. Exemplo:\n",
    "\n",
    "Se queremos comprar 90 litros. 5 latas dão exatamente 90 litros. Então devemos comprar tudo em latas.\n",
    "\n",
    "Se queremos comprar 95 litros. 5 latas dão exatamente 90 litros. Então devemos comprar pelo menos 5 latas e avaliar o que falta, se estes últimos 5 litros valem mais apenas em latas ou galões.\n",
    "\n",
    "Para os 5 litros faltantes precisamos de 2 galões que custam 50 reais no total. Ou de uma lata que custa 80 reais no total. Portanto, neste caso vale mais a pena usar 2 galões.\n",
    "\n",
    "Se queremos comprar 107 litros. 5 latas dão exatamente 90 litros. Então devemos comprar pelo menos 5 latas e avaliar o que falta, se estes últimos 5 litros valem mais apenas em latas ou galões.\n",
    "\n",
    "Para os 17 litros faltantes precisamos de 5 galões que custam 125 reais no total. Ou de uma lata que custa 80 reais no total. Portanto, neste caso vale mais a pena usar uma lata.\n",
    "\n",
    "3 galões custam 75 reais, 4 galões custam 100 reais. Então, se for possível completar com até 3 galões escolhe-se galões. Qualquer quantidade maior que 3 galões, usa-se latas.\n",
    "\n",
    "Podemos ir ao exercício:"
   ]
  },
  {
   "cell_type": "code",
   "execution_count": 29,
   "id": "0e9847d9",
   "metadata": {},
   "outputs": [],
   "source": [
    "# informar a are a ser pintada\n",
    "def tamanho_area_a_ser_pintada():\n",
    "    area = int(input('Informe a área a ser pintada(m²): '))\n",
    "    return area\n",
    "\n",
    "# calcular quantos litros de tinta vão ser necessarios\n",
    "def calcular_quantidade_litros(area):\n",
    "    total_litros = area/6\n",
    "    return total_litros\n",
    "\n",
    "# calcular a quantidade de latas e galões serão necessários\n",
    "    # calcular quantas latas inteiras serão necessárias\n",
    "    # quantos litros ainda faltam comprar para finalizar a area\n",
    "    # Calcular quanto custa para preencher esses litros que ainda faltam com galões\n",
    "    # Calcular quanto custa para preencher esses litros que ainda faltam com latas\n",
    "    # Escolher a opção mais barata\n",
    "\n",
    "def calcular_qtde_latas_galoes(litros):\n",
    "\n",
    "    qtde_latas = 0\n",
    "    qtde_galoes = 0\n",
    "\n",
    "    latas_inteiras = int(litros / 18)\n",
    "    # pegando o que sobrou da divisao dos listros / 18, que nesse caso, seriam os listro faltantes.\n",
    "    qtde_litros_faltante = litros % 18\n",
    "\n",
    "    # preenchendo com latas\n",
    "    custo_extra_latas = 1 * 80\n",
    "\n",
    "    # preenchendo com galoes\n",
    "    qtde_galoes = qtde_litros_faltante / 3.6\n",
    "    if qtde_galoes > int(qtde_galoes):\n",
    "        qtde_galoes = int(qtde_galoes) + 1\n",
    "\n",
    "    custo_extra_galoes = qtde_galoes * 25\n",
    "\n",
    "    if custo_extra_latas < custo_extra_galoes:\n",
    "        qtde_latas = latas_inteiras + 1\n",
    "        qtde_galoes = 0\n",
    "    else:\n",
    "        qtde_latas = latas_inteiras\n",
    "    \n",
    "    return qtde_latas, qtde_galoes\n",
    "\n",
    "# calcular o custo total\n",
    "def calcular_custo(qtde_latas, qtde_galoes):\n",
    "    custo_latas = qtde_latas * 80\n",
    "    custo_galoes = qtde_galoes * 25\n",
    "\n",
    "    custo = custo_latas + custo_galoes\n",
    "    return custo"
   ]
  },
  {
   "cell_type": "code",
   "execution_count": 31,
   "id": "4e4b363c",
   "metadata": {},
   "outputs": [
    {
     "name": "stdout",
     "output_type": "stream",
     "text": [
      "Area: 1400 m²\n",
      "Total de litros: 233.33 litros\n",
      "Quantidade de latas: 13\n",
      "Quantidade de galões: 0\n",
      "Custo dos galões: R$ 1,040.00\n"
     ]
    }
   ],
   "source": [
    "area = tamanho_area_a_ser_pintada()\n",
    "litros = calcular_quantidade_litros(area)\n",
    "\n",
    "qtde_latas, qtde_galoes = calcular_qtde_latas_galoes(litros)\n",
    "\n",
    "custo = calcular_custo(qtde_latas, qtde_galoes)\n",
    "\n",
    "print(f'Area: {area} m²\\nTotal de litros: {litros:.2f} litros\\nQuantidade de latas: {qtde_latas}\\nQuantidade de galões: {qtde_galoes}\\nCusto dos galões: R$ {custo:,.2f}')\n"
   ]
  }
 ],
 "metadata": {
  "kernelspec": {
   "display_name": "venv",
   "language": "python",
   "name": "python3"
  },
  "language_info": {
   "codemirror_mode": {
    "name": "ipython",
    "version": 3
   },
   "file_extension": ".py",
   "mimetype": "text/x-python",
   "name": "python",
   "nbconvert_exporter": "python",
   "pygments_lexer": "ipython3",
   "version": "3.12.5"
  }
 },
 "nbformat": 4,
 "nbformat_minor": 5
}
