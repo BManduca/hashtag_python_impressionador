{
 "cells": [
  {
   "cell_type": "markdown",
   "metadata": {},
   "source": [
    "# Exercícios\n",
    "\n",
    "## 1. Exercício \"menos prático\" para treinar manipulação de dicionário\n",
    "\n",
    "Dessa vez, vamos apenas treinar a manipulação de dicionário. Transforme as listas abaixo em 1 único dicionário no formato:"
   ]
  },
  {
   "cell_type": "raw",
   "metadata": {
    "vscode": {
     "languageId": "raw"
    }
   },
   "source": [
    "dicionario = {\n",
    "    produto: [vendas2019, vendas2020],\n",
    "    produto2: [vendas2019, vendas2020],\n",
    "    produto3: [vendas2019, vendas2020],\n",
    "    ...\n",
    "}"
   ]
  },
  {
   "cell_type": "markdown",
   "metadata": {},
   "source": [
    "- Apesar de parecer \"menos prático\" esse é um procedimento que precisamos nos acostumar a fazer, visto que algumas funções (tema dos próximos módulos) precisam de dicionários para funcionar e saber transformar listas em dicionários (e vice-versa) é uma habilidade muito útil\n",
    "\n",
    "Obs: Lembre do zip para juntar listas.<br>\n",
    "Obs2: Repare que cada item das vendas é na verdade uma lista. Então é provável que você precise fazer esse código em 2 etapas"
   ]
  },
  {
   "cell_type": "code",
   "execution_count": 1,
   "metadata": {},
   "outputs": [
    {
     "name": "stdout",
     "output_type": "stream",
     "text": [
      "Produto: iphone | Vendas 2019: 558147 unidades | Vendas 2020: 951642 unidades | Resultado(2019-2020): 70.50%\n",
      "Produto: galaxy | Vendas 2019: 712350 unidades | Vendas 2020: 244295 unidades | Resultado(2019-2020): -65.71%\n",
      "Produto: ipad | Vendas 2019: 573823 unidades | Vendas 2020: 26964 unidades | Resultado(2019-2020): -95.30%\n",
      "Produto: tv | Vendas 2019: 405252 unidades | Vendas 2020: 787604 unidades | Resultado(2019-2020): 94.35%\n",
      "Produto: máquina de café | Vendas 2019: 718654 unidades | Vendas 2020: 867660 unidades | Resultado(2019-2020): 20.73%\n",
      "Produto: kindle | Vendas 2019: 531580 unidades | Vendas 2020: 78830 unidades | Resultado(2019-2020): -85.17%\n",
      "Produto: geladeira | Vendas 2019: 973139 unidades | Vendas 2020: 710331 unidades | Resultado(2019-2020): -27.01%\n",
      "Produto: adega | Vendas 2019: 892292 unidades | Vendas 2020: 646016 unidades | Resultado(2019-2020): -27.60%\n",
      "Produto: notebook dell | Vendas 2019: 422760 unidades | Vendas 2020: 694913 unidades | Resultado(2019-2020): 64.38%\n",
      "Produto: notebook hp | Vendas 2019: 154753 unidades | Vendas 2020: 539704 unidades | Resultado(2019-2020): 248.75%\n",
      "Produto: notebook asus | Vendas 2019: 887061 unidades | Vendas 2020: 324831 unidades | Resultado(2019-2020): -63.38%\n",
      "Produto: microsoft surface | Vendas 2019: 438508 unidades | Vendas 2020: 667179 unidades | Resultado(2019-2020): 52.15%\n",
      "Produto: webcam | Vendas 2019: 237467 unidades | Vendas 2020: 295633 unidades | Resultado(2019-2020): 24.49%\n",
      "Produto: caixa de som | Vendas 2019: 489705 unidades | Vendas 2020: 725316 unidades | Resultado(2019-2020): 48.11%\n",
      "Produto: microfone | Vendas 2019: 328311 unidades | Vendas 2020: 644622 unidades | Resultado(2019-2020): 96.34%\n",
      "Produto: câmera canon | Vendas 2019: 591120 unidades | Vendas 2020: 994303 unidades | Resultado(2019-2020): 68.21%\n"
     ]
    }
   ],
   "source": [
    "produtos = ['iphone', 'galaxy', 'ipad', 'tv', 'máquina de café', 'kindle', 'geladeira', 'adega', 'notebook dell', 'notebook hp', 'notebook asus', 'microsoft surface', 'webcam', 'caixa de som', 'microfone', 'câmera canon']\n",
    "vendas2019 = [558147,712350,573823,405252,718654,531580,973139,892292,422760,154753,887061,438508,237467,489705,328311,591120]\n",
    "vendas2020 = [951642,244295,26964,787604,867660,78830,710331,646016,694913,539704,324831,667179,295633,725316,644622,994303]\n",
    "\n",
    "#seu código aqui\n",
    "# transformando as listas de vendas de 2019 e 2020 em uma lista de tuplas\n",
    "vendas_anual = list(zip(vendas2019, vendas2020))\n",
    "# produtos.sort()\n",
    "# print(produtos)\n",
    "# print(vendas_anual)\n",
    "dict_tecnologia = dict(zip(produtos, vendas_anual))\n",
    "\n",
    "for produto, vendas in dict_tecnologia.items():\n",
    "    print(f'Produto: {produto} | Vendas 2019: {vendas[0]} unidades | Vendas 2020: {vendas[1]} unidades | Resultado(2019-2020): {(vendas[1]/vendas[0]) - 1:.2%}')\n"
   ]
  }
 ],
 "metadata": {
  "kernelspec": {
   "display_name": "venv",
   "language": "python",
   "name": "python3"
  },
  "language_info": {
   "codemirror_mode": {
    "name": "ipython",
    "version": 3
   },
   "file_extension": ".py",
   "mimetype": "text/x-python",
   "name": "python",
   "nbconvert_exporter": "python",
   "pygments_lexer": "ipython3",
   "version": "3.12.5"
  }
 },
 "nbformat": 4,
 "nbformat_minor": 4
}
