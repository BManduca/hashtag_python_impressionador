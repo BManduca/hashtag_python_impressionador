{
 "cells": [
  {
   "cell_type": "markdown",
   "metadata": {},
   "source": [
    "## Exercício\n",
    "\n",
    "Você é um analista de dados em uma empresa e conduziu uma pesquisa de satisfação do cliente durante uma semana. Você perguntou as clientes para classificar seu nível de satisfação com o serviço ao cliente em uma escala de 0 a 10. Você coletou respostas de 30 clientes por dia durante 7 dias, resultando em um total de 210 respostas.\n",
    "\n",
    "No entanto, os dados que você recebeu estão em um array 1D de 210 elementos. Reorganize os dados de forma a ter as respostas por dia e faça uma análise descritiva básica, calculando a média geral de satisfação e a média diária."
   ]
  },
  {
   "cell_type": "code",
   "execution_count": 29,
   "metadata": {
    "ExecuteTime": {
     "end_time": "2023-07-03T12:12:12.700234800Z",
     "start_time": "2023-07-03T12:12:12.677347900Z"
    },
    "collapsed": false,
    "jupyter": {
     "outputs_hidden": false
    }
   },
   "outputs": [
    {
     "name": "stdout",
     "output_type": "stream",
     "text": [
      "[ 0  8  7  4  4  9  0  7  2  1  5 10  8  8  7  8  5  1  9  4  5  4  2 10\n",
      "  8  7  4  9  5  4  4  2  1  6  9  0  9  9  3  6  1  8  7  3  0 10  4  9\n",
      "  7  8  8  2  4  5  5  0  6  1  8  7 10  8  4 10  4  3  9  4  0  5  8  2\n",
      "  5  1  7  5  3  2  6  7 10  4  1  9  6  7  1  3  8  9  4  8  9  4  9  3\n",
      "  2  7  7  1  9  2  8  0  8  8  8  7  5  7  3  8  6  5  5  6  0  1  2  1\n",
      "  4  7  7  5  9  6  0  8  6  6  6  6  0  6  8  3  6  0  3  4 10  2  3  4\n",
      " 10  9  0  2  9  0  9  3 10  3  4  7  1  6  5  8 10  7  4  4  4  8  3  1\n",
      "  3  0  1  0  8  7  7  5  7  1  9  5 10  1  5  7  5  4  1  4  2  3  7  6\n",
      "  6  3 10  0  3  1  3 10  4  9  5  7  5  2  8 10  2  8]\n"
     ]
    }
   ],
   "source": [
    "import numpy as np\n",
    "\n",
    "# considere os seguintes dados aleatórios como início\n",
    "rng = np.random.default_rng(seed=42)\n",
    "respostas = rng.integers(low=0, high=10, size=210, endpoint=True)\n",
    "print(respostas)"
   ]
  },
  {
   "cell_type": "markdown",
   "metadata": {},
   "source": [
    "O seguinte modelo pode ser pensado para os dados recebidos:\n",
    "\n",
    "    dia 1 cliente 1, dia 1 cliente 2, dia 1 cliente 3, ...\n",
    "    ... dia 7 cliente 28, dia 7 cliente 29, dia 7 cliente 30\n",
    "    \n",
    "Assim, podemos fazer um reshape:"
   ]
  },
  {
   "cell_type": "code",
   "execution_count": 33,
   "metadata": {},
   "outputs": [
    {
     "name": "stdout",
     "output_type": "stream",
     "text": [
      "--------------------------------------------------\n",
      "\u001b[0;34m                ANÁLISE DESCRITIVA                \n",
      "\u001b[0m--------------------------------------------------\n",
      "\n",
      "\n",
      "\u001b[0;32m         Média geral de satisfação: 5.15          \n",
      "\u001b[0m\n",
      "\n",
      "\u001b[0;32m           Média diária de satisfação:            \n",
      "\u001b[0m\u001b[0;32m                  dia [1]: 5.50                   \n",
      "\u001b[0m\u001b[0;32m                  dia [2]: 5.07                   \n",
      "\u001b[0m\u001b[0;32m                  dia [3]: 5.37                   \n",
      "\u001b[0m\u001b[0;32m                  dia [4]: 5.10                   \n",
      "\u001b[0m\u001b[0;32m                  dia [5]: 4.97                   \n",
      "\u001b[0m\u001b[0;32m                  dia [6]: 5.00                   \n",
      "\u001b[0m\u001b[0;32m                  dia [7]: 5.03                   \n",
      "\u001b[0m--------------------------------------------------\n"
     ]
    }
   ],
   "source": [
    "colors = (\n",
    "    '\\033[0m', # 0 - SEM COR\n",
    "    '\\033[0;31m', # 1 - VERMELHO\n",
    "    '\\033[0;32m', # 2 - VERDE\n",
    "    '\\033[0;33m', # 3 - AMARELO\n",
    "    '\\033[0;34m', # 4 - AZUL\n",
    "    '\\033[0;35m', # 5 - ROXO\n",
    "    '\\033[0;36m', # 6 - BRANCO\n",
    ")\n",
    "\n",
    "def message_centralized(msg, wid):\n",
    "    tam = len(msg)\n",
    "    space = (wid - tam) // 2\n",
    "    text = ' ' * space + msg + ' ' * space\n",
    "    # Se o texto não puder ser centralizado perfeitamente, ajuste uma posição para a direita\n",
    "    if len(text) < wid:\n",
    "        text += ' '\n",
    "    return text\n",
    "\n",
    "def print_text_centralized(msg, wid, cor=0):\n",
    "    message = message_centralized(msg, wid)\n",
    "    print(colors[cor], end='')\n",
    "    print(message)\n",
    "    print(colors[0], end='')\n",
    "\n",
    "resposta_clientes_dia = respostas.reshape(7, 30)\n",
    "\n",
    "# print(resposta_clientes_dia)\n",
    "\n",
    "# calculando a média geral de satisfação\n",
    "media_geral_satisfacao = resposta_clientes_dia.mean()\n",
    "\n",
    "# calculando a média diária.\n",
    "media_diaria_satisfacao = resposta_clientes_dia.mean(axis=1)\n",
    "\n",
    "texto_aux = 'ANÁLISE DESCRITIVA'\n",
    "\n",
    "print('-'*50)\n",
    "print_text_centralized(f'{texto_aux}', 50, 4)\n",
    "print('-'*50)\n",
    "print('\\n')\n",
    "print_text_centralized(f'Média geral de satisfação: {media_geral_satisfacao:.2f}', 50, 2)\n",
    "print('\\n')\n",
    "print_text_centralized('Média diária de satisfação:', 50, 2)\n",
    "for i in range(7):\n",
    "    print_text_centralized(f'dia [{i+1}]: {media_diaria_satisfacao[i]:.2f}', 50, 2)\n",
    "print('-'*50)\n"
   ]
  }
 ],
 "metadata": {
  "kernelspec": {
   "display_name": "venv",
   "language": "python",
   "name": "python3"
  },
  "language_info": {
   "codemirror_mode": {
    "name": "ipython",
    "version": 3
   },
   "file_extension": ".py",
   "mimetype": "text/x-python",
   "name": "python",
   "nbconvert_exporter": "python",
   "pygments_lexer": "ipython3",
   "version": "3.12.5"
  }
 },
 "nbformat": 4,
 "nbformat_minor": 4
}
