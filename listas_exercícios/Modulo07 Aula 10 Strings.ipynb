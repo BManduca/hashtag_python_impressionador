{
 "cells": [
  {
   "cell_type": "markdown",
   "id": "2b04bbea",
   "metadata": {},
   "source": [
    "# Strings\n",
    "\n",
    "<span style=\"color: red;\"><b>Todos os exercícios são feitos partindo-se do pressuposto de que todas as entradas são dadas de forma correta. Casos limite não mencionados no enunciado não são abordados porque não fazem parte do exercício.</b></span>"
   ]
  },
  {
   "cell_type": "markdown",
   "id": "5b1f33b9",
   "metadata": {},
   "source": [
    "#### 1. Tamanho de strings. Faça um programa que leia 2 strings e informe o conteúdo delas seguido do seu comprimento. Informe também se as duas strings possuem o mesmo comprimento e são iguais ou diferentes no conteúdo.\n",
    "<pre>\n",
    "Compara duas strings\n",
    "String 1: Brasil Hexa 2006\n",
    "String 2: Brasil! Hexa 2006!\n",
    "Tamanho de \"Brasil Hexa 2006\": 16 caracteres\n",
    "Tamanho de \"Brasil! Hexa 2006!\": 18 caracteres\n",
    "As duas strings são de tamanhos diferentes.\n",
    "As duas strings possuem conteúdo diferente.\n",
    "</pre>"
   ]
  },
  {
   "cell_type": "code",
   "execution_count": 5,
   "id": "c492b657",
   "metadata": {},
   "outputs": [
    {
     "name": "stdout",
     "output_type": "stream",
     "text": [
      "Primeira string: Brasil Hexa 2006 | tamanho: 16\n",
      "Primeira string: Brasil! Hexa 2006! | tamanho: 18\n",
      "\n",
      "As duas strings são de tamanhos diferentes!\n",
      "\n",
      "As duas strings possuem conteúdos diferentes!\n"
     ]
    }
   ],
   "source": [
    "first_string = input('Informe a primeira string: ')\n",
    "second_string = input('Informe a segunda string: ')\n",
    "\n",
    "tam_first_string = len(first_string)\n",
    "tam_second_string = len(second_string)\n",
    "\n",
    "print(f'Primeira string: {first_string} | tamanho: {tam_first_string}')\n",
    "print(f'Primeira string: {second_string} | tamanho: {tam_second_string}\\n')\n",
    "\n",
    "if tam_first_string == tam_second_string:\n",
    "    print('As duas strings são de tamanhos iguais!\\n')\n",
    "else:\n",
    "    print('As duas strings são de tamanhos diferentes!\\n')\n",
    "\n",
    "if first_string == second_string:\n",
    "    print('As duas strings possuem conteúdos iguais!')\n",
    "else:\n",
    "    print('As duas strings possuem conteúdos diferentes!')"
   ]
  },
  {
   "cell_type": "markdown",
   "id": "c3068a53",
   "metadata": {},
   "source": [
    "#### 2. Valida e corrige número de telefone. Faça um programa que leia um número de telefone, e corrija o número no caso deste conter somente 7 dígitos, acrescentando o '3' na frente. O usuário pode informar o número com ou sem o traço separador.\n",
    "<pre>\n",
    "Valida e corrige número de telefone\n",
    "Telefone: 461-0133\n",
    "Telefone possui 7 dígitos. Vou acrescentar o digito três na frente.\n",
    "Telefone corrigido sem formatação: 34610133\n",
    "Telefone corrigido com formatação: 3461-0133\n",
    "</pre>"
   ]
  },
  {
   "cell_type": "code",
   "execution_count": 16,
   "id": "0308566d",
   "metadata": {},
   "outputs": [
    {
     "name": "stdout",
     "output_type": "stream",
     "text": [
      "VALINDANDO NÚMERO DE TELEFONE: \n",
      "Telefone possui 7 dígitos. Vou acrescentar o digito três na frente.\n",
      "Telefone corrigido sem formatação: 32346590\n",
      "Telefone corrigido com formatação: 3234-6590\n"
     ]
    }
   ],
   "source": [
    "print('VALINDANDO NÚMERO DE TELEFONE: ')\n",
    "\n",
    "num_telefone = input('Telefone: ')\n",
    "print(f'Telefone: {num_telefone}')\n",
    "num_telefone = num_telefone.replace('-','')\n",
    "\n",
    "if len(num_telefone) == 7:\n",
    "    print('Telefone possui 7 dígitos. Vou acrescentar o digito três na frente.')\n",
    "    num_telefone = '3' + num_telefone\n",
    "    print(f'Telefone corrigido sem formatação: {num_telefone}')\n",
    "    print(f'Telefone corrigido com formatação: {num_telefone[:4]}-{num_telefone[4:]}')\n",
    "else:\n",
    "    print(f'O telefone {num_telefone} não possui 7 dígitos.')\n"
   ]
  }
 ],
 "metadata": {
  "kernelspec": {
   "display_name": "venv",
   "language": "python",
   "name": "python3"
  },
  "language_info": {
   "codemirror_mode": {
    "name": "ipython",
    "version": 3
   },
   "file_extension": ".py",
   "mimetype": "text/x-python",
   "name": "python",
   "nbconvert_exporter": "python",
   "pygments_lexer": "ipython3",
   "version": "3.12.5"
  }
 },
 "nbformat": 4,
 "nbformat_minor": 5
}
