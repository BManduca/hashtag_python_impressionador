{
 "cells": [
  {
   "cell_type": "markdown",
   "metadata": {},
   "source": [
    "### Exercício 1\n",
    "Crie um sistema de consulta de preços\n",
    "Seu sistema deve:\n",
    "- Pedir para o usuário o nome de um produto\n",
    "- Caso o produto exista na lista de produtos, o programa deve retornar o preço do produto como resposta\n",
    "       - Ex: O produto celular custa R$1500\n",
    "- Caso o produto não exista na lista de produtos, o programa deve printar uma mensagem para o usuário tentar novamente\n"
   ]
  },
  {
   "cell_type": "code",
   "execution_count": 30,
   "metadata": {},
   "outputs": [
    {
     "name": "stdout",
     "output_type": "stream",
     "text": [
      "O produto camera custa R$ 1,000\n"
     ]
    }
   ],
   "source": [
    "precos = {\"celular\": 1500, \"camera\": 1000, \"fone de ouvido\": 800, \"monitor\": 2000}\n",
    "\n",
    "nome_produto = input('Informe o nome de um produto: ').lower()\n",
    "\n",
    "if nome_produto in precos:\n",
    "    print(f'O produto {nome_produto} custa R$ {precos[nome_produto]:,}')\n",
    "else:\n",
    "    print(f'O produto {nome_produto} não foi encontrado na lista, favor tente novamente.')"
   ]
  },
  {
   "cell_type": "markdown",
   "metadata": {},
   "source": [
    "\n",
    "### Exercício 2\n",
    "Agora edite o programa anterior para fazer com que, caso não exista o produto, o programa pergunte se o usuário quer cadastrar o produto\n",
    "<br>Se ele responder sim, o programa deve pedir o nome do produto e o preco do produto e cadastrar no dicionário de preços\n",
    "<br>Em seguida do cadastro bem sucedido, o programa deve printar o dicionário de precos atualizado\n"
   ]
  },
  {
   "cell_type": "code",
   "execution_count": 31,
   "metadata": {},
   "outputs": [
    {
     "name": "stdout",
     "output_type": "stream",
     "text": [
      "{'celular': 1500, 'camera': 1000, 'fone de ouvido': 800, 'monitor': 2000, 'ipad': 4990.0}\n"
     ]
    }
   ],
   "source": [
    "produto_procurado = input('Informe o nome de um produto: ').lower()\n",
    "\n",
    "if produto_procurado in precos:\n",
    "    print(f'O produto {produto_procurado} custa R$ {precos[produto_procurado]:,}')\n",
    "else:\n",
    "    realizar_cadastro = str(input(f'Gostaria de cadastrar {produto_procurado} na lista?')).lower().strip()[0]\n",
    "    if realizar_cadastro == 's':\n",
    "        preco_produto = float(input(f'Informe o preço do produto {produto_procurado}(somente números): '))\n",
    "        precos[produto_procurado] = preco_produto\n",
    "        print(precos)\n",
    "    else:\n",
    "        print(f'O produto {produto_procurado} não foi encontrado na lista, favor tente novamente.')"
   ]
  },
  {
   "cell_type": "markdown",
   "metadata": {},
   "source": [
    "### Exercício 3\n",
    "Dada a lista de preços de produtos, uma loja resolveu fazer um reajuste nos preços dos produtos. \n",
    "calcule o novo valor dos produtos com base nas seguintes regras:\n",
    "- Preços até 1.000 vão ter um reajuste de 10% (ou seja, o novo preço será 110% do preço atual)\n",
    "- Preços até maiores que 1.000 até 2.000 vão ter reajuste de 15%\n",
    "- Preços acima de 2.000 vão ter reajuste de 20%"
   ]
  },
  {
   "cell_type": "code",
   "execution_count": 35,
   "metadata": {},
   "outputs": [
    {
     "name": "stdout",
     "output_type": "stream",
     "text": [
      "Produto: celular | Valor com reajuste: R$ 1,725.00\n",
      "Produto: camera | Valor com reajuste: R$ 1,100.00\n",
      "Produto: fone de ouvido | Valor com reajuste: R$ 880.00\n",
      "Produto: monitor | Valor com reajuste: R$ 3,600.00\n"
     ]
    }
   ],
   "source": [
    "precos = {\"celular\": 1500, \"camera\": 1000, \"fone de ouvido\": 800, \"monitor\": 3000}\n",
    "\n",
    "for produto, valor in precos.items():\n",
    "    if valor <= 1000:\n",
    "        reajuste = valor * 1.1\n",
    "    elif 1000 < valor <= 2000:\n",
    "        reajuste = valor * 1.15\n",
    "    elif valor > 2000:\n",
    "        reajuste = valor * 1.2\n",
    "    print(f'Produto: {produto} | Valor com reajuste: R$ {reajuste:,.2f}')"
   ]
  },
  {
   "cell_type": "markdown",
   "metadata": {},
   "source": [
    "### Exercício 4\n",
    " - Edite o programa antigo para ter os 2 dicionários, o de preços originais e o de novos preços\n",
    " - Em seguida calcule o valor total de reajuste em R$ que teve entre a lista de produtos original e a lista final\n"
   ]
  },
  {
   "cell_type": "code",
   "execution_count": 48,
   "metadata": {},
   "outputs": [
    {
     "name": "stdout",
     "output_type": "stream",
     "text": [
      "Produto: celular | Valor após reajuste: R$ 1,725.00\n",
      "Produto: camera | Valor após reajuste: R$ 1,100.00\n",
      "Produto: fone de ouvido | Valor após reajuste: R$ 880.00\n",
      "Produto: monitor | Valor após reajuste: R$ 3,600.00\n",
      "\n",
      "O valor final do reajuste foi de R$ 1,005.00\n"
     ]
    }
   ],
   "source": [
    "# import pandas as pd\n",
    "\n",
    "precos_antigos = {\"celular\": 1500, \"camera\": 1000, \"fone de ouvido\": 800, \"monitor\": 3000}\n",
    "\n",
    "chaves = precos_antigos.keys()\n",
    "precos_atuais = dict.fromkeys(chaves, 0)\n",
    "\n",
    "for produto, valor in precos.items():\n",
    "    if valor <= 1000:\n",
    "        reajuste = valor + (valor * 0.10)\n",
    "    elif 1000 < valor <= 2000:\n",
    "        reajuste = valor + (valor * 0.15)\n",
    "    elif valor > 2000:\n",
    "        reajuste = valor + (valor * 0.20)\n",
    "    precos_atuais[produto] = reajuste\n",
    "    print(f'Produto: {produto} | Valor após reajuste: R$ {precos_atuais[produto]:,.2f}')\n",
    "\n",
    "# df = pd.DataFrame(list(precos_atuais.items()), columns=['Produto', 'Valor'])\n",
    "# print(df)\n",
    "\n",
    "total_precos_antigos = sum(precos_antigos.values())\n",
    "total_precos_atuais = sum(precos_atuais.values())\n",
    "\n",
    "reajuste_final = total_precos_atuais - total_precos_antigos\n",
    "\n",
    "print(f'\\nO valor final do reajuste foi de R$ {reajuste_final:,.2f}')\n",
    "\n",
    "# print(precos_antigos)\n",
    "# print(precos_atuais)"
   ]
  },
  {
   "cell_type": "markdown",
   "metadata": {},
   "source": [
    "\n",
    "### Exercício 5\n",
    "- Uma empresa está analisando os resultados de vendas do 1º semestre de 2022 e 2023\n",
    "- Qual foi o % de crescimento de cada mês de 2023 em relação a 2022?\n",
    "- Depois de calcular isso, calcule o valor total de crescimento de 2023 em relação a 2022"
   ]
  },
  {
   "cell_type": "code",
   "execution_count": 60,
   "metadata": {},
   "outputs": [
    {
     "name": "stdout",
     "output_type": "stream",
     "text": [
      "Em Jan, a variação percentual foi de 13.33%\n",
      "\n",
      "Em Fev, a variação percentual foi de -3.23%\n",
      "\n",
      "Em Mar, a variação percentual foi de 25.00%\n",
      "\n",
      "Em Abr, a variação percentual foi de 1.81%\n",
      "\n",
      "Em Mai, a variação percentual foi de -1.84%\n",
      "\n",
      "Em Jun, a variação percentual foi de 8.82%\n",
      "\n",
      "O valor total de crescimento de 2023 em relação a 2022 foi de 6.89%\n"
     ]
    }
   ],
   "source": [
    "vendas_22 = {\"jan\": 15000, \"fev\": 15500, \"mar\": 14000, \"abr\": 16600, \"mai\": 16300, \"jun\": 17000}\n",
    "vendas_23 = {\"jan\": 17000, \"fev\": 15000, \"mar\": 17500, \"abr\": 16900, \"mai\": 16000, \"jun\": 18500}\n",
    "\n",
    "for mes_venda in vendas_23:\n",
    "    valor_mes_22 = vendas_22[mes_venda]\n",
    "    valor_mes_23 = vendas_23[mes_venda]\n",
    "    crescimento = (valor_mes_23 / valor_mes_22) - 1\n",
    "    print(f'Em {mes_venda.capitalize()}, a variação percentual foi de {crescimento:.2%}\\n')\n",
    "\n",
    "valor_total_1sem_22 = sum(vendas_22.values())\n",
    "valor_total_1sem_23 = sum(vendas_23.values())\n",
    "\n",
    "crescimento_1sem_2023_2022 = (valor_total_1sem_23 / valor_total_1sem_22) - 1\n",
    "\n",
    "print(f'O valor total de crescimento de 2023 em relação a 2022 foi de {crescimento_1sem_2023_2022:.2%}')\n"
   ]
  },
  {
   "cell_type": "markdown",
   "metadata": {},
   "source": [
    "### Exercício 6 - Desafio\n",
    "- No final da reunião de apresentação dos números, seu chefe perguntou:\n",
    "- E se nos meses de 2023 que a gente vendeu menos do que 2022 a gente tivesse pelo menos empatado com 2022 (ou seja, se nos meses de 2023 em que as vendas foram menores do que o mesmo mês em 2022, o valor de vendas tivesse sido igual a 2022)\n",
    "- Qual teria sido o nosso crescimento de 2023 frente a 2022?"
   ]
  },
  {
   "cell_type": "code",
   "execution_count": 65,
   "metadata": {},
   "outputs": [
    {
     "name": "stdout",
     "output_type": "stream",
     "text": [
      "Mes jan, venda: R$ 17,000\n",
      "Mes fev, venda: R$ 15,500\n",
      "Mes mar, venda: R$ 17,500\n",
      "Mes abr, venda: R$ 16,900\n",
      "Mes mai, venda: R$ 16,300\n",
      "Mes jun, venda: R$ 18,500\n",
      "\n",
      "O valor total de crescimento de 2023 em relação a 2022 foi de 7.73%\n"
     ]
    }
   ],
   "source": [
    "vendas_22 = {\"jan\": 15000, \"fev\": 15500, \"mar\": 14000, \"abr\": 16600, \"mai\": 16300, \"jun\": 17000}\n",
    "vendas_23 = {\"jan\": 17000, \"fev\": 15000, \"mar\": 17500, \"abr\": 16900, \"mai\": 16000, \"jun\": 18500}\n",
    "\n",
    "for mes_venda in vendas_23:\n",
    "    if vendas_23[mes_venda] < vendas_22[mes_venda]:\n",
    "        vendas_23[mes_venda] = vendas_22[mes_venda]\n",
    "    print(f'Mes {mes_venda}, venda: R$ {vendas_23[mes_venda]:,}')\n",
    "\n",
    "valor_total_1sem_22 = sum(vendas_22.values())\n",
    "valor_total_1sem_23 = sum(vendas_23.values())\n",
    "\n",
    "crescimento_1sem_2023_2022 = (valor_total_1sem_23 / valor_total_1sem_22) - 1\n",
    "\n",
    "print(f'\\nO valor total de crescimento de 2023 em relação a 2022 foi de {crescimento_1sem_2023_2022:.2%}')"
   ]
  },
  {
   "cell_type": "code",
   "execution_count": 67,
   "metadata": {},
   "outputs": [
    {
     "name": "stdout",
     "output_type": "stream",
     "text": [
      "Em Jan, a variação percentual foi de 13.33%\n",
      "\n",
      "Em Fev, a variação percentual foi de -3.23%\n",
      "\n",
      "Em Mar, a variação percentual foi de 25.00%\n",
      "\n",
      "Em Abr, a variação percentual foi de 1.81%\n",
      "\n",
      "Em Mai, a variação percentual foi de -1.84%\n",
      "\n",
      "Em Jun, a variação percentual foi de 8.82%\n",
      "\n",
      "O valor total de crescimento de 2023 em relação a 2022 foi de 7.73%\n"
     ]
    }
   ],
   "source": [
    "# 2˚ alternativa conforme professor Lira\n",
    "\n",
    "vendas_22 = {\"jan\": 15000, \"fev\": 15500, \"mar\": 14000, \"abr\": 16600, \"mai\": 16300, \"jun\": 17000}\n",
    "vendas_23 = {\"jan\": 17000, \"fev\": 15000, \"mar\": 17500, \"abr\": 16900, \"mai\": 16000, \"jun\": 18500}\n",
    "\n",
    "for mes_venda in vendas_23:\n",
    "    valor_mes_22 = vendas_22[mes_venda]\n",
    "    valor_mes_23 = vendas_23[mes_venda]\n",
    "    crescimento = (valor_mes_23 / valor_mes_22) - 1\n",
    "    if crescimento < 0:\n",
    "        vendas_23[mes_venda] = valor_mes_22\n",
    "    print(f'Em {mes_venda.capitalize()}, a variação percentual foi de {crescimento:.2%}\\n')\n",
    "\n",
    "valor_total_1sem_22 = sum(vendas_22.values())\n",
    "valor_total_1sem_23 = sum(vendas_23.values())\n",
    "\n",
    "crescimento_1sem_2023_2022 = (valor_total_1sem_23 / valor_total_1sem_22) - 1\n",
    "\n",
    "print(f'O valor total de crescimento de 2023 em relação a 2022 foi de {crescimento_1sem_2023_2022:.2%}')"
   ]
  }
 ],
 "metadata": {
  "kernelspec": {
   "display_name": "venv",
   "language": "python",
   "name": "python3"
  },
  "language_info": {
   "codemirror_mode": {
    "name": "ipython",
    "version": 3
   },
   "file_extension": ".py",
   "mimetype": "text/x-python",
   "name": "python",
   "nbconvert_exporter": "python",
   "pygments_lexer": "ipython3",
   "version": "3.12.5"
  }
 },
 "nbformat": 4,
 "nbformat_minor": 2
}
