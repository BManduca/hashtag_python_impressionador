{
 "cells": [
  {
   "cell_type": "markdown",
   "id": "bc53556e-a539-4328-b873-fa5357312414",
   "metadata": {},
   "source": [
    "Crie um programa que analise um texto fornecido pelo usuário. O programa deve contar o número de palavras (independentemente se há repetição ou não), a quantidade de cada palavra e a quantidade de cada letra. Ignore maiúsculas e minúsculas ao contar letras (ou seja, transforme tudo para minúsculas). Faça o devido tratamento para pontuação e espaços ao contar palavras.\n",
    "\n",
    "O programa deve conter uma função chamada `analisar_texto` que recebe o texto como parâmetro e retorna a contagem de palavras, a frequência de palavras e a frequência de letras. A função deve ser devidamente documentada.\n",
    "\n",
    "Para o texto \"Olá mundo! Este é um teste. Olá novamente.\" o programa deve imprimir:\n",
    "\n",
    "```\n",
    "Contagem de palavras: 8\n",
    "Frequência de palavras: Counter({'Olá': 2, 'mundo': 1, 'Este': 1, 'é': 1, 'um': 1, 'teste': 1, 'novamente': 1})\n",
    "Frequência de letras: Counter({' ': 7, 'e': 6, 'o': 4, 't': 4, 'm': 3, 'n': 3, 'l': 2, 'á': 2, 'u': 2, 's': 2, 'd': 1, 'é': 1, 'v': 1, 'a': 1})\n",
    "```\n",
    "\n",
    "Dica: use o módulo `string` para obter uma lista de caracteres de pontuação. Exemplo:\n",
    "\n",
    "```python\n",
    "import string\n",
    "print(string.punctuation)\n",
    "```\n",
    "\n",
    "Dica: use o módulo `collections` para obter um contador de palavras e letras. Exemplo:\n",
    "\n",
    "```python\n",
    "from collections import Counter\n",
    "print(Counter(['a', 'b', 'a', 'c', 'b', 'a']))\n",
    "print(Counter('abacba'))\n",
    "``` "
   ]
  },
  {
   "cell_type": "code",
   "execution_count": null,
   "id": "8feda3f2-210f-4224-9b53-de7206c039ae",
   "metadata": {},
   "outputs": [],
   "source": [
    "import string\n",
    "from collections import Counter\n",
    "print(string.punctuation)\n",
    "\n",
    "'''\n",
    "dentro do python, independente se for passado para o counter uma lista\n",
    "ou uma string, estes dois tipos, são reconhecidos genericamente como sequências\n",
    "'''\n",
    "print(Counter(['a', 'b', 'c', 'b', 'a']))\n",
    "print(Counter('abcba'))"
   ]
  },
  {
   "cell_type": "code",
   "execution_count": null,
   "id": "649f95be",
   "metadata": {},
   "outputs": [],
   "source": [
    "# 1˚ alternativa: método simples\n",
    "\n",
    "def analisar_texto(texto):\n",
    "    # criando uma lista de palavras com base nos espaços presente no texto\n",
    "    lista_palavras = texto.split()\n",
    "\n",
    "    # contagem de palavras no texto\n",
    "    contagem_palavras = len(lista_palavras)\n",
    "\n",
    "    # retornando a frequencia das palavras no texto através do Counter\n",
    "    frequencia_palavras = Counter(lista_palavras)\n",
    "\n",
    "    # retornando a frequencia das lettas presente no texto através do Counter\n",
    "    frequencia_letras = Counter(texto)\n",
    "\n",
    "    return contagem_palavras, frequencia_palavras, frequencia_letras\n",
    "\n",
    "\n",
    "texto = 'Olá mundo! Este é um teste. Olá novamente.'\n",
    "\n",
    "# quando tem mais de um retorno na função, ela vem em formato de tupla\n",
    "# desta forma, para pegarmos cada valor, realizamos um unpacking\n",
    "contagem_palavras, frequencia_palavras, frequencia_letras = analisar_texto(texto)\n",
    "\n",
    "print(f'Quantidade de palavras: {contagem_palavras}\\nFrequência palavras: {frequencia_palavras}\\nFrequência letras: {frequencia_letras}')"
   ]
  },
  {
   "cell_type": "code",
   "execution_count": null,
   "id": "94210198",
   "metadata": {},
   "outputs": [],
   "source": [
    "# uso do maketrans\n",
    "\n",
    "vogais = 'aeiou'\n",
    "numeros = '12345'\n",
    "\n",
    "remover = 'a'\n",
    "\n",
    "# maketrans(string_origem, o que será substituido, o que deve ser removido)\n",
    "# no final é gerado um guia para realizar transformações em um texto/frase \n",
    "guia_troca = str.maketrans(vogais, numeros, remover)\n",
    "\n",
    "print(guia_troca)"
   ]
  },
  {
   "cell_type": "code",
   "execution_count": null,
   "id": "7f48a100",
   "metadata": {},
   "outputs": [],
   "source": [
    "letras_minusculas = string.ascii_lowercase\n",
    "\n",
    "# chamando o translate e assim aplica as transformnações que serão\n",
    "# feitas com base no guia criado através do maketrans\n",
    "print(letras_minusculas.translate(guia_troca))"
   ]
  },
  {
   "cell_type": "code",
   "execution_count": null,
   "id": "6adb9aa4",
   "metadata": {},
   "outputs": [
    {
     "name": "stdout",
     "output_type": "stream",
     "text": [
      "Quantidade de palavras: 8\n",
      "Frequência palavras: Counter({'Olá': 2, 'mundo': 1, 'Este': 1, 'é': 1, 'um': 1, 'teste': 1, 'novamente': 1})\n",
      "Frequência letras: Counter({' ': 7, 'e': 6, 'o': 4, 't': 4, 'm': 3, 'n': 3, 'l': 2, 'á': 2, 'u': 2, 's': 2, 'd': 1, 'é': 1, 'v': 1, 'a': 1})\n"
     ]
    }
   ],
   "source": [
    "# 2˚ alternativa: método com tratativa\n",
    "\n",
    "'''\n",
    "    Função => Analisar o texto fornecido e efetuar a contagem de palavras, a frequência de palavras\n",
    "    e a frequência de letras.\n",
    "\n",
    "    Parameters\n",
    "    -----------\n",
    "    texto : str\n",
    "        - texto a ser analisado\n",
    "\n",
    "    Returns\n",
    "    -----------\n",
    "    tuple\n",
    "        Contagem de palavras, frequência de palavras e a frequência de letras\n",
    "'''\n",
    "\n",
    "def analisar_texto(texto):\n",
    "\n",
    "    # criando um tratamento\n",
    "    tratamento = str.maketrans('', '', string.punctuation)\n",
    "\n",
    "    texto_tratado = texto.translate(tratamento)\n",
    "\n",
    "    # criando uma lista de palavras com base nos espaços presente no texto\n",
    "    lista_palavras = texto_tratado.split()\n",
    "\n",
    "    # contagem de palavras no texto\n",
    "    contagem_palavras = len(lista_palavras)\n",
    "\n",
    "    # retornando a frequencia das palavras no texto através do Counter\n",
    "    frequencia_palavras = Counter(lista_palavras)\n",
    "\n",
    "    # retornando a frequencia das lettas presente no texto através do Counter\n",
    "    frequencia_letras = Counter(texto_tratado.lower())\n",
    "\n",
    "    return contagem_palavras, frequencia_palavras, frequencia_letras\n",
    "\n",
    "\n",
    "texto = 'Olá mundo! Este é um teste. Olá novamente.'\n",
    "\n",
    "# quando tem mais de um retorno na função, ela vem em formato de tupla\n",
    "# desta forma, para pegarmos cada valor, realizamos um unpacking\n",
    "contagem_palavras, frequencia_palavras, frequencia_letras = analisar_texto(texto)\n",
    "\n",
    "print(f'Quantidade de palavras: {contagem_palavras}\\nFrequência palavras: {frequencia_palavras}\\nFrequência letras: {frequencia_letras}')"
   ]
  }
 ],
 "metadata": {
  "kernelspec": {
   "display_name": "venv",
   "language": "python",
   "name": "python3"
  },
  "language_info": {
   "codemirror_mode": {
    "name": "ipython",
    "version": 3
   },
   "file_extension": ".py",
   "mimetype": "text/x-python",
   "name": "python",
   "nbconvert_exporter": "python",
   "pygments_lexer": "ipython3",
   "version": "3.12.5"
  }
 },
 "nbformat": 4,
 "nbformat_minor": 5
}
