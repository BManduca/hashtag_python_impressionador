{
 "cells": [
  {
   "cell_type": "markdown",
   "metadata": {},
   "source": [
    "## Exercício\n",
    "\n",
    "Você é um analista de RH e tem os salários de todos os funcionários da sua empresa em um array NumPy. Seu trabalho é identificar quantos funcionários ganham acima da média. Use o seguinte array para sua análise: `salarios = np.array([3000, 2500, 3500, 4000, 2000, 4500, 3000, 3800, 4800])`."
   ]
  },
  {
   "cell_type": "code",
   "execution_count": null,
   "metadata": {},
   "outputs": [],
   "source": [
    "!pip3 install numpy"
   ]
  },
  {
   "cell_type": "code",
   "execution_count": null,
   "metadata": {
    "ExecuteTime": {
     "end_time": "2023-07-03T17:58:55.261401600Z",
     "start_time": "2023-07-03T17:58:55.249755Z"
    },
    "collapsed": false,
    "jupyter": {
     "outputs_hidden": false
    }
   },
   "outputs": [],
   "source": [
    "import numpy as np\n",
    "\n",
    "salarios = np.array([3000, 2500, 3500, 4000, 2000, 4500, 3000, 3800, 4800])\n"
   ]
  },
  {
   "cell_type": "code",
   "execution_count": null,
   "metadata": {},
   "outputs": [],
   "source": [
    "media_salarial = np.mean(salarios)\n",
    "\n",
    "print(f'{media_salarial:,.2f}')"
   ]
  },
  {
   "cell_type": "code",
   "execution_count": null,
   "metadata": {},
   "outputs": [],
   "source": [
    "# retornando as posições dos salarios acima da media\n",
    "print(np.where(salarios > media_salarial))"
   ]
  },
  {
   "cell_type": "code",
   "execution_count": null,
   "metadata": {},
   "outputs": [],
   "source": [
    "# retornando os salarios que estão acima da média\n",
    "salarios_maiores_media = salarios[salarios > media_salarial]\n",
    "print(salarios_maiores_media)\n",
    "# ordenando\n",
    "print(np.sort(salarios_maiores_media))"
   ]
  },
  {
   "cell_type": "code",
   "execution_count": null,
   "metadata": {},
   "outputs": [],
   "source": [
    "# passando somente a condição, recebemos um array de booleanos\n",
    "print(salarios > media_salarial)"
   ]
  },
  {
   "cell_type": "code",
   "execution_count": null,
   "metadata": {},
   "outputs": [],
   "source": [
    "# realizando um np.sum() e passando como parametro a condição salarios > media_salarial\n",
    "# será retornado a quantidade de Trues presentes na condição.\n",
    "\n",
    "print(np.sum(salarios > media_salarial))"
   ]
  },
  {
   "cell_type": "code",
   "execution_count": null,
   "metadata": {},
   "outputs": [],
   "source": [
    "'''\n",
    "    Em python True é equivalente ao valor númerico 1\n",
    "    e o False é equivalente ao valor númerico 0\n",
    "\n",
    "    e por isso que podemos realizar uma soma de booleanos, \n",
    "    pois, na verdade estaremos somando o valor númerico inteiro \n",
    "    correspondente ao booleano em questão.\n",
    "'''\n",
    "\n",
    "print(True == 1)\n",
    "print(False == 0)"
   ]
  },
  {
   "cell_type": "code",
   "execution_count": null,
   "metadata": {},
   "outputs": [],
   "source": [
    "funcionarios_maior_media = np.sum(salarios > media_salarial)\n",
    "\n",
    "print(f'{funcionarios_maior_media} funcionários possuem salários acima da média.')"
   ]
  },
  {
   "cell_type": "markdown",
   "metadata": {},
   "source": [
    "## Bônus\n",
    "### Outras formas de fazer contagem\n"
   ]
  },
  {
   "cell_type": "code",
   "execution_count": null,
   "metadata": {},
   "outputs": [],
   "source": [
    "# contando valores que não sejam zeros, respeitando assim a condição repassada\n",
    "print(np.count_nonzero(salarios > media_salarial))"
   ]
  },
  {
   "cell_type": "code",
   "execution_count": null,
   "metadata": {},
   "outputs": [],
   "source": [
    "# identificando os valores únicos dentro de um array\n",
    "print(np.unique(salarios > media_salarial))"
   ]
  },
  {
   "cell_type": "code",
   "execution_count": null,
   "metadata": {},
   "outputs": [],
   "source": [
    "# buscando a quantidade de cada valores unicos através do parametro return_counts\n",
    "print(np.unique(salarios > media_salarial, return_counts=True))"
   ]
  },
  {
   "cell_type": "code",
   "execution_count": null,
   "metadata": {},
   "outputs": [],
   "source": [
    "# realizando unpacking da consulta anterior, pois, a mesma retorna uma tupla\n",
    "\n",
    "valores_unicos, contagem_valores_unicos = np.unique(salarios > media_salarial, return_counts=True)\n",
    "\n",
    "print(f'{valores_unicos}\\n{contagem_valores_unicos}')"
   ]
  },
  {
   "cell_type": "markdown",
   "metadata": {},
   "source": [
    "## Bônus 2"
   ]
  },
  {
   "cell_type": "markdown",
   "metadata": {},
   "source": [
    "#### Criando 20 valores fictícios de salários com a mesma faixa anterior, tomando cuidado de outras pessoas gerarem os mesmos valores:"
   ]
  },
  {
   "cell_type": "code",
   "execution_count": 25,
   "metadata": {},
   "outputs": [
    {
     "name": "stdout",
     "output_type": "stream",
     "text": [
      "[2249 4167 3832 3228 3212 4404 2240 3952 2564 2263 3474 4731 4060 4131\n",
      " 4008 4200 3437 2358 4351 3261]\n"
     ]
    }
   ],
   "source": [
    "rng = np.random.default_rng(seed=42)\n",
    "\n",
    "salarios_gerados = rng.integers(low=np.min(salarios), high=np.max(salarios), size=20)\n",
    "print(salarios_gerados)"
   ]
  },
  {
   "cell_type": "code",
   "execution_count": 28,
   "metadata": {},
   "outputs": [
    {
     "name": "stdout",
     "output_type": "stream",
     "text": [
      "[2240 2249 2263 2358 2564 3212 3229 3261 3437 3474 3833 3953 4009 4060\n",
      " 4131 4167 4201 4352 4404 4732]\n"
     ]
    }
   ],
   "source": [
    "# no caso anterior, o high era sempre excluso, mas ao adicionarmos o parametro endpoint=True,\n",
    "# o valor high é adicionado nesse intervalo, por exemplo, se o intervalor for de 2000 a 4000, o valor\n",
    "# 4000 é incluso, caso não tivesse o endpoint, so iria ate 3999\n",
    "\n",
    "rng = np.random.default_rng(seed=42)\n",
    "\n",
    "salarios_gerados = rng.integers(low=np.min(salarios), high=np.max(salarios), size=20, endpoint=True)\n",
    "print(np.sort(salarios_gerados))"
   ]
  },
  {
   "cell_type": "code",
   "execution_count": 35,
   "metadata": {},
   "outputs": [
    {
     "name": "stdout",
     "output_type": "stream",
     "text": [
      "Média: R$ 3,506.45\n"
     ]
    }
   ],
   "source": [
    "media_salarios_gerados = np.mean(salarios_gerados)\n",
    "print(f'Média: R$ {media_salarios_gerados:,.2f}')"
   ]
  },
  {
   "cell_type": "code",
   "execution_count": 34,
   "metadata": {},
   "outputs": [
    {
     "name": "stdout",
     "output_type": "stream",
     "text": [
      "Valor mínimo: R$ 2,240.00\n",
      "Valor máximo: R$ 4,732.00\n",
      "Média: R$ 3,506.45\n"
     ]
    }
   ],
   "source": [
    "# as funções estatísticas também podem ser chamadas como métodos dos arrays\n",
    "valor_minimo_salarios_gerados = salarios_gerados.min()\n",
    "valor_maximo_salarios_gerados = salarios_gerados.max()\n",
    "media_salarios_gerados = salarios_gerados.mean()\n",
    "print(f'Valor mínimo: R$ {valor_minimo_salarios_gerados:,.2f}\\nValor máximo: R$ {valor_maximo_salarios_gerados:,.2f}\\nMédia: R$ {media_salarios_gerados:,.2f}')"
   ]
  }
 ],
 "metadata": {
  "kernelspec": {
   "display_name": "venv",
   "language": "python",
   "name": "python3"
  },
  "language_info": {
   "codemirror_mode": {
    "name": "ipython",
    "version": 3
   },
   "file_extension": ".py",
   "mimetype": "text/x-python",
   "name": "python",
   "nbconvert_exporter": "python",
   "pygments_lexer": "ipython3",
   "version": "3.12.5"
  }
 },
 "nbformat": 4,
 "nbformat_minor": 4
}
