{
 "cells": [
  {
   "cell_type": "markdown",
   "metadata": {},
   "source": [
    "# Exercícios\n",
    "\n",
    "## 1. Tirando informações de listas e dicionários\n",
    "\n",
    "Digamos que você está analisando as vendas de produtos de uma empresa de varejo.\n",
    "\n",
    "Essa lista tem: (produto, vendas de 2019, vendas de 2020) para cada produto.\n",
    "\n",
    "Crie uma lista com as vendas de 2019."
   ]
  },
  {
   "cell_type": "code",
   "execution_count": 39,
   "metadata": {},
   "outputs": [
    {
     "name": "stdout",
     "output_type": "stream",
     "text": [
      "Utilizando for: \n",
      "Listagem de vendas de 2019: [558147, 712350, 573823, 405252, 718654, 531580, 973139, 892292, 422760, 154753, 887061, 438508, 237467, 489705, 328311, 591120]\n",
      "\n",
      "Utilizando List Comprehension: \n",
      "Listagem de vendas em 2019: [558147, 712350, 573823, 405252, 718654, 531580, 973139, 892292, 422760, 154753, 887061, 438508, 237467, 489705, 328311, 591120]\n"
     ]
    }
   ],
   "source": [
    "vendas_produtos = [('iphone', 558147, 951642), ('galaxy', 712350, 244295), ('ipad', 573823, 26964), ('tv', 405252, 787604), ('máquina de café', 718654, 867660), ('kindle', 531580, 78830), ('geladeira', 973139, 710331), ('adega', 892292, 646016), ('notebook dell', 422760, 694913), ('notebook hp', 154753, 539704), ('notebook asus', 887061, 324831), ('microsoft surface', 438508, 667179), ('webcam', 237467, 295633), ('caixa de som', 489705, 725316), ('microfone', 328311, 644622), ('câmera canon', 591120, 994303)]\n",
    "\n",
    "list_vendas_2019 = []\n",
    "\n",
    "# usando for\n",
    "print('Utilizando for: ')\n",
    "for produto, vendas_2019, vendas_2020 in vendas_produtos:\n",
    "    list_vendas_2019.append(vendas_2019)\n",
    "print(f'Listagem de vendas de 2019: {list_vendas_2019}')\n",
    "\n",
    "\n",
    "# usando list comprehension\n",
    "print('\\nUtilizando List Comprehension: ')\n",
    "list2_vendas_2019 = [vendas_2019 for produto, vendas_2019, vendas_2020 in vendas_produtos]\n",
    "print(f'Listagem de vendas em 2019: {list2_vendas_2019}')\n"
   ]
  },
  {
   "cell_type": "markdown",
   "metadata": {},
   "source": [
    "- Agora, qual o maior valor de vendas de 2019?"
   ]
  },
  {
   "cell_type": "code",
   "execution_count": 40,
   "metadata": {},
   "outputs": [
    {
     "name": "stdout",
     "output_type": "stream",
     "text": [
      "[558147, 712350, 573823, 405252, 718654, 531580, 973139, 892292, 422760, 154753, 887061, 438508, 237467, 489705, 328311, 591120]\n",
      "\n",
      "O maior valor de vendas de 2019, foi de 973139\n"
     ]
    }
   ],
   "source": [
    "list2_vendas_2019.sort(reverse=True)\n",
    "print(list_vendas_2019)\n",
    "\n",
    "maior_valor_vendas_2019 = max(list2_vendas_2019)\n",
    "print(f'\\nO maior valor de vendas de 2019, foi de {maior_valor_vendas_2019}')"
   ]
  },
  {
   "cell_type": "markdown",
   "metadata": {},
   "source": [
    "- E se eu quisesse descobrir o produto que mais vendeu em 2019?\n",
    "Temos 2 formas de fazer, refazendo o list comprehension ou consultando a lista original"
   ]
  },
  {
   "cell_type": "code",
   "execution_count": 41,
   "metadata": {},
   "outputs": [
    {
     "name": "stdout",
     "output_type": "stream",
     "text": [
      "Usando for: \n",
      "O produto mais vendido em 2019 foi geladeira e foram vendidas 973139 unidades\n",
      "\n",
      "Usando list comprehensions: \n",
      "O produto mais vendido em 2019 foi geladeira e foram vendidas 973139 unidades\n",
      "\n"
     ]
    }
   ],
   "source": [
    "produto_mais_vendido_2019 = ''\n",
    "qtde_produto_mais_vendido = 0\n",
    "\n",
    "# usando for\n",
    "print('Usando for: ')\n",
    "for produto, venda_2019, venda_2020 in vendas_produtos:\n",
    "    # if venda_2019 == 973139:\n",
    "    #     produto_mais_vendido_2019 = produto\n",
    "    #     qtde_produto_mais_vendido = 973139\n",
    "    if venda_2019 > qtde_produto_mais_vendido:\n",
    "        produto_mais_vendido_2019 = produto\n",
    "        qtde_produto_mais_vendido = venda_2019\n",
    "\n",
    "print(f'O produto mais vendido em 2019 foi {produto_mais_vendido_2019} e foram vendidas {qtde_produto_mais_vendido} unidades\\n')\n",
    "\n",
    "# usando list comprehension\n",
    "print('Usando list comprehensions: ')\n",
    "lista_produtos_mais_vendido_2019 = [(venda2019, produto) for produto, venda2019, venda2020 in vendas_produtos]\n",
    "lista_produtos_mais_vendido_2019.sort(reverse=True)\n",
    "produto_mais_vendido_2019 = max(lista_produtos_mais_vendido_2019)\n",
    "# print(lista_produtos_mais_vendido_2019)\n",
    "print(f'O produto mais vendido em 2019 foi {produto_mais_vendido_2019[1]} e foram vendidas {produto_mais_vendido_2019[0]} unidades\\n')"
   ]
  }
 ],
 "metadata": {
  "kernelspec": {
   "display_name": "venv",
   "language": "python",
   "name": "python3"
  },
  "language_info": {
   "codemirror_mode": {
    "name": "ipython",
    "version": 3
   },
   "file_extension": ".py",
   "mimetype": "text/x-python",
   "name": "python",
   "nbconvert_exporter": "python",
   "pygments_lexer": "ipython3",
   "version": "3.12.5"
  }
 },
 "nbformat": 4,
 "nbformat_minor": 4
}
