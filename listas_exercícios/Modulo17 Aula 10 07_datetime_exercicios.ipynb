{
 "cells": [
  {
   "cell_type": "markdown",
   "metadata": {},
   "source": [
    "## Oferecendo desconto para cliente com base na última compra\n",
    "\n",
    "Suponha que você está trabalhando para uma empresa que deseja rastrear a atividade do cliente. Uma métrica que eles estão interessados é o tempo que passou desde a última transação do cliente. Se for muito tempo, eles podem oferecer um desconto para o cliente. Crie um script Python que mostra quanto tempo se passou desde a última compra do cliente(10 de outubro de 2024). Se faz mais de 30 dias, mostre uma mensagem oferecendo um desconto para o cliente."
   ]
  },
  {
   "cell_type": "code",
   "execution_count": 24,
   "metadata": {},
   "outputs": [
    {
     "name": "stdout",
     "output_type": "stream",
     "text": [
      "Sua última compra foi realizada no dia 10/10/2024.\n",
      "Desta forma a loja está disponibilizando um desconto para ser utilizando a qualquer momento em nossas lojas.\n"
     ]
    }
   ],
   "source": [
    "from datetime import datetime\n",
    "\n",
    "# datetime(ano, mes, dia, hora, minuto, segundo, microssegundo, fuso)\n",
    "ultima_compra_realizada = datetime(2024, 10, 10)\n",
    "data_atual = datetime.now()\n",
    "\n",
    "# diferenca é do tipo timedelta\n",
    "diferenca = data_atual - ultima_compra_realizada\n",
    "\n",
    "if diferenca.days > 30:\n",
    "    print(f'Sua última compra foi realizada no dia {ultima_compra_realizada.day}/{ultima_compra_realizada.month}/{ultima_compra_realizada.year}.\\nDesta forma a loja está disponibilizando um desconto para ser utilizando a qualquer momento em nossas lojas.')\n",
    "else:\n",
    "    print('Última compra realizada foi há menos de 30 dias.')"
   ]
  },
  {
   "cell_type": "markdown",
   "metadata": {},
   "source": [
    "## Data e hora em diferentes fusos horários\n",
    "\n",
    "Uma empresa tem escritórios em São Paulo, Nova York e Tóquio. Crie um script Python que mostra a data e hora atuais nesses três fusos horários. Exiba, também, se estes escritórios estão abertos ou fechados (9h às 17h).\n"
   ]
  },
  {
   "cell_type": "code",
   "execution_count": 35,
   "metadata": {},
   "outputs": [
    {
     "name": "stdout",
     "output_type": "stream",
     "text": [
      "São Paulo: Terça Feira, 19 de Novembro de 2024, 19:10:30\n",
      "Nova York: Terça Feira, 19 de Novembro de 2024, 17:10:30\n",
      "Tokyo: Quarta Feira, 20 de Novembro de 2024, 07:10:30\n"
     ]
    }
   ],
   "source": [
    "from zoneinfo import ZoneInfo\n",
    "import locale\n",
    "\n",
    "locale.setlocale(locale.LC_TIME, 'pt_BR.UTF-8')\n",
    "\n",
    "data_hora_atual = datetime.now()\n",
    "\n",
    "data_hora_sao_paulo = data_hora_atual.astimezone(ZoneInfo('America/Sao_Paulo'))\n",
    "data_hora_nova_york = data_hora_atual.astimezone(ZoneInfo('America/New_York'))\n",
    "data_hora_tokyo = data_hora_atual.astimezone(ZoneInfo('Asia/Tokyo'))\n",
    "\n",
    "print(f'São Paulo: {data_hora_sao_paulo.strftime('%A, %d de %B de %Y, %H:%M:%S')}\\nNova York: {data_hora_nova_york.strftime('%A, %d de %B de %Y, %H:%M:%S')}\\nTokyo: {data_hora_tokyo.strftime('%A, %d de %B de %Y, %H:%M:%S')}')\n"
   ]
  },
  {
   "cell_type": "code",
   "execution_count": 34,
   "metadata": {},
   "outputs": [
    {
     "name": "stdout",
     "output_type": "stream",
     "text": [
      "O escritório de São Paulo está fechado!\n",
      "O escritório de Nova York está fechado!\n",
      "O escritório de Tokyo está fechado!\n"
     ]
    }
   ],
   "source": [
    "def verificar_horario_escritorio(data_hora):\n",
    "    if 9 <= data_hora.hour < 17:\n",
    "        return 'aberto!'\n",
    "    else:\n",
    "        return 'fechado!'\n",
    "\n",
    "print(f'O escritório de São Paulo está {verificar_horario_escritorio(data_hora_sao_paulo)}')\n",
    "print(f'O escritório de Nova York está {verificar_horario_escritorio(data_hora_nova_york)}')\n",
    "print(f'O escritório de Tokyo está {verificar_horario_escritorio(data_hora_tokyo)}')"
   ]
  }
 ],
 "metadata": {
  "kernelspec": {
   "display_name": "venv",
   "language": "python",
   "name": "python3"
  },
  "language_info": {
   "codemirror_mode": {
    "name": "ipython",
    "version": 3
   },
   "file_extension": ".py",
   "mimetype": "text/x-python",
   "name": "python",
   "nbconvert_exporter": "python",
   "pygments_lexer": "ipython3",
   "version": "3.12.5"
  }
 },
 "nbformat": 4,
 "nbformat_minor": 4
}
