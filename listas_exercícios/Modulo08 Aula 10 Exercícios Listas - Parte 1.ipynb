{
 "cells": [
  {
   "cell_type": "markdown",
   "metadata": {},
   "source": [
    "# Exercícios\n",
    "\n",
    "## 1. Faturamento do Melhor e do Pior Mês do Ano\n",
    "\n",
    "Qual foi o valor de vendas do melhor mês do Ano?\n",
    "E valor do pior mês do ano?"
   ]
  },
  {
   "cell_type": "code",
   "execution_count": 52,
   "metadata": {},
   "outputs": [],
   "source": [
    "meses = ['jan', 'fev', 'mar', 'abr', 'mai', 'jun', 'jul', 'ago', 'set', 'out', 'nov', 'dez']\n",
    "vendas_1sem = [25000, 29000, 22200, 17750, 15870, 19900]\n",
    "vendas_2sem = [19850, 20120, 17540, 15555, 49051, 9650]\n",
    "\n",
    "vendas_ano = vendas_1sem + vendas_2sem\n",
    "maior_valor_vendas = max(vendas_ano)\n",
    "menor_valor_vendas = min(vendas_ano)"
   ]
  },
  {
   "cell_type": "markdown",
   "metadata": {},
   "source": [
    "## 2. Continuação\n",
    "\n",
    "Agora relacione as duas listas para printar 'O melhor mês do ano foi {} com {} vendas' e o mesmo para o pior mês do ano.\n",
    "\n",
    "Calcule também o faturamento total do Ano e quanto que o melhor mês representou do faturamento total.\n",
    "\n",
    "Obs: Para o faturamento total, pode usar a função sum(lista) que soma todos os itens de uma lista"
   ]
  },
  {
   "cell_type": "code",
   "execution_count": null,
   "metadata": {},
   "outputs": [
    {
     "name": "stdout",
     "output_type": "stream",
     "text": [
      "O melhor mês do ano com relação as vendas foi nov,\n",
      "com total de vendas de 49051 unidades\n",
      "\n",
      "O pior mês do ano com relação as vendas foi dez,\n",
      "com total de vendas de 9650 unidades\n",
      "\n",
      "O faturamento total do Ano foi de R$261,486.00\n",
      "O melhor mês representou 18.76% das vendas do ano todo.\n"
     ]
    }
   ],
   "source": [
    "i_maior_valor = vendas_ano.index(maior_valor_vendas)\n",
    "i_menor_valor = vendas_ano.index(menor_valor_vendas)\n",
    "\n",
    "faturamento_ano = sum(vendas_ano)\n",
    "\n",
    "print(f'O melhor mês do ano com relação as vendas foi {meses[i_maior_valor]},\\ncom total de vendas de {maior_valor_vendas} unidades')\n",
    "print(f'\\nO pior mês do ano com relação as vendas foi {meses[i_menor_valor]},\\ncom total de vendas de {menor_valor_vendas} unidades')\n",
    "\n",
    "print(f'\\nO faturamento total do Ano foi de R${faturamento_ano:,.2f}')\n",
    "percentual_melhor_mes = maior_valor_vendas / faturamento_ano\n",
    "print(f'O melhor mês representou {percentual_melhor_mes:.2%} das vendas do ano todo.')\n"
   ]
  },
  {
   "cell_type": "markdown",
   "metadata": {},
   "source": [
    "## 3. Crie uma lista com o top 3 valores de vendas do ano (sem fazer \"no olho\")\n",
    "\n",
    "Dica: o método remove retira um item da lista."
   ]
  },
  {
   "cell_type": "code",
   "execution_count": 54,
   "metadata": {},
   "outputs": [
    {
     "name": "stdout",
     "output_type": "stream",
     "text": [
      "                              Top 3 valores de vendas do ano                              \n",
      "\n",
      "Lista de valores das vendas durante o ano:\n",
      "[25000, 29000, 22200, 17750, 15870, 19900, 19850, 20120, 17540, 15555, 49051, 9650]\n",
      "\n",
      "Top 3:\n",
      "[49051, 29000, 25000]\n",
      "\n"
     ]
    }
   ],
   "source": [
    "top3 = []\n",
    "title_page = 'Top 3 valores de vendas do ano'\n",
    "print(f'{title_page:^90}\\n')\n",
    "\n",
    "print(f'Lista de valores das vendas durante o ano:\\n{vendas_ano}\\n')\n",
    "\n",
    "maior_valor_vendas = max(vendas_ano)\n",
    "top3.append(maior_valor_vendas)\n",
    "vendas_ano.remove(maior_valor_vendas)\n",
    "\n",
    "maior_valor_vendas = max(vendas_ano)\n",
    "top3.append(maior_valor_vendas)\n",
    "vendas_ano.remove(maior_valor_vendas)\n",
    "\n",
    "maior_valor_vendas = max(vendas_ano)\n",
    "top3.append(maior_valor_vendas)\n",
    "vendas_ano.remove(maior_valor_vendas)\n",
    "print('Top 3:')\n",
    "print(f'{top3}\\n')\n"
   ]
  }
 ],
 "metadata": {
  "kernelspec": {
   "display_name": "venv",
   "language": "python",
   "name": "python3"
  },
  "language_info": {
   "codemirror_mode": {
    "name": "ipython",
    "version": 3
   },
   "file_extension": ".py",
   "mimetype": "text/x-python",
   "name": "python",
   "nbconvert_exporter": "python",
   "pygments_lexer": "ipython3",
   "version": "3.12.5"
  }
 },
 "nbformat": 4,
 "nbformat_minor": 4
}
