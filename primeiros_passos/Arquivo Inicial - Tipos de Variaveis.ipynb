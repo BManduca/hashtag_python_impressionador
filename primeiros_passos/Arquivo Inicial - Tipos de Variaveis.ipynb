{
 "cells": [
  {
   "cell_type": "code",
   "execution_count": 7,
   "metadata": {},
   "outputs": [
    {
     "name": "stdout",
     "output_type": "stream",
     "text": [
      "O faturamento da loja foi 2000\n",
      "O Custo da loja foi de 500\n",
      "O Lucro da loja foi de 1500 reais\n"
     ]
    }
   ],
   "source": [
    "faturamento = 2000\n",
    "# type(faturamento)\n",
    "custo = 500\n",
    "lucro = faturamento - custo\n",
    "print('O faturamento da loja foi ' + str(faturamento))\n",
    "print('O Custo da loja foi de ' + str(custo))\n",
    "print('O Lucro da loja foi de ' + str(lucro) + ' reais')"
   ]
  }
 ],
 "metadata": {
  "kernelspec": {
   "display_name": "venv",
   "language": "python",
   "name": "python3"
  },
  "language_info": {
   "codemirror_mode": {
    "name": "ipython",
    "version": 3
   },
   "file_extension": ".py",
   "mimetype": "text/x-python",
   "name": "python",
   "nbconvert_exporter": "python",
   "pygments_lexer": "ipython3",
   "version": "3.12.5"
  }
 },
 "nbformat": 4,
 "nbformat_minor": 4
}
