{
 "cells": [
  {
   "cell_type": "markdown",
   "metadata": {},
   "source": [
    "# Aplicação de Tupla - Lista de Tuplas\n",
    "\n",
    "### Estrutura:\n",
    "\n",
    "Além de casos como o do enumerate, em que usamos uma função para transformar itens em tuplas porque isso ajuda o nosso código, temos também listas de tuplas como algo comum dentro do Python."
   ]
  },
  {
   "cell_type": "raw",
   "metadata": {},
   "source": [
    "lista = [\n",
    "    tupla1,\n",
    "    tupla2,\n",
    "    tupla3,\n",
    "    ]\n",
    "    \n",
    "ou seja\n",
    "\n",
    "lista = [\n",
    "    (valor1, valor2, valor3),\n",
    "    (valor4, valor5, valor6),\n",
    "    (valor7, valor8, valor9),\n",
    "    ]"
   ]
  },
  {
   "cell_type": "markdown",
   "metadata": {},
   "source": [
    "### Exemplo:\n",
    "\n",
    "Digamos que você está analisando as vendas do Banco de Dados de um e-commerce.\n",
    "\n",
    "Em um determinado dia, você extraiu as vendas do Banco de Dados e elas vieram nesse formato:"
   ]
  },
  {
   "cell_type": "code",
   "execution_count": 10,
   "metadata": {},
   "outputs": [],
   "source": [
    "vendas = [\n",
    "    ('20/08/2020', 'iphone x', 'azul', '128gb', 350, 4000),\n",
    "    ('20/08/2020', 'iphone x', 'prata', '128gb', 1500, 4000),\n",
    "    ('20/08/2020', 'ipad', 'prata', '256gb', 127, 6000),\n",
    "    ('20/08/2020', 'ipad', 'prata', '128gb', 981, 5000),\n",
    "    ('21/08/2020', 'iphone x', 'azul', '128gb', 397, 4000),\n",
    "    ('21/08/2020', 'iphone x', 'prata', '128gb', 1017, 4000),\n",
    "    ('21/08/2020', 'ipad', 'prata', '256gb', 50, 6000),\n",
    "    ('21/08/2020', 'ipad', 'prata', '128gb', 4000, 5000),\n",
    "]"
   ]
  },
  {
   "cell_type": "markdown",
   "metadata": {},
   "source": [
    "- Qual foi o faturamento de IPhone no dia 20/08/2020?"
   ]
  },
  {
   "cell_type": "code",
   "execution_count": 3,
   "metadata": {},
   "outputs": [
    {
     "name": "stdout",
     "output_type": "stream",
     "text": [
      "O faturamento de Iphone X no dia 20/08/2020 foi de R$ 7,400,000.00\n"
     ]
    }
   ],
   "source": [
    "faturamento = 0\n",
    "for item in vendas:\n",
    "    data, produto, cor, capacidade, unidades, valor_unitario = item\n",
    "    if produto == 'iphone x' and data == '20/08/2020':\n",
    "        faturamento += unidades * valor_unitario\n",
    "        \n",
    "\n",
    "#data, produto, cor, capacidade, unidades, valor_unitario = vendas[0]\n",
    "\n",
    "#faturamento = unidades * valor_unitario\n",
    "print(f'O faturamento de Iphone X no dia 20/08/2020 foi de R$ {faturamento:,.2f}')"
   ]
  },
  {
   "cell_type": "markdown",
   "metadata": {},
   "source": [
    "- Qual foi o produto mais vendido (em unidades) no dia 21/08/2020?"
   ]
  },
  {
   "cell_type": "code",
   "execution_count": 8,
   "metadata": {},
   "outputs": [
    {
     "name": "stdout",
     "output_type": "stream",
     "text": [
      "O produto mais vendido no dia 21/08/2020 foi o ipad com 4050 unidades\n"
     ]
    }
   ],
   "source": [
    "total_unidades_iphonex = 0\n",
    "total_unidades_ipad = 0\n",
    "\n",
    "for item in vendas:\n",
    "    data, produto, cor, capacidade, unidades, valor_unitario = item\n",
    "    if data == '21/08/2020':\n",
    "        if produto == 'iphone x':\n",
    "            total_unidades_iphonex += unidades\n",
    "\n",
    "        if produto == 'ipad':\n",
    "            total_unidades_ipad += unidades\n",
    "\n",
    "if total_unidades_iphonex > total_unidades_ipad:\n",
    "    print(f'O produto mais vendido no dia 21/08/2020 foi o iphone x com {total_unidades_iphonex} unidades')\n",
    "else:\n",
    "    print(f'O produto mais vendido no dia 21/08/2020 foi o ipad com {total_unidades_ipad} unidades')\n",
    "\n"
   ]
  },
  {
   "cell_type": "code",
   "execution_count": null,
   "metadata": {},
   "outputs": [
    {
     "name": "stdout",
     "output_type": "stream",
     "text": [
      "O produto mais vendido no dia 21/08/2020 foi o ipad,\n",
      "na cor prata, com capacidade de 128gb e foram vendidas 4000 unidades.\n"
     ]
    }
   ],
   "source": [
    "# resolução do professor\n",
    "\n",
    "produto_mais_vendido = ''\n",
    "qtde_produto_mais_vendido = 0\n",
    "cor_produto_mais_vendido = ''\n",
    "capacidade_produto_mais_vendido = ''\n",
    "\n",
    "for item in vendas:\n",
    "    data, produto, cor, capacidade, unidades, valor_unitario = item\n",
    "    if data == '21/08/2020':\n",
    "        if unidades > qtde_produto_mais_vendido:\n",
    "            produto_mais_vendido = produto\n",
    "            qtde_produto_mais_vendido = unidades\n",
    "            cor_produto_mais_vendido = cor\n",
    "            capacidade_produto_mais_vendido = capacidade\n",
    "\n",
    "print(f'O produto mais vendido no dia 21/08/2020 foi o {produto_mais_vendido},\\nna cor {cor_produto_mais_vendido}, com capacidade de {capacidade_produto_mais_vendido} e foram vendidas {qtde_produto_mais_vendido} unidades.')"
   ]
  }
 ],
 "metadata": {
  "kernelspec": {
   "display_name": "venv",
   "language": "python",
   "name": "python3"
  },
  "language_info": {
   "codemirror_mode": {
    "name": "ipython",
    "version": 3
   },
   "file_extension": ".py",
   "mimetype": "text/x-python",
   "name": "python",
   "nbconvert_exporter": "python",
   "pygments_lexer": "ipython3",
   "version": "3.12.5"
  }
 },
 "nbformat": 4,
 "nbformat_minor": 4
}
