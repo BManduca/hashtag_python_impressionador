{
 "cells": [
  {
   "cell_type": "code",
   "execution_count": null,
   "id": "ccaf6ca7",
   "metadata": {},
   "outputs": [],
   "source": [
    "# !pip3 install python-docx"
   ]
  },
  {
   "cell_type": "code",
   "execution_count": null,
   "id": "bf67c636",
   "metadata": {},
   "outputs": [],
   "source": [
    "from docx import Document\n",
    "\n",
    "# criando o documento no Python\n",
    "documento = Document()\n",
    "\n",
    "faturamento = 1000\n",
    "\n",
    "# aqui você edita tudo o que você quer\n",
    "texto = f\"\"\"Fala Lira,\n",
    "\n",
    "O faturamento da empresa ontem foi de R${faturamento}\n",
    "\n",
    "Tamo junto, abs.\n",
    "\"\"\"\n",
    "\n",
    "paragrafo = documento.add_paragraph(texto) "
   ]
  },
  {
   "cell_type": "markdown",
   "id": "1a5b69f8",
   "metadata": {},
   "source": [
    "### formatação"
   ]
  },
  {
   "cell_type": "code",
   "execution_count": null,
   "id": "8e3207de",
   "metadata": {},
   "outputs": [],
   "source": [
    "from docx.shared import Pt, RGBColor, Cm # valores de formatação\n",
    "from docx.enum.style import WD_STYLE_TYPE\n",
    "\n",
    "\n",
    "# WD_STYLE_TYPE -> para definir qual estrutura estaremos estilizando\n",
    "paragrafo.style = documento.styles.add_style(\"EstiloNovoBrunno\", WD_STYLE_TYPE.PARAGRAPH)\n",
    "paragrafo.style.font.name = \"Baskerville\"\n",
    "paragrafo.style.font.size = Pt(15)\n",
    "paragrafo.style.font.bold = True\n",
    "paragrafo.style.font.italic = True\n",
    "paragrafo.style.font.underline = True\n",
    "paragrafo.style.font.color.rgb = RGBColor(255, 0, 0)"
   ]
  },
  {
   "cell_type": "code",
   "execution_count": null,
   "id": "2c587622",
   "metadata": {},
   "outputs": [],
   "source": [
    "for estilo in documento.styles:\n",
    "    print(estilo)"
   ]
  },
  {
   "cell_type": "code",
   "execution_count": null,
   "id": "5a150cf0",
   "metadata": {},
   "outputs": [],
   "source": [
    "paragrafo = documento.add_paragraph(\"PS: A quantidade de produtos vendidos foi de 10\", \"Heading 6\")"
   ]
  },
  {
   "cell_type": "code",
   "execution_count": null,
   "id": "687d2e5d",
   "metadata": {},
   "outputs": [],
   "source": [
    "# implementando tudo que fizemos no Python no Texto.docx\n",
    "documento.save(\"Texto.docx\")"
   ]
  },
  {
   "cell_type": "markdown",
   "id": "f0594908",
   "metadata": {},
   "source": [
    "### Aproveitando um template do word"
   ]
  },
  {
   "cell_type": "code",
   "execution_count": null,
   "id": "d8eb8f3c",
   "metadata": {},
   "outputs": [],
   "source": [
    "# através do word, criamos um template com todas as configurações solicitadas por exemplo, \n",
    "# para que não seja necessário ficar adicionando tudo aqui pelo python, assim, o mesmo pode ser utilizado em \n",
    "# vários locais\n",
    "template = Document(\"template.docx\")"
   ]
  },
  {
   "cell_type": "code",
   "execution_count": null,
   "id": "5af74eec",
   "metadata": {},
   "outputs": [],
   "source": [
    "for estilo in template.styles:\n",
    "    print(estilo)"
   ]
  },
  {
   "cell_type": "code",
   "execution_count": null,
   "id": "3585dc30",
   "metadata": {},
   "outputs": [],
   "source": [
    "paragrafo = template.add_paragraph(\"Contrato de Prestação de Serviço\", \"NovoEstiloABNT\")\n",
    "template.save(\"NovoArquivo.docx\")"
   ]
  },
  {
   "cell_type": "markdown",
   "id": "c8882757",
   "metadata": {},
   "source": [
    "### Adicionar texto com edição dentro do texto"
   ]
  },
  {
   "cell_type": "code",
   "execution_count": null,
   "id": "6d4df1c6",
   "metadata": {},
   "outputs": [],
   "source": [
    "from docx import Document\n",
    "\n",
    "# criando o documento no Python\n",
    "documento = Document()\n",
    "\n",
    "faturamento = 1000\n",
    "\n",
    "# aqui você edita tudo o que você quer\n",
    "texto = \"\"\"Fala Lira,\n",
    "\n",
    "O faturamento da empresa ontem foi de \"\"\"\n",
    "\n",
    "texto_final = \"Tamo junto, abs.\"\n",
    "\n",
    "\n",
    "paragrafo = documento.add_paragraph(texto)\n",
    "\n",
    "# para adicionar uma nova info dentro do paragrafo\n",
    "paragrafo.add_run(f\"R${faturamento}\").bold = True\n",
    "\n",
    "paragrafo = documento.add_paragraph(texto_final)\n",
    "\n",
    "documento.save(\"NovoTexto.docx\")"
   ]
  },
  {
   "cell_type": "markdown",
   "id": "cf765499",
   "metadata": {},
   "source": [
    "### Controle de Margem e Seções"
   ]
  },
  {
   "cell_type": "code",
   "execution_count": null,
   "id": "9021d67a",
   "metadata": {},
   "outputs": [],
   "source": [
    "from docx.enum.text import WD_PARAGRAPH_ALIGNMENT\n",
    "\n",
    "# criando o documento no Python\n",
    "documento = Document()\n",
    "\n",
    "for secao in documento.sections:\n",
    "    secao.top_margin = Cm(0.5)\n",
    "    secao.bottom_margin = Cm(1)\n",
    "    secao.left_margin = Cm(1)\n",
    "    secao.right_margin = Cm(1)\n",
    "\n",
    "\n",
    "faturamento = 1000\n",
    "\n",
    "# aqui você edita tudo o que você quer\n",
    "texto = f\"\"\"Fala Lira,\n",
    "\n",
    "O faturamento da empresa ontem foi de R${faturamento}\n",
    "\n",
    "Tamo junto, abs.\n",
    "\"\"\"\n",
    "\n",
    "paragrafo = documento.add_paragraph(texto) \n",
    "paragrafo.alignment = WD_PARAGRAPH_ALIGNMENT.CENTER\n",
    "\n",
    "documento.save(\"Section_Texto.docx\")"
   ]
  },
  {
   "cell_type": "markdown",
   "id": "aeea7253",
   "metadata": {},
   "source": [
    "### Inserir Imagem"
   ]
  },
  {
   "cell_type": "code",
   "execution_count": null,
   "id": "5598ac32",
   "metadata": {},
   "outputs": [],
   "source": [
    "# criando o documento no Python\n",
    "documento = Document()\n",
    "\n",
    "for secao in documento.sections:\n",
    "    secao.top_margin = Cm(0.5)\n",
    "    secao.bottom_margin = Cm(1)\n",
    "    secao.left_margin = Cm(1)\n",
    "    secao.right_margin = Cm(1)\n",
    "\n",
    "\n",
    "faturamento = 1000\n",
    "\n",
    "# aqui você edita tudo o que você quer\n",
    "texto = f\"\"\"Fala Lira,\n",
    "\n",
    "O faturamento da empresa ontem foi de R${faturamento}\n",
    "\n",
    "Tamo junto, abs.\n",
    "\"\"\"\n",
    "\n",
    "paragrafo = documento.add_paragraph(texto)\n",
    "\n",
    "imagem = documento.add_picture(\"assets/imagem.png\", width=Cm(4), height=Cm(4))\n",
    "\n",
    "documento.save(\"Texto.docx\")"
   ]
  },
  {
   "cell_type": "markdown",
   "id": "a03526a4",
   "metadata": {},
   "source": [
    "### Centralizando Imagem"
   ]
  },
  {
   "cell_type": "code",
   "execution_count": null,
   "id": "48ffcafa",
   "metadata": {},
   "outputs": [],
   "source": [
    "from docx.enum.text import WD_PARAGRAPH_ALIGNMENT\n",
    "\n",
    "# criando o documento no Python\n",
    "documento = Document()\n",
    "\n",
    "for secao in documento.sections:\n",
    "    secao.top_margin = Cm(0.5)\n",
    "    secao.bottom_margin = Cm(1)\n",
    "    secao.left_margin = Cm(1)\n",
    "    secao.right_margin = Cm(1)\n",
    "\n",
    "\n",
    "faturamento = 1000\n",
    "\n",
    "# aqui você edita tudo o que você quer\n",
    "texto = f\"\"\"Fala Lira,\n",
    "\n",
    "O faturamento da empresa ontem foi de R${faturamento}\n",
    "\n",
    "Tamo junto, abs.\n",
    "\"\"\"\n",
    "\n",
    "paragrafo = documento.add_paragraph(texto)\n",
    "\n",
    "paragrafo_imagem = documento.add_paragraph()\n",
    "imagem = paragrafo_imagem.add_run().add_picture(\"assets/imagem.png\", width=Cm(4), height=Cm(4))\n",
    "\n",
    "# centralizando a imagem\n",
    "paragrafo_imagem.alignment = WD_PARAGRAPH_ALIGNMENT.CENTER\n",
    "\n",
    "\n",
    "documento.save(\"TextoComImagem.docx\")"
   ]
  },
  {
   "cell_type": "markdown",
   "id": "661c1e80",
   "metadata": {},
   "source": [
    "### Inserir Tabela"
   ]
  },
  {
   "cell_type": "code",
   "execution_count": null,
   "id": "a4b402fc",
   "metadata": {},
   "outputs": [],
   "source": [
    "documento = Document()\n",
    "\n",
    "records = (\n",
    "    (3, '101', 'Spam'),\n",
    "    (7, '422', 'Eggs'),\n",
    "    (4, '631', 'Spam, spam, eggs and span'),\n",
    ")\n",
    "\n",
    "table = documento.add_table(rows=1, cols=3, style='Light Grid Accent 1')\n",
    "hdr_cells = table.rows[0].cells\n",
    "hdr_cells[0].text = 'Qty'\n",
    "hdr_cells[1].text = 'ID'\n",
    "hdr_cells[2].text = 'Desc.'\n",
    "\n",
    "for qty, id, desc in records:\n",
    "    row_cells = table.add_row().cells\n",
    "    row_cells[0].text = str(qty)\n",
    "    row_cells[1].text = id\n",
    "    row_cells[2].text = desc\n",
    "\n",
    "documento.save('TabelaNovoDocumento.docx')"
   ]
  },
  {
   "cell_type": "markdown",
   "id": "b4a01b8b",
   "metadata": {},
   "source": [
    "### Para verificar todos os estilos de um arquivo:"
   ]
  },
  {
   "cell_type": "code",
   "execution_count": null,
   "id": "1a4bb04f",
   "metadata": {},
   "outputs": [],
   "source": [
    "for estilo in documento.styles:\n",
    "    print(estilo)"
   ]
  },
  {
   "cell_type": "markdown",
   "id": "515bc559",
   "metadata": {},
   "source": [
    "### Adaptar um documento"
   ]
  },
  {
   "cell_type": "code",
   "execution_count": 9,
   "id": "a17586bb",
   "metadata": {},
   "outputs": [],
   "source": [
    "from datetime import datetime\n",
    "\n",
    "contrato = Document(\"dados/Contrato.docx\")\n",
    "\n",
    "nome = \"Lira da Hashtag\"\n",
    "item1 = \"Serviço de Treinamento em Excel\"\n",
    "item2 = \"Apostila Completa de Excel\"\n",
    "item3 = \"Serviço de Treinamentos de Python\"\n",
    "\n",
    "'''\n",
    "    Placeholder: É um texto ou elemento temporário usado para indicar onde uma informação será inserida ou para \n",
    "    fornecer uma dica ao usuário o que deve ser digitado. Ele é muito comum em formulários, layouts e códigos de programação.\n",
    "'''\n",
    "\n",
    "dicionario_valores = {\n",
    "    \"XXXX\": nome,\n",
    "    \"YYYY\": item1,\n",
    "    \"ZZZZ\": item2,\n",
    "    \"WWWW\": item3,\n",
    "    \"DD\": str(datetime.now().day),\n",
    "    \"MM\": str(datetime.now().month),\n",
    "    \"AAAA\": str(datetime.now().year),\n",
    "}\n",
    "\n",
    "# tem alguma função replace? -> é executada por parágrafo\n",
    "# percorrer as linhas\n",
    "    # se a linha tiver o texto xxxx substitui pelo nome\n",
    "for paragrafo in contrato.paragraphs:\n",
    "    # para cada placeholder do dicionario\n",
    "    for codigo in dicionario_valores:\n",
    "        if codigo in paragrafo.text:\n",
    "            paragrafo.text = paragrafo.text.replace(codigo, dicionario_valores[codigo])\n",
    "\n",
    "contrato.save(f\"Contrato Atualizado - {nome}.docx\")"
   ]
  },
  {
   "cell_type": "code",
   "execution_count": 11,
   "id": "b464acc6",
   "metadata": {},
   "outputs": [],
   "source": [
    "from docx import Document\n",
    "from docx.shared import Pt, RGBColor # valores de formatação\n",
    "from docx.enum.style import WD_STYLE_TYPE\n",
    "\n",
    "# Criando o documento\n",
    "documento = Document()\n",
    "\n",
    "# Criando e configurando os estilos\n",
    "estilo_cabecalho = documento.styles.add_style(\"EstiloContratoCabecalho\", WD_STYLE_TYPE.PARAGRAPH)\n",
    "estilo_cabecalho.font.name = \"Baskerville\"\n",
    "estilo_cabecalho.font.size = Pt(20)\n",
    "estilo_cabecalho.font.bold = True\n",
    "estilo_cabecalho.font.color.rgb = RGBColor(51, 204, 255)\n",
    "\n",
    "estilo_corpo = documento.styles.add_style(\"EstiloContratoCorpo\", WD_STYLE_TYPE.PARAGRAPH)\n",
    "estilo_corpo.font.name = \"Gill Sans\"\n",
    "estilo_corpo.font.size = Pt(16)\n",
    "estilo_corpo.font.italic = True\n",
    "estilo_corpo.font.color.rgb = RGBColor(133, 158, 183)\n",
    "\n",
    "estilo_rodape = documento.styles.add_style(\"EstiloContratoRodaPe\", WD_STYLE_TYPE.PARAGRAPH)\n",
    "estilo_rodape.font.name = \"Luminari\"\n",
    "estilo_rodape.font.size = Pt(14)\n",
    "estilo_rodape.font.bold = True\n",
    "estilo_rodape.font.color.rgb = RGBColor(33, 88, 130)\n",
    "\n",
    "# Adicionando o conteúdo ao documento\n",
    "cabecalho = \"Contrato para venda de Curso\"\n",
    "documento.add_paragraph(cabecalho, style=\"EstiloContratoCabecalho\")\n",
    "\n",
    "corpo = \"\"\"\n",
    "Eu, XXXX, estou assinando esse contrato para você.\n",
    "\n",
    "Favor, não roubar meus bens.\n",
    "\n",
    "São eles:\n",
    "\n",
    "- YYYY\n",
    "- ZZZZ\n",
    "- WWWW\n",
    "\"\"\"\n",
    "documento.add_paragraph(corpo, style=\"EstiloContratoCorpo\")\n",
    "\n",
    "rodape = \"\"\"\n",
    "Dia DD/MM/AAAA,\n",
    "XXXX\n",
    "\"\"\"\n",
    "documento.add_paragraph(rodape, style=\"EstiloContratoRodaPe\")\n",
    "\n",
    "# Salvando o documento\n",
    "documento.save(\"dados/contrato_final.docx\")"
   ]
  },
  {
   "cell_type": "code",
   "execution_count": 13,
   "id": "ee043a26",
   "metadata": {},
   "outputs": [],
   "source": [
    "from datetime import datetime\n",
    "\n",
    "novo_contrato_curso = Document(\"dados/contrato_final.docx\")\n",
    "\n",
    "nome = \"Brunno Manduca\"\n",
    "item1 = \"Curso Python Impressionador\"\n",
    "item2 = \"Curso FullStack Impressionador\"\n",
    "item3 = \"Curso Análise de Dados Impressionadora\"\n",
    "\n",
    "dicionario_valores_contrato = {\n",
    "    \"XXXX\": nome,\n",
    "    \"YYYY\": item1,\n",
    "    \"ZZZZ\": item2,\n",
    "    \"WWWW\": item3,\n",
    "    \"DD\": str(datetime.now().day),\n",
    "    \"MM\": str(datetime.now().month),\n",
    "    \"AAAA\": str(datetime.now().year),\n",
    "}\n",
    "\n",
    "# percorrer todas as linhas, identificar os textos e substituir pelos valores do dicionario\n",
    "for paragrafo in novo_contrato_curso.paragraphs:\n",
    "    for codigo_dicionario in dicionario_valores_contrato:\n",
    "        if codigo_dicionario in paragrafo.text:\n",
    "            # garantir que as substituições ocorram nos trechos de texto sem apagar os estilos aplicados\n",
    "            for run in paragrafo.runs:\n",
    "                run.text = run.text.replace(codigo_dicionario, dicionario_valores_contrato[codigo_dicionario])\n",
    "\n",
    "novo_contrato_curso.save(f\"dados/Contrato_final_Atualizado_{nome}.docx\")"
   ]
  }
 ],
 "metadata": {
  "kernelspec": {
   "display_name": "venv",
   "language": "python",
   "name": "python3"
  },
  "language_info": {
   "codemirror_mode": {
    "name": "ipython",
    "version": 3
   },
   "file_extension": ".py",
   "mimetype": "text/x-python",
   "name": "python",
   "nbconvert_exporter": "python",
   "pygments_lexer": "ipython3",
   "version": "3.12.5"
  }
 },
 "nbformat": 4,
 "nbformat_minor": 5
}
