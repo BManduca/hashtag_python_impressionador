{
 "cells": [
  {
   "cell_type": "markdown",
   "metadata": {},
   "source": [
    "# Integração do Python com Arquivos txt\n",
    "\n",
    "Como quase tudo no Python, existem várias formas de ler um arquivo no Python.\n",
    "\n",
    "Aprendemos em módulos passadas a ler arquivos em Excel ou csv com o Pandas, minha recomendação é que, sempre que possível, use o pandas para isso porque ele é um módulo feito para análise de dados e tem muita coisa pronta dentro dele.\n",
    "\n",
    "Caso queira ler um arquivo txt simplesmente ou escrever um, vamos ver agora como fazer.\n",
    "\n",
    "### Estrutura:"
   ]
  },
  {
   "cell_type": "raw",
   "metadata": {},
   "source": [
    "1. Método open: -> Abre um arquivo txt\n",
    "\n",
    "arquivo = open('NomeArquivo.txt', 'r')\n",
    "\n",
    "Usamos 'r' para abrir o arquivo para ler (read) e 'w' quando estamos abrindo o arquivo para escrever (write) ou 'a' se formos adicionar (append) uma informação no arquivo"
   ]
  },
  {
   "cell_type": "markdown",
   "metadata": {},
   "source": [
    "- Com o arquivo aberto, agora podemos efetivamente ler o arquivo com os métodos:"
   ]
  },
  {
   "cell_type": "raw",
   "metadata": {},
   "source": [
    "2. Método read():\n",
    "\n",
    "texto_arquivo = arquivo.read()\n",
    "\n",
    "3. Método readlines():\n",
    "\n",
    "lista_linhas = arquivo.readlines()"
   ]
  },
  {
   "cell_type": "markdown",
   "metadata": {},
   "source": [
    "- Para escrever alguma coisa no arquivo teremos o método write:"
   ]
  },
  {
   "cell_type": "raw",
   "metadata": {},
   "source": [
    "4. Método write():\n",
    "\n",
    "arquivo.write('Texto que quero escrever')"
   ]
  },
  {
   "cell_type": "markdown",
   "metadata": {},
   "source": [
    "- Obs: Quando você abre um arquivo, ele permanece aberto no Python até você fechar. Existem 2 formas de fazer isso:"
   ]
  },
  {
   "cell_type": "raw",
   "metadata": {},
   "source": [
    "5. Método close():\n",
    "\n",
    "arquivo.close()\n",
    "\n",
    "6. Usando a estrutura with: -> ao final do with, a própria estrutura with fecha automaticamente o arquivo\n",
    "\n",
    "with open('NomeArquivo.txt', 'w') as arquivo:\n",
    "    arquivo.write()\n",
    "    ..."
   ]
  },
  {
   "cell_type": "code",
   "execution_count": null,
   "metadata": {},
   "outputs": [],
   "source": [
    "'''\n",
    "    enconding -> utf-8 | ISO-8859-1 | Windows-1252\n",
    "'''\n",
    "\n",
    "arquivo = open('dados/Alunos.txt', 'r', encoding='ISO-8859-1')"
   ]
  },
  {
   "cell_type": "code",
   "execution_count": null,
   "metadata": {},
   "outputs": [],
   "source": [
    "print(arquivo.read())"
   ]
  },
  {
   "cell_type": "code",
   "execution_count": null,
   "metadata": {},
   "outputs": [],
   "source": [
    "arquivo.seek(0)\n",
    "print(arquivo.readlines())"
   ]
  },
  {
   "cell_type": "code",
   "execution_count": null,
   "metadata": {},
   "outputs": [],
   "source": [
    "novo_arquivo = open('dados/resumo.txt', 'w', encoding='ISO-8859-1')\n",
    "\n",
    "novo_arquivo.write('Olá, meu nome é Brunno.\\n Sejam bem vindos!\\n Tudo bem?')\n",
    "novo_arquivo.write('Como posso ajudar?')\n",
    "\n",
    "novo_arquivo.close() # uma das maneiras de fechar e salvar o arquivo"
   ]
  },
  {
   "cell_type": "markdown",
   "metadata": {},
   "source": [
    "## Utilizando método with para abrir e fechar o arquivo que estaremos manipulando"
   ]
  },
  {
   "cell_type": "code",
   "execution_count": null,
   "metadata": {},
   "outputs": [],
   "source": [
    "novo_arquivo = open('dados/resumo.txt', 'w')\n",
    "\n",
    "novo_arquivo.write('Olá, meu nome é Brunno.\\n Sejam bem vindos!\\n Tudo bem?')\n",
    "novo_arquivo.write('Como posso ajudar?')\n",
    "\n",
    "novo_arquivo.close() # uma das maneiras de fechar e salvar o arquivo\n",
    "\n",
    "with open('dados/Resumo2.txt', 'w') as resumo2:\n",
    "    resumo2.write('Olá, meu nome é Brunno.\\nSejam bem vindos!\\nTudo bem?\\n')\n",
    "    resumo2.write('Como posso ajudar?')\n",
    "\n",
    "print('Fim de código.')"
   ]
  },
  {
   "cell_type": "markdown",
   "metadata": {},
   "source": [
    "### Desafio onde vamos aprender:\n",
    "\n",
    "- Na Hashtag, sempre analisamos o nosso \"Funil de Vendas\". Para isso, rastreamos de onde veio os alunos por meio de um código, do tipo:\n",
    "    - hashtag_site_org -> Pessoas que vieram pelo site da Hashtag\n",
    "    - hashtag_yt_org -> Pessoas que vieram pelo Youtube da Hashtag\n",
    "    - hashtag_ig_org -> Pessoas que vieram pelo Instagram da Hashtag\n",
    "    - hashtag_igfb_org -> Pessoas que vieram pelo Instagram ou Facebook da Hashtag\n",
    "\n",
    "Os códigos diferentes disso, são códigos de anúncio da Hashtag.\n",
    "\n",
    "- Queremos analisar quantos alunos vieram de anúncio e quantos vieram \"orgânico\".\n",
    "- Qual a melhor fonte \"orgânica\" de alunos\n",
    "\n",
    "Obs: orgânico é tudo aquilo que não veio de anúncios.\n",
    "\n",
    "No nosso sistema, conseguimos exportar um txt com as informações dos alunos, conforme o arquivo Alunos.txt<br>\n",
    "(Os dados foram gerados aleatoriamente para simular uma situação real, já que não podemos fornecer os dados reais dos alunos por questões de segurança)\n",
    "\n",
    "- No final, para treinar, vamos escrever todas essas respostas em um novo arquivo txt"
   ]
  },
  {
   "cell_type": "code",
   "execution_count": null,
   "metadata": {},
   "outputs": [
    {
     "name": "stdout",
     "output_type": "stream",
     "text": [
      "Fim do código..\n"
     ]
    }
   ],
   "source": [
    "arquivo_desafio = open('dados/Alunos.txt', 'r', encoding='ISO-8859-1')\n",
    "linhas_arquivo_desafio = arquivo_desafio.readlines()\n",
    "\n",
    "# deletando as linhas do índice 0 até 3\n",
    "del linhas_arquivo_desafio[:4]\n",
    "\n",
    "# criando indicadores\n",
    "qtde_anuncio = 0\n",
    "qtde_organico = 0\n",
    "qtde_yt_org = 0\n",
    "qtde_igfb_org = 0\n",
    "qtde_site_org = 0\n",
    "\n",
    "\n",
    "# percorendo o arquivo\n",
    "for linha in linhas_arquivo_desafio:\n",
    "    email, origem = linha.split(',')\n",
    "\n",
    "    if '_org' in origem:\n",
    "        qtde_organico += 1\n",
    "        \n",
    "        if 'hashtag_yt_org' in origem:\n",
    "            qtde_yt_org += 1\n",
    "\n",
    "        if 'hashtag_site_org' in origem:\n",
    "            qtde_site_org += 1\n",
    "        \n",
    "        if 'hashtag_ig_org' in origem or 'hashtag_igfb_org' in origem:\n",
    "            qtde_igfb_org += 1\n",
    "\n",
    "    else:\n",
    "        qtde_anuncio += 1\n",
    "\n",
    "# fechando arquivo\n",
    "arquivo_desafio.close()\n",
    "\n",
    "# print(f'Quantidade Anúncio: {qtde_anuncio}')\n",
    "# print(f'\\nQuantidade Orgânico: {qtde_organico}')\n",
    "# print(f'    Quantidade Youtube: {qtde_yt_org}')\n",
    "# print(f'    Quantidade Instagram: {qtde_igfb_org}')\n",
    "# print(f'    Quantidade Site: {qtde_site_org}')\n",
    "\n",
    "with open('Indicadores.txt', 'w') as arquivo_indicadores:\n",
    "    arquivo_indicadores.write(f'Quantidade Anúncio: {qtde_anuncio}\\n')\n",
    "    arquivo_indicadores.write(f'\\nQuantidade Orgânico: {qtde_organico}\\n')\n",
    "    arquivo_indicadores.write(f'    Quantidade Youtube: {qtde_yt_org}\\n')\n",
    "    arquivo_indicadores.write(f'    Quantidade Instagram: {qtde_igfb_org}\\n')\n",
    "    arquivo_indicadores.write(f'    Quantidade Site: {qtde_site_org}\\n')\n",
    "\n",
    "print('Fim do código..')"
   ]
  }
 ],
 "metadata": {
  "kernelspec": {
   "display_name": "venv",
   "language": "python",
   "name": "python3"
  },
  "language_info": {
   "codemirror_mode": {
    "name": "ipython",
    "version": 3
   },
   "file_extension": ".py",
   "mimetype": "text/x-python",
   "name": "python",
   "nbconvert_exporter": "python",
   "pygments_lexer": "ipython3",
   "version": "3.12.5"
  }
 },
 "nbformat": 4,
 "nbformat_minor": 4
}
