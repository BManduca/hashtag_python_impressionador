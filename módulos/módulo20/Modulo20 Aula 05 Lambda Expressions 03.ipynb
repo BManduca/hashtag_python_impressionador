{
 "cells": [
  {
   "cell_type": "markdown",
   "metadata": {},
   "source": [
    "# Lambda Expressions para gerar funções\n",
    "\n",
    "### Descrição\n",
    "\n",
    "- Uma das aplicações de lambda expressions, além da vista na aula passada, é criar um \"gerador de funções\". Nesse caso, usaremos a lambda expressions dentro da definição de uma outra função\n",
    "\n",
    "### Exemplo:\n",
    "\n",
    "1. Vamos criar uma função que me permita calcular o valor acrescido do imposto de diferentes categorias (produto, serviço, royalties, etc.)"
   ]
  },
  {
   "cell_type": "code",
   "execution_count": null,
   "metadata": {},
   "outputs": [],
   "source": [
    "# produto 0.1\n",
    "# serviço 0.15\n",
    "# royalties 0.25\n",
    "\n",
    "\n",
    "# método com funções\n",
    "\n",
    "# def calcular_preco_produto(preco):\n",
    "#     return preco * (1 + 0.1)\n",
    "\n",
    "# def calcular_preco_servico(preco):\n",
    "#     return preco * (1 + 0.15)\n",
    "\n",
    "# def calcular_preco_royalties(preco):\n",
    "#     return preco * (1 + 0.25)\n",
    "\n",
    "\n",
    "# método com função mais lambda\n",
    "\n",
    "def calcular_imposto(imposto):\n",
    "    # return -> lambda -> construtor de função\n",
    "    # return funcao param: param seguido de uma ação\n",
    "    return lambda preco: preco * (1 + imposto)\n",
    "\n",
    "def mensagem_retorno_imposto(valor):\n",
    "    return f'O valor final é de R$ {valor:,.2f}'\n",
    "\n"
   ]
  },
  {
   "cell_type": "markdown",
   "metadata": {},
   "source": [
    "- Agora vamos definir as funções que calculam o imposto das 3 categorias (produto, serviço, royalties)"
   ]
  },
  {
   "cell_type": "code",
   "execution_count": 12,
   "metadata": {},
   "outputs": [],
   "source": [
    "calcular_preco_produto = calcular_imposto(0.1)\n",
    "calcular_preco_servico = calcular_imposto(0.15)\n",
    "calcular_preco_royalties = calcular_imposto(0.25)"
   ]
  },
  {
   "cell_type": "markdown",
   "metadata": {},
   "source": [
    "- Agora vamos aplicar com um valor de nota fiscal de 100 para ver o resultado"
   ]
  },
  {
   "cell_type": "code",
   "execution_count": 25,
   "metadata": {},
   "outputs": [
    {
     "name": "stdout",
     "output_type": "stream",
     "text": [
      "Imposto aplicado: Royalties\n",
      "Valor: R$ 2,450.67\n",
      "O valor final é de R$ 3,063.34\n"
     ]
    }
   ],
   "source": [
    "tipo_imposto = input('Informe o tipo de imposto a ser calculado(produto/serviço/royalties): ').lower()\n",
    "\n",
    "valor_nota_fiscal = float(input('Informe o valor da nota fiscal: '))\n",
    "\n",
    "if tipo_imposto == 'produto':\n",
    "    print(f'Imposto aplicado: {tipo_imposto.capitalize()}\\nValor: R$ {valor_nota_fiscal:,.2f}\\n{mensagem_retorno_imposto(calcular_preco_produto(valor_nota_fiscal))}')\n",
    "elif tipo_imposto == 'serviço':\n",
    "    print(f'Imposto aplicado: {tipo_imposto.capitalize()}\\nValor: R$ {valor_nota_fiscal:,.2f}\\n{mensagem_retorno_imposto(calcular_preco_servico(valor_nota_fiscal))}')\n",
    "elif tipo_imposto == 'royalties':\n",
    "    print(f'Imposto aplicado: {tipo_imposto.capitalize()}\\nValor: R$ {valor_nota_fiscal:,.2f}\\n{mensagem_retorno_imposto(calcular_preco_royalties(valor_nota_fiscal))}')\n",
    "else:\n",
    "    print('O tipo de imposto informado está incorreto. Tente novamente.')"
   ]
  },
  {
   "cell_type": "markdown",
   "metadata": {},
   "source": [
    "### É menos usado do que a forma anterior que vimos, mas pode ser útil caso queira criar funções que possam ser adaptadas como vimos aqui"
   ]
  }
 ],
 "metadata": {
  "kernelspec": {
   "display_name": "venv",
   "language": "python",
   "name": "python3"
  },
  "language_info": {
   "codemirror_mode": {
    "name": "ipython",
    "version": 3
   },
   "file_extension": ".py",
   "mimetype": "text/x-python",
   "name": "python",
   "nbconvert_exporter": "python",
   "pygments_lexer": "ipython3",
   "version": "3.12.5"
  }
 },
 "nbformat": 4,
 "nbformat_minor": 4
}
