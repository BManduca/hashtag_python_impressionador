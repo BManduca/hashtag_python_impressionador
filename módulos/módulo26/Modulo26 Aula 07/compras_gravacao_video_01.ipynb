{
 "cells": [
  {
   "cell_type": "markdown",
   "id": "f3dcc64b-7d08-4c0e-ac5a-0d38face6fa4",
   "metadata": {},
   "source": [
    "# Criando um aplicativo de compras"
   ]
  },
  {
   "cell_type": "markdown",
   "id": "2c893b47-7ad6-4f49-8441-ca1b3c3d61cc",
   "metadata": {},
   "source": [
    "Desenvolva um programa que gerencie uma lista de compras. O programa deve permitir que o usuário adicione e remova itens da lista, além de visualizar a lista. O programa deve ser capaz de:\n",
    "\n",
    "- salvar a lista em um arquivo \n",
    "- carregar uma lista existente \n",
    "- gerenciar múltiplas listas de compras, cada uma em um arquivo diferente \n",
    "- salvar a lista atual em um arquivo ou sair sem salvar\n",
    "\n",
    "Organize o programa em funções. Cada função deve ter uma única responsabilidade. O programa deve ter:\n",
    "\n",
    "- função `main` que chama as outras funções \n",
    "- um menu que permite ao usuário escolher uma opção \n",
    "- uma função para cada opção do menu \n",
    "- uma função para cada operação que pode ser realizada na lista de compras\n",
    "\n",
    "**Dica**: não confunda o nome \"lista\" com a estrutura de dados lista. Uma lista de compras contém os itens e suas quantidades. A estrutura de dados utilizada deve ser, portanto, um dicionário, onde a chave é o nome\n",
    "do item e o valor é a quantidade.\n"
   ]
  },
  {
   "cell_type": "code",
   "execution_count": null,
   "id": "a3ab0bf7-0d93-4616-9e11-6ecc20a85d66",
   "metadata": {},
   "outputs": [],
   "source": [
    "from datetime import datetime\n",
    "from pathlib import Path\n",
    "import json\n",
    "\n",
    "# obtendo a data atual\n",
    "data_atual = datetime.now()\n",
    "\n",
    "dia, mes, ano = data_atual.day, data_atual.month, data_atual.year\n",
    "\n",
    "Path('listas_compras_mensais/').mkdir(parents=True, exist_ok=True)\n",
    "caminho_listas_compras = Path('listas_compras_mensais/')\n",
    "arquivos_json_lista_compras = caminho_listas_compras.iterdir()\n",
    "\n",
    "compras = {}\n",
    "\n",
    "def message_centralized(msg, wid, color):\n",
    "    colors = {\n",
    "        \"vermelho\": \"\\033[91m\",\n",
    "        \"verde\": \"\\033[92m\",\n",
    "        \"amarelo\": \"\\033[93m\",\n",
    "        \"azul\": \"\\033[94m\",\n",
    "        \"magenta\": \"\\033[95m\",\n",
    "        \"ciano\": \"\\033[96m\",\n",
    "        \"branco\": \"\\033[97m\",\n",
    "        \"reset\": \"\\033[0m\"\n",
    "    }\n",
    "\n",
    "    tam = len(msg)\n",
    "    space = (wid - tam) // 2\n",
    "    msg_final = ' ' * space + msg + ' ' * space\n",
    "\n",
    "    # se o texto não puder ser centralizado perfeitamente, ajustar o mesmo uma posição para a direita\n",
    "    if len(msg_final) < wid:\n",
    "        msg_final += ' '\n",
    "\n",
    "    select_color = colors.get(color.lower(), colors[\"reset\"])\n",
    "    print(f'{select_color}{msg_final}{colors[\"reset\"]}')\n",
    "\n",
    "def adicionar_item(compras, nome_item, quantidade):\n",
    "    compras[nome_item] = quantidade\n",
    "\n",
    "def remover_item(compras, nome_item):\n",
    "    if nome_item in compras:\n",
    "        del compras[nome_item]\n",
    "    else:\n",
    "        # print(f'Item {nome_item} não presente na lista!')\n",
    "        message_centralized(f'Item {nome_item} não está presente na lista!', 60, \"vermelho\")\n",
    "\n",
    "def visualizar_compras(compras):\n",
    "    for item, quantity in compras.items():\n",
    "        print(f\"{item}: {quantity}\")\n",
    "    print()\n",
    "    print(\"Pressione enter para continuar...\")\n",
    "    input()\n",
    "\n",
    "def salvar_compras(compras, nome_arquivo):\n",
    "    caminho_arquivo_compras = caminho_listas_compras / f\"{nome_arquivo}_{dia}_{mes}_{ano}.json\"\n",
    "    with open(caminho_arquivo_compras, \"w\", encoding=\"utf-8\") as arquivo:\n",
    "        # dump -> \"jogar\" as informações presentes no dicionario compras\n",
    "        # para dentro do arquivo compras.json\n",
    "        json.dump(compras, arquivo, ensure_ascii=False)\n",
    "\n",
    "def visualizar_listas_compras(caminho_listas_compras):\n",
    "    arquivos_json_lista_compras = Path('listas_compras_mensais/').iterdir()\n",
    "    print('Listas de compras: ')\n",
    "    for i, arquivo in enumerate(arquivos_json_lista_compras):\n",
    "        return f\"{i+1} - {arquivo}\"\n",
    "\n",
    "def carregar_compras(nome_arquivo):\n",
    "    with open(nome_arquivo, \"r\") as arquivo:\n",
    "        return json.load(arquivo)\n",
    "\n",
    "def gerenciar_compras(compras):\n",
    "    pass\n",
    "\n",
    "def main():\n",
    "    pass"
   ]
  },
  {
   "cell_type": "code",
   "execution_count": null,
   "id": "bcac2d5a",
   "metadata": {},
   "outputs": [
    {
     "name": "stdout",
     "output_type": "stream",
     "text": [
      "listas_compras_mensais/lista_compras_28_2_2025.json\n"
     ]
    }
   ],
   "source": [
    "# for arquivo in arquivos_json_lista_compras:\n",
    "#     print(arquivo)"
   ]
  },
  {
   "cell_type": "code",
   "execution_count": 16,
   "id": "1026e391",
   "metadata": {},
   "outputs": [],
   "source": [
    "adicionar_item(compras, \"arroz\", 2)\n",
    "adicionar_item(compras, \"feijão\", 3)"
   ]
  },
  {
   "cell_type": "code",
   "execution_count": 17,
   "id": "564bc5bf",
   "metadata": {},
   "outputs": [
    {
     "name": "stdout",
     "output_type": "stream",
     "text": [
      "arroz: 2\n",
      "feijão: 3\n",
      "\n",
      "Pressione enter para continuar...\n"
     ]
    }
   ],
   "source": [
    "visualizar_compras(compras)"
   ]
  },
  {
   "cell_type": "code",
   "execution_count": 27,
   "id": "2235f23a",
   "metadata": {},
   "outputs": [
    {
     "name": "stdout",
     "output_type": "stream",
     "text": [
      "Listas de compras: \n"
     ]
    },
    {
     "data": {
      "text/plain": [
       "'1 - listas_compras_mensais/lista_compras_28_2_2025.json'"
      ]
     },
     "execution_count": 27,
     "metadata": {},
     "output_type": "execute_result"
    }
   ],
   "source": [
    "visualizar_listas_compras(arquivos_json_lista_compras)"
   ]
  },
  {
   "cell_type": "code",
   "execution_count": 5,
   "id": "24c379a5",
   "metadata": {},
   "outputs": [],
   "source": [
    "salvar_compras(compras, \"lista_compras\")"
   ]
  }
 ],
 "metadata": {
  "kernelspec": {
   "display_name": "venv",
   "language": "python",
   "name": "python3"
  },
  "language_info": {
   "codemirror_mode": {
    "name": "ipython",
    "version": 3
   },
   "file_extension": ".py",
   "mimetype": "text/x-python",
   "name": "python",
   "nbconvert_exporter": "python",
   "pygments_lexer": "ipython3",
   "version": "3.12.5"
  }
 },
 "nbformat": 4,
 "nbformat_minor": 5
}
