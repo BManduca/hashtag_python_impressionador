{
 "cells": [
  {
   "cell_type": "markdown",
   "metadata": {},
   "source": [
    "# List Comprehension com if para escolher o resultado final\n",
    "\n",
    "### Estrutura:"
   ]
  },
  {
   "cell_type": "raw",
   "metadata": {},
   "source": [
    "lista = [item if condicao else outro_resultado for item in iterable]"
   ]
  },
  {
   "cell_type": "markdown",
   "metadata": {},
   "source": [
    "- Digamos que eu esteja analisando os vendedores de uma loja e queira criar uma lista para enviar para o RH com o bônus de cada vendedor.\n",
    "- O bônus é dado por 10% do valor de vendas dele, caso ele tenha batido a meta"
   ]
  },
  {
   "cell_type": "code",
   "execution_count": 10,
   "metadata": {},
   "outputs": [],
   "source": [
    "vendedores_dic = {'Maria': 1200, 'José': 300, 'Antônio': 800, 'João': 1500, 'Francisco': 1900, 'Ana': 2750, 'Luiz': 400, 'Paulo': 20, 'Carlos': 23, 'Manoel': 70, 'Pedro': 90, 'Francisca': 80, 'Marcos': 1100, 'Raimundo': 999, 'Sebastião': 900, 'Antônia': 880, 'Marcelo': 870, 'Jorge': 50, 'Márcia': 1111, 'Geraldo': 120, 'Adriana': 300, 'Sandra': 450, 'Luis': 800}\n",
    "meta = 1000"
   ]
  },
  {
   "cell_type": "markdown",
   "metadata": {},
   "source": [
    "- Fazendo por for"
   ]
  },
  {
   "cell_type": "code",
   "execution_count": 14,
   "metadata": {},
   "outputs": [
    {
     "name": "stdout",
     "output_type": "stream",
     "text": [
      "[('Maria', 120.0), ('José', 0), ('Antônio', 0), ('João', 150.0), ('Francisco', 190.0), ('Ana', 275.0), ('Luiz', 0), ('Paulo', 0), ('Carlos', 0), ('Manoel', 0), ('Pedro', 0), ('Francisca', 0), ('Marcos', 110.0), ('Raimundo', 0), ('Sebastião', 0), ('Antônia', 0), ('Marcelo', 0), ('Jorge', 0), ('Márcia', 111.10000000000001), ('Geraldo', 0), ('Adriana', 0), ('Sandra', 0), ('Luis', 0)]\n"
     ]
    }
   ],
   "source": [
    "lista_vendedores = []\n",
    "lista_bonus_vendedores = []\n",
    "\n",
    "# for item in vendedores_dic:\n",
    "#     lista_vendedores.append(item)\n",
    "#     if vendedores_dic[item] >= meta:\n",
    "#         lista_bonus_vendedores.append(vendedores_dic[item] * 0.1)\n",
    "#     else:\n",
    "#         lista_bonus_vendedores.append(0)\n",
    "\n",
    "\n",
    "for vendedor, venda in vendedores_dic.items():\n",
    "    if venda >= meta:\n",
    "        bonus_vendedor = venda * 0.1\n",
    "    else:\n",
    "        bonus_vendedor = 0\n",
    "    lista_vendedores.append(vendedor)\n",
    "    lista_bonus_vendedores.append(bonus_vendedor)\n",
    "\n",
    "lista_final_vendedores_bonus = list(zip(lista_vendedores, lista_bonus_vendedores))\n",
    "\n",
    "print(lista_final_vendedores_bonus)"
   ]
  },
  {
   "cell_type": "markdown",
   "metadata": {},
   "source": [
    "- Fazendo por List Comprehension"
   ]
  },
  {
   "cell_type": "code",
   "execution_count": null,
   "metadata": {},
   "outputs": [
    {
     "name": "stdout",
     "output_type": "stream",
     "text": [
      "[('Maria', 120.0), ('José', 0), ('Antônio', 0), ('João', 150.0), ('Francisco', 190.0), ('Ana', 275.0), ('Luiz', 0), ('Paulo', 0), ('Carlos', 0), ('Manoel', 0), ('Pedro', 0), ('Francisca', 0), ('Marcos', 110.0), ('Raimundo', 0), ('Sebastião', 0), ('Antônia', 0), ('Marcelo', 0), ('Jorge', 0), ('Márcia', 111.10000000000001), ('Geraldo', 0), ('Adriana', 0), ('Sandra', 0), ('Luis', 0)]\n"
     ]
    }
   ],
   "source": [
    "lista_vendedores = [vendedor for vendedor, venda in vendedores_dic.items()]\n",
    "\n",
    "# 1˚ alternativa\n",
    "lista_bonus_vendedores = [venda * 0.1 if venda >= meta else 0 for vendedor, venda in vendedores_dic.items()]\n",
    "\n",
    "# 2˚ alternativa\n",
    "# lista_bonus_vendedores = [vendedores_dic[item] * 0.1 if vendedores_dic[item] >= meta else 0 for item in vendedores_dic]\n",
    "\n",
    "lista_vendedores_bonus = list(zip(lista_vendedores, lista_bonus_vendedores))\n",
    "print(lista_vendedores_bonus)"
   ]
  }
 ],
 "metadata": {
  "kernelspec": {
   "display_name": "venv",
   "language": "python",
   "name": "python3"
  },
  "language_info": {
   "codemirror_mode": {
    "name": "ipython",
    "version": 3
   },
   "file_extension": ".py",
   "mimetype": "text/x-python",
   "name": "python",
   "nbconvert_exporter": "python",
   "pygments_lexer": "ipython3",
   "version": "3.12.5"
  }
 },
 "nbformat": 4,
 "nbformat_minor": 4
}
