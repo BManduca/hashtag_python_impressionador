{
 "cells": [
  {
   "cell_type": "markdown",
   "metadata": {},
   "source": [
    "# Mais de 1 argumento e formas de passar argumento para uma função\n",
    "\n",
    "### Estrutura:\n",
    "\n",
    "- 2 formas de passar o argumento:\n",
    "    1. Em ordem (positional argument)\n",
    "    2. Com o nome do argumento (keyword argument)"
   ]
  },
  {
   "cell_type": "markdown",
   "metadata": {},
   "source": [
    "- Vamos mudar a função que fizemos na aula passada para conseguir categorizar qualquer tipo de bebida de acordo com o \"rótulo\" passado para a nsosa function. Basicamente nossa function agora tem que verificar se o produto é da categoria passada ou não."
   ]
  },
  {
   "cell_type": "code",
   "execution_count": 3,
   "metadata": {},
   "outputs": [
    {
     "name": "stdout",
     "output_type": "stream",
     "text": [
      "Bebida BSA45510 => Setor: bebidas não alcóolicas\n",
      "Bebida BEB21365 => Setor: bebidas alcóolicas\n",
      "Bebida BEB31623 => Setor: bebidas alcóolicas\n",
      "Bebida BSA62419 => Setor: bebidas não alcóolicas\n",
      "Bebida BEB73344 => Setor: bebidas alcóolicas\n",
      "Bebida BEB80694 => Setor: bebidas alcóolicas\n",
      "Bebida BSA11769 => Setor: bebidas não alcóolicas\n",
      "Bebida BEB19495 => Setor: bebidas alcóolicas\n",
      "Bebida BSA33484 => Setor: bebidas não alcóolicas\n",
      "Bebida BEB97471 => Setor: bebidas alcóolicas\n",
      "Bebida BEB62362 => Setor: bebidas alcóolicas\n",
      "Bebida BEB85146 => Setor: bebidas alcóolicas\n",
      "Bebida BEB48898 => Setor: bebidas alcóolicas\n",
      "Bebida BEB79496 => Setor: bebidas alcóolicas\n",
      "Bebida BSA59251 => Setor: bebidas não alcóolicas\n",
      "Bebida BEB15385 => Setor: bebidas alcóolicas\n",
      "Bebida BEB24213 => Setor: bebidas alcóolicas\n",
      "Bebida BEB56262 => Setor: bebidas alcóolicas\n",
      "Bebida BSA96915 => Setor: bebidas não alcóolicas\n",
      "Bebida BEB75073 => Setor: bebidas alcóolicas\n"
     ]
    }
   ],
   "source": [
    "def verificar_categoria(bebida, cod_categoria):\n",
    "    bebida = bebida.upper()\n",
    "    if cod_categoria in bebida:\n",
    "        return True\n",
    "    else:\n",
    "        return False\n",
    "\n",
    "\n",
    "produtos = ['CAR46275','TFA23962','TFA64715','TFA69555','TFA56743','BSA45510','TFA44968','CAR75448','CAR23596','CAR13490','BEB21365','BEB31623','BSA62419','BEB73344','TFA20079','BEB80694','BSA11769','BEB19495','TFA14792','TFA78043','BSA33484','BEB97471','BEB62362','TFA27311','TFA17715','BEB85146','BEB48898','BEB79496','CAR38417','TFA19947','TFA58799','CAR94811','BSA59251','BEB15385','BEB24213','BEB56262','BSA96915','CAR53454','BEB75073']\n",
    "\n",
    "for produto in produtos:\n",
    "    if verificar_categoria(produto, 'BEB'):\n",
    "        print('Bebida {} => Setor: bebidas alcóolicas'.format(produto))\n",
    "    elif verificar_categoria(produto, 'BSA'):\n",
    "        print('Bebida {} => Setor: bebidas não alcóolicas'.format(produto))\n"
   ]
  },
  {
   "cell_type": "code",
   "execution_count": 4,
   "metadata": {},
   "outputs": [
    {
     "name": "stdout",
     "output_type": "stream",
     "text": [
      "Quantidade total de produtos: 39\n",
      "texto2\n",
      "texto3\n"
     ]
    }
   ],
   "source": [
    "qtde_produtos = len(produtos)\n",
    "print(f'Quantidade total de produtos: {qtde_produtos}', 'texto2', 'texto3', sep='\\n')"
   ]
  },
  {
   "cell_type": "markdown",
   "metadata": {},
   "source": [
    "## Obs Importante: Sua função deve estar SEMPRE antes de ser usada.\n",
    "\n",
    "- Normalmente, nos nossos códigos, fazemos as definições de todas as funções antes e depois construimos o resto do código.\n",
    "- É comum dar '2 enters' após a definição da função para deixar o código mais organizado\n"
   ]
  }
 ],
 "metadata": {
  "kernelspec": {
   "display_name": "venv",
   "language": "python",
   "name": "python3"
  },
  "language_info": {
   "codemirror_mode": {
    "name": "ipython",
    "version": 3
   },
   "file_extension": ".py",
   "mimetype": "text/x-python",
   "name": "python",
   "nbconvert_exporter": "python",
   "pygments_lexer": "ipython3",
   "version": "3.12.5"
  }
 },
 "nbformat": 4,
 "nbformat_minor": 4
}
