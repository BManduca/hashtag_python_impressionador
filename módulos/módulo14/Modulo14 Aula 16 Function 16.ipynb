{
 "cells": [
  {
   "cell_type": "markdown",
   "metadata": {},
   "source": [
    "# Quantidade Indefinidas de Argumentos\n",
    "\n",
    "### Utilidade:\n",
    "\n",
    "Quando você quer permitir uma quantidade indefinida de argumentos, usa o * para isso.\n",
    "\n",
    "### Estrutura:"
   ]
  },
  {
   "cell_type": "raw",
   "metadata": {},
   "source": [
    "*args para positional arguments -> argumentos vêm em formato de tupla\n",
    "\n",
    "def minha_funcao(*args):\n",
    "    ...\n",
    "\n",
    "\n",
    "**kwargs para keyword arguments -> argumentos vêm em formato de dicionário\n",
    "\n",
    "def minha_funcao(**kwargs):\n",
    "    ..."
   ]
  },
  {
   "cell_type": "code",
   "execution_count": null,
   "metadata": {},
   "outputs": [],
   "source": [
    "def minha_soma(*numeros):\n",
    "    # ao utilizar o *args, faremos o passo contrario do unpacking, ou seja, pega os elementos separados e transforma em uma tupla\n",
    "    print(numeros)\n",
    "    soma = 0\n",
    "    for numero in numeros:\n",
    "        soma += numero\n",
    "    return soma"
   ]
  },
  {
   "cell_type": "code",
   "execution_count": 2,
   "metadata": {},
   "outputs": [
    {
     "name": "stdout",
     "output_type": "stream",
     "text": [
      "(10, 4, 3, 16, 90)\n",
      "123\n"
     ]
    }
   ],
   "source": [
    "print(minha_soma(10, 4, 3, 16, 90))"
   ]
  },
  {
   "cell_type": "code",
   "execution_count": 6,
   "metadata": {},
   "outputs": [],
   "source": [
    "def preco_final(preco, **adicionais):\n",
    "    print(adicionais)\n",
    "    if 'desconto' in adicionais:\n",
    "        preco *= (1 - adicionais['desconto'])\n",
    "    if 'garantia_extra' in adicionais:\n",
    "        preco += adicionais['garantia_extra'] \n",
    "    if 'imposto' in adicionais:\n",
    "        preco *= (1 + adicionais['imposto'])\n",
    "    return preco"
   ]
  },
  {
   "cell_type": "code",
   "execution_count": 8,
   "metadata": {},
   "outputs": [
    {
     "name": "stdout",
     "output_type": "stream",
     "text": [
      "{'desconto': 0.1, 'garantia_extra': 150, 'imposto': 0.3}\n",
      "1365.0\n"
     ]
    }
   ],
   "source": [
    "print(preco_final(1000, desconto=0.1, garantia_extra = 150, imposto = 0.3))"
   ]
  }
 ],
 "metadata": {
  "kernelspec": {
   "display_name": "venv",
   "language": "python",
   "name": "python3"
  },
  "language_info": {
   "codemirror_mode": {
    "name": "ipython",
    "version": 3
   },
   "file_extension": ".py",
   "mimetype": "text/x-python",
   "name": "python",
   "nbconvert_exporter": "python",
   "pygments_lexer": "ipython3",
   "version": "3.12.5"
  }
 },
 "nbformat": 4,
 "nbformat_minor": 4
}
