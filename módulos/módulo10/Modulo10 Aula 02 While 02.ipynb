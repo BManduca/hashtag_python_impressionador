{
 "cells": [
  {
   "cell_type": "markdown",
   "metadata": {},
   "source": [
    "# Cuidado com o while -> Loop Infinito\n",
    "\n",
    "Sempre que for usar o comando while, lembre-se de ter certeza que o programa vai terminar em algum momento\n",
    "\n",
    "### Exemplo\n",
    "\n",
    "Digamos que temos uma lista de vendedores e as quantidades vendidas e queremos identificar todos os vendedores que bateram a meta de 50 vendas."
   ]
  },
  {
   "cell_type": "code",
   "execution_count": 2,
   "metadata": {},
   "outputs": [
    {
     "name": "stdout",
     "output_type": "stream",
     "text": [
      "Maria bateu a meta! Vendas: 941 unidades\n",
      "José bateu a meta! Vendas: 852 unidades\n",
      "Antônio bateu a meta! Vendas: 783 unidades\n",
      "João bateu a meta! Vendas: 714 unidades\n",
      "Francisco bateu a meta! Vendas: 697 unidades\n",
      "Ana bateu a meta! Vendas: 686 unidades\n",
      "Luiz bateu a meta! Vendas: 685 unidades\n",
      "Paulo bateu a meta! Vendas: 670 unidades\n",
      "Carlos bateu a meta! Vendas: 631 unidades\n",
      "Manoel bateu a meta! Vendas: 453 unidades\n",
      "Pedro bateu a meta! Vendas: 386 unidades\n",
      "Francisca bateu a meta! Vendas: 371 unidades\n",
      "Marcos bateu a meta! Vendas: 294 unidades\n",
      "Raimundo bateu a meta! Vendas: 269 unidades\n",
      "Sebastião bateu a meta! Vendas: 259 unidades\n",
      "Antônia bateu a meta! Vendas: 218 unidades\n",
      "Marcelo bateu a meta! Vendas: 208 unidades\n",
      "Jorge bateu a meta! Vendas: 163 unidades\n",
      "Márcia bateu a meta! Vendas: 125 unidades\n",
      "Geraldo bateu a meta! Vendas: 102 unidades\n",
      "Adriana bateu a meta! Vendas: 87 unidades\n"
     ]
    }
   ],
   "source": [
    "vendas = [941, 852, 783, 714, 697, 686, 685, 670, 631, 453, 386, 371, 294, 269, 259, 218, 208, 163, 125, 102, 87, 47, 7]\n",
    "vendedores = ['Maria', 'José', 'Antônio', 'João', 'Francisco', 'Ana', 'Luiz', 'Paulo', 'Carlos', 'Manoel', 'Pedro', 'Francisca', 'Marcos', 'Raimundo', 'Sebastião', 'Antônia', 'Marcelo', 'Jorge', 'Márcia', 'Geraldo', 'Adriana', 'Sandra', 'Luis']\n",
    "meta = 50\n",
    "\n",
    "ind = 0\n",
    "\n",
    "while vendas[ind] > meta:\n",
    "    print(f'{vendedores[ind]} bateu a meta! Vendas: {vendas[ind]} unidades')\n",
    "    ind += 1\n"
   ]
  }
 ],
 "metadata": {
  "kernelspec": {
   "display_name": "venv",
   "language": "python",
   "name": "python3"
  },
  "language_info": {
   "codemirror_mode": {
    "name": "ipython",
    "version": 3
   },
   "file_extension": ".py",
   "mimetype": "text/x-python",
   "name": "python",
   "nbconvert_exporter": "python",
   "pygments_lexer": "ipython3",
   "version": "3.12.5"
  }
 },
 "nbformat": 4,
 "nbformat_minor": 4
}
