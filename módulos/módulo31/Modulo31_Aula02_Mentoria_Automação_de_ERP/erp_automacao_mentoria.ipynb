{
 "cells": [
  {
   "cell_type": "markdown",
   "id": "1c47388e",
   "metadata": {},
   "source": [
    "## Automação ERP"
   ]
  },
  {
   "cell_type": "code",
   "execution_count": null,
   "id": "2a3930da",
   "metadata": {},
   "outputs": [],
   "source": [
    "'''\n",
    "    1. Abrir o ERP (Fakturama)\n",
    "    2. Clicar no menu New\n",
    "    3. Clicar em 'New Product'\n",
    "    4. Preencher os campos\n",
    "    5. Selecionar imagem\n",
    "    6. clicar em salvar\n",
    "'''\n",
    "\n",
    "import time\n",
    "import subprocess\n",
    "import pyautogui\n",
    "\n",
    "# CONFIGURAÇÕES INICIAIS\n",
    "pyautogui.PAUSE = 2 # tempo de 2s entre cada ação\n",
    "\n",
    "def log(msg, tipo=\"info\"):\n",
    "    emoji={\"info\": \"ℹ️\", \"success\": \"✅\", \"error\": \"❌\", \"warn\": \"⚠️\", \"wait\": \"⏳\"}.get(tipo, \"\")\n",
    "    print(f\"{emoji} {msg}\")\n",
    "\n",
    "def open_application():\n",
    "    ''' ACESSANDO APLICAÇÃO FAKTURAMA2 '''\n",
    "    process = subprocess.Popen([r\"/Applications/Fakturama2.app/Contents/MacOS/Fakturama\"])\n",
    "    time.sleep(4)\n",
    "\n",
    "def wait_open_application(imagem, timeout=10):\n",
    "    start_time_verification = time.time()\n",
    "    while time.time() - start_time_verification < timeout:\n",
    "        if pyautogui.locateOnScreen(imagem, grayscale=True, confidence=0.8):\n",
    "            log(\"Software acessado com sucesso!\\n\", \"sucess\")\n",
    "            return True\n",
    "        time.sleep(2)\n",
    "    log(\"Tempo de espera limite alcançado! O Sftware não foi inicializado...\", \"error\")\n",
    "    return False\n",
    "\n",
    "# programa principal\n",
    "if __name__ == \"__main__\":\n",
    "    # abrindo o sistema ERP (fakturama)\n",
    "    open_application()\n",
    "    time.sleep(2)\n",
    "    wait_open_application('assets/logo_fakturama.png')"
   ]
  }
 ],
 "metadata": {
  "kernelspec": {
   "display_name": "venv",
   "language": "python",
   "name": "python3"
  },
  "language_info": {
   "codemirror_mode": {
    "name": "ipython",
    "version": 3
   },
   "file_extension": ".py",
   "mimetype": "text/x-python",
   "name": "python",
   "nbconvert_exporter": "python",
   "pygments_lexer": "ipython3",
   "version": "3.12.5"
  }
 },
 "nbformat": 4,
 "nbformat_minor": 5
}
