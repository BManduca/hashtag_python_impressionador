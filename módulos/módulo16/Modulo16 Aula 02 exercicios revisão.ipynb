{
 "cells": [
  {
   "cell_type": "markdown",
   "metadata": {},
   "source": [
    "# Exercícios Python"
   ]
  },
  {
   "cell_type": "markdown",
   "metadata": {},
   "source": [
    "### Sua empresa resolveu pagar uma bonificação de R$1.000 para todos os funcionários com mais de 20 anos de casa. Quanto vai custar a ação de bonificação para a sua empresa?"
   ]
  },
  {
   "cell_type": "code",
   "execution_count": 5,
   "metadata": {},
   "outputs": [
    {
     "name": "stdout",
     "output_type": "stream",
     "text": [
      "A ação de bonificação da empresa resultou em R$ 6,000.00\n"
     ]
    }
   ],
   "source": [
    "anos_casa_funcionarios = [10, 15, 20, 25, 30, 47, 2, 5, 5, 6, 18, 32, 10, 1, 1, 2, 3, 3, 2, 1, 10, 40, 21, 10, 1, 2, 5, 7, 7, 6, 9, 19]\n",
    "\n",
    "# seu código aqui\n",
    "\n",
    "bonificacao = 0\n",
    "somatorio = 0\n",
    "\n",
    "for ano in anos_casa_funcionarios:\n",
    "    if ano > 20:\n",
    "        bonificacao += 1000\n",
    "        somatorio += 1\n",
    "\n",
    "print(f'A ação de bonificação da empresa resultou em R$ {bonificacao:,.2f}')"
   ]
  },
  {
   "cell_type": "markdown",
   "metadata": {},
   "source": [
    "### Desenvolva um programa que armazene quatro notas em uma lista e que apresente: a média final, a maior nota e a menor nota\n"
   ]
  },
  {
   "cell_type": "code",
   "execution_count": 9,
   "metadata": {},
   "outputs": [
    {
     "name": "stdout",
     "output_type": "stream",
     "text": [
      "Média final: 6.28\n",
      "Maior nota: 7.06\n",
      "Menor nota: 4.5\n"
     ]
    }
   ],
   "source": [
    "# seu código aqui\n",
    "\n",
    "notas = []\n",
    "\n",
    "for i in range(4):\n",
    "    nota = float(input(f'Informe a nota[{i+1}]: '))\n",
    "    notas.append(nota)\n",
    "\n",
    "media = sum(notas) / len(notas)\n",
    "maior_nota = max(notas)\n",
    "menor_nota = min(notas)\n",
    "\n",
    "print(f'Média final: {media:.2f}\\nMaior nota: {maior_nota}\\nMenor nota: {menor_nota}')"
   ]
  },
  {
   "cell_type": "markdown",
   "metadata": {},
   "source": [
    "### Desenvolva um programa que armazene quatro notas em uma lista e que apresente a média final. Caso a média seja igual ou superior a 7, apresentar a mensagem \"APROVADO\", caso contrário, armazenar a nota da prova final e recalcular a média (nova média = (antiga média + prova final) / 2). Caso a nova média seja igual superior a 5, apresentar a mensagem \"APROVADO\", caso contrário, apresentar a mensagem \"REPROVADO\""
   ]
  },
  {
   "cell_type": "code",
   "execution_count": 8,
   "metadata": {},
   "outputs": [
    {
     "name": "stdout",
     "output_type": "stream",
     "text": [
      "Média = 7.62\n",
      "Status = APROVADO\n"
     ]
    }
   ],
   "source": [
    "# seu código aqui\n",
    "\n",
    "notas = []\n",
    "\n",
    "for i in range(4):\n",
    "    nota = float(input(f'Informe a {i+1}˚ nota: '))\n",
    "    notas.append(nota)\n",
    "\n",
    "media = sum(notas) / len(notas)\n",
    "\n",
    "if media >= 7:\n",
    "    print(f'Média = {media:.2f}\\nStatus = APROVADO')\n",
    "else:\n",
    "    prova_final = float(input('Informe a nota da prova final: '))\n",
    "    nova_media = (media + prova_final) / 2\n",
    "\n",
    "    if nova_media >= 5:\n",
    "        print(f'Média = {nova_media:.2f}\\nStatus = APROVADO')\n",
    "    else:\n",
    "        print(f'Média = {nova_media:.2f}\\nStatus = REPROVADO')"
   ]
  },
  {
   "cell_type": "markdown",
   "metadata": {},
   "source": [
    "### Desenvolva um programa que pergunte para o usuário o nome completo, cpf, endereço e duração do contrato e personalize todo o texto do contrato de acordo com as informações dadas.\n"
   ]
  },
  {
   "cell_type": "code",
   "execution_count": 10,
   "metadata": {},
   "outputs": [],
   "source": [
    "texto_contrato = \"\"\"\n",
    "CONTRATO DE PRESTAÇÃO DE SERVIÇOS PROFISSIONAIS\n",
    "\n",
    "\t\tPelo presente instrumento particular de Contrato de Prestação de Serviços Contábeis, \n",
    "        de um lado NOME_CONTRATANTE inscrita no CPF, sob nº CPF_CONTRATANTE, \n",
    "        doravante denominada CONTRATANTE, residente e domiciliado(a)  à RUA_CONTRATANTE, \n",
    "        Cidade CIDADE_CONTRATANTE, Estado ESTADO_CONTRATANTE, e o Contabilista Fulano, \n",
    "        com escritório à Qualquer Lugar, Cidade Rio de Janeiro Estado RJ , inscrito no CNPJ Nº 22222222000100, \n",
    "        doravante CONTRATADO(A), mediante as cláusulas e condições seguintes, tem justo e “Contratado” o que se segue:\n",
    "\n",
    "CLAUSULA PRIMEIRA - A contratante neste ato, contrata os serviços profissionais do contratado(a) nas seguintes àreas:\n",
    "\t\t\n",
    "1. Escrituração Contábil.\n",
    "1.1 - Classificação da contabilidade de acordo com  normas e princípios contábeis vigentes;\n",
    "1.2 - Emissão de Balancetes:\n",
    "1.3 - Elaboração de Balanço anual e Demonstrativo de Resultado.\n",
    "\t\t\n",
    "E por estarem de comum acordo, assinam o presente instrumento em duas vias, de igual teor e forma, na presença das testemunhas abaixo.\n",
    "\n",
    "\n",
    "DIA_DATA/MES_DATA/ANO_DATA.\n",
    "\n",
    "\n",
    "_________________________________                      __________________________\n",
    "    Contratante - NOME_CONTRATANTE                                     Contratado(a)\n",
    "\n",
    "\n",
    "\"\"\""
   ]
  },
  {
   "cell_type": "code",
   "execution_count": 11,
   "metadata": {},
   "outputs": [
    {
     "name": "stdout",
     "output_type": "stream",
     "text": [
      "\n",
      "CONTRATO DE PRESTAÇÃO DE SERVIÇOS PROFISSIONAIS\n",
      "\n",
      "\t\tPelo presente instrumento particular de Contrato de Prestação de Serviços Contábeis, \n",
      "        de um lado Brunno Manduca do Prado inscrita no CPF, sob nº 08354047903, \n",
      "        doravante denominada CONTRATANTE, residente e domiciliado(a)  à Servidão Anna Luiza da Conceição, número 255, \n",
      "        Cidade Florianópolis, Estado Santa Catarina, e o Contabilista Fulano, \n",
      "        com escritório à Qualquer Lugar, Cidade Rio de Janeiro Estado RJ , inscrito no CNPJ Nº 22222222000100, \n",
      "        doravante CONTRATADO(A), mediante as cláusulas e condições seguintes, tem justo e “Contratado” o que se segue:\n",
      "\n",
      "CLAUSULA PRIMEIRA - A contratante neste ato, contrata os serviços profissionais do contratado(a) nas seguintes àreas:\n",
      "\t\t\n",
      "1. Escrituração Contábil.\n",
      "1.1 - Classificação da contabilidade de acordo com  normas e princípios contábeis vigentes;\n",
      "1.2 - Emissão de Balancetes:\n",
      "1.3 - Elaboração de Balanço anual e Demonstrativo de Resultado.\n",
      "\t\t\n",
      "E por estarem de comum acordo, assinam o presente instrumento em duas vias, de igual teor e forma, na presença das testemunhas abaixo.\n",
      "\n",
      "\n",
      "11/11/2024.\n",
      "\n",
      "\n",
      "_________________________________                      __________________________\n",
      "    Contratante - Brunno Manduca do Prado                                     Contratado(a)\n",
      "\n",
      "\n",
      "\n"
     ]
    }
   ],
   "source": [
    "# seu código aqui\n",
    "nome_contratante = input('Informe o nome completo do contratante: ')\n",
    "cpf_contratante = input('Informe o cpf do contratante: ')\n",
    "rua_contratante = input('Informe a rua do contratante: ')\n",
    "cidade_contratante = input('Informe a cidade do contratante: ')\n",
    "estado_contratante = input('Informe o estado do contratante: ')\n",
    "data_contrato = input('Informe a data do contrato (DD/MM/AAA): ')\n",
    "\n",
    "dia_contrato = data_contrato[0:2]\n",
    "mes_contrato = data_contrato[3:5]\n",
    "ano_contrato = data_contrato[6:]\n",
    "\n",
    "texto_contrato = texto_contrato.replace('NOME_CONTRATANTE', nome_contratante)\n",
    "texto_contrato = texto_contrato.replace('CPF_CONTRATANTE', cpf_contratante)\n",
    "texto_contrato = texto_contrato.replace('RUA_CONTRATANTE', rua_contratante)\n",
    "texto_contrato = texto_contrato.replace('CIDADE_CONTRATANTE', cidade_contratante)\n",
    "texto_contrato = texto_contrato.replace('ESTADO_CONTRATANTE', estado_contratante)\n",
    "texto_contrato = texto_contrato.replace('DIA_DATA', dia_contrato)\n",
    "texto_contrato = texto_contrato.replace('MES_DATA', mes_contrato)\n",
    "texto_contrato = texto_contrato.replace('ANO_DATA', ano_contrato)\n",
    "\n",
    "\n",
    "print(texto_contrato)\n"
   ]
  },
  {
   "cell_type": "markdown",
   "metadata": {},
   "source": [
    "### Crie um programa que converta a temperatura de celsius para Faremheit\n",
    "    - Agora adapte o programa para ele funcionar para uma lista de temperaturas\n",
    "    - Agora adapte o programa para ele conseguir fazer a conversão tanto de C para F quanto de F para C de acordo com a escolha do usuário."
   ]
  },
  {
   "cell_type": "code",
   "execution_count": 14,
   "metadata": {},
   "outputs": [
    {
     "name": "stdout",
     "output_type": "stream",
     "text": [
      "Graus celsius: 29.5˚C\n",
      "Graus Farenheit: 85.1˚F\n"
     ]
    }
   ],
   "source": [
    "# Parte 1\n",
    "# seu código aqui - Crie um programa que converta a temperatura de celsius para Faremheit\n",
    "\n",
    "def conversor(graus_celsius):\n",
    "    graus_farenheit = (graus_celsius * 9/5) + 32\n",
    "    return graus_farenheit\n",
    "\n",
    "graus_celsius = float(input('Informe a temperatura em graus celsius: '))\n",
    "\n",
    "print(f'Graus celsius: {graus_celsius}˚C\\nGraus Farenheit: {conversor(graus_celsius)}˚F')\n"
   ]
  },
  {
   "cell_type": "code",
   "execution_count": 20,
   "metadata": {},
   "outputs": [
    {
     "name": "stdout",
     "output_type": "stream",
     "text": [
      "Graus celsius: 29.5˚C => Graus Farenheit: 85.10˚F\n",
      "Graus celsius: 0.0˚C => Graus Farenheit: 32.00˚F\n",
      "Graus celsius: 12.7˚C => Graus Farenheit: 54.86˚F\n",
      "Graus celsius: 34.0˚C => Graus Farenheit: 93.20˚F\n",
      "Graus celsius: 2.0˚C => Graus Farenheit: 35.60˚F\n",
      "Graus celsius: 0.0˚C => Graus Farenheit: 32.00˚F\n"
     ]
    }
   ],
   "source": [
    "# Parte 2\n",
    "# seu código aqui - Agora adapte o programa para ele funcionar para uma lista de temperaturas\n",
    "\n",
    "def conversor(graus_celsius):\n",
    "    graus_farenheit = (graus_celsius * 9/5) + 32\n",
    "    return graus_farenheit\n",
    "\n",
    "while True:\n",
    "    temperatura = input('Informe a temperatura em graus celsius ou deixe em branco para pausar: ')\n",
    "    if temperatura == '':\n",
    "        break\n",
    "\n",
    "    graus_celsius = float(temperatura)\n",
    "    graus_farenheit = conversor(graus_celsius)\n",
    "    print(f'Graus celsius: {graus_celsius}˚C => Graus Farenheit: {graus_farenheit:.2f}˚F')\n"
   ]
  },
  {
   "cell_type": "code",
   "execution_count": 25,
   "metadata": {},
   "outputs": [
    {
     "name": "stdout",
     "output_type": "stream",
     "text": [
      "|----------Menu----------|\n",
      "C - Converter ˚C para ˚F\n",
      "F - Converter ˚F para ˚C\n",
      "\n",
      "Temperatura em ˚F: 85.1 | Temperatura ˚C: 29.5\n",
      "\n",
      "Temperatura em ˚C: 29.5 | Temperatura ˚F: 85.1\n",
      "\n",
      "Temperatura em ˚C: 34.5 | Temperatura ˚F: 94.1\n",
      "\n",
      "Temperatura em ˚F: 94.1 | Temperatura ˚C: 34.5\n",
      "\n",
      "Temperatura em ˚C: 0.0 | Temperatura ˚F: 32.0\n",
      "\n",
      "Temperatura em ˚F: 32.0 | Temperatura ˚C: 0.0\n"
     ]
    }
   ],
   "source": [
    "# Parte 3\n",
    "# seu código aqui - Agora adapte o programa para ele conseguir fazer a conversão tanto de C para F quanto de F para C de acordo com a escolha do usuário.\n",
    "\n",
    "def conversor(temperatura, opcao):\n",
    "    if opcao == 'F':\n",
    "        graus_celsius = (temperatura - 32) * 5/9\n",
    "        return graus_celsius\n",
    "    else:\n",
    "        graus_farenheit = (temperatura * 9/5) + 32\n",
    "        return graus_farenheit\n",
    "\n",
    "print('|----------Menu----------|')\n",
    "print('C - Converter ˚C para ˚F')\n",
    "print('F - Converter ˚F para ˚C')\n",
    "\n",
    "\n",
    "while True:\n",
    "    opcao = input('Informe qual unidade de medida será utilizado(˚C - Celsius | ˚F - Farenheit): ').upper()\n",
    "\n",
    "    if opcao == 'C':\n",
    "        medida_final = 'F'\n",
    "    else:\n",
    "        medida_final = 'C'\n",
    "\n",
    "    temperatura = input('Informe a temperatura ou deixe em branco para encerrar: ')\n",
    "\n",
    "    if temperatura == '':\n",
    "        break\n",
    "\n",
    "    temperatura = float(temperatura)\n",
    "    conversao_temperatura = conversor(temperatura, opcao)\n",
    "    print(f'\\nTemperatura em ˚{opcao}: {temperatura} | Temperatura ˚{medida_final}: {conversao_temperatura}')"
   ]
  },
  {
   "cell_type": "markdown",
   "metadata": {},
   "source": [
    "### Analisador de Telefone\n",
    "\n",
    "- Crie um programa que receba um telefone e verifique se ele é um telefone real brasileiro. Seu programa deve conseguir tratar espaços em branco, parênteses, existência de um 9º dígito no número ou não, existência de DDD ou não e deve obrigar o usuário a inserir o código do País (+55)\n",
    "\n",
    "Válidos:<br>\n",
    "\"+55 21 999999999\"<br>\n",
    "\"+55 21 799999999 \"<br>\n",
    "\"+55 (21)79999-9999\"<br>\n",
    "\"+5521799999999\"<br>"
   ]
  },
  {
   "cell_type": "code",
   "execution_count": 15,
   "metadata": {},
   "outputs": [
    {
     "name": "stdout",
     "output_type": "stream",
     "text": [
      "O telefone inserido é brasileiro.\n",
      "Telefone: +5521799999999.\n"
     ]
    }
   ],
   "source": [
    "# informar um número de telefone\n",
    "\n",
    "# verificar se é um telefone real brasileiro\n",
    "\n",
    "dict_telefone = {'Código País: ': '', 'DDD': '', 'Telefone': ''}\n",
    "\n",
    "# removendo espaços em branco no começo e no fim do número\n",
    "num_telefone = input('Informe o número do telefone seguindo o padrão +55XX999999999: ').strip()\n",
    "\n",
    "# removendo sinal de +, espaços em branco entre os números, os () e o - presente no número de telefone\n",
    "num_telefone = num_telefone.replace('+','').replace(' ', '').replace('(', '').replace(')','').replace('-','')\n",
    "\n",
    "# código do país\n",
    "codigo_pais = num_telefone[0:2]\n",
    "\n",
    "# DDD\n",
    "ddd = num_telefone[2:4]\n",
    "\n",
    "# número de telefone\n",
    "telefone = num_telefone[4:]\n",
    "\n",
    "if len(telefone) != 9 and codigo_pais != 55:\n",
    "    print('Número de telefone incorreto!\\nFavor verificar o código do país ou se o telefone possuí nove dígitos.')\n",
    "else:\n",
    "    # print(f'O telefone inserido é brasileiro.\\nTelefone: +{codigo_pais}{ddd}{telefone}')\n",
    "    dict_telefone['Código País'] = '+' + codigo_pais\n",
    "    dict_telefone['DDD'] = ddd\n",
    "    dict_telefone['Telefone'] = telefone\n",
    "\n",
    "print(f'O telefone inserido é brasileiro.\\nTelefone: {dict_telefone['Código País']}{dict_telefone['DDD']}{dict_telefone['Telefone']}.')\n",
    "\n",
    "\n",
    "\n"
   ]
  },
  {
   "cell_type": "markdown",
   "metadata": {},
   "source": [
    "### Analisador de URL\n",
    "    - Seu programa deve pedir um link/URL para o usuário, como por exemplo: https://www.hashtagtreinamentos.com/blog\n",
    "    - Ele deve analisar essa URL dizendo:\n",
    "        - Domínio: hashtagtreinamentos.com\n",
    "        - Protocolo: HTTPS (tudo que vem antes de começar o endereço da URL, no caso antes do :)\n",
    "        - Caminho: /blog (tudo que vem depois do domínio, a partir da primeira / até antes dos parâmetros de busca)\n",
    "        - Parâmetros de busca: (Tudo que vem depois do ? e são separados entre si por um &. Os links podem ter isso ou não)\n",
    "\n",
    "Exemplos de URL:\n",
    "\n",
    "https://www.hashtagtreinamentos.com/blog<br>\n",
    "https://lp.hashtagtreinamentos.com/inscricao-intensivao-de-python-igfb?origemurl=curso&fonte=portal<br>\n",
    "https://lp.hashtagtreinamentos.com/inscricao-intensivao-de-python-igfb?origemurl=exercicios"
   ]
  },
  {
   "cell_type": "code",
   "execution_count": 29,
   "metadata": {},
   "outputs": [
    {
     "name": "stdout",
     "output_type": "stream",
     "text": [
      "--------- Informações da URL ---------\n",
      "Domínio: hashtagtreinamentos.com\n",
      "Protocolo: https\n",
      "Caminho: /inscricao-intensivao-de-python-igfb\n",
      "Parâmetros de busca: ['origemurl=exercicios']\n"
     ]
    }
   ],
   "source": [
    "# seu código aqui\n",
    "\n",
    "# https://www.hashtagtreinamentos.com/blog\n",
    "# https://lp.hashtagtreinamentos.com/inscricao-intensivao-de-python-igfb?origemurl=curso&fonte=portal\n",
    "# https://lp.hashtagtreinamentos.com/inscricao-intensivao-de-python-igfb?origemurl=exercicios\n",
    "\n",
    "# solicitando url para o usuario\n",
    "url = input('Informe um link/URL: ')\n",
    "\n",
    "# posicao dos dois pontos\n",
    "posicao_dois_pontos = url.find(':')\n",
    "\n",
    "# posicao ponto dominio\n",
    "posicao_ponto_dominio = url.find('.')\n",
    "\n",
    "# posicao da barra do caminho\n",
    "posicao_barra_caminho = url.find('/', posicao_ponto_dominio)\n",
    "\n",
    "# posicao ? parametro busca\n",
    "posicao_interrogacao_parametro_busca = url.find('?')\n",
    "\n",
    "# avaliar url e encontrar o dominio\n",
    "dominio = url[posicao_ponto_dominio+1:posicao_barra_caminho]\n",
    "\n",
    "# avaliar a url e encontrar o protocolo\n",
    "protocol = url[0:posicao_dois_pontos]\n",
    "\n",
    "# avaliar a url e encontrar o caminho (tudo que vem depois do dominio, \n",
    "# a partir da primeira / antes dos parametros de busca)\n",
    "if url.find('?') != -1:\n",
    "    caminho = url[posicao_barra_caminho:posicao_interrogacao_parametro_busca]\n",
    "else:\n",
    "    caminho = url[posicao_barra_caminho:]\n",
    "\n",
    "# avaliar a url e encontrar os parametros de busca (tudo qu vem depois do ? \n",
    "# e sao separados entre si por um &), os links podem ter ou nao esses parametros\n",
    "if url.find('?') != -1:\n",
    "    texto_parametro_busca = url[posicao_interrogacao_parametro_busca+1:]\n",
    "else:\n",
    "    texto_parametro_busca = 'Parâmetro de busca nao encontrado.'\n",
    "\n",
    "# separando os parametros de busca da url\n",
    "parametros_busca = texto_parametro_busca.split('&')\n",
    "\n",
    "print('--------- Informações da URL ---------')\n",
    "print(f'Domínio: {dominio}\\nProtocolo: {protocol}\\nCaminho: {caminho}\\nParâmetros de busca: {parametros_busca}')\n",
    "\n",
    "\n",
    "\n"
   ]
  },
  {
   "cell_type": "markdown",
   "metadata": {},
   "source": [
    "### Crie um programa que dado o e-mail de um usuário, valide se aquele e-mail é válido com as seguintes regras:\n",
    "    - Tem que ter .com ou .gov\n",
    "    - Tem que ter @\n",
    "    - Tem que ter mais de 5 caracteres\n",
    "    - Não pode ter espaço"
   ]
  },
  {
   "cell_type": "code",
   "execution_count": null,
   "metadata": {},
   "outputs": [
    {
     "name": "stdout",
     "output_type": "stream",
     "text": [
      "Email válido!\n",
      "\n",
      "Nome do usuário: jose.silva\n",
      "Domínio: gmail\n",
      "TLD: .com\n"
     ]
    }
   ],
   "source": [
    "# seu código aqui\n",
    "# brunno@gmail.com\n",
    "\n",
    "email = input('Informe o email: ').strip()\n",
    "\n",
    "posicao_arroba = email.find('@')\n",
    "\n",
    "posicao_ponto_tld = email.find('.', posicao_arroba)\n",
    "\n",
    "nome_usuario = email[:posicao_arroba]\n",
    "\n",
    "dominio = email[posicao_arroba+1:posicao_ponto_tld]\n",
    "\n",
    "tld = email[posicao_ponto_tld:]\n",
    "\n",
    "# verificar se o email tem .com ou .gov\n",
    "if '.com' in email or '.gov' in email:\n",
    "    # verificando se existe um @ e se tem mais de 5 caracteres e nao tem a presença de ' '\n",
    "    if '@' in email and len(email) > 5 and ' ' not in email:\n",
    "        print('Email válido!')\n",
    "    else:\n",
    "        print('Email inválido!')\n",
    "else:\n",
    "    print('Email inválido!')\n",
    "\n",
    "\n",
    "\n",
    "print(f'\\nNome do usuário: {nome_usuario}\\nDomínio: {dominio}\\nTLD: {tld}')\n"
   ]
  },
  {
   "cell_type": "markdown",
   "metadata": {},
   "source": [
    "### ToDo List no Terminal\n",
    "\n",
    "Crie um programa para criar uma lista de tarefas para o usuário (mais futuramente no curso, aprenderemos a armazenar essas informações em um banco de dados para essa lista poder ser editada e armazenada)\n",
    "\n",
    "Seu programa deve pedir as tarefas que o usuário tem que fazer em um dia e, a cada inserção de uma nova tarefa, dizer que a tarefa foi adicionada a lista de tarefas. Quando o usuário digitar apenas enter no seu input (sem inserir nenhuma tarefa, seu programa deve printar a quantidade de tarefas para o dia e a lista de tarefas completa)"
   ]
  },
  {
   "cell_type": "code",
   "execution_count": 36,
   "metadata": {},
   "outputs": [
    {
     "name": "stdout",
     "output_type": "stream",
     "text": [
      "A tarefa ir na academia foi adicionado ao ToDo List com sucesso!\n",
      "A tarefa passar no mercado foi adicionado ao ToDo List com sucesso!\n",
      "A tarefa descansar após o almoço foi adicionado ao ToDo List com sucesso!\n",
      "\n",
      "Quantidade de tarefas para o dia: 3\n",
      "\n",
      "------------------ ToDo List ------------------\n",
      "ir na academia\n",
      "passar no mercado\n",
      "descansar após o almoço\n"
     ]
    }
   ],
   "source": [
    "# seu código aqui\n",
    "\n",
    "lista_tarefas = []\n",
    "\n",
    "while True:\n",
    "\n",
    "    tarefa = input('Informe a tarefa(para encerrar, basta enviar o campo vazio): ').lower()\n",
    "\n",
    "    if tarefa == '':\n",
    "        break\n",
    "    else:\n",
    "        lista_tarefas.append(tarefa)\n",
    "        print(f'A tarefa {tarefa} foi adicionado ao ToDo List com sucesso!')\n",
    "\n",
    "print(f'\\nQuantidade de tarefas para o dia: {len(lista_tarefas)}\\n')\n",
    "print('------------------ ToDo List ------------------')\n",
    "lista_completa_tarefas = '\\n'.join(lista_tarefas)\n",
    "print(lista_completa_tarefas)"
   ]
  },
  {
   "cell_type": "markdown",
   "metadata": {},
   "source": [
    "### Conversor de Moedas\n",
    "\n",
    "- Parte 1: Crie um conversor de moedas que pergunte para o usuário qual moeda ele quer converter e para qual moeda destino ele quer converter. Caso alguma das moedas não estejam na lista de conversão, o usuário deve ser informado que essa conversão não é possível. Sendo possível a conversão, o seu conversor de moedas deve em seguida pedir o valor da moeda de origem que ele quer converter para a moeda de destino, fazer a conversão e exibir para o usuário o valor convertido.\n",
    "- Parte 2: Adapte o seu código (crie uma cópia para manter os 2 códigos prontos) para o usuário não precisar dizer qual a moeda original, mas que permita inserir um valor para fazer a conversão com o indicativo da moeda, ex: R$50, US$20 e o sistema fazer a conversão automaticamente."
   ]
  },
  {
   "cell_type": "code",
   "execution_count": 5,
   "metadata": {},
   "outputs": [],
   "source": [
    "dic_conversoes = {\n",
    "    \"R$-US$\": 0.194,\n",
    "    \"US$-R$\": 5.15,\n",
    "    \"R$-BTC\":  0.000002857,\n",
    "    \"BTC-R$\": 350000,\n",
    "    \"BTC-US$\": 67961.16,\n",
    "    \"US$-BTC\": 0.000014714\n",
    "}"
   ]
  },
  {
   "cell_type": "code",
   "execution_count": null,
   "metadata": {},
   "outputs": [
    {
     "name": "stdout",
     "output_type": "stream",
     "text": [
      "Conversão:\n",
      "US$ 200.0 = R$ 1030.00\n"
     ]
    }
   ],
   "source": [
    "# Parte 1\n",
    "\n",
    "lista_moedas = []\n",
    "\n",
    "# acessando as chaves do dicionario\n",
    "for par_moedas in dic_conversoes.keys():\n",
    "    par_moeda_origem, par_moeda_destino = par_moedas.split('-')\n",
    "    if par_moeda_origem not in lista_moedas:\n",
    "        lista_moedas.append(par_moeda_origem)\n",
    "\n",
    "# unindo os elemento das lista em uma unica string, através do separador ','\n",
    "opcoes_moedas = ','.join(lista_moedas)\n",
    "\n",
    "currency_origin = input(f'Informe a moeda de origem para realizar a conversão [{opcoes_moedas}]: ')\n",
    "\n",
    "# verificando se a moeda de origem informada pelo usuário esta presente na lista de moedas\n",
    "if currency_origin in lista_moedas:\n",
    "    currency_destiny = input(f'Informe a moeda de destino para realizar a conversão [{opcoes_moedas}]: ')\n",
    "\n",
    "    if currency_destiny not in lista_moedas:\n",
    "        print('Erro na conversão!\\nMoeda de destino é inválida!')\n",
    "    else:\n",
    "        input_value_converted = float(input(f'Insira o valor a ser convertido em {currency_origin}: '))\n",
    "        if currency_origin == currency_destiny:\n",
    "            valor_conversao = 1\n",
    "        else:\n",
    "            chave_dict = f'{currency_origin}-{currency_destiny}'\n",
    "            base_value = dic_conversoes[chave_dict]\n",
    "        converted_value = input_value_converted * base_value\n",
    "        print(f'Conversão:\\n{currency_origin} {input_value_converted} = {currency_destiny} {converted_value:.2f}')\n",
    "else:\n",
    "    print('Erro na conversão!\\nMoeda de origem é inválida!')\n"
   ]
  },
  {
   "cell_type": "code",
   "execution_count": 9,
   "metadata": {},
   "outputs": [
    {
     "name": "stdout",
     "output_type": "stream",
     "text": [
      "Conversão:\n",
      "R$ 1030.0 = US$ 199.82\n"
     ]
    }
   ],
   "source": [
    "lista_moedas = []\n",
    "\n",
    "# acessando as chaves do dicionario\n",
    "for par_moedas in dic_conversoes.keys():\n",
    "    par_moeda_origem, par_moeda_destino = par_moedas.split('-')\n",
    "    if par_moeda_origem not in lista_moedas:\n",
    "        lista_moedas.append(par_moeda_origem)\n",
    "\n",
    "# unindo os elemento das lista em uma unica string, através do separador ','\n",
    "opcoes_moedas = ','.join(lista_moedas)\n",
    "\n",
    "valor_entrada = input('Insira o valor a ser convertido: ')\n",
    "\n",
    "moeda_origem_usuario = ''\n",
    "for moeda in lista_moedas:\n",
    "    if moeda in valor_entrada:\n",
    "        moeda_origem_usuario = moeda\n",
    "        # pegando o valor informado via teclado pelo usuário\n",
    "        valor_moeda = float(valor_entrada.replace(moeda,''))\n",
    "\n",
    "if moeda_origem_usuario != '':\n",
    "    moeda_destino_usuario = input(f'Informe a moeda de destino para realizar a conversão [{opcoes_moedas}]: ')\n",
    "\n",
    "    # verificando se a moeda de destino informada pelo usuário esta presente na lista de moedas\n",
    "    if moeda_destino_usuario not in lista_moedas:\n",
    "        print('Erro na conversão!\\nMoeda de destino é inválida!')\n",
    "    else:\n",
    "        # verificando se as moedas de origem e destino não são as mesmas\n",
    "        if moeda_origem_usuario == moeda_destino_usuario:\n",
    "            valor_conversao = 1\n",
    "        else:\n",
    "            chave_dict = f'{moeda_origem_usuario}-{moeda_destino_usuario}'\n",
    "            # pegando o valor base para conversão\n",
    "            valor_base = dic_conversoes[chave_dict]\n",
    "        valor_convertido = valor_moeda * valor_base\n",
    "        print(f'Conversão:\\n{moeda_origem_usuario} {valor_moeda} = {moeda_destino_usuario} {valor_convertido:.2f}')\n",
    "else:\n",
    "    print('Erro na conversão!\\nMoeda de origem é inválida!')\n"
   ]
  },
  {
   "cell_type": "markdown",
   "metadata": {},
   "source": [
    "### Você está analisando a conta de energia de um pequeno escritório e precisa saber:\n",
    "1. Qual o valor total da conta de energia em cada mês do ano\n",
    "2. Qual o valor total da conta de energia no ano\n",
    "\n",
    "Considere as listas dadas como os 12 meses do ano, tanto para bandeiras quanto para consumo. O valor da conta é dado por: consumo * multiplicador_bandeira * preco_kwh"
   ]
  },
  {
   "cell_type": "code",
   "execution_count": 49,
   "metadata": {},
   "outputs": [],
   "source": [
    "bandeiras_tarifarias = [\"vermelha\", \"vermelha\", \"amarela\", \"amarela\", \"verde\", \"verde\", \"verde\", \"verde\", \"verde\", \"amarela\", \"amarela\", \"amarela\"]\n",
    "consumo_kwh = [400, 350, 325, 350, 200, 220, 250, 290, 360, 290, 300, 300]\n",
    "preco_kwh = 1.3\n",
    "multiplicador = {\"vermelha\": 2, \"amarela\": 1.3, \"verde\": 1}"
   ]
  },
  {
   "cell_type": "code",
   "execution_count": 50,
   "metadata": {},
   "outputs": [
    {
     "name": "stdout",
     "output_type": "stream",
     "text": [
      "------------------------ Valor total conta de energia por mês ------------------------\n",
      "[1040.0, 910.0, 549.25, 591.5, 260.0, 286.0, 325.0, 377.0, 468.0, 490.1, 507.0, 507.0]\n",
      "--------------------------------------------------------------------------------------\n",
      "\n",
      "Valor total da conta de energia (ano): R$ 6,310.85\n"
     ]
    }
   ],
   "source": [
    "\n",
    "\n",
    "# analisando conta de energia de um pequeno escritorio\n",
    "# etapa 1 -> valor total da conta de energia em cada mês do ano\n",
    "\n",
    "lista_precos_meses = []\n",
    "\n",
    "for i, bandeira in enumerate(bandeiras_tarifarias):\n",
    "    valor_conta = consumo_kwh[i] * multiplicador[bandeira] * preco_kwh\n",
    "    lista_precos_meses.append(valor_conta)\n",
    "\n",
    "print('------------------------ Valor total conta de energia por mês ------------------------')\n",
    "print(f'{lista_precos_meses}')\n",
    "print('--------------------------------------------------------------------------------------')\n",
    "\n",
    "# parte 2 -> valor total da conta de energia por ano\n",
    "\n",
    "valor_total_conta_energia_ano = sum(lista_precos_meses)\n",
    "\n",
    "\n",
    "print(f'\\nValor total da conta de energia (ano): R$ {valor_total_conta_energia_ano:,.2f}')"
   ]
  },
  {
   "cell_type": "markdown",
   "metadata": {},
   "source": [
    "### Você recebeu uma lista de alunos da Arroba Treinamentos e precisa descobrir quantos alunos e quais aluno estão devendo ainda algum pagamento do curso. O curso custa 2.000 reais e os pagamentos dos alunos são representados por uma lista de valores já pagos no dicionário de alunos\n"
   ]
  },
  {
   "cell_type": "code",
   "execution_count": 47,
   "metadata": {},
   "outputs": [],
   "source": [
    "pagamentos_alunos = {\n",
    "    \"André\": [2000],\n",
    "    \"Fulano\": [1000, 1000],\n",
    "    \"Ciclano\": [500, 500],\n",
    "    \"Beltrano\": [100], \n",
    "    \"João\": [100, 100, 100, 100, 100, 100, 100, 100, 100, 100, 100],\n",
    "    \"Amanda\": [200, 300, 250, 250, 500, 400, 100],\n",
    "    \"Lira\": [1000],\n",
    "    \"Alon\": [10]\n",
    "}\n"
   ]
  },
  {
   "cell_type": "code",
   "execution_count": 48,
   "metadata": {},
   "outputs": [
    {
     "name": "stdout",
     "output_type": "stream",
     "text": [
      "Ciclano esta devendo: R$ 1,000 do curso.\n",
      "\n",
      "Beltrano esta devendo: R$ 1,900 do curso.\n",
      "\n",
      "João esta devendo: R$ 900 do curso.\n",
      "\n",
      "Lira esta devendo: R$ 1,000 do curso.\n",
      "\n",
      "Alon esta devendo: R$ 1,990 do curso.\n",
      "\n",
      "5 alunos ainda estão devendo algun valor do curso.\n"
     ]
    }
   ],
   "source": [
    "# seu código aqui\n",
    "\n",
    "# descobrir quantos alunos e quais alunos esão devendo ainda algum pagamento do curso\n",
    "\n",
    "# curso custa 2000 reais\n",
    "preco_curso = 2000\n",
    "contador_alunos_devendo = 0\n",
    "\n",
    "for aluno, valores in pagamentos_alunos.items():\n",
    "    total_pago = sum(valores)\n",
    "    if total_pago < preco_curso:\n",
    "        contador_alunos_devendo += 1\n",
    "        valor_pagar = preco_curso - total_pago\n",
    "        print(f'{aluno} esta devendo: R$ {valor_pagar:,} do curso.\\n')\n",
    "\n",
    "print(f'{contador_alunos_devendo} alunos ainda estão devendo algun valor do curso.')"
   ]
  },
  {
   "cell_type": "markdown",
   "metadata": {},
   "source": [
    "### Password Checker\n",
    "- Pessa para o usuário um input com a senha e um input com a confirmação de senha (aprenderemos no módulo de criação de telas com Python a fazer isso em um sistema bonito, mas para esse exercício faremos com inputs isso)\n",
    "- Para validar a senha, verifique que:\n",
    "    - A senha e confirmação são iguais\n",
    "    - A senha possua mais de 8 caracteres\n",
    "    - A senha tenha letras e números"
   ]
  },
  {
   "cell_type": "code",
   "execution_count": null,
   "metadata": {},
   "outputs": [
    {
     "name": "stdout",
     "output_type": "stream",
     "text": [
      "Sua senha precisa ser composta de letras e números. Tente novamente!\n"
     ]
    }
   ],
   "source": [
    "# seu código aqui\n",
    "\n",
    "user_password = input('Informe a sua senha: ')\n",
    "\n",
    "confirm_user_password = input('Confirme a sua senha: ')\n",
    "\n",
    "if user_password != confirm_user_password:\n",
    "    print('A senha e a confirmação são diferentes. Tente novamente!')\n",
    "else:\n",
    "    if user_password.isnumeric() or user_password.isalpha():\n",
    "        print('Sua senha precisa ser composta de letras e números. Tente novamente!')\n",
    "    elif len(user_password) <= 8:\n",
    "        print('Sua senha precisa ter mais de 8 caracteres. Tente novamente!')\n",
    "    else:\n",
    "        print('Senha cadastrada com sucesso!')"
   ]
  },
  {
   "cell_type": "markdown",
   "metadata": {},
   "source": [
    "### Você precisa criar a lógica de um sistema de load balance/redirecionamento automático. Seu programa deve receber um input que representa quantas requisições um sistema vai receber. Para cada requisição, seu sistema deve decidir em qual destino atribuir a requisição, destino A, B ou C. A regra de distribuição é: a primeira requisição é atribuída ao destino A, a segunda ao B, a terceira ao C, a quarta ao A, a quinta ao B, a sexta ao C, a sétima ao A, a oitava ao B, a nona ao C… e assim vai até o total de requisições. Ao final do programa, você deve calcular quais requisições foram para cada destino e quantas são. Ex: se o sistema deveria receber 80 requisições, no final seu código tem q dizer: destino A recebeu 27 requisições, destino B recebeu 27 requisições e destino C recebeu 26 requisicoes e a lista de requisições de cada destino: listaA = [1, 4, 7, 10, 13...], listaB = [2, 5, 8, 11, 14, ...], listaC = [3, 6, 9, 12, 15, 18, 21, ...].\n"
   ]
  },
  {
   "cell_type": "code",
   "execution_count": 41,
   "metadata": {},
   "outputs": [
    {
     "name": "stdout",
     "output_type": "stream",
     "text": [
      "Destino A recebeu: 29 requisições.\n",
      "Destino B recebeu: 28 requisições.\n",
      "Destino C recebeu: 28 requisições.\n",
      "\n",
      "\n",
      "Lista de requisições A: [0, 3, 6, 9, 12, 15, 18, 21, 24, 27, 30, 33, 36, 39, 42, 45, 48, 51, 54, 57, 60, 63, 66, 69, 72, 75, 78, 81, 84]\n",
      "Lista de requisições B: [1, 4, 7, 10, 13, 16, 19, 22, 25, 28, 31, 34, 37, 40, 43, 46, 49, 52, 55, 58, 61, 64, 67, 70, 73, 76, 79, 82]\n",
      "Lista de requisições C: [2, 5, 8, 11, 14, 17, 20, 23, 26, 29, 32, 35, 38, 41, 44, 47, 50, 53, 56, 59, 62, 65, 68, 71, 74, 77, 80, 83]\n"
     ]
    }
   ],
   "source": [
    "# seu código aqui\n",
    "\n",
    "lista_destinoA = []\n",
    "lista_destinoB = []\n",
    "lista_destinoC = []\n",
    "\n",
    "qtde_requisicoes = int(input('Informe a quantidade de requisições: '))\n",
    "\n",
    "def automatic_redirection(requisicoes):\n",
    "\n",
    "    for ind in range(requisicoes):\n",
    "        if ind % 3 == 0:\n",
    "            lista_destinoA.append(ind)\n",
    "        elif ind % 3 == 1:\n",
    "            lista_destinoB.append(ind)\n",
    "        else:\n",
    "            lista_destinoC.append(ind)\n",
    "\n",
    "\n",
    "automatic_redirection(qtde_requisicoes)\n",
    "\n",
    "print(f'Destino A recebeu: {len(lista_destinoA)} requisições.')\n",
    "print(f'Destino B recebeu: {len(lista_destinoB)} requisições.')\n",
    "print(f'Destino C recebeu: {len(lista_destinoC)} requisições.\\n\\n')\n",
    "\n",
    "print(f'Lista de requisições A: {lista_destinoA}')\n",
    "print(f'Lista de requisições B: {lista_destinoB}')\n",
    "print(f'Lista de requisições C: {lista_destinoC}')\n",
    "\n"
   ]
  },
  {
   "cell_type": "markdown",
   "metadata": {},
   "source": [
    "### ChatBot de Recomendações de Viagens\n",
    "- Você trabalha em uma agência de viagens e precisa criar um chatbot para os seus clientes. Esse chatbot deve pedir para o usuario escolher um mês de viagem. Em seguida, seu chatbot deve perguntar para qual lugar o usuário deseja viajar. Caso o local escolhido pelo usuário esteja na lista de bons lugares para viajar naquele mês, o seu chatbot deve dizer que é um ótimo lugar para viajar nesse mês. Caso o local não esteja na lista de bons locais daquele mês, seu chatbot deve:\n",
    "    1. Dizer para ele quais lugares são bons para viajar nesse mês\n",
    "    2. Verificar no resto dos meses se o local que o usuário quer viajar está em algum outro mês. Se tiver, seu programa deve dizer para ele qual o melhor mês para viajar para o local desejado pelo cliente."
   ]
  },
  {
   "cell_type": "code",
   "execution_count": 14,
   "metadata": {},
   "outputs": [
    {
     "name": "stdout",
     "output_type": "stream",
     "text": [
      "Infelizmente, maio não é uma boa época para viajar para Croácia.\n",
      "Recomendamos em maio, realizar viagens para Brasil, EUA, Itália, França, Inglaterra.\n",
      "\n",
      "\n",
      "Para realizar uma boa viagem com destino para Croácia,\n",
      "indicamos os seguintes meses:\n",
      "setembro\n"
     ]
    }
   ],
   "source": [
    "viagens_mensais = {\n",
    "    \"janeiro\": [\"Tailândia\", \"Brasil\", \"Antártica\", \"África do Sul\", \"Argentina\"],\n",
    "    \"fevereiro\": [\"Tailândia\", \"Brasil\", \"Argentina\", \"Uruguai\", \"África do Sul\"],\n",
    "    \"março\": [\"Brasil\", \"Marrocos\", \"EUA\", \"Egito\", \"Dubai\"],\n",
    "    \"abril\": [\"Brasil\", \"Marrocos\", \"Egito\", \"Dubai\", \"Equador\"],\n",
    "    \"maio\": [\"Brasil\", \"EUA\", \"Itália\", \"França\", \"Inglaterra\"],\n",
    "    \"junho\": [\"Brasil\", \"Itália\", \"França\", \"Grécia\", \"Turquia\"],\n",
    "    \"julho\": [\"Brasil\", \"Itália\", \"França\", \"Grécia\", \"Turquia\"],\n",
    "    \"agosto\": [\"Brasil\", \"Itália\", \"França\", \"Grécia\", \"Turquia\"],\n",
    "    \"setembro\": [\"Brasil\", \"Croácia\", \"Grécia\", \"México\", \"Alemanha\"],\n",
    "    \"outubro\": [\"Brasil\", \"Alemanha\", \"Japão\", \"Chile\", \"Indonésia\"],\n",
    "    \"novembro\": [\"Brasil\", \"México\", \"Costa Rica\", \"Barbados\", \"Colômbia\"],\n",
    "    \"dezembro\": [\"Tailândia\", \"México\", \"Costa Rica\", \"Barbados\", \"Colômbia\"]\n",
    "}\n",
    "\n",
    "# seu codigo aqui\n",
    "\n",
    "mes_escolhido = input('Qual o mês que deseja viajar?').lower()\n",
    "\n",
    "lista_paises_viagens = viagens_mensais[mes_escolhido]\n",
    "\n",
    "lugar_escolhido_viagem = input('Informe o lugar para onde deseja viajar: ')\n",
    "\n",
    "if lugar_escolhido_viagem in lista_paises_viagens:\n",
    "    print(f'Excelente momento para viajar para {lugar_escolhido_viagem}!\\nVamos agilizar o processo e marcar sua viagem!')\n",
    "else:\n",
    "    # transformando a lista de paises para viajar em uma única string através do separador ', '\n",
    "    lista_texto_lugares = ', '.join(lista_paises_viagens)\n",
    "    print(f'Infelizmente, {mes_escolhido} não é uma boa época para viajar para {lugar_escolhido_viagem}.\\nRecomendamos em {mes_escolhido}, realizar viagens para {lista_texto_lugares}.\\n\\n')\n",
    "\n",
    "    lista_meses_alternativos = []\n",
    "\n",
    "    for mes in viagens_mensais:\n",
    "        if lugar_escolhido_viagem in viagens_mensais[mes]:\n",
    "            lista_meses_alternativos.append(mes)\n",
    "\n",
    "    if len(lista_meses_alternativos) > 0:\n",
    "        lista_texto_meses_alternativos = '\\n'.join(lista_meses_alternativos)\n",
    "        print(f'Para realizar uma boa viagem com destino para {lugar_escolhido_viagem},\\nindicamos os seguintes meses:\\n{lista_texto_meses_alternativos}')\n"
   ]
  },
  {
   "cell_type": "markdown",
   "metadata": {},
   "source": [
    "### Password Manager com dicionário sendo o Banco de Dados\n",
    "\n",
    "- Seu desafio é criar um gerenciador de senhas (usando um dicionário python como banco de dados, mais para frente no curso no modulo de banco de dados você será capaz de armazenar essas senhas em um banco de dados de forma definitiva e mais protegida)\n",
    "    - Seu programa deve perguntar para o usuário se ele quer cadastrar uma senha nova ou pegar uma senha existente. Independente da operação ele deve usar uma senha mestre: \"uh&g7fnsd8\" para aprovar qualquer consulta/edição no sistema. Se o usuário quiser adicionar uma senha, deve pedir qual o nome do sistema de onde essa senha faz parte, qual o login e qual a senha a ser cadastrada. Se for para consultar, seu programa deve exibir os nomes dos sistemas disponíveis e o usuário pode escolher qual senha quer pedir e seu programa deve dar para ela a resposta de login e senha. Se quiser que as suas senhas cadastradas possam ser usadas para consulta, coloque tudo em um loop infinito e dê algum comando para o usuário conseguir finalizar o processo"
   ]
  },
  {
   "cell_type": "code",
   "execution_count": 12,
   "metadata": {},
   "outputs": [
    {
     "name": "stdout",
     "output_type": "stream",
     "text": [
      "------------- Sistemas cadastrados -------------\n",
      "Gmail\n",
      "Github\n",
      "Cartão de Crédito\n",
      "Portal Hashtag\n",
      "------------------------------------------------\n",
      "\n",
      "\n",
      "\n",
      "Usuário: usuario@gmail.com | Senha: 123456\n",
      "Senha salva com sucesso! Login: brunnomanduca | Senha: 8*********rR\n",
      "\n",
      "\n",
      "------------- Sistemas cadastrados -------------\n",
      "Gmail\n",
      "Github\n",
      "Cartão de Crédito\n",
      "Portal Hashtag\n",
      "Apple account\n",
      "------------------------------------------------\n",
      "\n",
      "\n",
      "\n",
      "Usuário: brunnomanduca | Senha: 8*7uY6^5TfrR\n"
     ]
    }
   ],
   "source": [
    "gerenciador_senhas = {\n",
    "    \"Gmail\": (\"lira@emailfalso.com\", \"minhasenha123\"),\n",
    "    \"Github\": (\"pythonimpressionador\", \"senhadoida\"),\n",
    "    \"Cartão de Crédito\": (\"NumeroFalsodoCartao\", \"123456\"),\n",
    "    \"Portal Hashtag\": (\"usuario@gmail.com\", \"123456\")\n",
    "}\n",
    "\n",
    "# inicialmente perguntar se será cadastrado uma senha nova ou consultar uma senha existente\n",
    "\n",
    "# aprovar qualquer consulta/edição no sistema, usando senha mestre 'uh&g7fnsd8'\n",
    "\n",
    "# adicionar senha -> deve pedir o nome do sistema de onde essa senha faz parte, qual o login e senha a ser cadastrada\n",
    "\n",
    "# para consultar -> deve exibir os nomes dos sistemas disponíveis e o usuário escolher qual sistema utilizar \n",
    "# e o programa retornar o login e senha\n",
    "\n",
    "senha_mestre_banco = input('Informe a senha mestre para acessar o banco: ')\n",
    "\n",
    "if senha_mestre_banco != 'uh&g7fnsd8':\n",
    "    print('Acesso negado, senha informada está incorreta!')\n",
    "else:\n",
    "    acao_usuario = input('Qual ação gostaria de realizar? (1 - Cadastrar nova senha | 2 - Consultar login e senha no sistema | \"sair\" para encerrar)')\n",
    "    while acao_usuario != 'sair':\n",
    "        # cadastrando nova senha\n",
    "        if acao_usuario == '1':\n",
    "            nome_sistema = input('Informe o nome do sistema: ')\n",
    "            login_sistema = input('Informe o login: ')\n",
    "            senha_sistema = input('Informe a senha: ')\n",
    "\n",
    "            senha_mascarada = senha_sistema[:2] + '*' * (len(senha_sistema) - 4) + senha_sistema[-2:]\n",
    "\n",
    "            gerenciador_senhas[nome_sistema] = (login_sistema, senha_sistema)\n",
    "\n",
    "            print(f'Senha salva com sucesso! Login: {login_sistema} | Senha: {senha_mascarada}\\n\\n')\n",
    "        elif acao_usuario == '2':\n",
    "            texto_nomes_sistemas = list(gerenciador_senhas.keys())\n",
    "            lista_nomes_sistemas = '\\n'.join(texto_nomes_sistemas)\n",
    "            print('------------- Sistemas cadastrados -------------')\n",
    "            print(f'{lista_nomes_sistemas}')\n",
    "            print('------------------------'*2)\n",
    "            print('\\n\\n')\n",
    "            escolha_nome_sistema = input('Informe o nome do sistema para realizar a consulta. Favor inserir o nome do sistema como aparece na lista.')\n",
    "            login_sistema, senha_sistema = gerenciador_senhas[escolha_nome_sistema]\n",
    "            print(f'Usuário: {login_sistema} | Senha: {senha_sistema}')\n",
    "        else:\n",
    "            mensagem_encerramento = 'Sistema finalizado com sucesso!'\n",
    "            print(f'{mensagem_encerramento:^80}')\n",
    "            break\n",
    "        acao_usuario = input('Qual ação gostaria de realizar? (1 - Cadastrar nova senha | 2 - Consultar login e senha no sistema | \"sair\" para encerrar)')\n",
    "\n",
    "\n",
    "\n"
   ]
  },
  {
   "cell_type": "markdown",
   "metadata": {},
   "source": [
    "### Extrator de data em email\n",
    "\n",
    "- Crie um código que consiga extrair a data escrita em um email no formato DIA/MES/ANO. Essa data pode estar com diferentes quantidades de dígitos para cada informação de DIA/MES/ANO. Ex: 01/05/2024 = 1/5/24\n",
    "- Mais para frente no curso vamos aprender regex que facilita esse tipo de extração, por enquanto, para esse exercício pode considerar que apenas 1 data será incluída no email e que não será usado mais a / em outros locais do email"
   ]
  },
  {
   "cell_type": "code",
   "execution_count": 15,
   "metadata": {},
   "outputs": [],
   "source": [
    "texto_email = \"\"\"Prezados,\n",
    "Segue em anexo contrato para aprovação e assinatura até o dia 10/12/2025\n",
    "Favor se atentar ao prazo de conclusão para evitar o cancelamento do serviço.\n",
    "Att.,\n",
    "Fulano Beltrano\"\"\""
   ]
  },
  {
   "cell_type": "code",
   "execution_count": 17,
   "metadata": {},
   "outputs": [
    {
     "name": "stdout",
     "output_type": "stream",
     "text": [
      "Dia: 10, mês: 12, ano: 2025\n"
     ]
    }
   ],
   "source": [
    "# seu código aqui\n",
    "\n",
    "primeira_barra_data = texto_email.find('/')\n",
    "segunda_barra_data = texto_email.find('/', primeira_barra_data+1)\n",
    "dia_data = texto_email[primeira_barra_data-2:primeira_barra_data]\n",
    "mes_data = texto_email[primeira_barra_data+1:segunda_barra_data]\n",
    "ano_data = texto_email[segunda_barra_data+1:segunda_barra_data+5]\n",
    "\n",
    "# caso aconteça do ano ter apenas dois dígitos, será verificado através de \n",
    "# ifs, se caso existir um espaço, um ponto ou até mesmo um enter, independente do que vier, \n",
    "# so será analisado o que estiver antes dos desses separadores\n",
    "\n",
    "if '/n' in ano_data:\n",
    "    # pegando somente a primeira parte do resultado do método split()\n",
    "    # seleciona somente o que vem antes do caracterer especificado e ignora o que vem depois\n",
    "    ano = ano.split('\\n')[0]\n",
    "\n",
    "if ' ' in ano_data:\n",
    "    ano = ano.split(' ')[0]\n",
    "\n",
    "if '.' in ano_data:\n",
    "    ano = ano.split('.')[0]\n",
    "\n",
    "print(f'Dia: {dia_data}, mês: {mes_data}, ano: {ano_data}')"
   ]
  },
  {
   "cell_type": "markdown",
   "metadata": {},
   "source": [
    "### Extrator de contato em email\n",
    "\n",
    "- Crie um código que consiga extrair um endereço de e-mail de um texto.\n",
    "- Mais para frente no curso vamos aprender regex que facilita esse tipo de extração, por enquanto, para esse exercício pode considerar que apenas 1 email será incluída no texto e o @ não será usado em outros locais."
   ]
  },
  {
   "cell_type": "code",
   "execution_count": 35,
   "metadata": {},
   "outputs": [],
   "source": [
    "texto_email = \"\"\"Prezados,\n",
    "Favor encaminhar documentação para o email qualquercoisa@gmail.com\n",
    "Obrigado\"\"\""
   ]
  },
  {
   "cell_type": "code",
   "execution_count": 45,
   "metadata": {},
   "outputs": [
    {
     "name": "stdout",
     "output_type": "stream",
     "text": [
      "Endereço de email encontrado: qualquercoisa@gmail.com\n"
     ]
    }
   ],
   "source": [
    "# seu código aqui\n",
    "\n",
    "# retornando o índice da primeira ocorrência de um caracter ou substring,\n",
    "# neste caso o @\n",
    "pos_arroba = texto_email.find('@')\n",
    "pos_espaco_final_email = texto_email.find(' ', pos_arroba)\n",
    "pos_quebralinha_final_email = texto_email.find('\\n', pos_arroba)\n",
    "\n",
    "# identificando o ínicio e o fim do 'email', através da posição do @\n",
    "\n",
    "# o rfind, retorna a posicao/índice exato da última ocorrência de um caracter ou substring\n",
    "# desta forma, foi adicionado +1 para pegar o ínicio do email de maneira exata\n",
    "inicio_email = texto_email.rfind(' ', 0, pos_arroba)+1\n",
    "# retorna o índice da primeira ocorrência do caracter ou substring\n",
    "if pos_espaco_final_email != -1:\n",
    "    fim_email = pos_espaco_final_email\n",
    "else:\n",
    "    fim_email = pos_quebralinha_final_email\n",
    "\n",
    "# se caso não encontrar espaço após o email, significa que chegou ao fim do texto\n",
    "if fim_email == -1:\n",
    "    fim_email = len(texto_email)\n",
    "\n",
    "email_usuario = texto_email[inicio_email:fim_email]\n",
    "\n",
    "print(f'Endereço de email encontrado: {email_usuario}')"
   ]
  },
  {
   "cell_type": "code",
   "execution_count": 34,
   "metadata": {},
   "outputs": [
    {
     "name": "stdout",
     "output_type": "stream",
     "text": [
      "Endereço de email encontrado: qualquercoisa@gmail.com\n"
     ]
    }
   ],
   "source": [
    "# solução 2\n",
    "\n",
    "# dividindo todo o texto em palavras e assim, procurar por uma que tenha '@'\n",
    "lista_palavras = texto_email.split()\n",
    "email_usuario = ''\n",
    "\n",
    "for palavra in lista_palavras:\n",
    "    if '@' in palavra:\n",
    "        email_usuario = palavra\n",
    "        break\n",
    "\n",
    "if email_usuario:\n",
    "    print(f'Endereço de email encontrado: {email_usuario}')\n",
    "else:\n",
    "    print('Email não encontrado.')"
   ]
  },
  {
   "cell_type": "markdown",
   "metadata": {},
   "source": [
    "### Dado um dicionário com a temperatura em várias cidades, máximas e mínimas estimadas e máximas e mínimas reais, veja em quantas cidades a previsão do tempo acertou e em quantas errou.\n",
    "\n",
    "Considere que a previsão erra se a mínima real for menor do que a mínima estimada OU se a máxima real for maior do que a máxima estimada. Se os valores reais estiverem dentro da faixa estimada, mesmo que os valores não sejam iguais, é considerado que a previsão acertou.\n",
    "\n",
    "Ex: <br>\n",
    "Mínima Estimada: 20, Máxima Estimada: 25, Mínima Real: 21, Máxima Real: 25 -> acertou<br>\n",
    "Mínima Estimada: 20, Máxima Estimada: 25, Mínima Real: 19, Máxima Real: 25 -> errou<br>\n",
    "Mínima Estimada: 20, Máxima Estimada: 25, Mínima Real: 23, Máxima Real: 24 -> acertou<br>\n",
    "Mínima Estimada: 20, Máxima Estimada: 25, Mínima Real: 19, Máxima Real: 28 -> errou<br>\n",
    "\n",
    "formato:\n",
    "(minima_estimada, maxima_estimada, minima_real, maxima_real)"
   ]
  },
  {
   "cell_type": "code",
   "execution_count": 41,
   "metadata": {},
   "outputs": [],
   "source": [
    "dic_temperaturas = {\n",
    "    \"São Paulo\": (15, 23, 16, 22),\n",
    "    \"Rio de Janeiro\": (21, 25, 20, 25),\n",
    "    \"Belo Horizonte\": (19, 22, 19, 22),\n",
    "    \"Brasília\": (23, 25, 19, 21),\n",
    "    \"Porto Alegre\": (13, 19, 14, 18),\n",
    "    \"Natal\": (25, 28, 24, 28),\n",
    "    \"Salvador\": (22, 29, 23, 30),\n",
    "    \"Manaus\": (23, 27, 23, 26),\n",
    "}"
   ]
  },
  {
   "cell_type": "code",
   "execution_count": 44,
   "metadata": {},
   "outputs": [
    {
     "name": "stdout",
     "output_type": "stream",
     "text": [
      "Mínima Estimada: 15, Máxima Estimada: 23, Mínima Real: 16, Máxima Real: 22 -> Acertou\n",
      "Mínima Estimada: 21, Máxima Estimada: 25, Mínima Real: 20, Máxima Real: 25 -> Errou\n",
      "Mínima Estimada: 19, Máxima Estimada: 22, Mínima Real: 19, Máxima Real: 22 -> Acertou\n",
      "Mínima Estimada: 23, Máxima Estimada: 25, Mínima Real: 19, Máxima Real: 21 -> Errou\n",
      "Mínima Estimada: 13, Máxima Estimada: 19, Mínima Real: 14, Máxima Real: 18 -> Acertou\n",
      "Mínima Estimada: 25, Máxima Estimada: 28, Mínima Real: 24, Máxima Real: 28 -> Errou\n",
      "Mínima Estimada: 22, Máxima Estimada: 29, Mínima Real: 23, Máxima Real: 30 -> Errou\n",
      "Mínima Estimada: 23, Máxima Estimada: 27, Mínima Real: 23, Máxima Real: 26 -> Acertou\n",
      "A precisão do tempo errou em 4 cidades e acertou em 4 cidades.\n"
     ]
    }
   ],
   "source": [
    "# precisao erra -> mínima real < mínima estimada ou máxima real > máxima estimada\n",
    "\n",
    "erros = 0\n",
    "acertos = 0\n",
    "\n",
    "for cidade in dic_temperaturas:\n",
    "    minima_estimada, maxima_estimada, minima_real, maxima_real = dic_temperaturas[cidade]\n",
    "    if minima_real < minima_estimada or maxima_real > maxima_estimada:\n",
    "        erros += 1\n",
    "        print(f'Mínima Estimada: {minima_estimada}, Máxima Estimada: {maxima_estimada}, Mínima Real: {minima_real}, Máxima Real: {maxima_real} -> Errou')\n",
    "    else:\n",
    "        acertos += 1\n",
    "        print(f'Mínima Estimada: {minima_estimada}, Máxima Estimada: {maxima_estimada}, Mínima Real: {minima_real}, Máxima Real: {maxima_real} -> Acertou')\n",
    "\n",
    "\n",
    "print(f'A precisão do tempo errou em {erros} cidades e acertou em {acertos} cidades.')"
   ]
  },
  {
   "cell_type": "markdown",
   "metadata": {},
   "source": [
    "### Você trabalha em uma montadora de veículos com 32 distribuidores e a meta da sua empresa era produzir e entregar 50.000 veículos no ano. Essa meta foi batida, com folga. Seu chefe então se questionou: se a gente tivesse 31 distribuidoras, ainda assim a gente teria batido a meta? E se a gente tivesse 30? E 29?\n",
    "\n",
    "Seu objetivo então é descobrir qual o menor número de distribuidores que teria permitido a sua empresa a ter batido essa meta de 50.000 veiculos produzidos e entregues no ano."
   ]
  },
  {
   "cell_type": "code",
   "execution_count": 58,
   "metadata": {},
   "outputs": [
    {
     "name": "stdout",
     "output_type": "stream",
     "text": [
      "A meta hoje de 50000 veículos foi batida com uma entrega de 52200, com auxílio mínimo de 18 distribuidoras\n"
     ]
    }
   ],
   "source": [
    "entregas_distribuidores = [5000, 4000, 3900, 3900, 3800, 3200, 3000, 3000, 3000, 3000, 2950, 2950, 2900, 2900, 2900, 2900, 2900, 2900, 2900, 2900, 2900, 2900, 2900, 2900, 2900, 2900, 2900, 2900, 2900, 2900, 2900, 2900]\n",
    "\n",
    "total_entregas = 0\n",
    "meta = 50000\n",
    "\n",
    "indice = 0\n",
    "while total_entregas < meta:\n",
    "    total_entregas += entregas_distribuidores[i]\n",
    "    indice += 1\n",
    "\n",
    "print(f'A meta hoje de 50000 veículos foi batida com uma entrega de {total_entregas}, com auxílio mínimo de {indice} distribuidoras')\n",
    "\n",
    "# seu código aqui"
   ]
  },
  {
   "cell_type": "markdown",
   "metadata": {},
   "source": [
    "### Um dos princípios mais importantes nas empresas é o princípio 80/20. No geral, 20% das ações que uma empresa faz geram 80% dos resultados. Isso tanto para receita, quanto para custos, etc. Você está analisando uma empresa de bebidas. Tendo isso em mente, queremos descobrir quais as linhas de custos que representam 80% do total gasto da empresa. Para isso, calcule quanto percentualmente cada custo representa do custo total da empresa e crie um ranking decrescente baseado nesse percentual "
   ]
  },
  {
   "cell_type": "code",
   "execution_count": 60,
   "metadata": {},
   "outputs": [],
   "source": [
    "custos = [\n",
    "    (10131.7, \"Custo Mercadorias Vendidas\"),\n",
    "    (2916, \"Logística\"),\n",
    "    (1741, \"Despesas Comerciais\"),\n",
    "    (1305, \"Despesas administrativas\"),\n",
    "    (28, \"Outros Itens\"),\n",
    "    (997, \"Juros e Resultado Financeiro\"),\n",
    "    (14, \"Participações em outros Empreendimentos\"),\n",
    "    (58, \"Impostos\")\n",
    "]"
   ]
  },
  {
   "cell_type": "code",
   "execution_count": null,
   "metadata": {},
   "outputs": [
    {
     "name": "stdout",
     "output_type": "stream",
     "text": [
      "[(10131.7, 'Custo Mercadorias Vendidas', 0.589370997108902, 0.589370997108902), (2916, 'Logística', 0.1696266004293019, 0.7589975975382038), (1741, 'Despesas Comerciais', 0.10127568976248785, 0.8602732873006917), (1305, 'Despesas administrativas', 0.07591313908101473, 0.9361864263817065), (997, 'Juros e Resultado Financeiro', 0.057996474838139224, 0.9941829012198456), (58, 'Impostos', 0.0033739172924895436, 0.9975568185123352), (28, 'Outros Itens', 0.001628787658443228, 0.9991856061707785), (14, 'Participações em outros Empreendimentos', 0.000814393829221614, 1.0)]\n"
     ]
    }
   ],
   "source": [
    "# seu código aqui\n",
    "\n",
    "custos.sort(reverse=True)\n",
    "total_custo_empresa = sum(dept[0] for dept in custos)\n",
    "\n",
    "percentual_custo_acumulado = 0\n",
    "\n",
    "for indice in range(len(custos)):\n",
    "    # unpacking\n",
    "    valor_custo, descricao_dept = custos[indice]\n",
    "    percentual_custo_acumulado += (valor_custo / total_custo_empresa)\n",
    "    # packing\n",
    "    custos[indice] = valor_custo, descricao_dept, (valor_custo / total_custo_empresa), percentual_custo_acumulado\n",
    "\n",
    "print(custos)\n",
    "\n",
    "\n"
   ]
  },
  {
   "cell_type": "markdown",
   "metadata": {},
   "source": [
    "### Você trabalha em uma empresa que possui várias franquias. Queremos saber quais as franquias que têm maior número de funcionários e quais dessas, juntas, representam 80% dos funcionários da rede toda."
   ]
  },
  {
   "cell_type": "code",
   "execution_count": 109,
   "metadata": {},
   "outputs": [
    {
     "name": "stdout",
     "output_type": "stream",
     "text": [
      "Franquia: Loja D | Qtde. funcionarios: 25000 | Percentual funcionários: 39.71% | Percentual empresa: 39.7%\n",
      "Franquia: Loja A | Qtde. funcionarios: 25000 | Percentual funcionários: 39.71% | Percentual empresa: 79.4%\n",
      "Franquia: Loja B | Qtde. funcionarios: 10000 | Percentual funcionários: 15.88% | Percentual empresa: 95.3%\n",
      "Franquia: Loja E | Qtde. funcionarios: 1200 | Percentual funcionários: 1.91% | Percentual empresa: 97.2%\n",
      "Franquia: Loja C | Qtde. funcionarios: 500 | Percentual funcionários: 0.79% | Percentual empresa: 98.0%\n",
      "Franquia: Loja F | Qtde. funcionarios: 400 | Percentual funcionários: 0.64% | Percentual empresa: 98.6%\n",
      "Franquia: Loja M | Qtde. funcionarios: 200 | Percentual funcionários: 0.32% | Percentual empresa: 99.0%\n",
      "Franquia: Loja K | Qtde. funcionarios: 200 | Percentual funcionários: 0.32% | Percentual empresa: 99.3%\n",
      "Franquia: Loja I | Qtde. funcionarios: 200 | Percentual funcionários: 0.32% | Percentual empresa: 99.6%\n",
      "Franquia: Loja G | Qtde. funcionarios: 200 | Percentual funcionários: 0.32% | Percentual empresa: 99.9%\n",
      "Franquia: Loja N | Qtde. funcionarios: 15 | Percentual funcionários: 0.02% | Percentual empresa: 99.9%\n",
      "Franquia: Loja L | Qtde. funcionarios: 15 | Percentual funcionários: 0.02% | Percentual empresa: 100.0%\n",
      "Franquia: Loja J | Qtde. funcionarios: 15 | Percentual funcionários: 0.02% | Percentual empresa: 100.0%\n",
      "Franquia: Loja H | Qtde. funcionarios: 15 | Percentual funcionários: 0.02% | Percentual empresa: 100.0%\n",
      "\n",
      "\n",
      "Franquias que representam aproximadamente 80% dos funcionários da empresa: ['Loja D', 'Loja A']\n"
     ]
    }
   ],
   "source": [
    "franquias = [\n",
    "    (25000, \"Loja A\"),\n",
    "    (10000, \"Loja B\"),\n",
    "    (500, \"Loja C\"),\n",
    "    (25000, \"Loja D\"),\n",
    "    (1200, \"Loja E\"),\n",
    "    (400, \"Loja F\"),\n",
    "    (200, \"Loja G\"),\n",
    "    (15, \"Loja H\"),\n",
    "    (200, \"Loja I\"),\n",
    "    (15, \"Loja J\"),\n",
    "    (200, \"Loja K\"),\n",
    "    (15, \"Loja L\"),\n",
    "    (200, \"Loja M\"),\n",
    "    (15, \"Loja N\"),\n",
    "]\n",
    "\n",
    "# seu código aqui\n",
    "\n",
    "franquias.sort(reverse=True)\n",
    "\n",
    "total_funcionarios_empresa = sum(franquia[0] for franquia in franquias)\n",
    "\n",
    "lista_franquias_repr_empresa = []\n",
    "\n",
    "percentual_empresa = 0\n",
    "\n",
    "for ind in range(len(franquias)):\n",
    "    # unpacking\n",
    "    qtde_funcionarios, franquia = franquias[ind]\n",
    "    percentual_empresa += (qtde_funcionarios / total_funcionarios_empresa)\n",
    "    percentual_funcionarios_franquia = qtde_funcionarios / total_funcionarios_empresa\n",
    "    franquias[ind] = qtde_funcionarios, franquia, percentual_funcionarios_franquia, percentual_empresa\n",
    "    # print(f'Qtde. funcionarios: {qtde_funcionarios} | Franquia: {franquia}')\n",
    "\n",
    "for qtde_funcionarios, nome_franquia, percentual_funcionarios_franquia, percentual_empresa in franquias:\n",
    "    if percentual_empresa <= 0.8:\n",
    "        lista_franquias_repr_empresa.append(nome_franquia)\n",
    "\n",
    "    print(f'Franquia: {nome_franquia} | Qtde. funcionarios: {qtde_funcionarios} | Percentual funcionários: {percentual_funcionarios_franquia:.2%} | Percentual empresa: {percentual_empresa:.1%}')\n",
    "\n",
    "print(f'\\n\\nFranquias que representam aproximadamente 80% dos funcionários da empresa: {lista_franquias_repr_empresa}')\n",
    "# print(total_funcionarios_empresa)"
   ]
  },
  {
   "cell_type": "markdown",
   "metadata": {},
   "source": [
    "### Desafio (esse exercício é mais difícil mesmo)\n",
    "### Com o PIB de 2022 e de 2021 de cada estado brasileiro, descubra: qual o maior PIB, menor PIB, média do PIB, PIB total em cada ano e qual estado mais cresceu o PIB percentualmente e em valores absolutos de um ano pro outro"
   ]
  },
  {
   "cell_type": "code",
   "execution_count": 111,
   "metadata": {},
   "outputs": [],
   "source": [
    "pib_2022 = {\n",
    "    \"Acre\": 21374,\n",
    "    \"Alagoas\": 76266,\n",
    "    \"Amapá\": 20100,\n",
    "    \"Amazonas\": 131531,\n",
    "    \"Bahia\": 352618,\n",
    "    \"Ceará\": 194885,\n",
    "    \"Distrito Federal\": 286944,\n",
    "    \"Espírito Santo\": 186337,\n",
    "    \"Goiás\": 269628,\n",
    "    \"Maranhão\": 124981,\n",
    "    \"Mato Grosso\": 233390,\n",
    "    \"Mato Grosso do Sul\": 142204,\n",
    "    \"Minas Gerais\": 857593,\n",
    "    \"Paraná\": 549973,\n",
    "    \"Paraíba\": 77470,\n",
    "    \"Pará\": 262905,\n",
    "    \"Pernambuco\": 220814,\n",
    "    \"Piauí\": 64028,\n",
    "    \"Rio de Janeiro\": 949301,\n",
    "    \"Rio Grande do Norte\": 80181,\n",
    "    \"Rio Grande do Sul\": 581284,\n",
    "    \"Rondônia\": 58170,\n",
    "    \"Roraima\": 18203,\n",
    "    \"Santa Catarina\": 428571,\n",
    "    \"Sergipe\": 51861,\n",
    "    \"São Paulo\": 2719751,\n",
    "    \"Tocantins\": 51781\n",
    "}\n",
    "\n",
    "pib_2021 = {\n",
    "    \"Acre\": 16476,\n",
    "    \"Alagoas\": 63202,\n",
    "    \"Amapá\": 18469,\n",
    "    \"Amazonas\": 116019,\n",
    "    \"Bahia\": 305321,\n",
    "    \"Ceará\": 166915,\n",
    "    \"Distrito Federal\": 265847,\n",
    "    \"Espírito Santo\": 138446,\n",
    "    \"Goiás\": 224126,\n",
    "    \"Maranhão\": 106916,\n",
    "    \"Mato Grosso\": 178650,\n",
    "    \"Mato Grosso do Sul\": 122628,\n",
    "    \"Minas Gerais\": 682786, \n",
    "    \"Paraná\": 487931,\n",
    "    \"Paraíba\": 70292,\n",
    "    \"Pará\": 215936,\n",
    "    \"Pernambuco\": 193307,\n",
    "    \"Piauí\": 56391,\n",
    "    \"Rio de Janeiro\": 753824,\n",
    "    \"Rio Grande do Norte\": 71577,\n",
    "    \"Rio Grande do Sul\": 470942, \n",
    "    \"Rondônia\": 51599,\n",
    "    \"Roraima\": 16024,\n",
    "    \"Santa Catarina\": 349275,\n",
    "    \"Sergipe\": 45410,\n",
    "    \"São Paulo\": 2377639,\n",
    "    \"Tocantins\": 43650\n",
    "    }"
   ]
  },
  {
   "cell_type": "code",
   "execution_count": 123,
   "metadata": {},
   "outputs": [
    {
     "name": "stdout",
     "output_type": "stream",
     "text": [
      "Total PIB 2022: 9012144 | Média PIB 2022: 333783.11\n",
      "Total PIB 2021: 7609598 | Média PIB 2021: 281836.96\n",
      "\n",
      "O maior PIB de 2022 foi de 2719751, pretencente ao estado São Paulo\n",
      "O menor PIB de 2022 foi de 18203, pretencente ao estado Roraima\n",
      "\n",
      "O maior PIB de 2021 foi de 2377639, pretencente ao estado São Paulo\n",
      "O menor PIB de 2021 foi de 16024, pretencente ao estado Roraima\n",
      "\n",
      "Maior alta PIB percentual: 34.59% | Estado: Espírito Santo\n",
      "Maior alta PIB absoluto: 342112 | Estado: São Paulo\n"
     ]
    }
   ],
   "source": [
    "# seu código aqui\n",
    "\n",
    "# decobrir o maior PIB, o menor PIB, a média do PIB, PIB total de cada ano, qual estado mais cresceu o PIB percentualmente\n",
    "\n",
    "valores_pib_2022 = list(pib_2022.values())\n",
    "estados_pib_2022 = list(pib_2022.keys())\n",
    "\n",
    "valores_pib_2021 = list(pib_2021.values())\n",
    "estados_pib_2021 = list(pib_2021.keys())\n",
    "\n",
    "valor_total_pib2022 = sum(valores_pib_2022)\n",
    "valor_total_pib2021 = sum(valores_pib_2021)\n",
    "\n",
    "media_pib_2022 = valor_total_pib2022 / len(pib_2022)\n",
    "media_pib_2021 = valor_total_pib2021 / len(pib_2021)\n",
    "\n",
    "maior_pib_2022 = max(valores_pib_2022)\n",
    "maior_pib_2021 = max(valores_pib_2021)\n",
    "\n",
    "menor_pib_2022 = min(valores_pib_2022)\n",
    "menor_pib_2021 = min(valores_pib_2021)\n",
    "\n",
    "\n",
    "print(f'Total PIB 2022: {valor_total_pib2022} | Média PIB 2022: {media_pib_2022:.2f}')\n",
    "print(f'Total PIB 2021: {valor_total_pib2021} | Média PIB 2021: {media_pib_2021:.2f}\\n')\n",
    "\n",
    "ind_maior_pib2022 = valores_pib_2022.index(maior_pib_2022)\n",
    "estado_maior_pib2022 = estados_pib_2022[ind_maior_pib2022]\n",
    "print(f'O maior PIB de 2022 foi de {maior_pib_2022}, pretencente ao estado {estado_maior_pib2022}')\n",
    "\n",
    "ind_menor_pib2022 = valores_pib_2022.index(menor_pib_2022)\n",
    "estado_menor_pib2022 = estados_pib_2022[ind_menor_pib2022]\n",
    "print(f'O menor PIB de 2022 foi de {menor_pib_2022}, pretencente ao estado {estado_menor_pib2022}\\n')\n",
    "\n",
    "ind_maior_pib2021 = valores_pib_2021.index(maior_pib_2021)\n",
    "estado_maior_pib2021 = estados_pib_2021[ind_maior_pib2021]\n",
    "print(f'O maior PIB de 2021 foi de {maior_pib_2021}, pretencente ao estado {estado_maior_pib2021}')\n",
    "\n",
    "ind_menor_pib2021 = valores_pib_2021.index(menor_pib_2021)\n",
    "estado_menor_pib2021 = estados_pib_2021[ind_menor_pib2021]\n",
    "print(f'O menor PIB de 2021 foi de {menor_pib_2021}, pretencente ao estado {estado_menor_pib2021}')\n",
    "\n",
    "# qual estado mais cresceu o PIB percentualmente e em valores absolutos de um ano pro outro\n",
    "\n",
    "maior_crescimento_pib_perc = 0\n",
    "estado_maior_crescimento_pib_perc = ''\n",
    "\n",
    "maior_crescimento_pib_abs = 0\n",
    "estado_maior_crescimento_pib_abs = ''\n",
    "\n",
    "for estado in pib_2021:\n",
    "    pib_2021_estado = pib_2021[estado]\n",
    "    pib_2022_estado = pib_2022[estado]\n",
    "\n",
    "    pib_crescimento_abs = pib_2022_estado - pib_2021_estado\n",
    "    percent_crescimeto = pib_crescimento_abs / pib_2021_estado\n",
    "\n",
    "    if pib_crescimento_abs > maior_crescimento_pib_abs:\n",
    "        maior_crescimento_pib_abs = pib_crescimento_abs\n",
    "        estado_maior_crescimento_pib_abs = estado\n",
    "\n",
    "    if percent_crescimeto > maior_crescimento_pib_perc:\n",
    "        maior_crescimento_pib_perc = percent_crescimeto\n",
    "        estado_maior_crescimento_pib_perc = estado\n",
    "\n",
    "print(f'\\nMaior alta PIB percentual: {maior_crescimento_pib_perc:.2%} | Estado: {estado_maior_crescimento_pib_perc}')\n",
    "print(f'Maior alta PIB absoluto: {maior_crescimento_pib_abs} | Estado: {estado_maior_crescimento_pib_abs}')\n"
   ]
  },
  {
   "cell_type": "markdown",
   "metadata": {},
   "source": [
    "### Desafio (esse exercício é mais difícil mesmo)\n",
    "### Temos o preço de diferentes ações no início de 2024 e em maio de 2024, queremos:\n",
    "    - Ação que mais subiu, ação que mais caiu no período (percentualmente)\n",
    "    - Se tivessemos 1.000 reais investido em um portfólio com as ações da carteira A vs um portfólio com as ações B, qual teria rendido mais? - considere que os 1.000 reais são investidos de forma proporcional entre cada ativo da carteira"
   ]
  },
  {
   "cell_type": "code",
   "execution_count": 8,
   "metadata": {},
   "outputs": [],
   "source": [
    "acoes = {\n",
    "    \"PETR4\": [37.78, 37.01],\n",
    "    \"VALE3\": [77.05, 65.30],\n",
    "    \"ITUB4\": [33.52, 33.74],\n",
    "    \"ABEV3\": [13.71, 11.81],\n",
    "    \"WEGE3\": [36.57, 38.35],\n",
    "    \"BBAS3\": [27.38, 29.41],\n",
    "    \"JBSS3\": [25.17, 29.96],\n",
    "    \"SBSP3\": [73.63, 75.07]\n",
    "}\n",
    "\n",
    "carteiraA = [\"PETR4\", \"VALE3\", \"JBSS3\", \"SBSP3\"]\n",
    "carteiraB = [\"WEGE3\", \"BBAS3\", \"ITUB4\", \"ABEV3\"]"
   ]
  },
  {
   "cell_type": "code",
   "execution_count": 31,
   "metadata": {},
   "outputs": [
    {
     "name": "stdout",
     "output_type": "stream",
     "text": [
      "Ação que mais subiu JBSS3: 19.03%\n",
      "Ação que mais caiu VALE3: -15.25%\n"
     ]
    }
   ],
   "source": [
    "# seu código aqui - Ação que mais subiu, ação que mais caiu no período (percentualmente)\n",
    "\n",
    "# {('nome_acao': [valor_açao_inicio_2024, valor_acao_maio_2024])}\n",
    "\n",
    "\n",
    "acao_maior_subida = ''\n",
    "percentual_acao_maior_subida = 0\n",
    "acao_maior_queda = ''\n",
    "percentual_acao_maior_queda = 0\n",
    "\n",
    "for acao in acoes:\n",
    "    valores = acoes[acao]\n",
    "    valor_acao_inicio_2024 = valores[0]\n",
    "    valor_acao_maio_2024 = valores[1]\n",
    "\n",
    "    variacao_percentual_acao = (valor_acao_maio_2024 / valor_acao_inicio_2024) - 1\n",
    "\n",
    "    if variacao_percentual_acao > percentual_acao_maior_subida:\n",
    "        acao_maior_subida = acao\n",
    "        percentual_acao_maior_subida = variacao_percentual_acao\n",
    "    elif variacao_percentual_acao < percentual_acao_maior_queda:\n",
    "            acao_maior_queda = acao\n",
    "            percentual_acao_maior_queda = variacao_percentual_acao\n",
    "\n",
    "print(f'Ação que mais subiu {acao_maior_subida}: {percentual_acao_maior_subida:.2%}')\n",
    "print(f'Ação que mais caiu {acao_maior_queda}: {percentual_acao_maior_queda:.2%}')\n",
    "\n",
    "    # print(f'Valor da ação {acao}:\\nInício de 2024: {valor_acao_inicio_2024}\\nmaio de 2024: {valor_acao_maio_2024}\\n\\n')"
   ]
  },
  {
   "cell_type": "code",
   "execution_count": 30,
   "metadata": {},
   "outputs": [
    {
     "name": "stdout",
     "output_type": "stream",
     "text": [
      "Valores resultantes das carteiras:\n",
      "CarteiraA: R$ 1,009.25\n",
      "CarteiraB: R$ 997.70\n",
      "\n",
      "\n",
      "Carteira A rendeu mais com um valor resultante de R$ 1,009.25\n"
     ]
    }
   ],
   "source": [
    "# seu código aqui - Se tivessemos 1.000 reais investido em um portfólio com as ações da carteira A vs um portfólio com as ações B,\n",
    "# qual teria rendido mais? - considere que os 1.000 reais são investidos de forma proporcional entre cada ativo da carteira\n",
    "\n",
    "variacoes_acoes = {}\n",
    "\n",
    "for acao in acoes:\n",
    "    valores = acoes[acao]\n",
    "    valor_acao_inicio_2024 = valores[0]\n",
    "    valor_acao_maio_2024 = valores[1]\n",
    "\n",
    "    variacao_percentual_acao = (valor_acao_maio_2024 / valor_acao_inicio_2024) - 1\n",
    "    variacoes_acoes[acao] = variacao_percentual_acao\n",
    "\n",
    "# print(variacoes_acoes)\n",
    "\n",
    "valor_real_investido = 1000 / len(carteiraA)\n",
    "valor_resultante_carteiraA = 0\n",
    "valor_resultante_carteiraB = 0\n",
    "\n",
    "# montante = juros + capital\n",
    "# montante = (variacao[acao] * capital) + capital\n",
    "\n",
    "for acao in carteiraA:\n",
    "    valor_resultante_acao = (variacoes_acoes[acao] * valor_real_investido) + valor_real_investido\n",
    "    valor_resultante_carteiraA += valor_resultante_acao\n",
    "\n",
    "for acao in carteiraB:\n",
    "    valor_resultante_acao = variacoes_acoes[acao] * valor_real_investido + valor_real_investido\n",
    "    valor_resultante_carteiraB += valor_resultante_acao\n",
    "\n",
    "print(f'Valores resultantes das carteiras:\\nCarteiraA: R$ {valor_resultante_carteiraA:,.2f}\\nCarteiraB: R$ {valor_resultante_carteiraB:,.2f}\\n\\n')\n",
    "\n",
    "if valor_resultante_carteiraA > valor_resultante_carteiraB:\n",
    "    print(f'Carteira A rendeu mais com um valor resultante de R$ {valor_resultante_carteiraA:,.2f}')\n",
    "else:\n",
    "    print(f'Carteira B rendeu mais com um valor resultante de R$ {valor_resultante_carteiraB:,.2f}')\n"
   ]
  }
 ],
 "metadata": {
  "kernelspec": {
   "display_name": "venv",
   "language": "python",
   "name": "python3"
  },
  "language_info": {
   "codemirror_mode": {
    "name": "ipython",
    "version": 3
   },
   "file_extension": ".py",
   "mimetype": "text/x-python",
   "name": "python",
   "nbconvert_exporter": "python",
   "pygments_lexer": "ipython3",
   "version": "3.12.5"
  }
 },
 "nbformat": 4,
 "nbformat_minor": 2
}
