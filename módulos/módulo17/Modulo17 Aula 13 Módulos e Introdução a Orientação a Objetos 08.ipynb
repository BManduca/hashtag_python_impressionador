{
 "cells": [
  {
   "cell_type": "markdown",
   "metadata": {},
   "source": [
    "# Como instalar um Módulo/Biblioteca que não tenha no seu computador\n",
    "\n",
    "### Estrutura:\n",
    "\n",
    "- Usaremos o \"pip\" para isso. É um gerenciador de módulos/pacotes/bibliotecas que ajuda a gente a instalar, atualizar, desinstalar novos módulos\n",
    "- Não precisa dominar pip, apenas os comandos que vamos usar aqui mesmo\n",
    "\n",
    "Passo 1: Abrir o Prompt do Anaconda<br>\n",
    "Passo 2: Instalar com o pip os pacotes que quiser<br>\n",
    "Passo 3: Reiniciar o Jupyter (nem sempre necessário, mas na dúvida é melhor fazer)<br>"
   ]
  },
  {
   "cell_type": "code",
   "execution_count": null,
   "metadata": {},
   "outputs": [],
   "source": [
    "!pip3 install keyboard"
   ]
  },
  {
   "cell_type": "code",
   "execution_count": null,
   "metadata": {},
   "outputs": [],
   "source": [
    "import keyboard\n",
    "from time import sleep\n",
    "\n",
    "keyboard.press_and_release('command+space')\n",
    "sleep(1)\n",
    "\n",
    "keyboard.write('Arc')\n",
    "sleep(2)\n",
    "\n",
    "keyboard.press_and_release('enter')\n",
    "sleep(2)\n",
    "\n",
    "# abrindo nova aba no navegador\n",
    "keyboard.press_and_release('command+t')\n",
    "sleep(2)\n",
    "\n",
    "# digitando o site\n",
    "keyboard.write('hashtagtreinamentos.com')\n",
    "\n",
    "keyboard.press_and_release('enter')"
   ]
  },
  {
   "cell_type": "code",
   "execution_count": null,
   "metadata": {},
   "outputs": [],
   "source": [
    "import pyautogui\n",
    "\n",
    "# comando para realizar uma pausa durante um comando\n",
    "pyautogui.PAUSE = 0.5\n",
    "\n",
    "# abrindo raycast\n",
    "pyautogui.hotkey('command','space')\n",
    "pyautogui.write('Arc')\n",
    "pyautogui.press('enter')\n",
    "\n",
    "pyautogui.hotkey('command', 't')\n",
    "pyautogui.write('hashtagtreinamentos.com')\n",
    "pyautogui.press('enter')\n"
   ]
  },
  {
   "cell_type": "markdown",
   "metadata": {},
   "source": []
  }
 ],
 "metadata": {
  "kernelspec": {
   "display_name": "venv",
   "language": "python",
   "name": "python3"
  },
  "language_info": {
   "codemirror_mode": {
    "name": "ipython",
    "version": 3
   },
   "file_extension": ".py",
   "mimetype": "text/x-python",
   "name": "python",
   "nbconvert_exporter": "python",
   "pygments_lexer": "ipython3",
   "version": "3.12.5"
  }
 },
 "nbformat": 4,
 "nbformat_minor": 4
}
