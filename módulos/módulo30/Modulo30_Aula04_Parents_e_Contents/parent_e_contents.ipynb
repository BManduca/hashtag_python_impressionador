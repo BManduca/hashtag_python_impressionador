{
 "cells": [
  {
   "cell_type": "markdown",
   "id": "abdf0c20",
   "metadata": {},
   "source": [
    "## Parents e Contents\n",
    "* Parents -> propriedade com a finalidade de apresentar o elemento 'pai' do elemento que você está interagindo\n",
    "* Contents -> propriedade com a finalidade de apresentar o conteúdo que está presente dentro do elemento que está sendo analisado\n",
    "\n",
    "* O Contents basicamente é o caminho contrario do Parents"
   ]
  },
  {
   "cell_type": "code",
   "execution_count": 3,
   "id": "e55fa4ac",
   "metadata": {},
   "outputs": [
    {
     "name": "stdout",
     "output_type": "stream",
     "text": [
      "1 -> Mais de 50.000 de alunos formados por Todos os Cursos da Hashtag\n",
      "2 -> Nos últimos anos, a Hashtag Treinamentos transformou a vida de milhares de alunos no Brasil e no Mundo com seus cursos!\n"
     ]
    }
   ],
   "source": [
    "from bs4 import BeautifulSoup\n",
    "import re\n",
    "\n",
    "with open(\"Pagina Hashtag.html\", \"r\", encoding=\"utf-8\") as arquivo:\n",
    "    site = BeautifulSoup(arquivo, \"html.parser\")\n",
    "\n",
    "textos = site.find_all(string=re.compile(\"alunos\"))\n",
    "\n",
    "for i, texto in enumerate(textos):\n",
    "    print(f'{i+1} -> {texto}')"
   ]
  },
  {
   "cell_type": "markdown",
   "id": "e58cb9d1",
   "metadata": {},
   "source": [
    "## Parents"
   ]
  },
  {
   "cell_type": "code",
   "execution_count": 6,
   "id": "7f05c2f1",
   "metadata": {},
   "outputs": [
    {
     "name": "stdout",
     "output_type": "stream",
     "text": [
      "<mark class=\"has-inline-color\" style=\"background-color:rgba(0, 0, 0, 0);color:#112e61\">Mais de 50.000 de alunos formados por Todos os Cursos da Hashtag</mark>\n"
     ]
    }
   ],
   "source": [
    "parent_text_0 = textos[0].parent\n",
    "print(parent_text_0)"
   ]
  },
  {
   "cell_type": "markdown",
   "id": "b57533c8",
   "metadata": {},
   "source": [
    "## Contents"
   ]
  },
  {
   "cell_type": "code",
   "execution_count": 15,
   "id": "7708158d",
   "metadata": {},
   "outputs": [
    {
     "name": "stdout",
     "output_type": "stream",
     "text": [
      "[' ', <span class=\"navbar-toggler-icon\"></span>, ' ']\n"
     ]
    }
   ],
   "source": [
    "barra_navegacao = site.find(\"nav\")\n",
    "\n",
    "# print(barra_navegacao.contents)\n",
    "\n",
    "# for elemento in barra_navegacao.contents:\n",
    "#     print(elemento)\n",
    "#     print(' ')\n",
    "\n",
    "botao = barra_navegacao.contents[1]\n",
    "\n",
    "print(botao.contents)"
   ]
  },
  {
   "cell_type": "code",
   "execution_count": 20,
   "id": "75064150",
   "metadata": {},
   "outputs": [
    {
     "name": "stdout",
     "output_type": "stream",
     "text": [
      "[<mark class=\"has-inline-color\" style=\"background-color:rgba(0, 0, 0, 0);color:#112e61\">Mais de 50.000 de alunos formados por Todos os Cursos da Hashtag</mark>]\n",
      "['Mais de 50.000 de alunos formados por Todos os Cursos da Hashtag']\n"
     ]
    }
   ],
   "source": [
    "titulo_pagina_alunos = site.find(id='mais-de-50-000-de-alunos-formados-por-todos-os-cursos-da-hashtag')\n",
    "\n",
    "print(titulo_pagina_alunos.contents)\n",
    "print(titulo_pagina_alunos.contents[0].contents)"
   ]
  }
 ],
 "metadata": {
  "kernelspec": {
   "display_name": "venv",
   "language": "python",
   "name": "python3"
  },
  "language_info": {
   "codemirror_mode": {
    "name": "ipython",
    "version": 3
   },
   "file_extension": ".py",
   "mimetype": "text/x-python",
   "name": "python",
   "nbconvert_exporter": "python",
   "pygments_lexer": "ipython3",
   "version": "3.12.5"
  }
 },
 "nbformat": 4,
 "nbformat_minor": 5
}
