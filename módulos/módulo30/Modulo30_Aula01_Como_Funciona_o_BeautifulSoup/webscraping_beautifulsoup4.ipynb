{
 "cells": [
  {
   "cell_type": "code",
   "execution_count": 9,
   "metadata": {},
   "outputs": [],
   "source": [
    "import pandas as pd\n",
    "from bs4 import BeautifulSoup\n",
    "\n",
    "with open(\"Pagina Hashtag.html\", \"r\", encoding=\"utf-8\") as arquivo:\n",
    "    site = BeautifulSoup(arquivo, \"html.parser\")\n",
    "\n",
    "barra_navegacao = site.find('nav')\n",
    "\n",
    "lista_links_nav = barra_navegacao.find_all(\"a\")\n",
    "\n",
    "# for link in lista_links_nav:\n",
    "#     print(f'Curso: {link['title']} | Link: {link['href']}')\n",
    "\n",
    "# lista para armazenar os dados dos cursos\n",
    "lista_dados_nav = []\n",
    "\n",
    "for opc in lista_links_nav:\n",
    "    elemento = opc.get('title')\n",
    "    href = opc.get('href')\n",
    "    lista_dados_nav.append({'Elemento': elemento, 'Link': href})\n",
    "\n",
    "# criando DataFrame com os dados dos Cursos\n",
    "df = pd.DataFrame(lista_dados_nav)\n",
    "\n",
    "# salvando em um arquivo CSV\n",
    "df.to_csv('cursos_contatos_hashtag.csv', index=False, encoding='utf-8')"
   ]
  }
 ],
 "metadata": {
  "kernelspec": {
   "display_name": "venv",
   "language": "python",
   "name": "python3"
  },
  "language_info": {
   "codemirror_mode": {
    "name": "ipython",
    "version": 3
   },
   "file_extension": ".py",
   "mimetype": "text/x-python",
   "name": "python",
   "nbconvert_exporter": "python",
   "pygments_lexer": "ipython3",
   "version": "3.12.5"
  }
 },
 "nbformat": 4,
 "nbformat_minor": 2
}
