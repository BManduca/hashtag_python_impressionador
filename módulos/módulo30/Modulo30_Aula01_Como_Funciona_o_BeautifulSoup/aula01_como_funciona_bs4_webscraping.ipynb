{
 "cells": [
  {
   "cell_type": "markdown",
   "metadata": {},
   "source": [
    "## Web-Scraping utilizando BeautifulSoup"
   ]
  },
  {
   "cell_type": "code",
   "execution_count": null,
   "metadata": {},
   "outputs": [],
   "source": [
    "import re\n",
    "from bs4 import BeautifulSoup\n",
    "\n",
    "# 'abrindo' a página HTML salva no diretório\n",
    "with open(\"Pagina Hashtag.html\", \"r\", encoding=\"utf-8\") as arquivo:\n",
    "    # o html.parser ira ler o arquivo html\n",
    "    # 'trazer' para o BS, traduzindo o HTML para o mesmo\n",
    "    site = BeautifulSoup(arquivo, \"html.parser\")\n",
    "\n",
    "# prettify -> organiza e deixa o html puro mais 'bonito'\n",
    "# print(site.prettify())\n",
    "\n",
    "titulo_site = site.title\n",
    "# extraindo titulo com html puro\n",
    "print(f'O título do site com formatação HTML: {titulo_site}')\n",
    "\n",
    "# extraindo somente o texto do título\n",
    "print(f'O título do site sem formatação HTML: {titulo_site.text}')\n",
    "\n",
    "# buscando por um elemento HTML\n",
    "titulo_site_2 = site.find('title')\n",
    "print(f'O título do site encontrado via find: {titulo_site_2.text}')\n"
   ]
  },
  {
   "cell_type": "markdown",
   "metadata": {},
   "source": [
    "## Localizando elemento H1 dentro do HTML"
   ]
  },
  {
   "cell_type": "code",
   "execution_count": null,
   "metadata": {},
   "outputs": [],
   "source": [
    "h1_element = site.find('h1')\n",
    "print(h1_element.prettify())"
   ]
  },
  {
   "cell_type": "markdown",
   "metadata": {},
   "source": [
    "## Localizando a barra de navegação dentro do HTML"
   ]
  },
  {
   "cell_type": "code",
   "execution_count": null,
   "metadata": {},
   "outputs": [],
   "source": [
    "barra_navegacao = site.find('nav')\n",
    "print(barra_navegacao.prettify())"
   ]
  },
  {
   "cell_type": "markdown",
   "metadata": {},
   "source": [
    "## Encontrando os links (anchors) dentro do HTML"
   ]
  },
  {
   "cell_type": "code",
   "execution_count": null,
   "metadata": {},
   "outputs": [],
   "source": [
    "# encontrando um único (o primeiro) link presente dentro do nav\n",
    "link = barra_navegacao.find(\"a\")\n",
    "print(link.prettify())"
   ]
  },
  {
   "cell_type": "code",
   "execution_count": null,
   "metadata": {},
   "outputs": [],
   "source": [
    "# encontrando todos os links presentes no nav\n",
    "lista_links_nav = barra_navegacao.find_all(\"a\")\n",
    "\n",
    "for link in lista_links_nav:\n",
    "    print(f'{link.prettify()}')"
   ]
  },
  {
   "cell_type": "code",
   "execution_count": null,
   "metadata": {},
   "outputs": [],
   "source": [
    "for i, link in enumerate(lista_links_nav):\n",
    "    # através do attrs (attributes), é retornado um dicionário com todas as infos do link\n",
    "    print(f'{i+1} -> {link['title']} | {link['href']}')"
   ]
  },
  {
   "cell_type": "markdown",
   "metadata": {},
   "source": [
    "## Encontrando elementos com várias regras"
   ]
  },
  {
   "cell_type": "code",
   "execution_count": null,
   "metadata": {},
   "outputs": [],
   "source": [
    "elementos_barra_navegacao = barra_navegacao.find_all([\"a\", \"button\"])\n",
    "\n",
    "for elemento in elementos_barra_navegacao:\n",
    "    print(elemento.prettify())"
   ]
  },
  {
   "cell_type": "markdown",
   "metadata": {},
   "source": [
    "## Outras regras de find\n",
    "* por classe\n",
    "* por id\n",
    "* por atributos\n",
    "* por texto\n",
    "* por pedaços de texto\n"
   ]
  },
  {
   "cell_type": "markdown",
   "metadata": {},
   "source": [
    "## Class"
   ]
  },
  {
   "cell_type": "code",
   "execution_count": null,
   "metadata": {},
   "outputs": [],
   "source": [
    "# o class_ foi utilizado pois, como class é uma palavra reservada do Python, foi adicionado o _ no final\n",
    "subtitulo = site.find(class_=\"tit\")\n",
    "print(subtitulo)"
   ]
  },
  {
   "cell_type": "markdown",
   "metadata": {},
   "source": [
    "## ID"
   ]
  },
  {
   "cell_type": "code",
   "execution_count": null,
   "metadata": {},
   "outputs": [],
   "source": [
    "header_page = site.find(id=\"header\")\n",
    "print(header_page.prettify())"
   ]
  },
  {
   "cell_type": "markdown",
   "metadata": {},
   "source": [
    "## Atributos"
   ]
  },
  {
   "cell_type": "code",
   "execution_count": null,
   "metadata": {},
   "outputs": [],
   "source": [
    "header_page2 = site.find(role=\"banner\")\n",
    "print(header_page2.prettify())"
   ]
  },
  {
   "cell_type": "markdown",
   "metadata": {},
   "source": [
    "## Tag"
   ]
  },
  {
   "cell_type": "code",
   "execution_count": null,
   "metadata": {},
   "outputs": [],
   "source": [
    "logo_hashtag = site.find(\"img\", {\"data-ll-status\": \"loaded\", \"class\": \"custom-logo\"})\n",
    "print(logo_hashtag)"
   ]
  },
  {
   "cell_type": "markdown",
   "metadata": {},
   "source": [
    "## Busca por Texto"
   ]
  },
  {
   "cell_type": "code",
   "execution_count": null,
   "metadata": {},
   "outputs": [],
   "source": [
    "# texto é igual\n",
    "\n",
    "foco_mercado = site.find(string=\"Foco no Mercado\")\n",
    "print(foco_mercado)\n"
   ]
  },
  {
   "cell_type": "code",
   "execution_count": 58,
   "metadata": {},
   "outputs": [
    {
     "name": "stdout",
     "output_type": "stream",
     "text": [
      "1 -> Mais de 50.000 de alunos formados por Todos os Cursos da Hashtag\n",
      "2 -> Nos últimos anos, a Hashtag Treinamentos transformou a vida de milhares de alunos no Brasil e no Mundo com seus cursos!\n"
     ]
    }
   ],
   "source": [
    "# contém texto\n",
    "\n",
    "texto_alunos = site.find_all(string=re.compile(\"alunos\"))\n",
    "for i, texto in enumerate(texto_alunos):\n",
    "    print(f'{i+1} -> {texto}')"
   ]
  }
 ],
 "metadata": {
  "kernelspec": {
   "display_name": "venv",
   "language": "python",
   "name": "python3"
  },
  "language_info": {
   "codemirror_mode": {
    "name": "ipython",
    "version": 3
   },
   "file_extension": ".py",
   "mimetype": "text/x-python",
   "name": "python",
   "nbconvert_exporter": "python",
   "pygments_lexer": "ipython3",
   "version": "3.12.5"
  }
 },
 "nbformat": 4,
 "nbformat_minor": 2
}
