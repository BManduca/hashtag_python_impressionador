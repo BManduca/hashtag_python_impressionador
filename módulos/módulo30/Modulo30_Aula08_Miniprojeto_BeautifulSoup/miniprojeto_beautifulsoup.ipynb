{
 "cells": [
  {
   "cell_type": "markdown",
   "id": "2707bae9",
   "metadata": {},
   "source": [
    "## Projeto Scraping BeautifulSoup Site CoinMarketCap"
   ]
  },
  {
   "cell_type": "code",
   "execution_count": 1,
   "id": "c8df22c4",
   "metadata": {},
   "outputs": [],
   "source": [
    "from bs4 import BeautifulSoup\n",
    "import json\n",
    "import requests\n",
    "import re\n",
    "\n",
    "# efetuando conexao com o site\n",
    "link = \"https://coinmarketcap.com/\"\n",
    "req = requests.get(link)\n",
    "\n",
    "site = BeautifulSoup(req.text, \"html.parser\")"
   ]
  },
  {
   "cell_type": "code",
   "execution_count": 2,
   "id": "cfa3f0bf",
   "metadata": {},
   "outputs": [
    {
     "name": "stdout",
     "output_type": "stream",
     "text": [
      "Dados enctraídos e salvos com sucesso! ✅ 💾\n"
     ]
    }
   ],
   "source": [
    "# encontrando a tabela de dados das moedas\n",
    "tbody = site.find('tbody')\n",
    "if not tbody:\n",
    "    raise Exception(\"Tabela de moedas não encontrada!\")\n",
    "\n",
    "tlines = tbody.find_all('tr')\n",
    "if not tlines:\n",
    "    raise Exception(\"Nenhuma linha encontrada na tabela!\")\n",
    "\n",
    "coins = {}\n",
    "\n",
    "for line in tlines:\n",
    "    try:\n",
    "        # verificação necessaria para evitar espaços e quebras de linhas desnecessários\n",
    "        name_coin = line.find(class_=\"coin-item-name\").get_text(strip=True)\n",
    "        code_coin = line.find(class_=\"coin-item-symbol\").get_text(strip=True)\n",
    "\n",
    "        # uso de expressões regulares para conseguir os valores que contenham tanto '$ e '%'\n",
    "        values_coins = line.find_all(string=re.compile(r\"\\$\"))\n",
    "        percents_variation_coins = line.find_all(string=re.compile(\"%\"))\n",
    "\n",
    "        '''\n",
    "            Garantindo que os valores como Preço atual, Market Cap, Oferta circulante, Volume em 24 horas, Variação em 1h,\n",
    "            Variação em 24 horas e Variação em 7 dias existam na coleta de dados\n",
    "        '''\n",
    "        if len(values_coins) < 4 or len(percents_variation_coins) < 3:\n",
    "            continue # pula para a proxima moeda, caso não exista dados suficientes\n",
    "\n",
    "        price_coin = values_coins[0]\n",
    "\n",
    "        # tratamento dos dados com variações percentuais\n",
    "        for i, percent in enumerate(percents_variation_coins):\n",
    "            try:\n",
    "                # print(percent.parent.contents[0]['class'])\n",
    "                # realizando tratativa dos percentuais conforme site\n",
    "                if 'icon-Caret-down' in percent.parent.contents[0]['class']:\n",
    "                    percents_variation_coins[i] = \"-\" + percent\n",
    "            except (AttributeError, IndexError, TypeError):\n",
    "                continue\n",
    "\n",
    "        # variações percentuais\n",
    "        variation_1h = percents_variation_coins[0]\n",
    "        variation_24h = percents_variation_coins[1]\n",
    "        variation_7d = percents_variation_coins[2]\n",
    "\n",
    "        marketcap = values_coins[2]\n",
    "        volume_24hrs = values_coins[3]\n",
    "\n",
    "        dict_coins = {\n",
    "            \"moeda\": name_coin,\n",
    "            \"codigo\": code_coin,\n",
    "            \"preço\": price_coin,\n",
    "            \"variação_1h\": variation_1h,\n",
    "            \"variação_24h\": variation_24h,\n",
    "            \"variação_7d\": variation_7d,\n",
    "            \"marketcap\": marketcap,\n",
    "            \"volume_24hrs\": volume_24hrs\n",
    "        }\n",
    "\n",
    "        coins[name_coin] = dict_coins\n",
    "    except AttributeError:\n",
    "        continue\n",
    "\n",
    "# salvandso os dados em um arquivo em JSON\n",
    "with open(\"dados_criptomoedas.json\", \"w\", encoding=\"utf-8\") as arquivo:\n",
    "    json.dump(coins, arquivo, indent=4, ensure_ascii=False)\n",
    "\n",
    "print(\"Dados enctraídos e salvos com sucesso! ✅ 💾\")"
   ]
  }
 ],
 "metadata": {
  "kernelspec": {
   "display_name": "venv",
   "language": "python",
   "name": "python3"
  },
  "language_info": {
   "codemirror_mode": {
    "name": "ipython",
    "version": 3
   },
   "file_extension": ".py",
   "mimetype": "text/x-python",
   "name": "python",
   "nbconvert_exporter": "python",
   "pygments_lexer": "ipython3",
   "version": "3.12.5"
  }
 },
 "nbformat": 4,
 "nbformat_minor": 5
}
