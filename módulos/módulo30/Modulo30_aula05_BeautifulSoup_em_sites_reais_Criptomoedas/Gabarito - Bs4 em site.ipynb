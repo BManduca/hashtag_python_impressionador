{
 "cells": [
  {
   "cell_type": "code",
   "execution_count": null,
   "id": "3533148c",
   "metadata": {
    "id": "3533148c"
   },
   "outputs": [],
   "source": [
    "from bs4 import BeautifulSoup\n",
    "import requests\n",
    "\n",
    "link = 'https://coinmarketcap.com/'\n",
    "requisicao = requests.get(link)\n",
    "site = BeautifulSoup(requisicao.text, \"html.parser\")"
   ]
  },
  {
   "cell_type": "code",
   "execution_count": null,
   "id": "9e3e1325",
   "metadata": {
    "id": "9e3e1325",
    "outputId": "aff1f812-6c20-47d1-f8f2-be4d3cd26de3"
   },
   "outputs": [],
   "source": [
    "import re\n",
    "\n",
    "tbody = site.find(\"tbody\")\n",
    "linhas = tbody.find_all(\"tr\")\n",
    "for linha in linhas:\n",
    "    texto_linha = linha.get_text(separator=\";\")\n",
    "    lista_textos = texto_linha.split(\";\")\n",
    "#     print(lista_textos)\n",
    "    nome = lista_textos[1]\n",
    "    preco = lista_textos[4]\n",
    "    print(nome, preco)"
   ]
  },
  {
   "cell_type": "code",
   "execution_count": null,
   "id": "57a79e11",
   "metadata": {
    "id": "57a79e11"
   },
   "outputs": [],
   "source": []
  }
 ],
 "metadata": {
  "colab": {
   "provenance": []
  },
  "kernelspec": {
   "display_name": "Python 3 (ipykernel)",
   "language": "python",
   "name": "python3"
  },
  "language_info": {
   "codemirror_mode": {
    "name": "ipython",
    "version": 3
   },
   "file_extension": ".py",
   "mimetype": "text/x-python",
   "name": "python",
   "nbconvert_exporter": "python",
   "pygments_lexer": "ipython3",
   "version": "3.9.13"
  }
 },
 "nbformat": 4,
 "nbformat_minor": 5
}
