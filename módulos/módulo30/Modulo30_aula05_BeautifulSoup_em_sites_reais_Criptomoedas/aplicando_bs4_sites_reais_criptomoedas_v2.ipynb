{
 "cells": [
  {
   "cell_type": "markdown",
   "id": "489961e1",
   "metadata": {},
   "source": [
    "## Aplicando BeautifulSoup em Site de Criptomoedas"
   ]
  },
  {
   "cell_type": "code",
   "execution_count": 1,
   "id": "90e76a2f",
   "metadata": {},
   "outputs": [
    {
     "name": "stdout",
     "output_type": "stream",
     "text": [
      "Todos os dados foram salvos com sucesso! ✅ 💾\n"
     ]
    }
   ],
   "source": [
    "from bs4 import BeautifulSoup\n",
    "import openpyxl\n",
    "import pandas as pd\n",
    "import requests\n",
    "\n",
    "link = 'https://coinmarketcap.com'\n",
    "# enviando sinal de requisicao para o site\n",
    "# basicamente dentro de request_site -> tem o código puro do site\n",
    "request_site = requests.get(link)\n",
    "\n",
    "# aplicando um parser para transformar o texto presente em request_title em código\n",
    "site = BeautifulSoup(request_site.text, \"html.parser\")\n",
    "\n",
    "# encontrando o tbody dentro do HTML do site\n",
    "tbody_coins = site.find('tbody')\n",
    "\n",
    "# encontrando as tr (table rows) dentro do tbody\n",
    "linhas_body_coins = tbody_coins.find_all('tr')\n",
    "\n",
    "# lista para armazenar todas as infos das moedas\n",
    "lista_dados_moedas = []\n",
    "\n",
    "for linha in linhas_body_coins:\n",
    "\n",
    "    try:\n",
    "        text_trs_coins = linha.get_text(separator=\";\")\n",
    "        lista_textos = text_trs_coins.split(\";\")\n",
    "\n",
    "        if lista_textos[2] != \"$\":\n",
    "            name_coin = lista_textos[1]\n",
    "            simbol_coin = lista_textos[2]\n",
    "            price_coin = lista_textos[3]\n",
    "            variation_1h = lista_textos[4]\n",
    "            variation_24h = lista_textos[5]\n",
    "            variation_7d = lista_textos[6]\n",
    "            market_cap = lista_textos[7]\n",
    "            volume_24h = lista_textos[8]\n",
    "            circulating_suply = lista_textos[9]\n",
    "            lista_dados_moedas.append({\n",
    "                'Nome moeda': name_coin,\n",
    "                'Símbolo': simbol_coin,\n",
    "                'Preço': price_coin,\n",
    "                'Variação 1h': variation_1h,\n",
    "                'Variação 24h': variation_24h,\n",
    "                'Variação 7d': variation_7d,\n",
    "                'Market Cap': market_cap,\n",
    "                'Volume 24h': volume_24h,\n",
    "                'Oferta circulante': circulating_suply,\n",
    "            })\n",
    "        else:\n",
    "            name_coin = lista_textos[0]\n",
    "            simbol_coin = lista_textos[1]\n",
    "            price_coin = lista_textos[3]\n",
    "            lista_dados_moedas.append({\n",
    "                'Nome moeda': name_coin,\n",
    "                'Símbolo': simbol_coin,\n",
    "                'Preço': price_coin\n",
    "            })\n",
    "    except Exception as e:\n",
    "        print(f'Erro ao processar uma linha: {e}')\n",
    "        continue\n",
    "\n",
    "# Criando um df com os dados adquiridos das moedas\n",
    "df_coins = pd.DataFrame(lista_dados_moedas)\n",
    "\n",
    "# salvando os dados em arquivos csv e excel\n",
    "df_coins.to_csv('dados_moedas_coinmarketcap.csv', index=False, encoding='utf-8')\n",
    "df_coins.to_excel('dados_moedas_coinmarketcap.xlsx', index=False, engine='openpyxl')\n",
    "\n",
    "print(\"Todos os dados foram salvos com sucesso! ✅ 💾\")"
   ]
  }
 ],
 "metadata": {
  "kernelspec": {
   "display_name": "venv",
   "language": "python",
   "name": "python3"
  },
  "language_info": {
   "codemirror_mode": {
    "name": "ipython",
    "version": 3
   },
   "file_extension": ".py",
   "mimetype": "text/x-python",
   "name": "python",
   "nbconvert_exporter": "python",
   "pygments_lexer": "ipython3",
   "version": "3.12.5"
  }
 },
 "nbformat": 4,
 "nbformat_minor": 5
}
