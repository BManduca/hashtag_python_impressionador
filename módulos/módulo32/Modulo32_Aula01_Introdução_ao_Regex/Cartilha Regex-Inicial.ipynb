{
 "cells": [
  {
   "cell_type": "markdown",
   "id": "4882c553",
   "metadata": {},
   "source": [
    "### Operadores\n",
    "\n",
    "    [] – conjunto de  caracteres;\n",
    "    \\ – sequência especial de caracteres;\n",
    "    ^ – buscar elementos no início da string;\n",
    "    $ – buscar elementos no final da string;\n",
    "    * – buscar zero ou mais repetições de uma substring;\n",
    "    + – uma ou mais aparições de uma substring;\n",
    "    ? – zero ou uma aparição;\n",
    "    | – busca um caractere ou outro.\n",
    "    {} - quantidade específica de caracteres\n",
    "    [^] - diferente de um caractere especificado logo após o ^\n",
    "    () - apenas para agrupar regras e definir ordem de aplicação (igual matemática)\n",
    "\n",
    "### Especificando caracteres:\n",
    "    . - qualquer caractere\n",
    "    \\d - qualquer dígito\n",
    "    \\D - não é dígito\n",
    "    \\w - qualquer alfanumérico\n",
    "    \\W - não é alfanumérico\n",
    "    \\s - espaço em branco\n",
    "    \\S - não é espaço em branco\n",
    "\n",
    "#### obs: lembre de usar a string como raw string\n",
    "\n",
    "### Funções\n",
    "#### Lembre sempre de importar a biblioteca re\n",
    "\n",
    "- re.compile('padrao_regex') -> compilar um padrão regex\n",
    "- re.search(padrao_compilado, texto) -> procura uma ocorrência do padrão no texto (re.match só procura na 1ª linha do texto)\n",
    "- re.findall(padrao_compilado, texto) -> encontra todas as ocorrencias do padrão em um texto - armazena em uma lista\n",
    "- re.finditer(padrao_compilado, texto) -> encontra todas as ocorrencias e armazena em um iterador"
   ]
  },
  {
   "cell_type": "code",
   "execution_count": 19,
   "id": "8900fc84",
   "metadata": {},
   "outputs": [],
   "source": [
    "texto = \"\"\"\n",
    "Bom dia,\n",
    "\n",
    "Seguem os orçamentos solicitados:\n",
    "\n",
    "\n",
    "Cerveja importada (330 ml) - R$12,30 - bebida\n",
    "Cerveja nacional (0,5 litros) - R$6,10 - bebida\n",
    "Garrafa de vinho (750ml) - R$39,90 - bebida\n",
    "Água (garrafa de 1,5 litros) - R$3,30 - bebida\n",
    "Alface (1 unidade) - R$3,50 - comida\n",
    "Cebolas (1kg) - R$5,10 - comida\n",
    "Batatas (1 kg) - R$5,20 - comida\n",
    "Tomates (1 kg) - R$7,90 - comida\n",
    "Laranjas (1 kg) - R$4,70 - comida\n",
    "Bananas (1kg) - R$5,50 - comida\n",
    "Maçãs (1 kg) - R$8,30 - comida\n",
    "Queijo fresco (1 kg) - R$42,90 - comida\n",
    "Uma dúzia de ovos(12) - R$9,80 - comida\n",
    "Arroz (1 kg) - R$5,70 - comida\n",
    "Um quilo de pão (1 kg) - R$7,20 - comida\n",
    "Leite (1 litro) - R$5,20 - bebida\n",
    "Azeite (1 unidade) - R$20 - tempero\n",
    "Pimenta Reino (20g) - R$5 - tempero\n",
    "\n",
    "\n",
    "Favor informar as quantidades desejadas \n",
    "para emissão da Nota Fiscal.\n",
    "\n",
    "Att.,\"\"\""
   ]
  },
  {
   "cell_type": "markdown",
   "id": "3e3da46f",
   "metadata": {},
   "source": [
    "#### Ex: Utilizar o python para verificar quantos dos itens no texto são comidas e bebidas\n",
    "* Uso do findall()"
   ]
  },
  {
   "cell_type": "code",
   "execution_count": null,
   "id": "664f4bc0",
   "metadata": {},
   "outputs": [],
   "source": [
    "import re\n",
    "\n",
    "# quantas comidas\n",
    "search_pattern = re.compile(\"comida\")\n",
    "# encontra todas as ocorrencias e armazena em uma lista\n",
    "result = re.findall(search_pattern, texto)\n",
    "size_list_result = len(result)\n",
    "print(f\"Quantidade de itens definidos como 'comida': {size_list_result}\")\n",
    "\n",
    "# quantas bebidas\n",
    "search_pattern = re.compile(\"bebida\")\n",
    "result = re.findall(search_pattern, texto)\n",
    "size_list_result = len(result)\n",
    "print(f\"Quantidade de itens definidos como 'bebida': {size_list_result}\")\n"
   ]
  },
  {
   "cell_type": "markdown",
   "id": "ef9ac229",
   "metadata": {},
   "source": [
    "* Uso do search()"
   ]
  },
  {
   "cell_type": "code",
   "execution_count": null,
   "id": "d8d340fc",
   "metadata": {},
   "outputs": [],
   "source": [
    "# quantos itens\n",
    "import re\n",
    "\n",
    "search_pattern = re.compile(\"comida\")\n",
    "'''\n",
    "    re.search() -> retorna uma única resposta, da primeira ocorrência encontrada\n",
    "\n",
    "    result -> consta o tipo que foi encontrado, a posição e o que foi encontrado\n",
    "'''\n",
    "result = re.search(search_pattern, texto)\n",
    "print(result)\n",
    "# mostrando somente a primeira informação do elemento\n",
    "print(result.group(0))"
   ]
  },
  {
   "cell_type": "markdown",
   "id": "e2a7fdf7",
   "metadata": {},
   "source": [
    "* Uso do finditer()"
   ]
  },
  {
   "cell_type": "code",
   "execution_count": null,
   "id": "44a6d0da",
   "metadata": {},
   "outputs": [],
   "source": [
    "import re\n",
    "\n",
    "search_pattern = re.compile(\"comida\")\n",
    "''' result -> ira criar um iterador, aonde será possível percorrer e assim visualizar os dados presentes '''\n",
    "result = re.finditer(search_pattern, texto)\n",
    "for i, item in enumerate(result):\n",
    "    print(f\"{i+1} -> {item.group(0)}\")"
   ]
  },
  {
   "cell_type": "markdown",
   "id": "d035e6b0",
   "metadata": {},
   "source": [
    "* Contando quantos produtos existem na lista, se baseando em um elemento comum em todos os itens"
   ]
  },
  {
   "cell_type": "code",
   "execution_count": 14,
   "id": "3269c5c4",
   "metadata": {},
   "outputs": [
    {
     "name": "stdout",
     "output_type": "stream",
     "text": [
      "18\n"
     ]
    }
   ],
   "source": [
    "import re\n",
    "\n",
    "'''\n",
    "    para mostrar para o compulador que eu preciso, neste caso, buscar necessariamente o $,\n",
    "    basta adicionar antes um \"\\\"\n",
    "'''\n",
    "search_pattern = re.compile(r\"\\$\")\n",
    "result = re.findall(search_pattern, texto)\n",
    "length_list_result = len(result)\n",
    "print(length_list_result)"
   ]
  },
  {
   "cell_type": "code",
   "execution_count": null,
   "id": "c00e9c1c",
   "metadata": {},
   "outputs": [
    {
     "name": "stdout",
     "output_type": "stream",
     "text": [
      "['Nome', 'Idade', 'Salario']\n"
     ]
    }
   ],
   "source": [
    "novo_texto =  \"Nome: Brunno Idade: 32 Salario: 4000\"\n",
    "\n",
    "'''\n",
    "    ao utilizarmos o parenteses envolvendo o padrão que buscamos, \n",
    "    será retornado somente o padrão ali especificado, caso haja algo\n",
    "    fora do (), como os :, ele servirá somente de base para definir o padrão,\n",
    "    mas não será retornado\n",
    "'''\n",
    "search_pattern = re.compile(r\"(\\w+):\")\n",
    "result = re.findall(search_pattern, novo_texto)\n",
    "print(result)"
   ]
  },
  {
   "cell_type": "markdown",
   "id": "cc12bc6d",
   "metadata": {},
   "source": [
    "#### Ex: Extraindo os números presentes no texto"
   ]
  },
  {
   "cell_type": "code",
   "execution_count": 28,
   "id": "e96fa8ec",
   "metadata": {},
   "outputs": [
    {
     "name": "stdout",
     "output_type": "stream",
     "text": [
      "Foram encontrados 36 registros de números\n",
      "['330', '12,30', '0,5', '6,10', '750', '39,90', '1,5', '3,30', '1', '3,50', '1', '5,10', '1', '5,20', '1', '7,90', '1', '4,70', '1', '5,50', '1', '8,30', '1', '42,90', '12', '9,80', '1', '5,70', '1', '7,20', '1', '5,20', '1', '20', '20', '5']\n"
     ]
    }
   ],
   "source": [
    "import re\n",
    "\n",
    "''' \n",
    "    como será utilizado padrões do próprio regex,\n",
    "    para evitar conflitos, ignorando assim os padrões do python, \n",
    "    estaremos utilizando raw strings\n",
    "'''\n",
    "search_pattern = re.compile(r\"\\d+,?\\d*\")\n",
    "result = re.findall(search_pattern, texto)\n",
    "length_list_result = len(result)\n",
    "print(f\"Foram encontrados {length_list_result} registros de números\")\n",
    "print(result)"
   ]
  },
  {
   "cell_type": "markdown",
   "id": "74477194",
   "metadata": {},
   "source": [
    "#### Ex: Extrair quantos ml (do 1º item)"
   ]
  },
  {
   "cell_type": "code",
   "execution_count": null,
   "id": "3e41e61a",
   "metadata": {},
   "outputs": [
    {
     "name": "stdout",
     "output_type": "stream",
     "text": [
      "(330 ml)\n",
      "(330 ml)\n"
     ]
    }
   ],
   "source": [
    "import re\n",
    "\n",
    "search_pattern = re.compile(r\"\\(.+\\)\")\n",
    "result = re.search(search_pattern, texto)\n",
    "print(result.group(0))\n",
    "\n",
    "# ou\n",
    "\n",
    "''' \n",
    "    \\d -> qualquer digito\n",
    "    + -> uma ou mais aparições de uma substring\n",
    "    \\s -> espaço em branco\n",
    "    \\w -> qualquer alfanúmerico\n",
    "'''\n",
    "\n",
    "search_pattern = re.compile(r\"\\(\\d+\\s\\w+\\)\")\n",
    "result = re.search(search_pattern, texto)\n",
    "print(result.group(0))\n"
   ]
  },
  {
   "cell_type": "markdown",
   "id": "56f1d77b",
   "metadata": {},
   "source": [
    "#### Ex: Preço do 1º item"
   ]
  },
  {
   "cell_type": "code",
   "execution_count": null,
   "id": "f33962c5",
   "metadata": {},
   "outputs": [],
   "source": []
  },
  {
   "cell_type": "markdown",
   "id": "3f125f90",
   "metadata": {},
   "source": [
    "#### Ex: Todos os preços"
   ]
  },
  {
   "cell_type": "code",
   "execution_count": null,
   "id": "0140fd16",
   "metadata": {},
   "outputs": [],
   "source": []
  },
  {
   "cell_type": "markdown",
   "id": "7729f8ee",
   "metadata": {},
   "source": [
    "#### Ex: Quantidades dos itens"
   ]
  },
  {
   "cell_type": "code",
   "execution_count": null,
   "id": "7b0489b9",
   "metadata": {},
   "outputs": [],
   "source": []
  },
  {
   "cell_type": "markdown",
   "id": "e2d8e3da",
   "metadata": {},
   "source": [
    "#### Ex: Links"
   ]
  },
  {
   "cell_type": "code",
   "execution_count": null,
   "id": "a012ad53",
   "metadata": {},
   "outputs": [],
   "source": [
    "texto2 = \"\"\"\n",
    "Olá\n",
    "\n",
    "Segue o relatório de SEO para os seguintes sites:\n",
    "https://portalhashtag.com\n",
    "http://hashtagtreinamentos.com\n",
    "https://www.wikipedia.org/\n",
    "www.bcb.gov.br/\n",
    "\n",
    "Qualquer dúvida estamos à disposição\"\"\""
   ]
  }
 ],
 "metadata": {
  "kernelspec": {
   "display_name": "venv",
   "language": "python",
   "name": "python3"
  },
  "language_info": {
   "codemirror_mode": {
    "name": "ipython",
    "version": 3
   },
   "file_extension": ".py",
   "mimetype": "text/x-python",
   "name": "python",
   "nbconvert_exporter": "python",
   "pygments_lexer": "ipython3",
   "version": "3.12.5"
  }
 },
 "nbformat": 4,
 "nbformat_minor": 5
}
