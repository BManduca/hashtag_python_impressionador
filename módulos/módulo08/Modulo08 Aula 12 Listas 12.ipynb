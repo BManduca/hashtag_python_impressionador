{
 "cells": [
  {
   "cell_type": "markdown",
   "metadata": {},
   "source": [
    "# Listas de Listas\n",
    "\n",
    "### Estrutura:\n",
    "\n",
    "Cada item de uma lista pode ser qualquer tipo de variável. Inclusive, uma lista.\n",
    "\n",
    "Quando dentro de uma lista temos cada item como sendo uma outra lista, temos uma \"nested list\", ou seja, uma lista de listas.\n",
    "\n",
    "Todas as regras de lista e tudo que vimos até agora funciona exatamente igual, mas vamos ver como isso funciona na prática"
   ]
  },
  {
   "cell_type": "code",
   "execution_count": 31,
   "metadata": {},
   "outputs": [],
   "source": [
    "vendedores = ['Lira', 'João', 'Diego', 'Alon']\n",
    "produtos = ['ipad', 'iphone']\n",
    "vendas = [\n",
    "    [100, 200],\n",
    "    [300, 500],\n",
    "    [50, 1000],\n",
    "    [900, 10],\n",
    "]"
   ]
  },
  {
   "cell_type": "markdown",
   "metadata": {},
   "source": [
    "- Quanto João vendeu de IPad?\n",
    "- Quanto Diego vendeu de IPhone\n",
    "- Qual o total de vendas de IPhone?"
   ]
  },
  {
   "cell_type": "code",
   "execution_count": 32,
   "metadata": {},
   "outputs": [
    {
     "name": "stdout",
     "output_type": "stream",
     "text": [
      "O João vendeu 300 unidades de Ipad\n",
      "O Diego vendeu 1000 unidades de Iphone\n",
      "O total de vendas do Iphone foi de 1710 unidades\n"
     ]
    }
   ],
   "source": [
    "vendas_ipad_joao = vendas[1][0]\n",
    "vendas_iphone_diego = vendas[2][1]\n",
    "\n",
    "print(f'O {vendedores[1]} vendeu {vendas_ipad_joao} unidades de {produtos[0].capitalize()}')\n",
    "print(f'O {vendedores[2]} vendeu {vendas_iphone_diego} unidades de {produtos[1].capitalize()}')\n",
    "\n",
    "vendas_iphone = vendas[0][1] + vendas[1][1] + vendas[2][1] + vendas[3][1]\n",
    "print(f'O total de vendas do {produtos[1].capitalize()} foi de {vendas_iphone} unidades')"
   ]
  },
  {
   "cell_type": "markdown",
   "metadata": {},
   "source": [
    "- E se Lira na verdade fez apenas 50 vendas de IPhone, como eu modifico na minha lista o valor de vendas dele?"
   ]
  },
  {
   "cell_type": "code",
   "execution_count": 33,
   "metadata": {},
   "outputs": [
    {
     "name": "stdout",
     "output_type": "stream",
     "text": [
      "[[100, 50], [300, 500], [50, 1000], [900, 10]]\n"
     ]
    }
   ],
   "source": [
    "vendas[0][1] = 50\n",
    "\n",
    "print(vendas)"
   ]
  },
  {
   "cell_type": "markdown",
   "metadata": {},
   "source": [
    "- E se agora eu tenho um novo produto 'mac', como eu adiciono as vendas em cada um dos vendedores?"
   ]
  },
  {
   "cell_type": "code",
   "execution_count": 34,
   "metadata": {},
   "outputs": [
    {
     "name": "stdout",
     "output_type": "stream",
     "text": [
      "['Lira', 'João', 'Diego', 'Alon']\n",
      "['ipad', 'iphone', 'mac']\n",
      "[[100, 50, 10], [300, 500, 15], [50, 1000, 6], [900, 10, 70]]\n"
     ]
    }
   ],
   "source": [
    "vendas_mac = [10, 15, 6, 70]\n",
    "produtos.append('mac')\n",
    "\n",
    "vendas[0].append(vendas_mac[0])\n",
    "vendas[1].append(vendas_mac[1])\n",
    "vendas[2].append(vendas_mac[2])\n",
    "vendas[3].append(vendas_mac[3])\n",
    "\n",
    "print(vendedores)\n",
    "print(produtos)\n",
    "print(vendas)\n"
   ]
  }
 ],
 "metadata": {
  "kernelspec": {
   "display_name": "venv",
   "language": "python",
   "name": "python3"
  },
  "language_info": {
   "codemirror_mode": {
    "name": "ipython",
    "version": 3
   },
   "file_extension": ".py",
   "mimetype": "text/x-python",
   "name": "python",
   "nbconvert_exporter": "python",
   "pygments_lexer": "ipython3",
   "version": "3.12.5"
  }
 },
 "nbformat": 4,
 "nbformat_minor": 4
}
