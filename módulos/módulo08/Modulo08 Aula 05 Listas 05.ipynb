{
 "cells": [
  {
   "cell_type": "markdown",
   "metadata": {},
   "source": [
    "# Algumas Funções Básicas de Lista\n",
    "\n",
    "## Tamanho da Lista\n",
    "\n",
    "tamanho = len(lista)"
   ]
  },
  {
   "cell_type": "code",
   "execution_count": 1,
   "metadata": {},
   "outputs": [],
   "source": [
    "produtos = ['apple tv', 'mac', 'iphone x', 'IPad', 'apple watch', 'mac book', 'airpods']"
   ]
  },
  {
   "cell_type": "markdown",
   "metadata": {},
   "source": [
    "- Quantos produtos temos a venda?"
   ]
  },
  {
   "cell_type": "code",
   "execution_count": 2,
   "metadata": {},
   "outputs": [
    {
     "name": "stdout",
     "output_type": "stream",
     "text": [
      "O tamanho da lista é de 7 produtos\n"
     ]
    }
   ],
   "source": [
    "tamanho_lista = len(produtos)\n",
    "\n",
    "print(f'O tamanho da lista é de {tamanho_lista} produtos')"
   ]
  },
  {
   "cell_type": "markdown",
   "metadata": {},
   "source": [
    "## Maior e Menor Valor\n",
    "\n",
    "maior = max(lista)\n",
    "\n",
    "menor = min(lista)"
   ]
  },
  {
   "cell_type": "code",
   "execution_count": 4,
   "metadata": {},
   "outputs": [],
   "source": [
    "vendas = [1000, 1500, 15000, 270, 900, 100, 1200]"
   ]
  },
  {
   "cell_type": "markdown",
   "metadata": {},
   "source": [
    "- Qual o item mais vendido?\n",
    "- Qual o item menos vendido?"
   ]
  },
  {
   "cell_type": "code",
   "execution_count": 12,
   "metadata": {},
   "outputs": [
    {
     "name": "stdout",
     "output_type": "stream",
     "text": [
      "O produto mais vendido teve 15000 unidades vendidas.\n",
      "O produto menos vendido teve 100 unidades vendidas.\n"
     ]
    }
   ],
   "source": [
    "menos_vendido = min(vendas)\n",
    "# print(min_value)\n",
    "mais_vendido = max(vendas)\n",
    "# print(max_value)\n",
    "\n",
    "print(f'O produto mais vendido teve {mais_vendido} unidades vendidas.\\nO produto menos vendido teve {menos_vendido} unidades vendidas.')"
   ]
  },
  {
   "cell_type": "code",
   "execution_count": 20,
   "metadata": {},
   "outputs": [
    {
     "name": "stdout",
     "output_type": "stream",
     "text": [
      "O item iphone x vendeu 15000 unidades, sendo o mais vendido da lista!\n",
      "O item mac book vendeu 100 unidades, sendo o menos vendido da lista!\n"
     ]
    }
   ],
   "source": [
    "produto_mais_vendido = vendas.index(mais_vendido)\n",
    "produto_menos_vendido = vendas.index(menos_vendido)\n",
    "\n",
    "print(f'O item {produtos[2]} vendeu {vendas[2]} unidades, sendo o mais vendido da lista!')\n",
    "print(f'O item {produtos[5]} vendeu {vendas[5]} unidades, sendo o menos vendido da lista!')"
   ]
  }
 ],
 "metadata": {
  "kernelspec": {
   "display_name": "venv",
   "language": "python",
   "name": "python3"
  },
  "language_info": {
   "codemirror_mode": {
    "name": "ipython",
    "version": 3
   },
   "file_extension": ".py",
   "mimetype": "text/x-python",
   "name": "python",
   "nbconvert_exporter": "python",
   "pygments_lexer": "ipython3",
   "version": "3.12.5"
  }
 },
 "nbformat": 4,
 "nbformat_minor": 4
}
