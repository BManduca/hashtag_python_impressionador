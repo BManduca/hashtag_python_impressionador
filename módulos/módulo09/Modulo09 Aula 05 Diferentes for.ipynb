{
 "cells": [
  {
   "cell_type": "code",
   "execution_count": 13,
   "id": "f384c181",
   "metadata": {},
   "outputs": [],
   "source": [
    "produtos = [\"iphone\", \"ipad\", \"airpod\", \"macbook\"]\n",
    "precos = [7000, 10000, 2500, 14000]"
   ]
  },
  {
   "cell_type": "markdown",
   "id": "ed0a699c",
   "metadata": {},
   "source": [
    "### For item in lista"
   ]
  },
  {
   "cell_type": "code",
   "execution_count": 14,
   "id": "3053355f",
   "metadata": {},
   "outputs": [
    {
     "name": "stdout",
     "output_type": "stream",
     "text": [
      "Produtos com acréscimo de imposto: \n",
      "R$ 7,700.00\n",
      "R$ 11,000.00\n",
      "R$ 2,750.00\n",
      "R$ 15,400.00\n"
     ]
    }
   ],
   "source": [
    "# preco com imposto\n",
    "print('Produtos com acréscimo de imposto: ')\n",
    "for preco in precos:\n",
    "    print(f'R$ {preco * 1.1:,.2f}')\n"
   ]
  },
  {
   "cell_type": "markdown",
   "id": "80aa8d07",
   "metadata": {},
   "source": [
    "### For i in range"
   ]
  },
  {
   "cell_type": "code",
   "execution_count": 15,
   "id": "74b8e12d",
   "metadata": {},
   "outputs": [
    {
     "name": "stdout",
     "output_type": "stream",
     "text": [
      "Iphone - R$ 7,000\n",
      "Ipad - R$ 10,000\n",
      "Airpod - R$ 2,500\n",
      "Macbook - R$ 14,000\n"
     ]
    }
   ],
   "source": [
    "# preco de cada produto\n",
    "\n",
    "tamanho_lista_precos = len(precos)\n",
    "\n",
    "for i in range(tamanho_lista_precos):\n",
    "    produto = produtos[i]\n",
    "    preco = precos[i]\n",
    "    print(f'{produto.capitalize()} - R$ {preco:,}')\n"
   ]
  },
  {
   "cell_type": "markdown",
   "id": "ba0b37d3",
   "metadata": {},
   "source": [
    "### For item in lista com enumerate"
   ]
  },
  {
   "cell_type": "code",
   "execution_count": 21,
   "id": "38271545",
   "metadata": {},
   "outputs": [
    {
     "name": "stdout",
     "output_type": "stream",
     "text": [
      "Produto Iphone - R$ 7,700.00\n",
      "Produto Ipad - R$ 11,000.00\n",
      "Produto Airpod - R$ 2,750.00\n",
      "Produto Macbook - R$ 15,400.00\n"
     ]
    }
   ],
   "source": [
    "# preco de cada produto com imposto\n",
    "\n",
    "# imprimindo cada produto, com seu devido valor com acréscimo de 10% de imposto\n",
    "for i, preco_produto in enumerate(precos):\n",
    "    produto = produtos[i]\n",
    "    preco = preco_produto * 1.1\n",
    "    print(f'Produto {produto.capitalize()} - R$ {preco:,.2f}')\n"
   ]
  }
 ],
 "metadata": {
  "kernelspec": {
   "display_name": "venv",
   "language": "python",
   "name": "python3"
  },
  "language_info": {
   "codemirror_mode": {
    "name": "ipython",
    "version": 3
   },
   "file_extension": ".py",
   "mimetype": "text/x-python",
   "name": "python",
   "nbconvert_exporter": "python",
   "pygments_lexer": "ipython3",
   "version": "3.12.5"
  }
 },
 "nbformat": 4,
 "nbformat_minor": 5
}
