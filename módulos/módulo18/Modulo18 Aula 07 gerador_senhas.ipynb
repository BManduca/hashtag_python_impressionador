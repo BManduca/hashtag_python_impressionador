{
 "cells": [
  {
   "cell_type": "markdown",
   "id": "74b1c214-34d8-43a1-867b-1055887eca93",
   "metadata": {},
   "source": [
    "Escreva um programa que gere uma senha aleatória com um determinado comprimento. A senha deve conter uma mistura de letras, números e caracteres especiais. O comprimento da senha deve ser fornecido pelo usuário. Se o comprimento for menor que 4, imprima uma mensagem de erro e peça ao usuário para fornecer um novo comprimento.\n",
    "\n",
    "A senha deve ser aleatória, então cada vez que o usuário executar o programa, uma nova senha deve ser gerada. Obrigatoriamente, a senha deve conter pelo menos uma letra, um número e um caractere especial. A senha não pode conter espaços em branco.\n",
    "\n",
    "O programa deve conter uma função chamada `gerar_senha` que recebe o comprimento da senha como parâmetro e retorna a senha gerada. Se o comprimento for inválido, a função deve retornar None.\n",
    "\n",
    "Exemplo de saída:\n",
    "\n",
    "```\n",
    "Digite o comprimento da senha: 10\n",
    "8Zn$*2q9X\n",
    "```\n",
    "\n",
    "- Dica: use a biblioteca random e a função shuffle para embaralhar os caracteres da senha.\n",
    "- Dica: use a função choice, dessa mesma biblioteca, para escolher um caractere aleatório de uma string.\n",
    "- Dica: use a biblioteca string para obter uma lista de caracteres válidos para a senha."
   ]
  },
  {
   "cell_type": "markdown",
   "id": "812f8530",
   "metadata": {},
   "source": [
    "Documentação:\n",
    "\n",
    "- https://docs.python.org/pt-br/3/library/string.html\n",
    "- https://docs.python.org/pt-br/3/library/random.html#functions-for-sequences"
   ]
  },
  {
   "cell_type": "code",
   "execution_count": null,
   "id": "461b0ace",
   "metadata": {},
   "outputs": [],
   "source": [
    "import random\n",
    "import string\n",
    "\n",
    "# retorna um unico valor\n",
    "random.choice(string.digits)"
   ]
  },
  {
   "cell_type": "code",
   "execution_count": null,
   "id": "9b1ec9e4",
   "metadata": {},
   "outputs": [],
   "source": [
    "# através do choices e da escolha do k, é retornado uma lista de valores\n",
    "escolhas = random.choices(string.digits, k=3)"
   ]
  },
  {
   "cell_type": "code",
   "execution_count": null,
   "id": "07be70a0",
   "metadata": {},
   "outputs": [],
   "source": [
    "random.shuffle(escolhas)\n",
    "\n",
    "print(escolhas)"
   ]
  },
  {
   "cell_type": "code",
   "execution_count": 28,
   "id": "7b8cad2d",
   "metadata": {},
   "outputs": [
    {
     "name": "stdout",
     "output_type": "stream",
     "text": [
      "Erro! O comprimento da senha precisa ser maior do que 4 caracteres.\n",
      "Erro! O comprimento da senha precisa ser maior do que 4 caracteres.\n",
      "Erro! O comprimento da senha precisa ser maior do que 4 caracteres.\n",
      "Favor inserir um número váilido!\n",
      "Favor inserir um número váilido!\n"
     ]
    },
    {
     "data": {
      "text/plain": [
       "'}uJMu|7{H~09XD/4T/FDE=C9b'"
      ]
     },
     "execution_count": 28,
     "metadata": {},
     "output_type": "execute_result"
    }
   ],
   "source": [
    "import random\n",
    "import string\n",
    "\n",
    "def gerar_senha():\n",
    "\n",
    "    while True:\n",
    "        try:\n",
    "            comprimento_senha = int(input('Informe o comprimento da senha: '))\n",
    "\n",
    "            if comprimento_senha < 4:\n",
    "                print('Erro! O comprimento da senha precisa ser maior do que 4 caracteres.')\n",
    "            else:\n",
    "                break\n",
    "        except ValueError:\n",
    "            print('Favor inserir um número váilido!')\n",
    "\n",
    "    \n",
    "    senha = [\n",
    "        random.choice(string.ascii_letters),\n",
    "        random.choice(string.digits),\n",
    "        random.choice(string.punctuation)\n",
    "    ]\n",
    "\n",
    "    possibilidades_senha = ''.join([\n",
    "        string.ascii_letters,\n",
    "        string.digits,\n",
    "        string.punctuation\n",
    "    ])\n",
    "\n",
    "    senha.extend(random.choices(possibilidades_senha, k=(comprimento_senha-3)))\n",
    "\n",
    "    random.shuffle(senha)\n",
    "\n",
    "    senha = ''.join(senha)\n",
    "\n",
    "    return senha\n",
    "\n",
    "gerar_senha()"
   ]
  }
 ],
 "metadata": {
  "kernelspec": {
   "display_name": "venv",
   "language": "python",
   "name": "python3"
  },
  "language_info": {
   "codemirror_mode": {
    "name": "ipython",
    "version": 3
   },
   "file_extension": ".py",
   "mimetype": "text/x-python",
   "name": "python",
   "nbconvert_exporter": "python",
   "pygments_lexer": "ipython3",
   "version": "3.12.5"
  }
 },
 "nbformat": 4,
 "nbformat_minor": 5
}
