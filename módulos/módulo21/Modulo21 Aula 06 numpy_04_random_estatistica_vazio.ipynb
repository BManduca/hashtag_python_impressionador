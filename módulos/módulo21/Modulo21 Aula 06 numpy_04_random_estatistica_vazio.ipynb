{
 "cells": [
  {
   "cell_type": "markdown",
   "metadata": {
    "id": "XI0Q33rjqx4K"
   },
   "source": [
    "# Guia de Introdução ao NumPy\n",
    "\n",
    "NumPy, que significa Numerical Python, é uma biblioteca fundamental para a computação científica em Python. Ela fornece suporte para arrays e matrizes, além de funções matemáticas para operações com esses objetos. É, também, a base da biblioteca Pandas.\n",
    "\n"
   ]
  },
  {
   "cell_type": "markdown",
   "metadata": {
    "id": "ALnMiKvUqx4N"
   },
   "source": [
    "## Números aleatórios e estatística básica  "
   ]
  },
  {
   "cell_type": "code",
   "execution_count": null,
   "metadata": {
    "id": "k6SV2XzBq4Aw"
   },
   "outputs": [],
   "source": [
    "!pip3 install numpy"
   ]
  },
  {
   "cell_type": "code",
   "execution_count": 4,
   "metadata": {},
   "outputs": [],
   "source": [
    "import numpy as np\n",
    "\n",
    "# criando um gerador de números aleatórios\n",
    "\n",
    "# rng -> random generator | default -> padrão\n",
    "rng = np.random.default_rng()"
   ]
  },
  {
   "cell_type": "code",
   "execution_count": 8,
   "metadata": {},
   "outputs": [
    {
     "name": "stdout",
     "output_type": "stream",
     "text": [
      "0.4224699082452287\n"
     ]
    }
   ],
   "source": [
    "numero_aleatorio = rng.random()\n",
    "\n",
    "# o número gerado através do random\n",
    "# sempre será entre 0 e 1, ou seja, um número float\n",
    "print(numero_aleatorio)"
   ]
  },
  {
   "cell_type": "code",
   "execution_count": 13,
   "metadata": {},
   "outputs": [
    {
     "name": "stdout",
     "output_type": "stream",
     "text": [
      "2.684555441191571\n"
     ]
    }
   ],
   "source": [
    "# para que o valor random por exemplo seja entre 0 e 10,\n",
    "# basta multiplicar o rng.random() por 10\n",
    "\n",
    "numero_aleatorio = rng.random() * 10\n",
    "\n",
    "print(numero_aleatorio)"
   ]
  },
  {
   "cell_type": "code",
   "execution_count": 24,
   "metadata": {},
   "outputs": [
    {
     "name": "stdout",
     "output_type": "stream",
     "text": [
      "[91.50839862 97.8732482  36.21181447]\n"
     ]
    }
   ],
   "source": [
    "# gerando um array de números aleatorios\n",
    "\n",
    "array_aleatorio = rng.random(3) * 100\n",
    "\n",
    "print(array_aleatorio)"
   ]
  },
  {
   "cell_type": "markdown",
   "metadata": {
    "id": "J4snhyVNqx4Q"
   },
   "source": [
    " Vamos criar um cenário onde esses dados aleatórios podem ser úteis para uma análise de vendas.\n",
    "\n",
    "Suponha que você seja um analista de vendas em uma empresa e queira entender melhor o desempenho das vendas de um produto específico. No entanto, você não tem acesso aos dados reais de vendas, então você decide gerar alguns dados de vendas aleatórios para realizar sua análise."
   ]
  },
  {
   "cell_type": "code",
   "execution_count": 38,
   "metadata": {
    "id": "pa8UvoZJqx4Q",
    "outputId": "704c10b2-d278-446f-e592-9e5ace8eee89"
   },
   "outputs": [
    {
     "name": "stdout",
     "output_type": "stream",
     "text": [
      "[ 63 166 148 115 114 178  62 154  80  64 128 196 160 164 157 167 126  69\n",
      " 175 117 125 105  77 189 167 146 110 173 131 116]\n"
     ]
    }
   ],
   "source": [
    "import numpy as np\n",
    "\n",
    "# Gere dados de vendas falsos para 30 dias\n",
    "# Vamos supor que as vendas de um produto podem variar de 50 a 200 por dia\n",
    "\n",
    "# criando novamente o objeto gerador\n",
    "# parametro seed -> é usado para inicializar o gerador de números pseudoaleatórios\n",
    "rng = np.random.default_rng(seed=42)\n",
    "dados_vendas = rng.integers(low=50, high=200, size=30)\n",
    "print(dados_vendas)"
   ]
  },
  {
   "cell_type": "markdown",
   "metadata": {
    "id": "PMoBGzLJqx4Q"
   },
   "source": [
    "Agora, você pode usar esses dados para realizar várias análises. Por exemplo, você pode querer saber qual foi o dia com as vendas mais altas, as vendas mais baixas, ou a média de vendas durante o mês. Aqui está como você pode fazer isso:\n",
    "\n"
   ]
  },
  {
   "cell_type": "code",
   "execution_count": 42,
   "metadata": {
    "id": "o19wgc_Fq8M_"
   },
   "outputs": [
    {
     "name": "stdout",
     "output_type": "stream",
     "text": [
      "Valor máximo de vendas: 196\n",
      "Valor mínimo de vendas: 62\n"
     ]
    }
   ],
   "source": [
    "print(f'Valor máximo de vendas: {np.max(dados_vendas)}')\n",
    "print(f'Valor mínimo de vendas: {np.min(dados_vendas)}')"
   ]
  },
  {
   "cell_type": "code",
   "execution_count": 47,
   "metadata": {},
   "outputs": [
    {
     "name": "stdout",
     "output_type": "stream",
     "text": [
      "O maior valor de vendas foi de 196 e ocorreu no dia 12\n",
      "O menor valor de vendas foi de 62 e ocorreu no dia 7\n"
     ]
    }
   ],
   "source": [
    "valor_max = np.max(dados_vendas)\n",
    "valor_min = np.min(dados_vendas)\n",
    "\n",
    "# dia com mais vendas\n",
    "print(f'O maior valor de vendas foi de {valor_max} e ocorreu no dia {np.argmax(dados_vendas) + 1}')\n",
    "# dia com menos vendas\n",
    "print(f'O menor valor de vendas foi de {valor_min} e ocorreu no dia {np.argmin(dados_vendas) + 1}')"
   ]
  },
  {
   "cell_type": "code",
   "execution_count": 44,
   "metadata": {},
   "outputs": [
    {
     "name": "stdout",
     "output_type": "stream",
     "text": [
      "A média de vendas durante o mês foi de 131.4 vendas por dia\n"
     ]
    }
   ],
   "source": [
    "# média de vendas durante o mês\n",
    "media_vendas = np.mean(dados_vendas)\n",
    "\n",
    "print(f'A média de vendas durante o mês foi de {media_vendas} vendas por dia')"
   ]
  },
  {
   "cell_type": "code",
   "execution_count": null,
   "metadata": {},
   "outputs": [
    {
     "name": "stdout",
     "output_type": "stream",
     "text": [
      "Mediana: 129.5\n",
      "Percentil de vendas: 145.25\n",
      "Desvio padrão das vendas: 39.305300745149715\n",
      "Variância das vendas: 1544.9066666666665\n"
     ]
    }
   ],
   "source": [
    "# calculando a mediana\n",
    "mediana_vendas = np.median(dados_vendas)\n",
    "print(f'Mediana: {mediana_vendas}')\n",
    "\n",
    "# calculando percentil: é uma medida estatística que indica a posição relativa de um dado dentro de um conjunto de dados.\n",
    "percentil_vendas = np.percentile(dados_vendas, 55)\n",
    "print(f'Percentil de vendas: {percentil_vendas:.2f}')\n",
    "\n",
    "# desvio padrão(std - standard desviation)\n",
    "# std -> é uma medida que indica o quão dispersos os valores de um conjunto de dados estão em relação à média\n",
    "# quanto maior este valor, mais ele estará disperso da média\n",
    "std = np.std(dados_vendas)\n",
    "print(f'Desvio padrão das vendas: {std}')\n",
    "\n",
    "# variância -> é outra medida que indica quão distantes os valores de um conjunto de dados estão da média\n",
    "# calculada como a média dos quadrados das diferenças entre cada valor e média.\n",
    "# variancia, basicamente é o quadrado do desvio padrão.\n",
    "variancia_dados = np.var(dados_vendas)\n",
    "print(f'Variância das vendas: {variancia_dados}')\n"
   ]
  },
  {
   "cell_type": "markdown",
   "metadata": {
    "id": "jlm7p2F-qx4T"
   },
   "source": [
    "Breve resumo e conceitos simplificados das funções estatísticas citadas:\n",
    "\n",
    "1. Mediana:\n",
    "A mediana é um valor que divide um conjunto de dados em duas partes iguais. Para encontrá-la, você deve organizar os dados em ordem crescente ou decrescente e escolher o valor do meio. Se houver um número ímpar de dados, a mediana será exatamente o valor central. Se houver um número par de dados, a mediana será a média dos dois valores do meio.\n",
    "\n",
    "2. Percentil:\n",
    "O percentil é uma medida estatística que indica a posição relativa de um dado dentro de um conjunto de dados. Ele informa a porcentagem de valores que estão abaixo desse dado. Por exemplo, o percentil 50 (também conhecido como mediana) divide os dados em duas partes iguais, com 50% dos valores abaixo dele e 50% acima.\n",
    "\n",
    "3. Desvio padrão:\n",
    "O desvio padrão é uma medida que indica o quão dispersos os valores de um conjunto de dados estão em relação à média. Ele mostra a variabilidade dos dados em relação ao valor médio. Um desvio padrão maior indica que os dados estão mais espalhados, enquanto um desvio padrão menor indica que os dados estão mais próximos da média.\n",
    "\n",
    "4. Variância:\n",
    "A variância é outra medida de dispersão que indica o quão distantes os valores de um conjunto de dados estão da média. Ela é calculada como a média dos quadrados das diferenças entre cada valor e a média. A variância fornece uma medida da dispersão total dos dados, independentemente de serem maiores ou menores que a média.\n",
    "\n",
    "Essas medidas são amplamente utilizadas na estatística para resumir e analisar conjuntos de dados. Elas fornecem informações valiosas sobre a distribuição, a variabilidade e a posição dos dados, permitindo uma compreensão mais completa dos mesmos."
   ]
  }
 ],
 "metadata": {
  "colab": {
   "provenance": []
  },
  "kernelspec": {
   "display_name": "venv",
   "language": "python",
   "name": "python3"
  },
  "language_info": {
   "codemirror_mode": {
    "name": "ipython",
    "version": 3
   },
   "file_extension": ".py",
   "mimetype": "text/x-python",
   "name": "python",
   "nbconvert_exporter": "python",
   "pygments_lexer": "ipython3",
   "version": "3.12.5"
  }
 },
 "nbformat": 4,
 "nbformat_minor": 0
}
