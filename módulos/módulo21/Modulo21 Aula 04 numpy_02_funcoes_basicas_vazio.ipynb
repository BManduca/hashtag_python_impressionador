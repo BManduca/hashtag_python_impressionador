{
 "cells": [
  {
   "cell_type": "markdown",
   "metadata": {
    "id": "rR3rh9cYqcws"
   },
   "source": [
    "# Guia de Introdução ao NumPy\n",
    "\n",
    "NumPy, que significa Numerical Python, é uma biblioteca fundamental para a computação científica em Python. Ela fornece suporte para arrays e matrizes, além de funções matemáticas para operações com esses objetos. É, também, a base da biblioteca Pandas.\n",
    "\n"
   ]
  },
  {
   "cell_type": "markdown",
   "metadata": {
    "id": "0ER-Tgwmqcwv"
   },
   "source": [
    "## Aplicações do dia a dia\n",
    "\n",
    "Vamos supor que você trabalha em uma empresa de vendas e tem os preços de diferentes produtos em uma lista. Você quer aumentar o preço de todos os produtos em 10%. Com NumPy, isso é simples.\n",
    "\n"
   ]
  },
  {
   "cell_type": "code",
   "execution_count": null,
   "metadata": {},
   "outputs": [],
   "source": [
    "!pip3 install numpy"
   ]
  },
  {
   "cell_type": "code",
   "execution_count": 3,
   "metadata": {
    "ExecuteTime": {
     "end_time": "2023-07-03T19:00:02.096368900Z",
     "start_time": "2023-07-03T19:00:01.993018200Z"
    },
    "id": "DU6nmkgTqcww",
    "jupyter": {
     "outputs_hidden": false
    },
    "outputId": "3be762e9-de05-4189-b87f-bb67ef8b759e"
   },
   "outputs": [
    {
     "name": "stdout",
     "output_type": "stream",
     "text": [
      "[22.  27.5 33.  38.5 44. ]\n"
     ]
    }
   ],
   "source": [
    "import numpy as np\n",
    "\n",
    "# Preços dos produtos\n",
    "precos = np.array([20, 25, 30, 35, 40])\n",
    "\n",
    "# Aumentar os preços em 10 % (ex.: ajuste de inflação)\n",
    "\n",
    "novos_precos = precos * 1.1\n",
    "print(novos_precos)\n"
   ]
  },
  {
   "cell_type": "markdown",
   "metadata": {
    "id": "8Ri_Bnuoqcwx"
   },
   "source": [
    "## np.sum()\n",
    "\n",
    "NumPy vem com muitas funções úteis. Por exemplo, você pode usar a função `sum()` para somar todos os elementos de um array. Isso pode ser útil para somar todas as vendas de um dia, por exemplo.\n",
    "\n"
   ]
  },
  {
   "cell_type": "code",
   "execution_count": 4,
   "metadata": {
    "ExecuteTime": {
     "end_time": "2023-07-03T19:00:02.114631Z",
     "start_time": "2023-07-03T19:00:02.098862600Z"
    },
    "id": "tjocSaWPqcwx",
    "jupyter": {
     "outputs_hidden": false
    },
    "outputId": "a45d577a-05e9-46fa-cf8a-cd28c448c9a6"
   },
   "outputs": [
    {
     "name": "stdout",
     "output_type": "stream",
     "text": [
      "Soma das vendas: R$ 1,180.00\n"
     ]
    }
   ],
   "source": [
    "import numpy as np\n",
    "\n",
    "# Vendas do dia\n",
    "vendas = np.array([200, 220, 250, 210, 300])\n",
    "\n",
    "# Somar todas as vendas\n",
    "soma_vendas = np.sum(vendas)\n",
    "print(f'Soma das vendas: R$ {soma_vendas:,.2f}')"
   ]
  },
  {
   "cell_type": "markdown",
   "metadata": {
    "id": "D_IxjMu8qcwx"
   },
   "source": [
    "## np.mean()\n",
    "\n",
    "A função `mean()` é usada para calcular a média de um array. Por exemplo, se você quiser calcular a média de vendas diárias em uma semana.\n"
   ]
  },
  {
   "cell_type": "code",
   "execution_count": 5,
   "metadata": {
    "ExecuteTime": {
     "end_time": "2023-07-03T19:00:02.156169700Z",
     "start_time": "2023-07-03T19:00:02.112124500Z"
    },
    "id": "s6f5qYjtqcwy",
    "jupyter": {
     "outputs_hidden": false
    },
    "outputId": "b0c91495-98d8-40fe-b03e-03a8ee657401"
   },
   "outputs": [
    {
     "name": "stdout",
     "output_type": "stream",
     "text": [
      "A média das vendas foi de R$ 241.43\n"
     ]
    }
   ],
   "source": [
    "import numpy as np\n",
    "\n",
    "# Vendas diárias em uma semana\n",
    "vendas = np.array([200, 220, 250, 210, 300, 280, 230])\n",
    "\n",
    "# Calcular a média de vendas\n",
    "media_vendas = np.mean(vendas)\n",
    "\n",
    "print(f'A média das vendas foi de R$ {media_vendas:,.2f}')\n",
    "\n"
   ]
  },
  {
   "cell_type": "markdown",
   "metadata": {
    "id": "P3V2QLECqcwy"
   },
   "source": [
    "## np.max() e np.min()\n",
    "\n",
    "As funções `max()` e `min()` são usadas para encontrar o valor máximo e mínimo em um array, respectivamente. Por exemplo, para encontrar o produto mais caro e mais barato.\n",
    "\n"
   ]
  },
  {
   "cell_type": "code",
   "execution_count": 6,
   "metadata": {
    "ExecuteTime": {
     "end_time": "2023-07-03T19:00:02.156169700Z",
     "start_time": "2023-07-03T19:00:02.128951400Z"
    },
    "id": "sghy1blBqcwy",
    "jupyter": {
     "outputs_hidden": false
    },
    "outputId": "5e38ea65-c9c5-4fc6-9b60-7c698bad7ad3"
   },
   "outputs": [
    {
     "name": "stdout",
     "output_type": "stream",
     "text": [
      "O produto mais barato custou R$ 20.00\n",
      "O produto mais caro custou R$ 40.00\n"
     ]
    }
   ],
   "source": [
    "import numpy as np\n",
    "\n",
    "# Preços dos produtos\n",
    "precos = np.array([20, 25, 30, 35, 40])\n",
    "\n",
    "# Encontrar o produto mais caro e mais barato\n",
    "produto_mais_caro = np.max(precos)\n",
    "produto_mais_barato = np.min(precos)\n",
    "\n",
    "print(f'O produto mais barato custou R$ {produto_mais_barato:,.2f}\\nO produto mais caro custou R$ {produto_mais_caro:,.2f}')\n"
   ]
  },
  {
   "cell_type": "markdown",
   "metadata": {
    "id": "xw5AhvHmqcwy"
   },
   "source": [
    "## np.sort()\n",
    "\n",
    "A função `sort()` é usada para ordenar os elementos de um array. Por exemplo, para ordenar as vendas diárias.\n",
    "\n"
   ]
  },
  {
   "cell_type": "code",
   "execution_count": 7,
   "metadata": {
    "ExecuteTime": {
     "end_time": "2023-07-03T19:00:02.165578300Z",
     "start_time": "2023-07-03T19:00:02.145146900Z"
    },
    "id": "c5kfsrzvqcwz",
    "jupyter": {
     "outputs_hidden": false
    },
    "outputId": "39835611-9df0-4aa4-a830-c546526f8073"
   },
   "outputs": [
    {
     "name": "stdout",
     "output_type": "stream",
     "text": [
      "Valor ordenado de vendas: [200 210 220 250 300]\n"
     ]
    }
   ],
   "source": [
    "import numpy as np\n",
    "\n",
    "# Vendas diárias\n",
    "vendas = np.array([200, 220, 250, 210, 300])\n",
    "\n",
    "# Ordenar as vendas\n",
    "\n",
    "vendas_ordenadas = np.sort(vendas)\n",
    "\n",
    "print(f'Valor ordenado de vendas: {vendas_ordenadas}')\n"
   ]
  },
  {
   "cell_type": "markdown",
   "metadata": {
    "id": "_EXPcU3iqcwz"
   },
   "source": [
    "## np.dot()\n",
    "\n",
    "A função `np.dot()` é usada para calcular o produto escalar de dois arrays. Por exemplo, em uma empresa de varejo, você pode querer calcular o valor total de vendas, dado o número de cada produto vendido e o preço de cada produto.\n"
   ]
  },
  {
   "cell_type": "code",
   "execution_count": 10,
   "metadata": {
    "ExecuteTime": {
     "end_time": "2023-07-03T19:00:02.183839Z",
     "start_time": "2023-07-03T19:00:02.158170300Z"
    },
    "id": "T5VsfLV3qcwz",
    "jupyter": {
     "outputs_hidden": false
    }
   },
   "outputs": [],
   "source": [
    "import numpy as np\n",
    "\n",
    "# Número de produtos vendidos\n",
    "quantidades_produtos = np.array([10, 20, 30, 40])\n",
    "\n",
    "# Preços dos produtos\n",
    "precos_unitarios = np.array([5, 10, 15, 20])\n",
    "\n",
    "# Calcular o valor total de vendas?\n"
   ]
  },
  {
   "cell_type": "code",
   "execution_count": 11,
   "metadata": {
    "id": "btzoPLLAqnrM"
   },
   "outputs": [
    {
     "name": "stdout",
     "output_type": "stream",
     "text": [
      "[ 50 200 450 800]\n"
     ]
    }
   ],
   "source": [
    "# em array podemos fazer a operação de maneira direta\n",
    "print(quantidades_produtos * precos_unitarios)"
   ]
  },
  {
   "cell_type": "code",
   "execution_count": 12,
   "metadata": {},
   "outputs": [
    {
     "name": "stdout",
     "output_type": "stream",
     "text": [
      "1500\n"
     ]
    }
   ],
   "source": [
    "# podemos realizar a soma de todos os valores gerados na mutiplicação de quantidade vs preco\n",
    "print(sum(quantidades_produtos * precos_unitarios))"
   ]
  },
  {
   "cell_type": "code",
   "execution_count": 13,
   "metadata": {},
   "outputs": [
    {
     "name": "stdout",
     "output_type": "stream",
     "text": [
      "O valor total das vendas foi de R$ 1,500.00\n"
     ]
    }
   ],
   "source": [
    "# np.dot() -> recebe dois arrays e realizar o produto escalar desses dois arrays\n",
    "valor_total_vendas = np.dot(quantidades_produtos, precos_unitarios)\n",
    "\n",
    "print(f'O valor total das vendas foi de R$ {valor_total_vendas:,.2f}')"
   ]
  }
 ],
 "metadata": {
  "colab": {
   "provenance": []
  },
  "kernelspec": {
   "display_name": "venv",
   "language": "python",
   "name": "python3"
  },
  "language_info": {
   "codemirror_mode": {
    "name": "ipython",
    "version": 3
   },
   "file_extension": ".py",
   "mimetype": "text/x-python",
   "name": "python",
   "nbconvert_exporter": "python",
   "pygments_lexer": "ipython3",
   "version": "3.12.5"
  }
 },
 "nbformat": 4,
 "nbformat_minor": 0
}
