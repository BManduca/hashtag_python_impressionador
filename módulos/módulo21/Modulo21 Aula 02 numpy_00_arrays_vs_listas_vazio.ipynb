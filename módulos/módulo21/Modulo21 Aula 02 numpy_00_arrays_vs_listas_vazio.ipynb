{
 "cells": [
  {
   "cell_type": "markdown",
   "metadata": {
    "id": "BVKaxu0ppS0l"
   },
   "source": [
    "# Guia de Introdução ao NumPy\n",
    "\n",
    "NumPy, que significa Numerical Python, é uma biblioteca fundamental para a computação científica em Python. Mas suas capacidades vão muito além disso, como veremos nos nestes vídeos. E ele serve como uma boa base para o Pandas, que é uma das bibliotecas mais populares para análise de dados em Python."
   ]
  },
  {
   "cell_type": "markdown",
   "metadata": {
    "id": "oEtVeUhWpS0o"
   },
   "source": [
    "## Instalação\n",
    "\n",
    "Para instalar o NumPy, você pode usar o comando `pip install numpy` no terminal."
   ]
  },
  {
   "cell_type": "code",
   "execution_count": null,
   "metadata": {
    "id": "AFLu4-arpS0o",
    "jupyter": {
     "outputs_hidden": false
    }
   },
   "outputs": [],
   "source": [
    "!pip3 install numpy"
   ]
  },
  {
   "cell_type": "markdown",
   "metadata": {
    "id": "JG5mbDHvpS0p"
   },
   "source": [
    "## Arrays NumPy\n",
    "\n",
    "Um array é uma estrutura de dados que armazena valores de um mesmo tipo. Em Python, isso é uma grande vantagem porque economiza espaço e permite operações mais eficientes."
   ]
  },
  {
   "cell_type": "code",
   "execution_count": null,
   "metadata": {
    "id": "wou4zRsipYcR"
   },
   "outputs": [],
   "source": [
    "# array -> sequência \n",
    "# array -> estrutura de dados que armazena uma sequencia de valores\n",
    "\n",
    "import numpy as np\n",
    "\n",
    "array_teste = np.array([1, 2, 3, 4, 5])\n",
    "\n",
    "# similar a uma lista\n",
    "print(array_teste)"
   ]
  },
  {
   "cell_type": "markdown",
   "metadata": {
    "id": "byBKpRdnpS0q"
   },
   "source": [
    "É relevante entender a diferença entre uma lista e um array.\n",
    "\n",
    "Uma **lista** é uma das estruturas de dados mais básicas em Python. Ela pode conter qualquer tipo de elementos, como números, strings, outras listas, e todos eles podem ser de tipos diferentes. Por exemplo:\n"
   ]
  },
  {
   "cell_type": "code",
   "execution_count": null,
   "metadata": {
    "id": "-lMHXuskpujN"
   },
   "outputs": [],
   "source": [
    "lista_teste = [1, 'dois', 3.0]\n",
    "\n",
    "print(type(lista_teste))"
   ]
  },
  {
   "cell_type": "code",
   "execution_count": null,
   "metadata": {},
   "outputs": [],
   "source": [
    "for elemento in lista_teste:\n",
    "    print(type(elemento))"
   ]
  },
  {
   "cell_type": "markdown",
   "metadata": {
    "id": "Tko5ffjnpS0r"
   },
   "source": [
    "Um **array**, por outro lado, é uma estrutura de dados que também armazena elementos, mas todos os elementos devem ser do mesmo tipo. Se você tentar criar um array com elementos de tipos diferentes, o NumPy irá convertê-los todos para o tipo mais geral. Por exemplo:"
   ]
  },
  {
   "cell_type": "code",
   "execution_count": null,
   "metadata": {
    "id": "4mxRmRGrpw_p"
   },
   "outputs": [],
   "source": [
    "array_teste = np.array(lista_teste)\n",
    "print(array_teste)\n",
    "\n",
    "print(type(array_teste))"
   ]
  },
  {
   "cell_type": "code",
   "execution_count": null,
   "metadata": {},
   "outputs": [],
   "source": [
    "for elemento in array_teste:\n",
    "    print(type(elemento))"
   ]
  },
  {
   "cell_type": "markdown",
   "metadata": {
    "id": "npbEgJJkpS0s"
   },
   "source": [
    "\n",
    "## Operações Matemáticas\n",
    "\n",
    "Se você tentar adicionar um número a todos os elementos de uma lista, você receberá um erro.\n",
    "\n"
   ]
  },
  {
   "cell_type": "code",
   "execution_count": null,
   "metadata": {
    "id": "ZJ3tCJPYpzQf"
   },
   "outputs": [],
   "source": [
    "lista = [1, 2, 3, 4, 5]\n",
    "nova_lista = lista + 1\n",
    "\n",
    "print(nova_lista)"
   ]
  },
  {
   "cell_type": "code",
   "execution_count": 12,
   "metadata": {},
   "outputs": [
    {
     "name": "stdout",
     "output_type": "stream",
     "text": [
      "[2, 3, 4, 5, 6]\n"
     ]
    }
   ],
   "source": [
    "nova_lista = []\n",
    "\n",
    "for num in lista:\n",
    "    nova_lista.append(num + 1)\n",
    "\n",
    "print(nova_lista)"
   ]
  },
  {
   "cell_type": "markdown",
   "metadata": {
    "id": "Q7VujUWXpS0s"
   },
   "source": [
    "Com um array NumPy, você pode adicionar (ou subtrair, multiplicar, dividir) um número a todos os elementos de uma vez.\n",
    "\n"
   ]
  },
  {
   "cell_type": "code",
   "execution_count": null,
   "metadata": {
    "id": "z_IVsBH9p1Dd"
   },
   "outputs": [
    {
     "name": "stdout",
     "output_type": "stream",
     "text": [
      "[ 1  4  9 16 25]\n"
     ]
    }
   ],
   "source": [
    "import numpy as np\n",
    "\n",
    "array_teste = np.array([1, 2, 3, 4, 5])\n",
    "# adicionando 1 a todos os elementos presente no array_teste\n",
    "novo_array_teste = array_teste + 1\n",
    "print(novo_array_teste)"
   ]
  },
  {
   "cell_type": "markdown",
   "metadata": {
    "id": "_T3MaA0NpS0t"
   },
   "source": [
    "## Desempenho\n",
    "\n",
    "Para grandes quantidades de dados, os arrays NumPy são significativamente mais eficientes em termos de memória e desempenho do que as listas Python. Aqui está um exemplo que demonstra isso:\n",
    "\n"
   ]
  },
  {
   "cell_type": "code",
   "execution_count": 17,
   "metadata": {
    "id": "tDG8l7UXp2QF"
   },
   "outputs": [
    {
     "name": "stdout",
     "output_type": "stream",
     "text": [
      "O tempo para somar todos os valores na lista foi de 0.11752486228942871 segundos\n",
      "O tempo para somar todos os valores no array foi de 0.008761167526245117 segundos\n"
     ]
    }
   ],
   "source": [
    "import numpy as np\n",
    "import time\n",
    "\n",
    "# criando uma lista e um array com 10 milhões de números\n",
    "# no python 10000000 == 10_000_000\n",
    "lista_auxiliar = list(range(1, 10_000_001))\n",
    "array_auxiliar = np.array(range(1, 10_000_001))\n",
    "\n",
    "# Calculando a soma de todos os números na lista\n",
    "tempo_inicial = time.time()\n",
    "soma_lista = sum(lista_auxiliar)\n",
    "tempo_final = time.time()\n",
    "\n",
    "print(f'O tempo para somar todos os valores na lista foi de {tempo_final - tempo_inicial} segundos')\n",
    "\n",
    "# Calculando a soma de todos os números do array\n",
    "tempo_inicial = time.time()\n",
    "soma_array = np.sum(array_auxiliar)\n",
    "tempo_final = time.time()\n",
    "print(f'O tempo para somar todos os valores no array foi de {tempo_final - tempo_inicial} segundos')"
   ]
  },
  {
   "cell_type": "markdown",
   "metadata": {
    "id": "8OSreiN_pS0t"
   },
   "source": [
    "## Resumindo\n",
    "\n",
    "Aqui estão algumas diferenças chave entre listas e arrays:\n",
    "\n",
    "1. **Tipo de dados**: As listas podem armazenar elementos de tipos diferentes ao mesmo tempo, enquanto os arrays armazenam elementos do mesmo tipo.\n",
    "\n",
    "2. **Operações matemáticas**: Você pode realizar operações matemáticas em todos os elementos de um array de uma vez, o que não é possível com listas.\n",
    "\n",
    "3. **Desempenho**: Arrays são mais eficientes em termos de memória e desempenho do que listas quando se trabalha com grandes quantidades de dados numéricos.\n",
    "\n",
    "4. **Funcionalidades**: NumPy arrays vêm com várias funções integradas para operações matemáticas e científicas, como média, soma, multiplicação de matrizes, etc., que não estão disponíveis com listas.\n"
   ]
  }
 ],
 "metadata": {
  "colab": {
   "provenance": []
  },
  "kernelspec": {
   "display_name": "venv",
   "language": "python",
   "name": "python3"
  },
  "language_info": {
   "codemirror_mode": {
    "name": "ipython",
    "version": 3
   },
   "file_extension": ".py",
   "mimetype": "text/x-python",
   "name": "python",
   "nbconvert_exporter": "python",
   "pygments_lexer": "ipython3",
   "version": "3.12.5"
  }
 },
 "nbformat": 4,
 "nbformat_minor": 0
}
