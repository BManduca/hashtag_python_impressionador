{
 "cells": [
  {
   "cell_type": "markdown",
   "metadata": {},
   "source": [
    "# Dicionários em Python\n",
    "\n",
    "### Estrutura:\n",
    "\n",
    "dicionario = {chave: valor, chave: valor, chave: valor, chave: valor ...}\n",
    "\n",
    "### Vantagens e Desvantagens\n",
    "\n",
    "- Não devem ser usados para pegar itens em uma determinada ordem\n",
    "- Podem ter valores heterogêneos (vários tipos de valores dentro de um mesmo dicionário: inteiros, strings, listas, etc)\n",
    "- Chaves são únicas obrigatoriamente\n",
    "- Mais intuitivos de trabalhar"
   ]
  },
  {
   "cell_type": "code",
   "execution_count": 2,
   "metadata": {},
   "outputs": [],
   "source": [
    "mais_vendidos = {'tecnologia': 'iphone', 'refrigeracao': 'ar consul 12000 btu', 'livros': 'o alquimista', 'eletrodoméstico': 'geladeira', 'lazer': 'prancha surf'}\n",
    "\n",
    "vendas_tecnologia = {'iphone': 15000, 'samsung galaxy': 12000, 'tv samsung': 10000, 'ps5': 14300, 'tablet': 1720, 'ipad': 1000, 'tv philco': 2500, 'notebook hp': 1000, 'notebook dell': 17000, 'notebook asus': 2450}"
   ]
  },
  {
   "cell_type": "markdown",
   "metadata": {},
   "source": [
    "- Qual foi o item mais vendido nas categorias 'livros' e 'lazer'?\n",
    "- Quanto foi vendido de 'notebook asus' e de 'ipad'?"
   ]
  },
  {
   "cell_type": "code",
   "execution_count": 8,
   "metadata": {},
   "outputs": [
    {
     "name": "stdout",
     "output_type": "stream",
     "text": [
      "O item mais vendido na categoria livros foi: O alquimista\n",
      "O item mais vendido na categoria lazer foi: Prancha surf\n",
      "A quantidade de notebooks asus vendidas foram de 2450 unidades\n",
      "A quantidade de ipads vendidas foram de 1000 unidades\n"
     ]
    }
   ],
   "source": [
    "# qtde_iphone = vendas_tecnologia['ps5']\n",
    "# print(qtde_iphone)\n",
    "\n",
    "livro = mais_vendidos['livros']\n",
    "print(f'O item mais vendido na categoria livros foi: {livro.capitalize()}')\n",
    "\n",
    "lazer = mais_vendidos['lazer']\n",
    "print(f'O item mais vendido na categoria lazer foi: {lazer.capitalize()}')\n",
    "\n",
    "qtde_note_asus = vendas_tecnologia['notebook asus']\n",
    "print(f'A quantidade de notebooks asus vendidas foram de {qtde_note_asus} unidades')\n",
    "\n",
    "qtde_ipad = vendas_tecnologia['ipad']\n",
    "print(f'A quantidade de ipads vendidas foram de {qtde_ipad} unidades')"
   ]
  }
 ],
 "metadata": {
  "kernelspec": {
   "display_name": "venv",
   "language": "python",
   "name": "python3"
  },
  "language_info": {
   "codemirror_mode": {
    "name": "ipython",
    "version": 3
   },
   "file_extension": ".py",
   "mimetype": "text/x-python",
   "name": "python",
   "nbconvert_exporter": "python",
   "pygments_lexer": "ipython3",
   "version": "3.12.5"
  }
 },
 "nbformat": 4,
 "nbformat_minor": 4
}
