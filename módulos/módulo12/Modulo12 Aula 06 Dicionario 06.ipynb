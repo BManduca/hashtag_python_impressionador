{
 "cells": [
  {
   "cell_type": "markdown",
   "metadata": {},
   "source": [
    "# Métodos úteis em dicionários\n",
    "\n",
    "## items() dos dicionários\n",
    "\n",
    "### Estrutura:"
   ]
  },
  {
   "cell_type": "raw",
   "metadata": {},
   "source": [
    "itens_dicionario = dicionario.items()\n",
    "\n",
    "ou então:\n",
    "\n",
    "for item in dicionario.items()\n",
    "    cada item do dicionario em formato de tupla"
   ]
  },
  {
   "cell_type": "code",
   "execution_count": 4,
   "metadata": {},
   "outputs": [
    {
     "name": "stdout",
     "output_type": "stream",
     "text": [
      "Notebook asus: 2450 unidades\n",
      "Iphone: 15000 unidades\n",
      "Samsung galaxy: 12000 unidades\n",
      "Tv samsung: 10000 unidades\n",
      "Ps5: 14300 unidades\n",
      "Tablet: 1720 unidades\n",
      "Notebook dell: 17000 unidades\n",
      "Ipad: 1000 unidades\n",
      "Tv philco: 2500 unidades\n",
      "Notebook hp: 1000 unidades\n"
     ]
    }
   ],
   "source": [
    "vendas_tecnologia = {'notebook asus': 2450, 'iphone': 15000, 'samsung galaxy': 12000, 'tv samsung': 10000, 'ps5': 14300, 'tablet': 1720, 'notebook dell': 17000, 'ipad': 1000, 'tv philco': 2500, 'notebook hp': 1000}\n",
    "\n",
    "# 1˚ alternativa\n",
    "# itens_tecnologia = vendas_tecnologia.items()\n",
    "# print(itens_tecnologia)\n",
    "\n",
    "# 2˚ alternativa\n",
    "for produto, qtde in vendas_tecnologia.items():\n",
    "    print(f'{produto.capitalize()}: {qtde} unidades')\n",
    "\n"
   ]
  },
  {
   "cell_type": "markdown",
   "metadata": {},
   "source": [
    "- Quais produtos venderam mais de 5000 unidades?"
   ]
  },
  {
   "cell_type": "code",
   "execution_count": null,
   "metadata": {},
   "outputs": [
    {
     "name": "stdout",
     "output_type": "stream",
     "text": [
      "Iphone: 15000 unidades.\n",
      "Samsung galaxy: 12000 unidades.\n",
      "Tv samsung: 10000 unidades.\n",
      "Ps5: 14300 unidades.\n",
      "Notebook dell: 17000 unidades.\n"
     ]
    }
   ],
   "source": [
    "#forma 1 -> usando apenas o dicionario e as chaves\n",
    "# for item_tecnologia in vendas_tecnologia:\n",
    "#     if vendas_tecnologia[item_tecnologia] > 5000:\n",
    "#         print(f'{item_tecnologia.capitalize()}: {vendas_tecnologia[item_tecnologia]} unidades.')\n",
    "\n",
    "#forma 2 -> usando o dicionario.items()\n",
    "for nome_produto, qtde in vendas_tecnologia.items():\n",
    "    if qtde > 5000:\n",
    "        print(f'{nome_produto.capitalize()}: {qtde} unidades.')"
   ]
  },
  {
   "cell_type": "markdown",
   "metadata": {},
   "source": [
    "# Listas importantes a partir do Dicionário\n",
    "\n",
    "### Métodos importantes:\n",
    "\n",
    ".keys() -> uma \"lista\" com todas as chaves do dicionario\n",
    "\n",
    ".values() -> uma \"lista\" com todos os valores do dicionario\n",
    "\n",
    "Obs: Se o dicionario for modificado, automaticamente essas variáveis são modificadas, mesmo tendo sido criadas anteriormente"
   ]
  },
  {
   "cell_type": "code",
   "execution_count": 10,
   "metadata": {},
   "outputs": [
    {
     "name": "stdout",
     "output_type": "stream",
     "text": [
      "dict_keys(['notebook asus', 'iphone', 'samsung galaxy', 'tv samsung', 'ps5', 'tablet', 'notebook dell', 'ipad', 'tv philco', 'notebook hp'])\n",
      "dict_values([2450, 15000, 12000, 10000, 14300, 1720, 17000, 1000, 2500, 1000])\n"
     ]
    }
   ],
   "source": [
    "chaves = vendas_tecnologia.keys()\n",
    "valores = vendas_tecnologia.values()\n",
    "print(chaves)\n",
    "print(valores)"
   ]
  },
  {
   "cell_type": "code",
   "execution_count": 11,
   "metadata": {},
   "outputs": [
    {
     "name": "stdout",
     "output_type": "stream",
     "text": [
      "dict_keys(['notebook asus', 'iphone', 'samsung galaxy', 'tv samsung', 'ps5', 'tablet', 'notebook dell', 'ipad', 'tv philco', 'notebook hp', 'liraphone'])\n",
      "\n",
      "dict_values([2450, 15000, 12000, 10000, 14300, 1720, 17000, 1000, 2500, 1000, 10])\n",
      "\n",
      "['notebook asus', 'iphone', 'samsung galaxy', 'tv samsung', 'ps5', 'tablet', 'notebook dell', 'ipad', 'tv philco', 'notebook hp', 'liraphone']\n",
      "\n",
      "[2450, 15000, 12000, 10000, 14300, 1720, 17000, 1000, 2500, 1000, 10]\n",
      "\n"
     ]
    }
   ],
   "source": [
    "vendas_tecnologia['liraphone'] = 10\n",
    "print(f'{chaves}\\n')\n",
    "print(f'{valores}\\n')\n",
    "print(f'{list(chaves)}\\n')\n",
    "print(f'{list(valores)}\\n')"
   ]
  },
  {
   "cell_type": "markdown",
   "metadata": {},
   "source": [
    "### O for vai funcionar normal em dict_listas, porque não deixa de ser uma lista de itens que pode ser percorrida (iterable), mas o que aprendemos de lista não necessariamente se aplicam a essas dict_listas.\n",
    "\n",
    "Para transformar as dict_listas em listas normais, usamos a função list:\n",
    "\n",
    "- lista_chaves = list(dicionario.keys())"
   ]
  },
  {
   "cell_type": "markdown",
   "metadata": {},
   "source": [
    "- Pode ser útil caso a gente queira fazer alguma organização das chaves. Ex: Imprimir uma lista com os valores em ordem alfabética, de forma que todas as tvs fiquem juntas, todos os iphone/ipad também e assim vai:"
   ]
  },
  {
   "cell_type": "code",
   "execution_count": 16,
   "metadata": {},
   "outputs": [
    {
     "name": "stdout",
     "output_type": "stream",
     "text": [
      "Ipad: 1000 unidades\n",
      "Iphone: 15000 unidades\n",
      "Liraphone: 10 unidades\n",
      "Notebook asus: 2450 unidades\n",
      "Notebook dell: 17000 unidades\n",
      "Notebook hp: 1000 unidades\n",
      "Ps5: 14300 unidades\n",
      "Samsung galaxy: 12000 unidades\n",
      "Tablet: 1720 unidades\n",
      "Tv philco: 2500 unidades\n",
      "Tv samsung: 10000 unidades\n"
     ]
    }
   ],
   "source": [
    "# for chave in vendas_tecnologia:\n",
    "#      print('{}: {} unidades'.format(chave, vendas_tecnologia[chave]))\n",
    "# print('-' * 40)\n",
    "\n",
    "#agora se quisermos organizar isso, fazemos:\n",
    "# criando uma lista em cima do dict_keys\n",
    "list_products = list(chaves)\n",
    "# ordenando a lista\n",
    "list_products.sort()\n",
    "\n",
    "for product in list_products:\n",
    "     print(f'{product.capitalize()}: {vendas_tecnologia[product]} unidades')"
   ]
  }
 ],
 "metadata": {
  "kernelspec": {
   "display_name": "venv",
   "language": "python",
   "name": "python3"
  },
  "language_info": {
   "codemirror_mode": {
    "name": "ipython",
    "version": 3
   },
   "file_extension": ".py",
   "mimetype": "text/x-python",
   "name": "python",
   "nbconvert_exporter": "python",
   "pygments_lexer": "ipython3",
   "version": "3.12.5"
  }
 },
 "nbformat": 4,
 "nbformat_minor": 4
}
