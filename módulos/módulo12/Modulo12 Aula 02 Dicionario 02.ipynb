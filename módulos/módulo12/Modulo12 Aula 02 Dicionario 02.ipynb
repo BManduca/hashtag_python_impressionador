{
 "cells": [
  {
   "cell_type": "markdown",
   "metadata": {},
   "source": [
    "# Não confie na ordem dos dicionários, use as chaves\n",
    "\n",
    "### Python Versões Antigas x Versões Novas\n",
    "\n",
    "- Dicionários eram \"sem ordem\". Atualmente tem ordem, mas o certo é usar as chaves\n",
    "- 2 formas de pegar um valor:\n",
    "    - dicionario[chave]\n",
    "    - .get(chave)"
   ]
  },
  {
   "cell_type": "code",
   "execution_count": 1,
   "metadata": {},
   "outputs": [],
   "source": [
    "mais_vendidos = {'tecnologia': 'iphone', 'refrigeracao': 'ar consul 12000 btu', 'livros': 'o alquimista', 'eletrodoméstico': 'geladeira', 'lazer': 'prancha surf'}\n",
    "\n",
    "vendas_tecnologia = {'iphone': 15000, 'samsung galaxy': 12000, 'tv samsung': 10000, 'ps5': 14300, 'tablet': 1720, 'ipad': 1000, 'tv philco': 2500, 'notebook hp': 1000, 'notebook dell': 17000, 'notebook asus': 2450}"
   ]
  },
  {
   "cell_type": "markdown",
   "metadata": {},
   "source": [
    "- Qual foi o item mais vendido nas categorias 'livros' e 'lazer'?\n",
    "- Quanto foi vendido de 'notebook asus' e de 'ipad'?"
   ]
  },
  {
   "cell_type": "code",
   "execution_count": 6,
   "metadata": {},
   "outputs": [
    {
     "name": "stdout",
     "output_type": "stream",
     "text": [
      "O livro mais vendido foi: o alquimista.\n",
      "O produto para lazer mais vendido foi: prancha surf.\n",
      "\n",
      "\n",
      "Foram vendidas 2450 unidades do notebook asus.\n",
      "Foram vendidas 1000 unidades do ipad.\n"
     ]
    }
   ],
   "source": [
    "# respondendo com a chave, igual a aula anterior\n",
    "livro = mais_vendidos['livros']\n",
    "lazer = mais_vendidos['lazer']\n",
    "\n",
    "print(f'O livro mais vendido foi: {livro}.\\nO produto para lazer mais vendido foi: {lazer}.')\n",
    "\n",
    "# respondendo com o método get\n",
    "\n",
    "qtde_note_asus = vendas_tecnologia.get('notebook asus')\n",
    "qtde_ipad = vendas_tecnologia.get('ipad')\n",
    "\n",
    "print(f'\\n\\nForam vendidas {qtde_note_asus} unidades do notebook asus.\\nForam vendidas {qtde_ipad} unidades do ipad.')"
   ]
  },
  {
   "cell_type": "code",
   "execution_count": 9,
   "metadata": {},
   "outputs": [
    {
     "name": "stdout",
     "output_type": "stream",
     "text": [
      "None\n"
     ]
    }
   ],
   "source": [
    "# procurando um item dentro do dicionario, porem o nome sendo escrito de maneira errada\n",
    "\n",
    "# retorna um error\n",
    "# print(vendas_tecnologia['ipads'])\n",
    "print(vendas_tecnologia.get('ipads')) # retorna None"
   ]
  },
  {
   "cell_type": "markdown",
   "metadata": {},
   "source": [
    "### Verificar se item está no dicionário:\n",
    "\n",
    "- if\n",
    "- .get(chave) = None\n",
    "\n",
    "Se tentarmos procurar as vendas de \"copo\" na lista de vendas tecnologia, o que acontece?"
   ]
  },
  {
   "cell_type": "code",
   "execution_count": 12,
   "metadata": {},
   "outputs": [
    {
     "name": "stdout",
     "output_type": "stream",
     "text": [
      "Copo não está presente na lista de produtos de tecnologia!\n",
      "Copo não está presente na lista de produtos de tecnologia.\n"
     ]
    }
   ],
   "source": [
    "# 1˚ alternativa\n",
    "if 'copo' in vendas_tecnologia:\n",
    "    print(vendas_tecnologia['copo'])\n",
    "else:\n",
    "    print('Copo não está presente na lista de produtos de tecnologia!')\n",
    "\n",
    "# 2˚ alternativa\n",
    "if vendas_tecnologia.get('copo') is None:\n",
    "    print('Copo não está presente na lista de produtos de tecnologia.')\n",
    "else:\n",
    "    print(vendas_tecnologia.get('copo'))"
   ]
  }
 ],
 "metadata": {
  "kernelspec": {
   "display_name": "venv",
   "language": "python",
   "name": "python3"
  },
  "language_info": {
   "codemirror_mode": {
    "name": "ipython",
    "version": 3
   },
   "file_extension": ".py",
   "mimetype": "text/x-python",
   "name": "python",
   "nbconvert_exporter": "python",
   "pygments_lexer": "ipython3",
   "version": "3.12.5"
  }
 },
 "nbformat": 4,
 "nbformat_minor": 4
}
