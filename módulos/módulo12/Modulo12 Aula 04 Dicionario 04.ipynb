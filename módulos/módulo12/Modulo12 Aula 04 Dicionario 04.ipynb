{
 "cells": [
  {
   "cell_type": "markdown",
   "metadata": {},
   "source": [
    "# For nos Dicionarios\n",
    "\n",
    "### Estrutura:"
   ]
  },
  {
   "cell_type": "raw",
   "metadata": {},
   "source": [
    "for chave in dicionario:\n",
    "    faça alguma coisa"
   ]
  },
  {
   "cell_type": "code",
   "execution_count": 5,
   "metadata": {},
   "outputs": [
    {
     "name": "stdout",
     "output_type": "stream",
     "text": [
      "Iphone: 15000 unidades.\n",
      "\n",
      "Samsung galaxy: 12000 unidades.\n",
      "\n",
      "Tv samsung: 10000 unidades.\n",
      "\n",
      "Ps5: 14300 unidades.\n",
      "\n",
      "Tablet: 1720 unidades.\n",
      "\n",
      "Ipad: 1000 unidades.\n",
      "\n",
      "Tv philco: 2500 unidades.\n",
      "\n",
      "Notebook hp: 1000 unidades.\n",
      "\n",
      "Notebook dell: 17000 unidades.\n",
      "\n",
      "Notebook asus: 2450 unidades.\n",
      "\n"
     ]
    }
   ],
   "source": [
    "vendas_tecnologia = {'iphone': 15000, 'samsung galaxy': 12000, 'tv samsung': 10000, 'ps5': 14300, 'tablet': 1720, 'ipad': 1000, 'tv philco': 2500, 'notebook hp': 1000, 'notebook dell': 17000, 'notebook asus': 2450}\n",
    "\n",
    "#demonstrando o for\n",
    "\n",
    "for chave_item in vendas_tecnologia:\n",
    "    print(f'{chave_item.capitalize()}: {vendas_tecnologia[chave_item]} unidades.\\n')\n"
   ]
  },
  {
   "cell_type": "markdown",
   "metadata": {},
   "source": [
    "- Qual o total de notebooks vendidos?"
   ]
  },
  {
   "cell_type": "code",
   "execution_count": 8,
   "metadata": {},
   "outputs": [
    {
     "name": "stdout",
     "output_type": "stream",
     "text": [
      "Total de notebooks vendidos foram de 20450 unidades.\n"
     ]
    }
   ],
   "source": [
    "total_notebooks = 0\n",
    "\n",
    "for chave_item in vendas_tecnologia:\n",
    "    if 'notebook' in chave_item:\n",
    "        total_notebooks += vendas_tecnologia[chave_item]\n",
    "\n",
    "print(f'Total de notebooks vendidos foram de {total_notebooks} unidades.')"
   ]
  }
 ],
 "metadata": {
  "kernelspec": {
   "display_name": "venv",
   "language": "python",
   "name": "python3"
  },
  "language_info": {
   "codemirror_mode": {
    "name": "ipython",
    "version": 3
   },
   "file_extension": ".py",
   "mimetype": "text/x-python",
   "name": "python",
   "nbconvert_exporter": "python",
   "pygments_lexer": "ipython3",
   "version": "3.12.5"
  }
 },
 "nbformat": 4,
 "nbformat_minor": 4
}
