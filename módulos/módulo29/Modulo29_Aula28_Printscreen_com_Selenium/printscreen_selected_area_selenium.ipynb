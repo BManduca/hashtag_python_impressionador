{
 "cells": [
  {
   "cell_type": "markdown",
   "metadata": {},
   "source": [
    "## Configurações iniciais e criando navegador"
   ]
  },
  {
   "cell_type": "code",
   "execution_count": null,
   "metadata": {},
   "outputs": [],
   "source": [
    "import os\n",
    "import time\n",
    "from PIL import Image\n",
    "from datetime import datetime\n",
    "from selenium import webdriver\n",
    "from selenium.webdriver.common.by import By\n",
    "\n",
    "timestamp = datetime.now().strftime('%d%m%Y_%H%M%S')\n",
    "\n",
    "caminho_raiz = os.getcwd()\n",
    "caminho_salvar_screenshot = os.path.join(caminho_raiz, \"assets\")\n",
    "arquivo = caminho_raiz + \"/Pagina Hashtag.html\"\n",
    "\n",
    "# criando a pasta, caso a mesma não exista\n",
    "os.makedirs(caminho_salvar_screenshot, exist_ok=True)\n",
    "\n",
    "options = webdriver.ChromeOptions()\n",
    "options.add_argument(\"--start-maximized\")\n",
    "\n",
    "navegador = webdriver.Chrome(options=options)"
   ]
  },
  {
   "cell_type": "markdown",
   "metadata": {},
   "source": [
    "## Acessando site e tirando screenshot da tela"
   ]
  },
  {
   "cell_type": "code",
   "execution_count": null,
   "metadata": {},
   "outputs": [],
   "source": [
    "try:\n",
    "\n",
    "    navegador.get(rf\"file:///{arquivo}\")\n",
    "\n",
    "    navegador.save_screenshot(f\"{caminho_salvar_screenshot}/print_screen_{timestamp}.png\")\n",
    "\n",
    "except Exception as e:\n",
    "    print(f'Erro encontrado: {e}')\n",
    "# finally:\n",
    "#     time.sleep(2)\n",
    "#     navegador.quit()"
   ]
  },
  {
   "cell_type": "markdown",
   "metadata": {},
   "source": [
    "## Tirando screenshot de parte da tela"
   ]
  },
  {
   "cell_type": "code",
   "execution_count": null,
   "metadata": {},
   "outputs": [],
   "source": [
    "imagem = Image.open(f\"{caminho_salvar_screenshot}/print_screen_{timestamp}.png\")\n",
    "\n",
    "elemento = navegador.find_element(By.ID, 'header')\n",
    "\n",
    "# função location retorna a posicao inicial do elemento\n",
    "posicao = elemento.location\n",
    "# size -> retorna o tamanho do elemento\n",
    "tamanho = elemento.size\n",
    "\n",
    "x_inicial = posicao[\"x\"] * 2\n",
    "y_inicial = posicao[\"y\"] * 2\n",
    "\n",
    "x_final = (x_inicial + tamanho[\"width\"]) * 2\n",
    "y_final = (y_inicial + tamanho[\"height\"]) * 2\n",
    "\n",
    "imagem_crop = imagem.crop((x_inicial, y_inicial, x_final, y_final))\n",
    "imagem_crop.save(f\"{caminho_salvar_screenshot}/imagem_crop_{timestamp}.png\")"
   ]
  },
  {
   "cell_type": "code",
   "execution_count": null,
   "metadata": {},
   "outputs": [],
   "source": [
    "# elemento = navegador.find_element(By.ID, 'header')\n",
    "\n",
    "# # função location retorna a posicao inicial do elemento\n",
    "# posicao = elemento.location\n",
    "# # size -> retorna o tamanho do elemento\n",
    "# tamanho = elemento.size\n",
    "\n",
    "# print(posicao)\n",
    "# print(tamanho)"
   ]
  }
 ],
 "metadata": {
  "kernelspec": {
   "display_name": "venv",
   "language": "python",
   "name": "python3"
  },
  "language_info": {
   "codemirror_mode": {
    "name": "ipython",
    "version": 3
   },
   "file_extension": ".py",
   "mimetype": "text/x-python",
   "name": "python",
   "nbconvert_exporter": "python",
   "pygments_lexer": "ipython3",
   "version": "3.12.5"
  }
 },
 "nbformat": 4,
 "nbformat_minor": 2
}
