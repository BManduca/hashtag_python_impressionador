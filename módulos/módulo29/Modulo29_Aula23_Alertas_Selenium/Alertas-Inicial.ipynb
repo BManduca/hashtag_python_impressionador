{
 "cells": [
  {
   "cell_type": "markdown",
   "id": "367cd714",
   "metadata": {},
   "source": [
    "### Documentação Selenium:\n",
    "\n",
    "- https://selenium-python.readthedocs.io/locating-elements.html"
   ]
  },
  {
   "cell_type": "code",
   "execution_count": 1,
   "id": "4e28f9f7",
   "metadata": {},
   "outputs": [],
   "source": [
    "import time\n",
    "from selenium import webdriver\n",
    "from selenium.webdriver.common.alert import Alert\n",
    "from selenium.webdriver.common.by import By\n",
    "\n",
    "navegador = webdriver.Chrome()"
   ]
  },
  {
   "cell_type": "code",
   "execution_count": 2,
   "id": "59c8398d",
   "metadata": {},
   "outputs": [],
   "source": [
    "import os\n",
    "\n",
    "caminho = os.getcwd()\n",
    "arquivo = caminho + \"/alertas.html\"\n",
    "navegador.get(rf\"file:///{arquivo}\")"
   ]
  },
  {
   "cell_type": "markdown",
   "id": "7d964ce5",
   "metadata": {},
   "source": [
    "#### Alertas Básicos"
   ]
  },
  {
   "cell_type": "code",
   "execution_count": 3,
   "id": "09f60749",
   "metadata": {},
   "outputs": [],
   "source": [
    "# selecionar um alerta\n",
    "# navegador.find_element(By.XPATH, '/html/body/div[1]/input').click()\n",
    "\n",
    "# forma simples\n",
    "# alerta = navegador.switch_to.alert\n",
    "\n",
    "# forma \"completa\"\n",
    "# alerta2 = Alert(navegador)\n",
    "\n",
    "# aceitar (dar ok) no alerta\n",
    "# time.sleep(2)\n",
    "# alerta2.accept()"
   ]
  },
  {
   "cell_type": "markdown",
   "id": "34631cac",
   "metadata": {},
   "source": [
    "#### Alertas de Confirmação"
   ]
  },
  {
   "cell_type": "code",
   "execution_count": 4,
   "id": "3594b247",
   "metadata": {},
   "outputs": [],
   "source": [
    "navegador.find_element(By.XPATH, '/html/body/div[2]/input').click()\n",
    "alerta = Alert(navegador)\n",
    "\n",
    "# aceitar\n",
    "time.sleep(3)\n",
    "alerta.accept()\n",
    "\n",
    "# cancelar\n",
    "# alerta.dismiss()"
   ]
  },
  {
   "cell_type": "markdown",
   "id": "68a498a9",
   "metadata": {},
   "source": [
    "#### Pegar o texto do alerta"
   ]
  },
  {
   "cell_type": "code",
   "execution_count": 5,
   "id": "84f67d69",
   "metadata": {},
   "outputs": [],
   "source": [
    "# Intuito de pegar os textos dos alerta, é necessariamente para fazer\n",
    "# condições dependendo do que o alerta está analisando\n",
    "# Por exemplo: O alerta pediu o CEP, você preenche CEP\n",
    "# # Por exemplo: O alerta pediu o CPF, você preenche CPF\n",
    "\n",
    "# alerta = Alert(navegador)\n",
    "# texto = alerta.text\n",
    "# print(texto)"
   ]
  },
  {
   "cell_type": "markdown",
   "id": "c8d5a4d8",
   "metadata": {},
   "source": [
    "#### Alertas de Input"
   ]
  },
  {
   "cell_type": "code",
   "execution_count": 6,
   "id": "79998e3f",
   "metadata": {},
   "outputs": [],
   "source": [
    "navegador.find_element(By.XPATH, '/html/body/div[3]/button').click()\n",
    "\n",
    "alerta_input = Alert(navegador)\n",
    "\n",
    "alerta_input.send_keys('08354047903')\n",
    "time.sleep(2)\n",
    "alerta_input.accept()"
   ]
  },
  {
   "cell_type": "code",
   "execution_count": null,
   "id": "5eebaa32",
   "metadata": {},
   "outputs": [],
   "source": []
  },
  {
   "cell_type": "code",
   "execution_count": null,
   "id": "69c2a6f7",
   "metadata": {},
   "outputs": [],
   "source": []
  },
  {
   "cell_type": "code",
   "execution_count": null,
   "id": "aba8f959",
   "metadata": {},
   "outputs": [],
   "source": []
  }
 ],
 "metadata": {
  "kernelspec": {
   "display_name": "venv",
   "language": "python",
   "name": "python3"
  },
  "language_info": {
   "codemirror_mode": {
    "name": "ipython",
    "version": 3
   },
   "file_extension": ".py",
   "mimetype": "text/x-python",
   "name": "python",
   "nbconvert_exporter": "python",
   "pygments_lexer": "ipython3",
   "version": "3.12.5"
  }
 },
 "nbformat": 4,
 "nbformat_minor": 5
}
