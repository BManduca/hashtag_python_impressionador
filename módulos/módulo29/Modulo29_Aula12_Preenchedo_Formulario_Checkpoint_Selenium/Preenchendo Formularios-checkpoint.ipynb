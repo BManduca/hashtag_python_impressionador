{
 "cells": [
  {
   "cell_type": "markdown",
   "id": "367cd714",
   "metadata": {
    "id": "367cd714"
   },
   "source": [
    "### Documentacao Selenium:\n",
    "\n",
    "- https://selenium-python.readthedocs.io/locating-elements.html"
   ]
  },
  {
   "cell_type": "code",
   "execution_count": 41,
   "id": "4e28f9f7",
   "metadata": {
    "id": "4e28f9f7",
    "outputId": "28fed806-b8cb-45fb-e4fd-3cf82b74ab1c"
   },
   "outputs": [],
   "source": [
    "from selenium import webdriver\n",
    "from selenium.webdriver.common.keys import Keys\n",
    "from selenium.webdriver.common.by import By\n",
    "\n",
    "navegador = webdriver.Chrome()"
   ]
  },
  {
   "cell_type": "code",
   "execution_count": 42,
   "id": "59c8398d",
   "metadata": {
    "id": "59c8398d"
   },
   "outputs": [],
   "source": [
    "import os\n",
    "\n",
    "caminho = os.getcwd()\n",
    "arquivo = caminho + \"/formulario.html\"\n",
    "navegador.get(rf\"file:///{arquivo}\")"
   ]
  },
  {
   "cell_type": "markdown",
   "id": "7d964ce5",
   "metadata": {
    "id": "7d964ce5"
   },
   "source": [
    "#### Botao Padrao (clicar em botao)"
   ]
  },
  {
   "cell_type": "code",
   "execution_count": 44,
   "id": "e5c8e21c",
   "metadata": {
    "id": "e5c8e21c"
   },
   "outputs": [],
   "source": [
    "navegador.find_element(By.XPATH, '/html/body/form/input[1]').click()\n",
    "\n",
    "# aceitando o pop-up que aparece na tela\n",
    "alerta = navegador.switch_to.alert\n",
    "alerta.accept()"
   ]
  },
  {
   "cell_type": "markdown",
   "id": "1aeb33bf",
   "metadata": {
    "id": "1aeb33bf"
   },
   "source": [
    "#### Dica, esteja atento ao atributo \"value\" dos inputs, ele pode te ajudar\n",
    "\n",
    "- .text\n",
    "- .get_attribute(\"value\")\n",
    "- .is_selected"
   ]
  },
  {
   "cell_type": "markdown",
   "id": "1331d937",
   "metadata": {
    "id": "1331d937"
   },
   "source": [
    "#### Botao de Selecao estilo Checkbox (clicar no botao)"
   ]
  },
  {
   "cell_type": "code",
   "execution_count": 47,
   "id": "f198b96a",
   "metadata": {
    "id": "f198b96a"
   },
   "outputs": [],
   "source": [
    "# ação de clicar no botão\n",
    "navegador.find_element(By.XPATH, '/html/body/form/input[3]').click()"
   ]
  },
  {
   "cell_type": "code",
   "execution_count": 48,
   "id": "945a973c",
   "metadata": {
    "id": "945a973c",
    "outputId": "31700b0e-2c9d-409b-a2c1-ffc586ee278e"
   },
   "outputs": [
    {
     "name": "stdout",
     "output_type": "stream",
     "text": [
      "True\n"
     ]
    }
   ],
   "source": [
    "# verificar o valor do botão\n",
    "valor_button = navegador.find_element(By.XPATH, '/html/body/form/input[3]').is_selected()\n",
    "print(valor_button)"
   ]
  },
  {
   "cell_type": "markdown",
   "id": "6bd35ffa",
   "metadata": {
    "id": "6bd35ffa"
   },
   "source": [
    "#### Botao de Selecao de Cores (enviar valor)"
   ]
  },
  {
   "cell_type": "code",
   "execution_count": 49,
   "id": "861aae8c",
   "metadata": {},
   "outputs": [],
   "source": [
    "# preenchendo o campo com uma cor especifica\n",
    "# #3145DD\n",
    "\n",
    "navegador.find_element(By.XPATH, '/html/body/form/input[4]').send_keys(\"#3145DD\")"
   ]
  },
  {
   "cell_type": "code",
   "execution_count": 50,
   "id": "d1713726",
   "metadata": {},
   "outputs": [],
   "source": [
    "navegador.find_element(By.XPATH, '/html/body/form/input[5]').send_keys(\"#2143E8\")"
   ]
  },
  {
   "cell_type": "code",
   "execution_count": 51,
   "id": "1c1e2893",
   "metadata": {
    "id": "1c1e2893"
   },
   "outputs": [
    {
     "name": "stdout",
     "output_type": "stream",
     "text": [
      "#3145dd\n"
     ]
    }
   ],
   "source": [
    "# verificando a cor selecionada\n",
    "valor_campo_cor = navegador.find_element(By.XPATH, '/html/body/form/input[4]').get_attribute(\"value\")\n",
    "print(valor_campo_cor)"
   ]
  },
  {
   "cell_type": "markdown",
   "id": "d1492596",
   "metadata": {
    "id": "d1492596"
   },
   "source": [
    "#### Botao de Datas (enviar valor)"
   ]
  },
  {
   "cell_type": "code",
   "execution_count": 52,
   "id": "7b3566a4",
   "metadata": {
    "id": "7b3566a4"
   },
   "outputs": [],
   "source": [
    "# preenchendo o campo data com o valor especifico dd/mm/aaaa\n",
    "navegador.find_element(By.XPATH, '/html/body/form/input[6]').send_keys('21/05/1992')"
   ]
  },
  {
   "cell_type": "code",
   "execution_count": 53,
   "id": "0fef066d",
   "metadata": {
    "id": "0fef066d",
    "outputId": "65aad6aa-815e-49a7-9d5c-90c542fcdb2f"
   },
   "outputs": [
    {
     "name": "stdout",
     "output_type": "stream",
     "text": [
      "1992-05-21\n"
     ]
    }
   ],
   "source": [
    "# pegando o valor da data\n",
    "campo_data = navegador.find_element(By.XPATH, '/html/body/form/input[6]').get_attribute('value')\n",
    "print(campo_data)\n"
   ]
  },
  {
   "cell_type": "markdown",
   "id": "b56c93ff",
   "metadata": {
    "id": "b56c93ff"
   },
   "source": [
    "#### Botao de Datas com Horas (enviar valor)"
   ]
  },
  {
   "cell_type": "code",
   "execution_count": 54,
   "id": "eb4e4b0f",
   "metadata": {
    "id": "eb4e4b0f"
   },
   "outputs": [],
   "source": [
    "# preenchendo o campo data com horário\n",
    "navegador.find_element(By.XPATH, '/html/body/form/input[7]').send_keys(\"21/05/1992\", Keys.TAB, '13:30')"
   ]
  },
  {
   "cell_type": "code",
   "execution_count": 56,
   "id": "7674a1e7",
   "metadata": {
    "id": "7674a1e7",
    "outputId": "f8b37a3c-173d-4f6b-e52e-3c212e6ea085"
   },
   "outputs": [
    {
     "name": "stdout",
     "output_type": "stream",
     "text": [
      "1992-05-21T13:30\n"
     ]
    }
   ],
   "source": [
    "# pegando o valor do campo data com horário\n",
    "valor_campo_data_horario = navegador.find_element(By.XPATH, '/html/body/form/input[7]').get_attribute('value')\n",
    "print(valor_campo_data_horario)"
   ]
  },
  {
   "cell_type": "markdown",
   "id": "2fcaf917",
   "metadata": {
    "id": "2fcaf917"
   },
   "source": [
    "#### Botao para selecionar o arquivo (enviar valor com caminho completo)"
   ]
  },
  {
   "cell_type": "code",
   "execution_count": 64,
   "id": "246933c3",
   "metadata": {},
   "outputs": [],
   "source": [
    "# enviando um arquivo\n",
    "valor_campo_send_file = navegador.find_element(By.XPATH, '/html/body/form/input[8]').send_keys('/Users/brunnomanduca/Downloads/certificate.pdf')"
   ]
  },
  {
   "cell_type": "code",
   "execution_count": 68,
   "id": "494c0feb",
   "metadata": {},
   "outputs": [],
   "source": [
    "# enviando um arquivo\n",
    "\n",
    "caminho = os.getcwd()\n",
    "arquivo = caminho + r\"/formulario.html\"\n",
    "\n",
    "valor_campo_send_file = navegador.find_element(By.XPATH, '/html/body/form/input[8]').send_keys(arquivo)"
   ]
  },
  {
   "cell_type": "code",
   "execution_count": null,
   "id": "cd9835fb",
   "metadata": {
    "id": "cd9835fb"
   },
   "outputs": [
    {
     "name": "stdout",
     "output_type": "stream",
     "text": [
      "\n"
     ]
    }
   ],
   "source": [
    "# pegando valor\n",
    "valor_campo_send_file = navegador.find_element(By.XPATH, '/html/body/form/input[8]').get_attribute('value')\n",
    "print(valor_campo_send_file)"
   ]
  },
  {
   "cell_type": "code",
   "execution_count": null,
   "id": "5f5c399a",
   "metadata": {
    "id": "5f5c399a",
    "outputId": "2cf87264-4683-4341-9f70-89a6228ea795"
   },
   "outputs": [],
   "source": []
  },
  {
   "cell_type": "markdown",
   "id": "7964ee26",
   "metadata": {
    "id": "7964ee26"
   },
   "source": [
    "#### Botao para selecionar mes e ano (enviar valor)"
   ]
  },
  {
   "cell_type": "code",
   "execution_count": null,
   "id": "79237b1e",
   "metadata": {
    "id": "79237b1e",
    "outputId": "4ec179f6-578c-4433-8601-fc20bd9920f4"
   },
   "outputs": [],
   "source": []
  },
  {
   "cell_type": "markdown",
   "id": "a0191d44",
   "metadata": {
    "id": "a0191d44"
   },
   "source": [
    "#### Campos Numericos"
   ]
  },
  {
   "cell_type": "code",
   "execution_count": null,
   "id": "bc5286c4",
   "metadata": {
    "id": "bc5286c4"
   },
   "outputs": [],
   "source": []
  },
  {
   "cell_type": "markdown",
   "id": "2b794913",
   "metadata": {
    "id": "2b794913"
   },
   "source": [
    "#### Campos de Senha"
   ]
  },
  {
   "cell_type": "code",
   "execution_count": null,
   "id": "8f7687cb",
   "metadata": {
    "id": "8f7687cb",
    "outputId": "cf3d9372-a7b2-42c3-ccfd-80bf43c8cba4"
   },
   "outputs": [],
   "source": []
  },
  {
   "cell_type": "markdown",
   "id": "ce8ecd00",
   "metadata": {
    "id": "ce8ecd00"
   },
   "source": [
    "#### RadioButtons (botoes que so consegue marcar 1)"
   ]
  },
  {
   "cell_type": "code",
   "execution_count": null,
   "id": "5bf2274a",
   "metadata": {
    "id": "5bf2274a"
   },
   "outputs": [],
   "source": []
  },
  {
   "cell_type": "code",
   "execution_count": null,
   "id": "609711ff",
   "metadata": {
    "id": "609711ff",
    "outputId": "4e9be64a-bb31-4015-f865-2cd6e7ff0aa6"
   },
   "outputs": [],
   "source": []
  },
  {
   "cell_type": "markdown",
   "id": "cc904df6",
   "metadata": {
    "id": "cc904df6"
   },
   "source": [
    "#### Slider (enviar valor)"
   ]
  },
  {
   "cell_type": "code",
   "execution_count": null,
   "id": "89d89deb",
   "metadata": {
    "id": "89d89deb",
    "outputId": "e467b9c6-e25a-4dc8-c591-c86df87477ef"
   },
   "outputs": [],
   "source": []
  },
  {
   "cell_type": "code",
   "execution_count": null,
   "id": "8d6d6ec7",
   "metadata": {
    "id": "8d6d6ec7"
   },
   "outputs": [],
   "source": []
  },
  {
   "cell_type": "markdown",
   "id": "f03e42d6",
   "metadata": {
    "id": "f03e42d6"
   },
   "source": [
    "#### Caixa de Texto"
   ]
  },
  {
   "cell_type": "code",
   "execution_count": null,
   "id": "cad4b566",
   "metadata": {
    "id": "cad4b566"
   },
   "outputs": [],
   "source": [
    "# preenchendo caixa de texto\n",
    "navegador.find_element(By.XPATH, '/html/body/form/input[16]').send_keys(\"Grêmio\")"
   ]
  },
  {
   "cell_type": "code",
   "execution_count": null,
   "id": "bc75fb72",
   "metadata": {},
   "outputs": [],
   "source": [
    "valor_campo = navegador.find_element(By.XPATH, '/html/body/form/input[16]').get_attribute(\"value\")\n",
    "print(valor_campo)"
   ]
  },
  {
   "cell_type": "code",
   "execution_count": null,
   "id": "4e3de6e1",
   "metadata": {
    "id": "4e3de6e1",
    "outputId": "addce480-9e94-49ed-c675-3fe0d5ab3512"
   },
   "outputs": [],
   "source": []
  },
  {
   "cell_type": "markdown",
   "id": "01278cf4",
   "metadata": {
    "id": "01278cf4"
   },
   "source": [
    "#### Caixa de Horas"
   ]
  },
  {
   "cell_type": "code",
   "execution_count": null,
   "id": "c544b868",
   "metadata": {
    "id": "c544b868"
   },
   "outputs": [],
   "source": []
  },
  {
   "cell_type": "markdown",
   "id": "df88623c",
   "metadata": {
    "id": "df88623c"
   },
   "source": [
    "#### Caixa de Data Personalizada (Semanal)"
   ]
  },
  {
   "cell_type": "code",
   "execution_count": null,
   "id": "356ccab3",
   "metadata": {
    "id": "356ccab3"
   },
   "outputs": [],
   "source": []
  },
  {
   "cell_type": "markdown",
   "id": "1d279ff1",
   "metadata": {
    "id": "1d279ff1"
   },
   "source": [
    "#### Blocos de texto (enviar valor)"
   ]
  },
  {
   "cell_type": "code",
   "execution_count": null,
   "id": "4f8e85c5",
   "metadata": {
    "id": "4f8e85c5"
   },
   "outputs": [],
   "source": []
  },
  {
   "cell_type": "markdown",
   "id": "8c24068f",
   "metadata": {
    "id": "8c24068f"
   },
   "source": [
    "#### Selecionando itens de uma lista"
   ]
  },
  {
   "cell_type": "code",
   "execution_count": null,
   "id": "10888231",
   "metadata": {
    "id": "10888231"
   },
   "outputs": [],
   "source": []
  },
  {
   "cell_type": "code",
   "execution_count": null,
   "id": "c39e1b2d",
   "metadata": {
    "id": "c39e1b2d",
    "outputId": "e0074303-2c99-43f3-c3b2-4e800028b02a"
   },
   "outputs": [],
   "source": []
  },
  {
   "cell_type": "code",
   "execution_count": null,
   "id": "d82c9019",
   "metadata": {
    "id": "d82c9019"
   },
   "outputs": [],
   "source": []
  },
  {
   "cell_type": "code",
   "execution_count": null,
   "id": "d7e78ac8",
   "metadata": {
    "id": "d7e78ac8"
   },
   "outputs": [],
   "source": [
    "# com o select\n",
    "# proxima aula\n",
    "# https://www.selenium.dev/pt-br/documentation/webdriver/elements/select_lists/\n",
    "\n"
   ]
  },
  {
   "cell_type": "code",
   "execution_count": null,
   "id": "f3ff2b1e",
   "metadata": {
    "id": "f3ff2b1e"
   },
   "outputs": [],
   "source": []
  },
  {
   "cell_type": "code",
   "execution_count": null,
   "id": "57717b72",
   "metadata": {
    "id": "57717b72",
    "outputId": "98d3a583-91d2-4a39-c2e1-41b9633d7f51"
   },
   "outputs": [],
   "source": []
  }
 ],
 "metadata": {
  "colab": {
   "name": "Preenchendo Formularios-checkpoint.ipynb",
   "provenance": []
  },
  "kernelspec": {
   "display_name": "venv",
   "language": "python",
   "name": "python3"
  },
  "language_info": {
   "codemirror_mode": {
    "name": "ipython",
    "version": 3
   },
   "file_extension": ".py",
   "mimetype": "text/x-python",
   "name": "python",
   "nbconvert_exporter": "python",
   "pygments_lexer": "ipython3",
   "version": "3.12.5"
  }
 },
 "nbformat": 4,
 "nbformat_minor": 5
}
