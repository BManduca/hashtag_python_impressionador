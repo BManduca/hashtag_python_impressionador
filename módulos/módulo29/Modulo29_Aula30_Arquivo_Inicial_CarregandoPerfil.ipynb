{
 "cells": [
  {
   "cell_type": "markdown",
   "id": "702b7e53",
   "metadata": {},
   "source": [
    "### Abrindo o navegador"
   ]
  },
  {
   "cell_type": "code",
   "execution_count": null,
   "id": "082ddc3b",
   "metadata": {},
   "outputs": [],
   "source": [
    "import time\n",
    "from selenium import webdriver\n",
    "\n",
    "options = webdriver.ChromeOptions()\n",
    "options.add_argument(\"--start-maximized\")\n",
    "options.add_argument(\"user-data-dir=/Users/brunnomanduca/Library/Application Support/Google/Chrome/Profile Selenium\")\n",
    "\n",
    "navegador = webdriver.Chrome(options=options)"
   ]
  },
  {
   "cell_type": "code",
   "execution_count": null,
   "id": "164794e0",
   "metadata": {},
   "outputs": [],
   "source": [
    "try:\n",
    "    navegador.get(\"https://web.whatsapp.com\")\n",
    "except Exception as e:\n",
    "    print(f'Erro encontrado: {e}')\n",
    "finally:\n",
    "    time.sleep(4)\n",
    "    navegador.quit()"
   ]
  }
 ],
 "metadata": {
  "kernelspec": {
   "display_name": "venv",
   "language": "python",
   "name": "python3"
  },
  "language_info": {
   "codemirror_mode": {
    "name": "ipython",
    "version": 3
   },
   "file_extension": ".py",
   "mimetype": "text/x-python",
   "name": "python",
   "nbconvert_exporter": "python",
   "pygments_lexer": "ipython3",
   "version": "3.12.5"
  }
 },
 "nbformat": 4,
 "nbformat_minor": 5
}
