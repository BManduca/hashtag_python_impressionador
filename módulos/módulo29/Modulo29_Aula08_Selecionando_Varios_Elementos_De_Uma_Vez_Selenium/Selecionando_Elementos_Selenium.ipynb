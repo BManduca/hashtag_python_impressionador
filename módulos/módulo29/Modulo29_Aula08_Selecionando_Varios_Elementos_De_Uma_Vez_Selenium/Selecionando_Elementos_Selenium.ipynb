{
 "cells": [
  {
   "cell_type": "markdown",
   "id": "367cd714",
   "metadata": {},
   "source": [
    "### Documentação Selenium:\n",
    "\n",
    "- https://selenium-python.readthedocs.io/locating-elements.html"
   ]
  },
  {
   "cell_type": "code",
   "execution_count": 6,
   "id": "4e28f9f7",
   "metadata": {},
   "outputs": [],
   "source": [
    "from selenium import webdriver\n",
    "from selenium.webdriver.common.by import By\n",
    "\n",
    "navegador = webdriver.Chrome()"
   ]
  },
  {
   "cell_type": "code",
   "execution_count": 7,
   "id": "59c8398d",
   "metadata": {},
   "outputs": [],
   "source": [
    "import os\n",
    "\n",
    "caminho = os.getcwd()\n",
    "arquivo = caminho + \"/Pagina Hashtag.html\"\n",
    "navegador.get(rf\"file:///{arquivo}\")"
   ]
  },
  {
   "cell_type": "markdown",
   "id": "7d964ce5",
   "metadata": {},
   "source": [
    "#### Selecionar vários elementos de uma vez\n",
    "\n",
    "- Vamos selecionar pelo find_elements\n",
    "- Vamos clicar no item Blog do menu"
   ]
  },
  {
   "cell_type": "code",
   "execution_count": 8,
   "id": "d99bbc29",
   "metadata": {},
   "outputs": [],
   "source": [
    "list_navlink_elements = navegador.find_elements(By.CLASS_NAME, 'nav-link')\n",
    "\n",
    "for elemento in list_navlink_elements:\n",
    "    if \"blog\" in elemento.text.lower():\n",
    "        elemento.click()\n",
    "        break # finalizar o loop, para evitar problema ou erros na execução"
   ]
  },
  {
   "cell_type": "code",
   "execution_count": 5,
   "id": "6d691135",
   "metadata": {},
   "outputs": [
    {
     "name": "stdout",
     "output_type": "stream",
     "text": [
      "Fale Conosco\n",
      "Cursos Online e Presenciais\n",
      "Carol Coe\n",
      "listavip@hashtagtreinamentos.com\n",
      "(21) 99865-8852 (WhatsApp)\n",
      "Endereços\n",
      "Espaço Coworking Rio, Rua Uruguaiana, n° 94 - 18° andar - Edifício Livreiro / CEP: 20.050-091 - Rio de Janeiro/RJ\n",
      "Proteção de Dados\n",
      "Política de Privacidade\n",
      "Código de Conduta\n",
      "Newsletter\n",
      "Seu primeiro nome*\n",
      "Seu melhor e-mail*\n",
      "ENVIAR\n",
      "© 2022 Hashtag Treinamentos. Todos os Direitos Reservados\n"
     ]
    }
   ],
   "source": [
    "texto = navegador.find_element(By.XPATH, '/html/body/footer').text\n",
    "print(texto)"
   ]
  }
 ],
 "metadata": {
  "kernelspec": {
   "display_name": "venv",
   "language": "python",
   "name": "python3"
  },
  "language_info": {
   "codemirror_mode": {
    "name": "ipython",
    "version": 3
   },
   "file_extension": ".py",
   "mimetype": "text/x-python",
   "name": "python",
   "nbconvert_exporter": "python",
   "pygments_lexer": "ipython3",
   "version": "3.12.5"
  }
 },
 "nbformat": 4,
 "nbformat_minor": 5
}
