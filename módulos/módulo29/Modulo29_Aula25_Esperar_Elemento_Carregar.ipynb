{
 "cells": [
  {
   "cell_type": "code",
   "execution_count": 5,
   "id": "e5668056",
   "metadata": {},
   "outputs": [],
   "source": [
    "# criar o navegador\n",
    "import time\n",
    "from selenium import webdriver\n",
    "from selenium.webdriver.support.ui import WebDriverWait\n",
    "from selenium.webdriver.support import expected_conditions as EC\n",
    "from selenium.webdriver.common.by import By\n",
    "\n",
    "navegador = webdriver.Chrome()"
   ]
  },
  {
   "cell_type": "code",
   "execution_count": 2,
   "id": "0c0ecdda",
   "metadata": {},
   "outputs": [],
   "source": [
    "# na marra, colocando um time.sleep fixo\n",
    "# navegador.get(\"https://www.hashtagtreinamentos.com/\")\n",
    "\n",
    "# time.sleep(15)\n",
    "# navegador.find_element(By.CLASS_NAME, 'btn--fechar').click()"
   ]
  },
  {
   "cell_type": "code",
   "execution_count": 3,
   "id": "491d73e1",
   "metadata": {},
   "outputs": [],
   "source": [
    "navegador.get(\"https://www.hashtagtreinamentos.com/\")\n",
    "\n",
    "# loop -> criar uma lista de elementos com uma determinada classe (neste exemplo)\n",
    "while len(navegador.find_elements(By.CLASS_NAME, 'btn--fechar')) < 1: # enquanto a lista estiver vazia\n",
    "    time.sleep(1)\n",
    "\n",
    "time.sleep(10)\n",
    "navegador.find_element(By.ID, 'botaoPopupFechar').click()\n",
    "\n",
    "    "
   ]
  },
  {
   "cell_type": "code",
   "execution_count": 6,
   "id": "fff0e81c",
   "metadata": {},
   "outputs": [],
   "source": [
    "# EC WebDriverWait\n",
    "\n",
    "# abrindo site especificado\n",
    "navegador.get(\"https://www.hashtagtreinamentos.com/\")\n",
    "\n",
    "elemento = WebDriverWait(navegador, 20).until(EC.presence_of_element_located((By.ID, \"botaoPopupFechar\")))\n",
    "\n",
    "time.sleep(10)\n",
    "elemento.click()"
   ]
  },
  {
   "cell_type": "code",
   "execution_count": null,
   "id": "497a4f2c",
   "metadata": {},
   "outputs": [],
   "source": []
  }
 ],
 "metadata": {
  "kernelspec": {
   "display_name": "venv",
   "language": "python",
   "name": "python3"
  },
  "language_info": {
   "codemirror_mode": {
    "name": "ipython",
    "version": 3
   },
   "file_extension": ".py",
   "mimetype": "text/x-python",
   "name": "python",
   "nbconvert_exporter": "python",
   "pygments_lexer": "ipython3",
   "version": "3.12.5"
  }
 },
 "nbformat": 4,
 "nbformat_minor": 5
}
