{
 "cells": [
  {
   "cell_type": "markdown",
   "id": "367cd714",
   "metadata": {
    "id": "367cd714"
   },
   "source": [
    "### Documentação Selenium:\n",
    "\n",
    "- https://selenium-python.readthedocs.io/locating-elements.html"
   ]
  },
  {
   "cell_type": "code",
   "execution_count": null,
   "id": "4e28f9f7",
   "metadata": {
    "id": "4e28f9f7",
    "outputId": "8a541cba-8b09-4dda-e64f-cb1755982fb8"
   },
   "outputs": [],
   "source": [
    "from selenium import webdriver\n",
    "from selenium.webdriver.common.by import By\n",
    "\n",
    "navegador = webdriver.Chrome()"
   ]
  },
  {
   "cell_type": "code",
   "execution_count": null,
   "id": "59c8398d",
   "metadata": {
    "id": "59c8398d"
   },
   "outputs": [],
   "source": [
    "import os\n",
    "\n",
    "caminho = os.getcwd()\n",
    "arquivo = caminho + \"/Pagina Hashtag.html\"\n",
    "navegador.get(rf\"file:///{arquivo}\")"
   ]
  },
  {
   "cell_type": "markdown",
   "id": "7d964ce5",
   "metadata": {
    "id": "7d964ce5"
   },
   "source": [
    "#### Pegar todos os links das imagens"
   ]
  },
  {
   "cell_type": "code",
   "execution_count": null,
   "id": "e5c8e21c",
   "metadata": {
    "id": "e5c8e21c",
    "outputId": "22ebb9a4-f7b2-493b-e17b-b1c449f5ffbd"
   },
   "outputs": [
    {
     "name": "stdout",
     "output_type": "stream",
     "text": [
      "Erro ao extrair link: NoSuchElementException\n",
      "\n",
      "1 -> https://www.hashtagtreinamentos.com/curso-de-excel-online\n",
      "2 -> https://www.hashtagtreinamentos.com/curso-power-bi\n",
      "3 -> https://www.hashtagtreinamentos.com/curso-python\n",
      "4 -> https://www.hashtagtreinamentos.com/curso-sql\n",
      "5 -> https://www.hashtagtreinamentos.com/curso-vba-excel\n"
     ]
    }
   ],
   "source": [
    "lista_links = []\n",
    "\n",
    "# encontrar todos os elementos 'figure' presentes no navegador\n",
    "lista_tag_figure_elementos = navegador.find_elements(By.TAG_NAME, 'figure')\n",
    "# print(len(lista_tag_figure_elementos))\n",
    "\n",
    "\n",
    "for elemento_lista in lista_tag_figure_elementos:\n",
    "    try:\n",
    "        link = elemento_lista.find_element(By.TAG_NAME, 'a').get_attribute('href')\n",
    "        # garantindo que link não seja none\n",
    "        if link:\n",
    "            lista_links.append(link)\n",
    "            \n",
    "    except Exception as erro:\n",
    "        # possíveis retornos\n",
    "        # NoSuchElementException (caso o elemento não seja encontrado)\n",
    "        # AttributeError (caso haja um problema ao acessar get_attribute)\n",
    "        print(f'Erro ao extrair link: {type(erro).__name__}\\n')\n",
    "\n",
    "# Lista de links\n",
    "for i, link in enumerate(lista_links):\n",
    "    print(f'{i+1} -> {link}')\n",
    "\n"
   ]
  },
  {
   "cell_type": "code",
   "execution_count": null,
   "id": "d8bf3b6b",
   "metadata": {},
   "outputs": [],
   "source": []
  }
 ],
 "metadata": {
  "colab": {
   "name": "Selecionando Elementos Selenium.ipynb",
   "provenance": []
  },
  "kernelspec": {
   "display_name": "venv",
   "language": "python",
   "name": "python3"
  },
  "language_info": {
   "codemirror_mode": {
    "name": "ipython",
    "version": 3
   },
   "file_extension": ".py",
   "mimetype": "text/x-python",
   "name": "python",
   "nbconvert_exporter": "python",
   "pygments_lexer": "ipython3",
   "version": "3.12.5"
  }
 },
 "nbformat": 4,
 "nbformat_minor": 5
}
