{
 "cells": [
  {
   "cell_type": "code",
   "execution_count": null,
   "metadata": {},
   "outputs": [
    {
     "name": "stdout",
     "output_type": "stream",
     "text": [
      "✅ Processo foi encontrado!\n"
     ]
    }
   ],
   "source": [
    "import os\n",
    "import time\n",
    "import pandas as pd\n",
    "from selenium import webdriver\n",
    "from selenium.webdriver.support.ui import WebDriverWait\n",
    "from selenium.webdriver.support import expected_conditions as EC\n",
    "from selenium.webdriver import ActionChains\n",
    "from selenium.webdriver.common.by import By\n",
    "\n",
    "def encontrar_elemento(metodo, seletor, tempo=10):\n",
    "    return WebDriverWait(navegador, tempo).until(EC.presence_of_element_located((metodo, seletor)))\n",
    "\n",
    "# inicializando navegador\n",
    "options = webdriver.ChromeOptions()\n",
    "options.add_argument(\"--start-maximized\")\n",
    "navegador = webdriver.Chrome(options=options)\n",
    "\n",
    "caminho = os.getcwd()\n",
    "arquivo = caminho + \"/index.html\"\n",
    "\n",
    "try:\n",
    "    # abrindo pagina local\n",
    "    navegador.get(rf\"file:///{arquivo}\")\n",
    "\n",
    "    # abrindo dropdown com listagem das cidades\n",
    "    hover_button_state = encontrar_elemento(By.CLASS_NAME, 'dropdown-menu')\n",
    "    ActionChains(navegador).move_to_element(hover_button_state).perform()\n",
    "\n",
    "    # selecionar uma opção na lista\n",
    "    navegador.find_element(By.XPATH, '/html/body/div/div/div/a[2]').click()\n",
    "\n",
    "    # verificando e mudando para nova aba aberta\n",
    "    WebDriverWait(navegador, 10).until(lambda wnd: len(wnd.window_handles) > 1)\n",
    "    navegador.switch_to.window(navegador.window_handles[1])\n",
    "\n",
    "    # Preencher campo Nome\n",
    "    encontrar_elemento(By.ID, 'nome').send_keys('Brunno Manduca')\n",
    "    time.sleep(0.7)\n",
    "\n",
    "    # Advogado\n",
    "    encontrar_elemento(By.ID, 'advogado').send_keys('Micheli de Oliveira')\n",
    "    time.sleep(0.7)\n",
    "\n",
    "    # Número do processo\n",
    "    encontrar_elemento(By.ID, 'numero').send_keys('1234')\n",
    "\n",
    "    def wait_for_alert():\n",
    "        return WebDriverWait(navegador, 10).until(EC.alert_is_present())\n",
    "\n",
    "    # clicando no botão de pesquisar\n",
    "    WebDriverWait(navegador, 10).until(EC.element_to_be_clickable((By.CLASS_NAME, 'registerbtn'))).click()\n",
    "\n",
    "    # realizando tratativa dos popups(alertas)\n",
    "    alerta_confirmacao = wait_for_alert()\n",
    "    time.sleep(2)\n",
    "    alerta_confirmacao.accept()\n",
    "\n",
    "    alerta_resultado = wait_for_alert()\n",
    "\n",
    "    texto_alerta = alerta_resultado.text\n",
    "\n",
    "    if 'Processo encontrado com sucesso' in texto_alerta:\n",
    "        time.sleep(2)\n",
    "        alerta_resultado.accept()\n",
    "        print('✅ Processo foi encontrado!')\n",
    "    else:\n",
    "        time.sleep(2)\n",
    "        alerta_resultado.accept()\n",
    "        print('❌ Processo não encontrado!')\n",
    "\n",
    "except Exception as e:\n",
    "    print(f'Erro encontrado: {e}')\n",
    "finally:\n",
    "    # fechando navegador\n",
    "    time.sleep(4)\n",
    "    navegador.quit()\n",
    "\n"
   ]
  }
 ],
 "metadata": {
  "kernelspec": {
   "display_name": "venv",
   "language": "python",
   "name": "python3"
  },
  "language_info": {
   "codemirror_mode": {
    "name": "ipython",
    "version": 3
   },
   "file_extension": ".py",
   "mimetype": "text/x-python",
   "name": "python",
   "nbconvert_exporter": "python",
   "pygments_lexer": "ipython3",
   "version": "3.12.5"
  }
 },
 "nbformat": 4,
 "nbformat_minor": 2
}
