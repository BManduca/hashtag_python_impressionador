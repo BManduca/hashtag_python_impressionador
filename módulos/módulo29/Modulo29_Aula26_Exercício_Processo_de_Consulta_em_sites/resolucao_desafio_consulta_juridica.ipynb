{
 "cells": [
  {
   "cell_type": "markdown",
   "metadata": {},
   "source": [
    "## Criando navegador"
   ]
  },
  {
   "cell_type": "code",
   "execution_count": null,
   "metadata": {},
   "outputs": [],
   "source": [
    "\n",
    "import os\n",
    "import time\n",
    "import pandas as pd\n",
    "from selenium import webdriver\n",
    "from selenium.webdriver.support.ui import WebDriverWait\n",
    "from selenium.webdriver.support import expected_conditions as EC\n",
    "from selenium.webdriver import ActionChains\n",
    "from selenium.webdriver.common.by import By\n",
    "\n",
    "navegador = webdriver.Chrome()"
   ]
  },
  {
   "cell_type": "markdown",
   "metadata": {},
   "source": [
    "## Acessar site da busca jurídica (abrir página index)"
   ]
  },
  {
   "cell_type": "code",
   "execution_count": null,
   "metadata": {},
   "outputs": [],
   "source": [
    "caminho = os.getcwd()\n",
    "arquivo = caminho + \"/index.html\"\n",
    "\n",
    "# abrindo pagina especificada\n",
    "navegador.get(rf\"file:///{arquivo}\")"
   ]
  },
  {
   "cell_type": "markdown",
   "metadata": {},
   "source": [
    "## Importar a base de dados"
   ]
  },
  {
   "cell_type": "code",
   "execution_count": null,
   "metadata": {},
   "outputs": [],
   "source": [
    "# tabela_dados = pd.read_excel(\"Processos.xlsx\")\n",
    "# display(tabela_dados)"
   ]
  },
  {
   "cell_type": "markdown",
   "metadata": {},
   "source": [
    "## Escolher um estado"
   ]
  },
  {
   "cell_type": "code",
   "execution_count": null,
   "metadata": {},
   "outputs": [],
   "source": [
    "# abrir a lista das cidades\n",
    "hover_button_state = navegador.find_element(By.CLASS_NAME, 'dropdown-menu')\n",
    "ActionChains(navegador).move_to_element(hover_button_state).perform()\n",
    "\n",
    "# selecionar uma opção na lista\n",
    "navegador.find_element(By.XPATH, '/html/body/div/div/div/a[2]').click()\n"
   ]
  },
  {
   "cell_type": "markdown",
   "metadata": {},
   "source": [
    "## Mudando para a nova aba aberta"
   ]
  },
  {
   "cell_type": "code",
   "execution_count": null,
   "metadata": {},
   "outputs": [],
   "source": [
    "aba_original = navegador.window_handles[0]\n",
    "nova_aba = navegador.window_handles[1]\n",
    "\n",
    "# selecionando a nova aba\n",
    "navegador.switch_to.window(nova_aba)"
   ]
  },
  {
   "cell_type": "markdown",
   "metadata": {},
   "source": [
    "## Preencher formulário com os dados da busca"
   ]
  },
  {
   "cell_type": "code",
   "execution_count": null,
   "metadata": {},
   "outputs": [],
   "source": [
    "def encontrar_elemento(metodo, seletor, tempo=10):\n",
    "    return WebDriverWait(navegador, tempo).until(EC.presence_of_element_located((metodo, seletor)))\n",
    "\n",
    "\n",
    "# Preencher campo Nome\n",
    "encontrar_elemento(By.ID, 'nome').send_keys('Brunno Manduca')\n",
    "time.sleep(0.7)\n",
    "# navegador.find_element(By.ID, 'nome').send_keys('Brunno Manduca')\n",
    "\n",
    "# Advogado\n",
    "encontrar_elemento(By.ID, 'advogado').send_keys('Micheli de Oliveira')\n",
    "time.sleep(0.7)\n",
    "# navegador.find_element(By.ID, 'advogado').send_keys('Micheli de Oliveira')\n",
    "\n",
    "# Número do processo\n",
    "encontrar_elemento(By.ID, 'numero').send_keys('1234')\n",
    "# navegador.find_element(By.ID, 'numero').send_keys('1234')"
   ]
  },
  {
   "cell_type": "markdown",
   "metadata": {},
   "source": [
    "## Clicar em pesquisar e confirmar a pesquisa"
   ]
  },
  {
   "cell_type": "code",
   "execution_count": null,
   "metadata": {},
   "outputs": [],
   "source": [
    "def wait_for_alert(window):\n",
    "    return WebDriverWait(window, 10).until(EC.alert_is_present())\n",
    "\n",
    "# clicando no botão de pesquisar\n",
    "WebDriverWait(navegador, 10).until(EC.element_to_be_clickable((By.CLASS_NAME, 'registerbtn'))).click()\n",
    "\n",
    "# alerta_confirmacao = navegador.switch_to.alert\n",
    "alerta_confirmacao = wait_for_alert(navegador)\n",
    "time.sleep(2)\n",
    "alerta_confirmacao.accept()"
   ]
  },
  {
   "cell_type": "code",
   "execution_count": null,
   "metadata": {},
   "outputs": [],
   "source": [
    "# maneira alternativa para confirmar o pop-up de alerta\n",
    "\n",
    "# while True:\n",
    "#     try:\n",
    "#         alerta = navegador.switch_to.alert\n",
    "#         break\n",
    "#     except:  # noqa: E722\n",
    "#         time.sleep(1)"
   ]
  },
  {
   "cell_type": "markdown",
   "metadata": {},
   "source": [
    "## Esperar o resultado da pesquisa, para agir confirme resultado"
   ]
  },
  {
   "cell_type": "code",
   "execution_count": null,
   "metadata": {},
   "outputs": [],
   "source": [
    "alerta_resultado = wait_for_alert(navegador)\n",
    "\n",
    "texto_alerta = alerta_resultado.text\n",
    "\n",
    "if 'Processo encontrado com sucesso' in texto_alerta:\n",
    "    time.sleep(2)\n",
    "    alerta_resultado.accept()\n",
    "    print('Processo foi encontrado!')\n",
    "else:\n",
    "    time.sleep(2)\n",
    "    alerta_resultado.accept()\n",
    "    print('Processo não encontrado!')\n"
   ]
  }
 ],
 "metadata": {
  "kernelspec": {
   "display_name": "venv",
   "language": "python",
   "name": "python3"
  },
  "language_info": {
   "codemirror_mode": {
    "name": "ipython",
    "version": 3
   },
   "file_extension": ".py",
   "mimetype": "text/x-python",
   "name": "python",
   "nbconvert_exporter": "python",
   "pygments_lexer": "ipython3",
   "version": "3.12.5"
  }
 },
 "nbformat": 4,
 "nbformat_minor": 2
}
