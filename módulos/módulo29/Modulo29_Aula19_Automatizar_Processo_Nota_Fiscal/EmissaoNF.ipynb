{
 "cells": [
  {
   "cell_type": "code",
   "execution_count": null,
   "id": "e7f58f11",
   "metadata": {},
   "outputs": [],
   "source": [
    "from selenium import webdriver\n",
    "from selenium.webdriver.chrome.service import Service\n",
    "from webdriver_manager.chrome import ChromeDriverManager\n",
    "from selenium.webdriver.common.by import By\n",
    "\n",
    "options = webdriver.ChromeOptions()\n",
    "options.add_experimental_option(\"prefs\", {\n",
    "  \"download.default_directory\": r\"C:\\Users\\joaol\\downloads\",\n",
    "  \"download.prompt_for_download\": False,\n",
    "  \"download.directory_upgrade\": True,\n",
    "  \"safebrowsing.enabled\": True\n",
    "})\n",
    "\n",
    "servico = Service(ChromeDriverManager().install())\n",
    "navegador = webdriver.Chrome(service=servico, options=options)"
   ]
  },
  {
   "cell_type": "code",
   "execution_count": null,
   "id": "ee3f4e27",
   "metadata": {},
   "outputs": [],
   "source": [
    "# entrar na página de login (no nosso caso é login.html)\n",
    "import os\n",
    "\n",
    "caminho = os.getcwd()\n",
    "arquivo = caminho + r\"\\login.html\"\n",
    "navegador.get(arquivo)"
   ]
  },
  {
   "cell_type": "code",
   "execution_count": null,
   "id": "16811d38",
   "metadata": {},
   "outputs": [],
   "source": [
    "# preencher o login e a senha\n",
    "navegador.find_element(By.XPATH, '/html/body/div/form/input[1]').send_keys(\"lira@gmail.com\")\n",
    "navegador.find_element(By.XPATH, '/html/body/div/form/input[2]').send_keys(\"123456\")\n",
    "# clicar no botao de fazer login\n",
    "navegador.find_element(By.XPATH, '/html/body/div/form/button').click()"
   ]
  },
  {
   "cell_type": "code",
   "execution_count": null,
   "id": "e01dc48c",
   "metadata": {},
   "outputs": [],
   "source": [
    "# importar a base de clientes\n",
    "import pandas as pd\n",
    "\n",
    "tabela = pd.read_excel(\"NotasEmitir.xlsx\") \n",
    "display(tabela)"
   ]
  },
  {
   "cell_type": "code",
   "execution_count": null,
   "id": "28962507",
   "metadata": {},
   "outputs": [],
   "source": [
    "# para cada cliente - rodar o processo de emissao de nota fiscal\n",
    "for linha in tabela.index:\n",
    "    # preencher os dados da NF\n",
    "    \n",
    "    # nome/razao social\n",
    "    navegador.find_element(By.NAME, 'nome').send_keys(tabela.loc[linha, \"Cliente\"])\n",
    "\n",
    "    # endereco\n",
    "    navegador.find_element(By.NAME, 'endereco').send_keys(tabela.loc[linha, \"Endereço\"])\n",
    "\n",
    "    # bairro\n",
    "    navegador.find_element(By.NAME, 'bairro').send_keys(tabela.loc[linha, \"Bairro\"])\n",
    "\n",
    "    # municipio\n",
    "    navegador.find_element(By.NAME, 'municipio').send_keys(tabela.loc[linha, \"Municipio\"])\n",
    "\n",
    "    # cep\n",
    "    navegador.find_element(By.NAME, 'cep').send_keys(str(tabela.loc[linha, \"CEP\"]))\n",
    "    \n",
    "    # UF\n",
    "    navegador.find_element(By.NAME, 'uf').send_keys(tabela.loc[linha, \"UF\"])\n",
    "    \n",
    "    # CPF/CNPJ\n",
    "    navegador.find_element(By.NAME, 'cnpj').send_keys(str(tabela.loc[linha, \"CPF/CNPJ\"]))\n",
    "\n",
    "    # Inscricao estadual\n",
    "    navegador.find_element(By.NAME, 'inscricao').send_keys(str(tabela.loc[linha, \"Inscricao Estadual\"]))\n",
    "\n",
    "    # descrição\n",
    "    texto = tabela.loc[linha, \"Descrição\"]\n",
    "    navegador.find_element(By.NAME, 'descricao').send_keys(texto)\n",
    "\n",
    "    # quantidade\n",
    "    navegador.find_element(By.NAME, 'quantidade').send_keys(str(tabela.loc[linha, \"Quantidade\"]))\n",
    "\n",
    "    # valor unitario\n",
    "    navegador.find_element(By.NAME, 'valor_unitario').send_keys(str(tabela.loc[linha, \"Valor Unitario\"]))\n",
    "\n",
    "    # valor total\n",
    "    navegador.find_element(By.NAME, 'total').send_keys(str(tabela.loc[linha, \"Valor Total\"]))\n",
    "    \n",
    "    # clicar em emitir nota fiscal\n",
    "    navegador.find_element(By.CLASS_NAME, 'registerbtn').click()\n",
    "    \n",
    "    # recarregar a página para limpar o formulário\n",
    "    navegador.refresh()"
   ]
  },
  {
   "cell_type": "code",
   "execution_count": null,
   "id": "e7876e5b",
   "metadata": {},
   "outputs": [],
   "source": [
    "navegador.quit()"
   ]
  }
 ],
 "metadata": {
  "kernelspec": {
   "display_name": "Python 3 (ipykernel)",
   "language": "python",
   "name": "python3"
  },
  "language_info": {
   "codemirror_mode": {
    "name": "ipython",
    "version": 3
   },
   "file_extension": ".py",
   "mimetype": "text/x-python",
   "name": "python",
   "nbconvert_exporter": "python",
   "pygments_lexer": "ipython3",
   "version": "3.9.7"
  }
 },
 "nbformat": 4,
 "nbformat_minor": 5
}
