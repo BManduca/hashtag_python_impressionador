{
 "cells": [
  {
   "cell_type": "code",
   "execution_count": null,
   "metadata": {},
   "outputs": [],
   "source": [
    "import os\n",
    "import time\n",
    "from selenium import webdriver\n",
    "from selenium.webdriver.support.select import Select\n",
    "from selenium.webdriver.common.by import By\n",
    "import pandas as pd\n",
    "\n",
    "options = webdriver.ChromeOptions()\n",
    "options.add_experimental_option(\"prefs\", {\n",
    "  \"download.default_directory\": \"/Users/brunnomanduca/Downloads\",\n",
    "  \"download.prompt_for_download\": False,\n",
    "  \"download.directory_upgrade\": True,\n",
    "  \"safebrowsing.enabled\": True\n",
    "})\n",
    "navegador = webdriver.Chrome(options=options)"
   ]
  },
  {
   "cell_type": "markdown",
   "metadata": {},
   "source": [
    "## Acessando a página de login"
   ]
  },
  {
   "cell_type": "code",
   "execution_count": null,
   "metadata": {},
   "outputs": [],
   "source": [
    "# entrar na página de login\n",
    "caminho = os.getcwd()\n",
    "arquivo_login = caminho + \"/login.html\"\n",
    "navegador.get(rf\"file:///{arquivo_login}\")"
   ]
  },
  {
   "cell_type": "markdown",
   "metadata": {},
   "source": [
    "## Preenchendo campos de login/senha e clicando botão login"
   ]
  },
  {
   "cell_type": "code",
   "execution_count": null,
   "metadata": {},
   "outputs": [],
   "source": [
    "# campo input login\n",
    "# navegador.find_element(By.XPATH, '/html/body/div/form/input[1]').click()\n",
    "navegador.find_element(By.XPATH, '/html/body/div/form/input[1]').send_keys('Brunno Manduca')\n",
    "time.sleep(1)\n",
    "\n",
    "# campo input senha\n",
    "# navegador.find_element(By.XPATH, '/html/body/div/form/input[2]').click()\n",
    "navegador.find_element(By.XPATH, '/html/body/div/form/input[2]').send_keys('S3nhaFort3@1&2&4')\n",
    "time.sleep(1)\n",
    "\n",
    "# clicando botão login\n",
    "navegador.find_element(By.XPATH, '/html/body/div/form/button').click()"
   ]
  },
  {
   "cell_type": "markdown",
   "metadata": {},
   "source": [
    "## Preencher dados da NF"
   ]
  },
  {
   "cell_type": "code",
   "execution_count": null,
   "metadata": {},
   "outputs": [],
   "source": [
    "\n",
    "\n",
    "# Razão social\n",
    "navegador.find_element(By.NAME, 'nome').send_keys('Manduca ltda.')\n",
    "\n",
    "# Endereço\n",
    "navegador.find_element(By.NAME, 'endereco').send_keys('Servidão Anna Luiza da Conceição')\n",
    "\n",
    "# Bairro\n",
    "navegador.find_element(By.NAME, 'bairro').send_keys('São João do Rio Vermelho')\n",
    "\n",
    "# Município\n",
    "navegador.find_element(By.NAME, 'municipio').send_keys('Florianópolis')\n",
    "\n",
    "# CEP\n",
    "navegador.find_element(By.NAME, 'cep').send_keys('88060325')"
   ]
  },
  {
   "cell_type": "code",
   "execution_count": null,
   "metadata": {},
   "outputs": [],
   "source": [
    "# UF\n",
    "# navegador.find_element(By.NAME, 'uf').send_keys('SC')\n",
    "element_browser = navegador.find_element(By.TAG_NAME, 'select')\n",
    "elemento_select = Select(element_browser)\n",
    "elemento_select.select_by_value('24')"
   ]
  },
  {
   "cell_type": "code",
   "execution_count": null,
   "metadata": {},
   "outputs": [],
   "source": [
    "# CNPJ/CPF\n",
    "navegador.find_element(By.NAME, 'cnpj').send_keys('61071965956')\n",
    "\n",
    "# Inscrição estadual\n",
    "navegador.find_element(By.NAME, 'inscricao').send_keys('754622908')\n",
    "\n",
    "# Descrição do produto/serviço\n",
    "texto_descricao = \"Valor referente aos serviços de treinamentos prestados\"\n",
    "navegador.find_element(By.NAME, 'descricao').send_keys(texto_descricao)\n",
    "\n",
    "# Quantidade\n",
    "navegador.find_element(By.NAME, 'quantidade').send_keys(10)\n",
    "\n",
    "# Valor unitário\n",
    "navegador.find_element(By.NAME, 'valor_unitario').send_keys(150)\n",
    "\n",
    "# Valor total\n",
    "navegador.find_element(By.NAME, 'total').send_keys(1500)"
   ]
  },
  {
   "cell_type": "code",
   "execution_count": null,
   "metadata": {},
   "outputs": [],
   "source": [
    "# # tabela.index -> lista com os índices\n",
    "\n",
    "# for linha in tabela_clientes.index:\n",
    "\n",
    "#     # Razão social\n",
    "#     navegador.find_element(By.NAME, 'nome').send_keys(tabela_clientes.loc[linha, \"Cliente\"])\n",
    "\n",
    "#     # Endereço\n",
    "#     navegador.find_element(By.NAME, 'endereco').send_keys(tabela_clientes.loc[linha, \"Endereço\"])\n",
    "\n",
    "#     # Bairro\n",
    "#     navegador.find_element(By.NAME, 'bairro').send_keys(tabela_clientes.loc[linha, \"Bairro\"])\n",
    "\n",
    "#     # Município\n",
    "#     navegador.find_element(By.NAME, 'municipio').send_keys(tabela_clientes.loc[linha, \"Municipio\"])\n",
    "\n",
    "#     # CEP -> foi utilizado str, pois, o CEP é reconhecido como um número inteiro,\n",
    "#     # porém, no site foi definido como string\n",
    "#     navegador.find_element(By.NAME, 'cep').send_keys(str(tabela_clientes.loc[linha, \"CEP\"]))\n",
    "\n",
    "#     # UF\n",
    "#     navegador.find_element(By.NAME, 'uf').send_keys(tabela_clientes.loc[linha, \"UF\"])\n",
    "\n",
    "#     # CNPJ/CPF\n",
    "#     navegador.find_element(By.NAME, 'cnpj').send_keys(str(tabela_clientes.loc[linha, \"CPF/CNPJ\"]))\n",
    "\n",
    "#     # Inscrição estadual\n",
    "#     navegador.find_element(By.NAME, 'inscricao').send_keys(str(tabela_clientes.loc[linha, \"Inscricao Estadual\"]))\n",
    "\n",
    "#     # Descrição do produto/serviço\n",
    "#     texto_descricao = tabela_clientes.loc[linha, \"Descrição\"]\n",
    "#     navegador.find_element(By.NAME, 'descricao').send_keys(texto_descricao)\n",
    "\n",
    "#     # Quantidade\n",
    "#     navegador.find_element(By.NAME, 'quantidade').send_keys(str(tabela_clientes.loc[linha, \"Quantidade\"]))\n",
    "\n",
    "#     # Valor unitário\n",
    "#     navegador.find_element(By.NAME, 'valor_unitario').send_keys(str(tabela_clientes.loc[linha, \"Valor Unitario\"]))\n",
    "\n",
    "#     # Valor total\n",
    "#     navegador.find_element(By.NAME, 'total').send_keys(str(tabela_clientes.loc[linha, \"Valor Total\"]))\n",
    "\n",
    "#     # botão emitir a NF\n",
    "#     navegador.find_element(By.CLASS_NAME, 'registerbtn').click()"
   ]
  },
  {
   "cell_type": "markdown",
   "metadata": {},
   "source": [
    "## Clicar botão 'Emitir' e emitir a nota fiscal"
   ]
  },
  {
   "cell_type": "code",
   "execution_count": null,
   "metadata": {},
   "outputs": [],
   "source": [
    "navegador.find_element(By.CLASS_NAME, 'registerbtn').click()"
   ]
  }
 ],
 "metadata": {
  "kernelspec": {
   "display_name": "venv",
   "language": "python",
   "name": "python3"
  },
  "language_info": {
   "codemirror_mode": {
    "name": "ipython",
    "version": 3
   },
   "file_extension": ".py",
   "mimetype": "text/x-python",
   "name": "python",
   "nbconvert_exporter": "python",
   "pygments_lexer": "ipython3",
   "version": "3.12.5"
  }
 },
 "nbformat": 4,
 "nbformat_minor": 2
}
