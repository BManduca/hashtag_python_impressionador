{
 "cells": [
  {
   "cell_type": "code",
   "execution_count": null,
   "metadata": {},
   "outputs": [],
   "source": [
    "import os\n",
    "import time\n",
    "import glob\n",
    "import pandas as pd\n",
    "from selenium import webdriver\n",
    "from selenium.webdriver.common.by import By\n",
    "from selenium.webdriver.support.ui import WebDriverWait\n",
    "from selenium.webdriver.support import expected_conditions as EC\n",
    "from dotenv import load_dotenv\n",
    "from datetime import datetime\n",
    "\n",
    "load_dotenv()\n",
    "\n",
    "usuario_login = os.getenv(\"USER_LOGIN\")\n",
    "password_login = os.getenv(\"PWD_LOGIN\")\n",
    "\n",
    "# definindo caminhos\n",
    "caminho_raiz = os.getcwd()\n",
    "caminho_download = os.path.join(caminho_raiz, \"notas_fiscais\")\n",
    "\n",
    "# criando a pasta notas_fiscais, caso não exista\n",
    "os.makedirs(caminho_download, exist_ok=True)\n",
    "\n",
    "def iniciar_navegador():\n",
    "  # Configurações para criação e inicialização do navegador\n",
    "  options = webdriver.ChromeOptions()\n",
    "  options.add_experimental_option(\"prefs\", {\n",
    "    \"download.default_directory\": f\"{caminho_download}\",\n",
    "    \"download.prompt_for_download\": False,\n",
    "    \"download.directory_upgrade\": True,\n",
    "    \"safebrowsing.enabled\": True\n",
    "  })\n",
    "\n",
    "  return webdriver.Chrome(options=options)\n",
    "\n",
    "# criando instância do navegador\n",
    "navegador = iniciar_navegador()\n",
    "\n",
    "def encontrar_elemento(metodo, seletor, tempo=10):\n",
    "  # função voltada para auxiliar no momento de encontrar elementos via Selenium\n",
    "  return WebDriverWait(navegador, tempo).until(EC.presence_of_element_located((metodo, seletor)))"
   ]
  },
  {
   "cell_type": "markdown",
   "metadata": {},
   "source": [
    "## Preenchendo campos de login/senha e clicando botão login"
   ]
  },
  {
   "cell_type": "code",
   "execution_count": null,
   "metadata": {},
   "outputs": [],
   "source": [
    "def efetuar_login():\n",
    "    try:\n",
    "        # Acessando pagina de login\n",
    "        arquivo_login = os.path.join(caminho_raiz, \"login.html\")\n",
    "        navegador.get(rf\"file:///{arquivo_login}\")\n",
    "\n",
    "        # preenchendo campo login\n",
    "        encontrar_elemento(By.XPATH, '/html/body/div/form/input[1]').send_keys(usuario_login)\n",
    "\n",
    "        # preenchendo campo senha\n",
    "        encontrar_elemento(By.XPATH, '/html/body/div/form/input[2]').send_keys(password_login)\n",
    "\n",
    "        # clicando botão login\n",
    "        WebDriverWait(navegador, 10).until(EC.element_to_be_clickable((By.XPATH, '/html/body/div/form/button'))).click()\n",
    "    except Exception as e:\n",
    "        print(f'Erro ao efetuar login: {e}')\n",
    "        navegador.quit()"
   ]
  },
  {
   "cell_type": "markdown",
   "metadata": {},
   "source": [
    "## Aguardando Download"
   ]
  },
  {
   "cell_type": "code",
   "execution_count": null,
   "metadata": {},
   "outputs": [],
   "source": [
    "def aguardar_download(timeout=30):\n",
    "    # Aguardar até um arquivo XML ser baixado ou atingir o tempo limite\n",
    "    tempo_inicio = time.time()\n",
    "    while time.time() - tempo_inicio < timeout:\n",
    "        arquivos = glob.glob(os.path.join(caminho_download, \"*.xml\"))\n",
    "        # se encontrar algum arquivo XML\n",
    "        if arquivos:\n",
    "            return arquivos[0]\n",
    "        time.sleep(1)\n",
    "    raise TimeoutError(\"O Download da nota fiscal não foi concluído a tempo.\")"
   ]
  },
  {
   "cell_type": "markdown",
   "metadata": {},
   "source": [
    "## Preencher dados da NF"
   ]
  },
  {
   "cell_type": "code",
   "execution_count": null,
   "metadata": {},
   "outputs": [],
   "source": [
    "def emitir_nota_fiscal(dados_cliente):\n",
    "    # Preenche o formulário e emite a nota fiscal com base nos dados do cliente.\n",
    "    try:\n",
    "        # criando identificador único com base no timestamp e nome do cliente\n",
    "        timestamp = datetime.now().strftime(\"%d%m%Y_%H%M%S\")\n",
    "        id_nota = f\"NF_{dados_cliente['Cliente'].replace(' ', '_')}_{timestamp}\"\n",
    "\n",
    "        campos = {\n",
    "            \"nome\": dados_cliente[\"Cliente\"],\n",
    "            \"endereco\": dados_cliente[\"Endereço\"],\n",
    "            \"bairro\": dados_cliente[\"Bairro\"],\n",
    "            \"municipio\": dados_cliente[\"Municipio\"],\n",
    "            \"cep\": dados_cliente[\"CEP\"],\n",
    "            \"uf\": dados_cliente[\"UF\"],\n",
    "            \"cnpj\": dados_cliente[\"CPF/CNPJ\"],\n",
    "            \"inscricao\": dados_cliente[\"Inscricao Estadual\"],\n",
    "            \"descricao\": dados_cliente[\"Descrição\"],\n",
    "            \"quantidade\": dados_cliente[\"Quantidade\"],\n",
    "            \"valor_unitario\": dados_cliente[\"Valor Unitario\"],\n",
    "            \"total\": dados_cliente[\"Valor Total\"],\n",
    "        }\n",
    "\n",
    "        # preenchendo os campos do fomulario\n",
    "        for campo, valor in campos.items():\n",
    "            encontrar_elemento(By.NAME, campo).send_keys(valor)\n",
    "\n",
    "        # clicar botão emitir a NF\n",
    "        WebDriverWait(navegador, 10).until(EC.element_to_be_clickable((By.CLASS_NAME, 'registerbtn'))).click()\n",
    "\n",
    "        # aguardar download da NF\n",
    "        arquivo_nf = aguardar_download()\n",
    "\n",
    "        data_emissao = datetime.now().strftime(\"%Y%m%d\")\n",
    "        pasta_data = os.path.join(caminho_download, data_emissao)\n",
    "\n",
    "        # criar subpasta se nao existir\n",
    "        os.makedirs(pasta_data, exist_ok=True)\n",
    "\n",
    "        # renomeando o arquivo NF baixado\n",
    "        novo_nome_arquivo =  os.path.join(pasta_data, f\"{id_nota}.xml\")\n",
    "        if os.path.exists(arquivo_nf):\n",
    "            os.rename(arquivo_nf, novo_nome_arquivo)\n",
    "        else:\n",
    "            print(f'Erro: O arquivo {arquivo_nf} não foi encontrado para renomeação!')\n",
    "\n",
    "        # recarregando a página para limpar os campos do formulário\n",
    "        navegador.refresh()\n",
    "        time.sleep(2)\n",
    "    except Exception as e:\n",
    "        print(f'Erro ao emitir nota fiscal para {dados_cliente[\"Cliente\"]}: {e}')\n",
    "    \n",
    "    "
   ]
  },
  {
   "cell_type": "markdown",
   "metadata": {},
   "source": [
    "## Executando código\n",
    "\n",
    "* efetuando login\n",
    "* Carregando dados dos clientes\n",
    "* Emitindo notas fiscais"
   ]
  },
  {
   "cell_type": "code",
   "execution_count": null,
   "metadata": {},
   "outputs": [],
   "source": [
    "def processar_notas():\n",
    "    try:\n",
    "        # Efetuando login\n",
    "        efetuar_login()\n",
    "\n",
    "        # Carregando dados dos clientes\n",
    "        tabela_clientes = pd.read_excel(\"NotasEmitir.xlsx\")\n",
    "        # removendo espaços extras\n",
    "        tabela_clientes.columns = tabela_clientes.columns.str.strip()\n",
    "        lista_clientes = tabela_clientes.to_dict(orient=\"records\")\n",
    "\n",
    "        for cliente in lista_clientes:\n",
    "            emitir_nota_fiscal(cliente)\n",
    "\n",
    "    finally:\n",
    "        # Fechar o navegador ao terminar todo o processo\n",
    "        navegador.quit()\n",
    "\n",
    "processar_notas()"
   ]
  }
 ],
 "metadata": {
  "kernelspec": {
   "display_name": "venv",
   "language": "python",
   "name": "python3"
  },
  "language_info": {
   "codemirror_mode": {
    "name": "ipython",
    "version": 3
   },
   "file_extension": ".py",
   "mimetype": "text/x-python",
   "name": "python",
   "nbconvert_exporter": "python",
   "pygments_lexer": "ipython3",
   "version": "3.12.5"
  }
 },
 "nbformat": 4,
 "nbformat_minor": 2
}
