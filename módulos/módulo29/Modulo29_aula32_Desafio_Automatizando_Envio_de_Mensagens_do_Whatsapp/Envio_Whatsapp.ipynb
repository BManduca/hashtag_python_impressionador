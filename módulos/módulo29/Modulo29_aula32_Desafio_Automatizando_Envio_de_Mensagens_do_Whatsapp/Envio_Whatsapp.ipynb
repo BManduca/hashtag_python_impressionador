{
 "cells": [
  {
   "cell_type": "markdown",
   "id": "cf42a93c",
   "metadata": {},
   "source": [
    "### Cuidados!\n",
    " \n",
    "1. Whatsapp não gosta de nenhum tipo de automação\n",
    "2. Isso pode dar merda, já to avisando\n",
    "3. Isso não é o uso da API oficial do Whatsapp, o próprio whatsapp tem uma API oficial. Se o seu objetivo é fazer envio em massa ou criar aqueles robozinhos que respondem automaticamente no whatsapp, então use a API oficial\n",
    "4. Meu objetivo é 100% educacional\n",
    "\n",
    "### Dito isso, bora automatizar o envio de mensagens no Whatsapp\n",
    "\n",
    "- Vamos usar o Selenium (vídeo da configuração na descrição)\n",
    "- Temos 1 alternativa muito boa:\n",
    "- Usar o https://web.whatsapp.com/send?phone=numero&text=texto (mais fácil, mais seguro, mas mais demorado)\n"
   ]
  },
  {
   "cell_type": "code",
   "execution_count": 1,
   "id": "dc363f99",
   "metadata": {},
   "outputs": [],
   "source": [
    "import os\n",
    "import time\n",
    "import urllib\n",
    "import pandas as pd\n",
    "from selenium import webdriver\n",
    "from selenium.webdriver.support.ui import WebDriverWait\n",
    "from selenium.webdriver.support import expected_conditions as EC\n",
    "from selenium.webdriver.common.by import By\n",
    "\n",
    "options = webdriver.ChromeOptions()\n",
    "options.add_argument(\"--start-maximized\")\n",
    "\n",
    "navegador = webdriver.Chrome(options=options)\n",
    "\n",
    "def encontrar_elemento_botao(driver, metodo, seletor, tempo=20):\n",
    "    return WebDriverWait(driver, tempo).until(EC.element_to_be_clickable((metodo, seletor)))\n",
    "\n",
    "\n",
    "navegador.get(\"https://web.whatsapp.com\")"
   ]
  },
  {
   "cell_type": "markdown",
   "id": "42457468",
   "metadata": {},
   "source": [
    "## Importando a base de dados (site do whatsapp já carregado)"
   ]
  },
  {
   "cell_type": "code",
   "execution_count": 2,
   "id": "5ec2043b",
   "metadata": {},
   "outputs": [],
   "source": [
    "tabela_envio_mensagens = pd.read_excel(\"Envios.xlsx\")"
   ]
  },
  {
   "cell_type": "markdown",
   "id": "d181b4c6",
   "metadata": {},
   "source": [
    "## Enviando mensagem para cada pessoa presente na base de dados"
   ]
  },
  {
   "cell_type": "code",
   "execution_count": 3,
   "id": "73522134",
   "metadata": {},
   "outputs": [
    {
     "name": "stdout",
     "output_type": "stream",
     "text": [
      "/Users/brunnomanduca/Documents/Repositórios/MyGithub/hashtag_python_impressionador/módulos/módulo29/Modulo29_aula32_Desafio_Automatizando_Envio_de_Mensagens_do_Whatsapp/arquivos/pythonimpressionador.png\n"
     ]
    }
   ],
   "source": [
    "for linha in tabela_envio_mensagens.index:\n",
    "    # armazenar informações\n",
    "    nome = tabela_envio_mensagens.loc[linha, \"nome\"]\n",
    "    mensagem = tabela_envio_mensagens.loc[linha, \"mensagem\"]\n",
    "    arquivo_anexo = tabela_envio_mensagens.loc[linha, \"arquivo\"]\n",
    "    telefone = tabela_envio_mensagens.loc[linha, \"telefone\"]\n",
    "\n",
    "    texto = mensagem.replace(\"fulano\", nome)\n",
    "    texto = urllib.parse.quote(texto)\n",
    "\n",
    "    # enviar mensagem para cada pessoa\n",
    "    link = f\"https://web.whatsapp.com/send?phone={telefone}&text={texto}\"\n",
    "\n",
    "    try:\n",
    "        navegador.get(link)\n",
    "        \n",
    "        # aguardar até que a página seja carregada (elemento com id='side' apareça) ou timeout\n",
    "        # while len(navegador.find_elements(By.ID, \"side\")) < 1: # -> Lista for vazia (elemento não existe ainda)\n",
    "        #     time.sleep(1)\n",
    "        WebDriverWait(navegador, 30).until(EC.presence_of_element_located((By.ID, \"side\")))\n",
    "        time.sleep(3)\n",
    "\n",
    "        # verificando se o número é inválido\n",
    "        if len(navegador.find_elements(By.XPATH, '//*[@id=\"app\"]/div/span[2]/div/span/div/div/div/div/div/div[1]')) < 1:\n",
    "            # enviar a mensagem\n",
    "            encontrar_elemento_botao(navegador, By.XPATH, '//*[@id=\"main\"]/footer/div[1]/div/span/div/div[2]/div[2]/button/span').click()\n",
    "            \n",
    "            if arquivo_anexo != \"N\":\n",
    "                caminho_completo_arquivo = os.path.abspath(f\"arquivos/{arquivo_anexo}\")\n",
    "                encontrar_elemento_botao(navegador, By.XPATH, '//*[@id=\"main\"]/footer/div[1]/div/span/div/div[1]/div/button/span').click()\n",
    "                time.sleep(1)\n",
    "                print(caminho_completo_arquivo)\n",
    "                input_file = navegador.find_element(By.CSS_SELECTOR, 'input[type=\"file\"]')\n",
    "                input_file.send_keys(caminho_completo_arquivo)\n",
    "                # encontrar_elemento_botao(navegador, By.XPATH, '//*[@id=\"app\"]/div/span[5]/div/ul/div/div/div[1]/li').send_keys(caminho_completo_arquivo)\n",
    "                time.sleep(10)\n",
    "                encontrar_elemento_botao(navegador, By.XPATH, '//div[contains(@aria-label, \"Enviar\")]').click()\n",
    "\n",
    "            time.sleep(5)\n",
    "    except Exception as e:\n",
    "        print(f'Erro encontrado: {e}')\n",
    "    # finally:\n",
    "    #     time.sleep(4)\n",
    "    #     navegador.quit()\n"
   ]
  }
 ],
 "metadata": {
  "kernelspec": {
   "display_name": "venv",
   "language": "python",
   "name": "python3"
  },
  "language_info": {
   "codemirror_mode": {
    "name": "ipython",
    "version": 3
   },
   "file_extension": ".py",
   "mimetype": "text/x-python",
   "name": "python",
   "nbconvert_exporter": "python",
   "pygments_lexer": "ipython3",
   "version": "3.12.5"
  }
 },
 "nbformat": 4,
 "nbformat_minor": 5
}
