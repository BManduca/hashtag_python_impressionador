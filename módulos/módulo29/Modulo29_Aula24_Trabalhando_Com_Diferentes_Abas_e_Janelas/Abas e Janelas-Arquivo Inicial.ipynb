{
 "cells": [
  {
   "cell_type": "markdown",
   "id": "367cd714",
   "metadata": {
    "id": "367cd714"
   },
   "source": [
    "### Documentação Selenium:\n",
    "\n",
    "- https://selenium-python.readthedocs.io/locating-elements.html"
   ]
  },
  {
   "cell_type": "code",
   "execution_count": 1,
   "id": "4e28f9f7",
   "metadata": {
    "id": "4e28f9f7"
   },
   "outputs": [],
   "source": [
    "import time\n",
    "from selenium import webdriver\n",
    "from selenium.webdriver.common.by import By\n",
    "\n",
    "navegador = webdriver.Chrome()"
   ]
  },
  {
   "cell_type": "code",
   "execution_count": 2,
   "id": "59c8398d",
   "metadata": {
    "id": "59c8398d"
   },
   "outputs": [],
   "source": [
    "import os\n",
    "\n",
    "caminho = os.getcwd()\n",
    "arquivo = caminho + \"/Pagina Hashtag.html\"\n",
    "navegador.get(rf\"file:///{arquivo}\")"
   ]
  },
  {
   "cell_type": "markdown",
   "id": "1a0d1ae6",
   "metadata": {
    "id": "1a0d1ae6"
   },
   "source": [
    "#### Botão que abre outra janela"
   ]
  },
  {
   "cell_type": "code",
   "execution_count": 3,
   "id": "d90ab797",
   "metadata": {
    "id": "d90ab797"
   },
   "outputs": [],
   "source": [
    "navegador.find_element(By.XPATH, '/html/body/section[2]/div/div[6]/figure/a/img').click()"
   ]
  },
  {
   "cell_type": "markdown",
   "id": "80f18fcd",
   "metadata": {
    "id": "80f18fcd"
   },
   "source": [
    "### Outra aba"
   ]
  },
  {
   "cell_type": "code",
   "execution_count": 4,
   "id": "dbac0005",
   "metadata": {
    "id": "dbac0005"
   },
   "outputs": [],
   "source": [
    "aba_original = navegador.window_handles[0]\n",
    "\n",
    "nova_aba = navegador.window_handles[1]\n",
    "\n",
    "navegador.switch_to.window(nova_aba)"
   ]
  },
  {
   "cell_type": "markdown",
   "id": "33acb1df",
   "metadata": {},
   "source": [
    "### Preenchendo campos"
   ]
  },
  {
   "cell_type": "code",
   "execution_count": 5,
   "id": "4c8e9122",
   "metadata": {},
   "outputs": [],
   "source": [
    "navegador.find_element(By.NAME, 'firstname').send_keys('Brunno Manduca')\n",
    "navegador.find_element(By.NAME, 'email').send_keys('brunnomanducarfe@gmail.com')"
   ]
  },
  {
   "cell_type": "code",
   "execution_count": 6,
   "id": "395c3fe6",
   "metadata": {},
   "outputs": [],
   "source": [
    "navegador.switch_to.window(aba_original)\n",
    "time.sleep(2)\n",
    "navegador.find_element(By.XPATH, '/html/body/section[2]/div/div[4]/figure/a/img').click()"
   ]
  },
  {
   "cell_type": "code",
   "execution_count": 11,
   "id": "8ea59c81",
   "metadata": {},
   "outputs": [
    {
     "name": "stdout",
     "output_type": "stream",
     "text": [
      "Todos os Cursos Hashtag Treinamentos\n",
      "Power BI Completo: Certificado, Apostila e +80h de Conteúdo\n",
      "Curso Completo de Excel: Básico ao Avançado, 100% Online\n",
      "SQL Impressionador: curso completo em SQL e banco de dados\n"
     ]
    }
   ],
   "source": [
    "# verificar os titulos de todas as abas\n",
    "for aba in navegador.window_handles:\n",
    "    navegador.switch_to.window(aba)\n",
    "    print(navegador.title)"
   ]
  },
  {
   "cell_type": "markdown",
   "id": "16053597",
   "metadata": {
    "id": "16053597"
   },
   "source": [
    "### Outra janela"
   ]
  },
  {
   "cell_type": "code",
   "execution_count": 14,
   "id": "f79746e1",
   "metadata": {
    "id": "f79746e1"
   },
   "outputs": [
    {
     "name": "stdout",
     "output_type": "stream",
     "text": [
      "3\n"
     ]
    }
   ],
   "source": [
    "lista_abas = navegador.window_handles\n",
    "print(len(lista_abas))"
   ]
  },
  {
   "cell_type": "code",
   "execution_count": 12,
   "id": "73624cc8",
   "metadata": {},
   "outputs": [],
   "source": [
    "aba_sql = navegador.window_handles[3]\n",
    "navegador.switch_to.window(aba_sql)\n",
    "navegador.find_element(By.NAME, 'firstname').send_keys('Brunno SQL')\n",
    "navegador.find_element(By.NAME, 'email').send_keys('brunno@sql.com')"
   ]
  },
  {
   "cell_type": "code",
   "execution_count": 13,
   "id": "71734d5e",
   "metadata": {},
   "outputs": [],
   "source": [
    "# fecha a aba 'current'\n",
    "navegador.close()"
   ]
  },
  {
   "cell_type": "code",
   "execution_count": 15,
   "id": "2823cb54",
   "metadata": {},
   "outputs": [],
   "source": [
    "# fechar todas as abas e pages\n",
    "navegador.quit()"
   ]
  }
 ],
 "metadata": {
  "colab": {
   "name": "Abas e Janelas-Arquivo Inicial.ipynb",
   "provenance": []
  },
  "kernelspec": {
   "display_name": "venv",
   "language": "python",
   "name": "python3"
  },
  "language_info": {
   "codemirror_mode": {
    "name": "ipython",
    "version": 3
   },
   "file_extension": ".py",
   "mimetype": "text/x-python",
   "name": "python",
   "nbconvert_exporter": "python",
   "pygments_lexer": "ipython3",
   "version": "3.12.5"
  }
 },
 "nbformat": 4,
 "nbformat_minor": 5
}
