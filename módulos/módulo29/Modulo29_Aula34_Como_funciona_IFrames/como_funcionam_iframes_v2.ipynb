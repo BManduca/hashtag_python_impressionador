{
 "cells": [
  {
   "cell_type": "markdown",
   "metadata": {},
   "source": [
    "## Webscrapping Iframes "
   ]
  },
  {
   "cell_type": "code",
   "execution_count": 1,
   "metadata": {},
   "outputs": [
    {
     "name": "stdout",
     "output_type": "stream",
     "text": [
      "✅ Endereço inserido com sucesso!\n"
     ]
    }
   ],
   "source": [
    "import time\n",
    "from selenium import webdriver\n",
    "from selenium.webdriver.support.ui import WebDriverWait\n",
    "from selenium.webdriver.support import expected_conditions as EC\n",
    "from selenium.webdriver.common.by import By\n",
    "from selenium.webdriver.common.keys import Keys\n",
    "\n",
    "def inicializar_navegador():\n",
    "    options = webdriver.ChromeOptions()\n",
    "    options.add_argument('--start-maximized')\n",
    "    return webdriver.Chrome(options=options)\n",
    "\n",
    "def encontrar_elemento(driver, metodo, seletor, tempo=15):\n",
    "    return WebDriverWait(driver, tempo).until(EC.presence_of_element_located((metodo, seletor)))\n",
    "\n",
    "def encontrar_elemento_clicavel(driver, metodo, seletor, tempo=15):\n",
    "    return WebDriverWait(driver, tempo).until(EC.element_to_be_clickable((metodo, seletor)))\n",
    "\n",
    "try:\n",
    "    navegador = inicializar_navegador()\n",
    "    navegador.get('https://www.vgaauditores.com.br/web/')\n",
    "    time.sleep(2)\n",
    "\n",
    "    for i in range(5):\n",
    "        qtde_scroll = i * 1500\n",
    "        navegador.execute_script(f'window.scroll(0, {qtde_scroll})')\n",
    "        time.sleep(1.5)\n",
    "\n",
    "    # encontrando o iframe dentro da página\n",
    "    iframe = navegador.find_element(By.TAG_NAME, 'iframe')\n",
    "    # acessar o iframe onde o botão do Maps está posicionado\n",
    "    navegador.switch_to.frame(iframe)\n",
    "\n",
    "    time.sleep(2)\n",
    "\n",
    "    # clicar no botão de 'rotas' (abrindo o Google Maps em outra aba)\n",
    "    encontrar_elemento_clicavel(navegador, By.CLASS_NAME, 'navigate').click()\n",
    "\n",
    "    # retornando para o conteúdo principal, antes de trocar de aba\n",
    "    navegador.switch_to.default_content()\n",
    "\n",
    "    # aguardando repetidamente o navegador verificar se existe uma nova aba aberta além da inicial\n",
    "    WebDriverWait(navegador, 10).until(lambda wnd: len(wnd.window_handles) > 1)\n",
    "    # armazenando uma lista atualizada de todas as abas abertas\n",
    "    abas = navegador.window_handles\n",
    "    # trocando o foco do Selenium, para a nova aba | desta forma, todos os comandos a seguir vão atuar na nova aba\n",
    "    navegador.switch_to.window(abas[1])\n",
    "\n",
    "    # Buscando elemento campo de busca do Google Maps e insere um determinado endereço\n",
    "    input_field_map = encontrar_elemento(navegador, By.CLASS_NAME, 'tactile-searchbox-input')\n",
    "    input_field_map.send_keys('Servidão Anna Luiza Conceição, 255, Florianópolis - SC')\n",
    "    input_field_map.send_keys(Keys.ENTER)\n",
    "\n",
    "    print('✅ Endereço inserido com sucesso!')\n",
    "except Exception as e:\n",
    "    print(f'Problema durante o acesso a página: {e}')"
   ]
  },
  {
   "cell_type": "code",
   "execution_count": 2,
   "metadata": {},
   "outputs": [],
   "source": [
    "# lista_iframes = navegador.find_elements(By.TAG_NAME, 'iframe')\n",
    "# print(len(lista_iframes))\n",
    "\n",
    "# iframe = navegador.find_element(By.TAG_NAME, 'iframe')\n",
    "# navegador.switch_to.frame(iframe)\n",
    "\n",
    "# encontrar_elemento_clicavel(navegador, By.CLASS_NAME, 'navigate').click()"
   ]
  },
  {
   "cell_type": "markdown",
   "metadata": {},
   "source": [
    "### Sites para aplicar webscrapping\n",
    "\n",
    "* https://www.vgaauditores.com.br/web/"
   ]
  }
 ],
 "metadata": {
  "kernelspec": {
   "display_name": "venv",
   "language": "python",
   "name": "python3"
  },
  "language_info": {
   "codemirror_mode": {
    "name": "ipython",
    "version": 3
   },
   "file_extension": ".py",
   "mimetype": "text/x-python",
   "name": "python",
   "nbconvert_exporter": "python",
   "pygments_lexer": "ipython3",
   "version": "3.12.5"
  }
 },
 "nbformat": 4,
 "nbformat_minor": 2
}
