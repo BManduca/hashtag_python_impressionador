{
 "cells": [
  {
   "cell_type": "code",
   "execution_count": 34,
   "id": "4e28f9f7",
   "metadata": {},
   "outputs": [],
   "source": [
    "from selenium import webdriver\n",
    "\n",
    "navegador = webdriver.Chrome()"
   ]
  },
  {
   "cell_type": "code",
   "execution_count": null,
   "id": "59c8398d",
   "metadata": {},
   "outputs": [],
   "source": [
    "import os\n",
    "\n",
    "caminho = os.getcwd()\n",
    "# arquivo = caminho + \"/Pagina Hashtag.html\"\n",
    "\n",
    "# print(arquivo)\n",
    "# navegador.get(rf\"file:///{arquivo}\")\n",
    "navegador.get(\"https://www.hashtagtreinamentos.com/curso-python?conversion=lcto-lpy-abr25\")"
   ]
  },
  {
   "cell_type": "code",
   "execution_count": null,
   "id": "25228a28",
   "metadata": {},
   "outputs": [],
   "source": [
    "from selenium.webdriver.common.by import By\n",
    "\n",
    "navegador.find_element(By.ID, 'firstname').send_keys('Brunno')\n",
    "navegador.find_element(By.ID, 'email').send_keys('brunno@email.com')\n",
    "navegador.find_element(By.ID, 'phone').send_keys('(48) 93197-5373')\n",
    "navegador.find_element(By.ID, '_form_2475_submit').click()\n"
   ]
  }
 ],
 "metadata": {
  "kernelspec": {
   "display_name": "venv",
   "language": "python",
   "name": "python3"
  },
  "language_info": {
   "codemirror_mode": {
    "name": "ipython",
    "version": 3
   },
   "file_extension": ".py",
   "mimetype": "text/x-python",
   "name": "python",
   "nbconvert_exporter": "python",
   "pygments_lexer": "ipython3",
   "version": "3.12.5"
  }
 },
 "nbformat": 4,
 "nbformat_minor": 5
}
