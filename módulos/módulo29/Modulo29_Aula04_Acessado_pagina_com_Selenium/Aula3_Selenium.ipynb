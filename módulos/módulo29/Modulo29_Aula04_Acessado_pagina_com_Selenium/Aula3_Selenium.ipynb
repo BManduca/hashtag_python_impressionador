{
 "cells": [
  {
   "cell_type": "code",
   "execution_count": null,
   "id": "YjxaqVaThRIu",
   "metadata": {
    "id": "YjxaqVaThRIu"
   },
   "outputs": [],
   "source": [
    "!pip3 install selenium"
   ]
  },
  {
   "cell_type": "code",
   "execution_count": null,
   "id": "6738d66c",
   "metadata": {
    "id": "6738d66c"
   },
   "outputs": [],
   "source": [
    "!pip3 install webdriver-manager"
   ]
  },
  {
   "cell_type": "code",
   "execution_count": null,
   "id": "84f6a1ec",
   "metadata": {
    "id": "84f6a1ec"
   },
   "outputs": [],
   "source": [
    "from selenium import webdriver\n",
    "from selenium.webdriver.chrome.service import Service\n",
    "from webdriver_manager.chrome import ChromeDriverManager\n",
    "\n",
    "servico = Service(ChromeDriverManager().install())\n",
    "navegador = webdriver.Chrome(service=servico)"
   ]
  },
  {
   "cell_type": "code",
   "execution_count": null,
   "id": "c43df1d0",
   "metadata": {
    "id": "c43df1d0"
   },
   "outputs": [],
   "source": [
    "navegador.get(r\"C:\\Users\\joaol\\Downloads\\Pagina Hashtag.html\")"
   ]
  },
  {
   "cell_type": "code",
   "execution_count": null,
   "id": "_5oET0u9hoqH",
   "metadata": {
    "id": "_5oET0u9hoqH"
   },
   "outputs": [],
   "source": [
    "navegador.get(\"https://devbrunnomanduca.vercel.app/\")"
   ]
  },
  {
   "cell_type": "code",
   "execution_count": 14,
   "id": "d189cef1-8d47-4a47-a835-01d7b45d021b",
   "metadata": {},
   "outputs": [],
   "source": [
    "navegador.get(r\"file:///Users/brunnomanduca/Downloads/teste.html\")"
   ]
  },
  {
   "cell_type": "code",
   "execution_count": 15,
   "id": "1bfdd223-d8a5-47bd-b9ad-ce62050a5f75",
   "metadata": {},
   "outputs": [],
   "source": [
    "navegador.get(\"file:///Users/brunnomanduca/Documents/Repositórios/MyGithub/hashtag_python_impressionador/módulos/módulo29/Modulo29_Aula05_Acessado_pagina_com_Selenium/Pagina Hashtag.html\")"
   ]
  },
  {
   "cell_type": "code",
   "execution_count": null,
   "id": "d0b89e4e-5cc9-4f29-8e8c-65bee587bbb3",
   "metadata": {},
   "outputs": [],
   "source": []
  }
 ],
 "metadata": {
  "colab": {
   "provenance": []
  },
  "kernelspec": {
   "display_name": "venv",
   "language": "python",
   "name": "python3"
  },
  "language_info": {
   "codemirror_mode": {
    "name": "ipython",
    "version": 3
   },
   "file_extension": ".py",
   "mimetype": "text/x-python",
   "name": "python",
   "nbconvert_exporter": "python",
   "pygments_lexer": "ipython3",
   "version": "3.12.5"
  }
 },
 "nbformat": 4,
 "nbformat_minor": 5
}
