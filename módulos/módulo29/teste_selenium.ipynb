{
 "cells": [
  {
   "cell_type": "code",
   "execution_count": 1,
   "metadata": {},
   "outputs": [],
   "source": [
    "from selenium import webdriver\n",
    "\n",
    "# caso ocorra algum erro com relação ao local do ChromeDriver\n",
    "# from selenium.webdriver.chrome.service import Service\n",
    "\n",
    "# lembrando que em linux e mac o arquivo do chromedriver não possui extensão\n",
    "# servico = Service(r'/Users/brunnomanduca/Documents/nome_chromedriver')\n",
    "# driver = webdriver.Chrome(service=servico)\n",
    "\n",
    "driver = webdriver.Chrome()"
   ]
  }
 ],
 "metadata": {
  "kernelspec": {
   "display_name": "venv",
   "language": "python",
   "name": "python3"
  },
  "language_info": {
   "codemirror_mode": {
    "name": "ipython",
    "version": 3
   },
   "file_extension": ".py",
   "mimetype": "text/x-python",
   "name": "python",
   "nbconvert_exporter": "python",
   "pygments_lexer": "ipython3",
   "version": "3.12.5"
  }
 },
 "nbformat": 4,
 "nbformat_minor": 2
}
