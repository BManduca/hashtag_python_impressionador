{
 "cells": [
  {
   "cell_type": "markdown",
   "metadata": {},
   "source": [
    "## Como realizar a quebra de Captcha utilizando Selenium"
   ]
  },
  {
   "cell_type": "code",
   "execution_count": null,
   "metadata": {},
   "outputs": [],
   "source": [
    "import time\n",
    "from selenium import webdriver\n",
    "from selenium.webdriver.support.ui import WebDriverWait\n",
    "from selenium.webdriver.support import expected_conditions as EC\n",
    "from selenium.webdriver.common.by import By\n",
    "\n",
    "def inicializar_navegador():\n",
    "    options = webdriver.ChromeOptions()\n",
    "    options.add_argument('--start-maximized')\n",
    "    return webdriver.Chrome(options=options)\n",
    "\n",
    "def encontrar_elemento(driver, metodo, seletor, tempo=10):\n",
    "    return WebDriverWait(driver, tempo).until(EC.presence_of_element_located((metodo, seletor)))\n",
    "\n",
    "try:\n",
    "    navegador = inicializar_navegador()\n",
    "    navegador.get('https://google.com/recaptcha/api2/demo')\n",
    "    # https://freecaptchabypass.com/developers/\n",
    "    # https://freecaptchabypass.com/cp/signin\n",
    "\n",
    "    chave_captcha = \n",
    "except Exception as e:\n",
    "    print(f'❌ Erro ao abrir o site no navegador: {e}')"
   ]
  }
 ],
 "metadata": {
  "kernelspec": {
   "display_name": "venv",
   "language": "python",
   "name": "python3"
  },
  "language_info": {
   "name": "python",
   "version": "3.12.5"
  }
 },
 "nbformat": 4,
 "nbformat_minor": 2
}
