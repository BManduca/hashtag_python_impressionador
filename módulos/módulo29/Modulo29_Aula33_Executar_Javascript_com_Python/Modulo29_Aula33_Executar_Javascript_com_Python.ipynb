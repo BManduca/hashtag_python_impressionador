{
 "cells": [
  {
   "cell_type": "markdown",
   "metadata": {},
   "source": [
    "## Executando comandos Javascript com Python\n",
    "* Scroll na tela\n",
    "    1. Você consegue por meio do Selenium, executar comandos Javascript no navegador\n",
    "    2. Isso é essencial para dar um scroll na tela, por exemplo, caso seja necessário, como no YouTube"
   ]
  },
  {
   "cell_type": "markdown",
   "metadata": {},
   "source": [
    "### Criar uma lista de pelo menos 50 vídeos de Python no YouTube"
   ]
  },
  {
   "cell_type": "code",
   "execution_count": null,
   "metadata": {},
   "outputs": [],
   "source": [
    "import time\n",
    "from selenium import webdriver\n",
    "from selenium.webdriver.common.by import By\n",
    "from selenium.webdriver.support.ui import WebDriverWait\n",
    "from selenium.webdriver.support import expected_conditions as EC\n",
    "\n",
    "def inicializar_navegador():\n",
    "    options = webdriver.ChromeOptions()\n",
    "    options.add_argument(\"--start-maximized\")\n",
    "    return webdriver.Chrome(options=options)\n",
    "\n",
    "def encontrar_elemento(driver, metodo, seletor, tempo=15):\n",
    "    return WebDriverWait(driver, tempo).until(EC.presence_of_element_located((metodo, seletor)))\n",
    "\n",
    "def encontrar_elemento_clicavel(driver, metodo, seletor, tempo=15):\n",
    "    return WebDriverWait(driver, tempo).until(EC.element_to_be_clickable((metodo, seletor)))\n",
    "\n",
    "\n",
    "if __name__ == \"__main__\":\n",
    "    try:\n",
    "        navegador = inicializar_navegador()\n",
    "        print(\"⏳ Acessando site do YouTube..\")\n",
    "        navegador.get(\"https://www.youtube.com/\")\n",
    "        print(\"\\n✅ Site do YouTube acessado com sucesso!\")\n",
    "        time.sleep(2)\n",
    "        \n",
    "        encontrar_elemento(navegador, By.NAME, \"search_query\").send_keys(\"python\")\n",
    "        encontrar_elemento_clicavel(navegador, By.XPATH, '//*[@id=\"center\"]/yt-searchbox/button').click()\n",
    "\n",
    "        # aplicar scroll na tela, para carregar mais vídeos\n",
    "        # 30 -> condiz somente com a qide aleátoria que o scroll vai ser aplicado\n",
    "        # variando sempre numa quantidade de i * 2000 com relação a página do navegador\n",
    "        for i in range(30):\n",
    "            qtde_scroll = i * 2000\n",
    "            navegador.execute_script(f'window.scroll(0, {qtde_scroll})')\n",
    "            time.sleep(2)\n",
    "\n",
    "        lista_links_videos = navegador.find_elements(By.ID, 'thumbnail')\n",
    "\n",
    "        for link_video in lista_links_videos:\n",
    "            print(link_video.get_attribute('href'))\n",
    "\n",
    "    except Exception as e:\n",
    "        print(f'Erro ao acessar a página: {e}')\n"
   ]
  },
  {
   "cell_type": "code",
   "execution_count": null,
   "metadata": {},
   "outputs": [],
   "source": [
    "# lista_links_videos = navegador.find_elements(By.ID, 'thumbnail')\n",
    "\n",
    "# for link_video in lista_links_videos:\n",
    "#     print(link_video.get_attribute('href'))\n",
    "# # print(len(lista_links_videos))"
   ]
  },
  {
   "cell_type": "markdown",
   "metadata": {},
   "source": [
    "### Efetuando scroll na tela via comando JS\n",
    "* x -> horizontal, y -> vertical\n",
    "* hoje raramente páginas tem scroll horizontal, por isso somente há variação no y\n",
    "\n",
    "    ``` window.scroll(0, 100) ```"
   ]
  }
 ],
 "metadata": {
  "kernelspec": {
   "display_name": "venv",
   "language": "python",
   "name": "python3"
  },
  "language_info": {
   "codemirror_mode": {
    "name": "ipython",
    "version": 3
   },
   "file_extension": ".py",
   "mimetype": "text/x-python",
   "name": "python",
   "nbconvert_exporter": "python",
   "pygments_lexer": "ipython3",
   "version": "3.12.5"
  }
 },
 "nbformat": 4,
 "nbformat_minor": 2
}
