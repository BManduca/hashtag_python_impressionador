{
 "cells": [
  {
   "cell_type": "markdown",
   "id": "702b7e53",
   "metadata": {},
   "source": [
    "### Abrindo o navegador"
   ]
  },
  {
   "cell_type": "code",
   "execution_count": null,
   "id": "082ddc3b",
   "metadata": {},
   "outputs": [],
   "source": [
    "import os\n",
    "import time\n",
    "from pathlib import Path\n",
    "from selenium import webdriver\n",
    "from selenium.webdriver.support import expected_conditions as EC\n",
    "from selenium.webdriver.support.ui import WebDriverWait\n",
    "from selenium.webdriver.common.by import By\n",
    "\n",
    "navegador = webdriver.Chrome()"
   ]
  },
  {
   "cell_type": "code",
   "execution_count": null,
   "id": "164794e0",
   "metadata": {},
   "outputs": [],
   "source": [
    "\n",
    "caminho = os.getcwd()\n",
    "arquivo = caminho + \"/Pagina Hashtag.html\"\n",
    "navegador.get(rf\"file:///{arquivo}\")"
   ]
  },
  {
   "cell_type": "markdown",
   "id": "a5540cbe",
   "metadata": {},
   "source": [
    "### Editando a tela do navegador"
   ]
  },
  {
   "cell_type": "markdown",
   "id": "0cd74f30",
   "metadata": {},
   "source": [
    "#### maximizar"
   ]
  },
  {
   "cell_type": "code",
   "execution_count": null,
   "id": "08e665f6",
   "metadata": {},
   "outputs": [],
   "source": [
    "navegador.maximize_window()"
   ]
  },
  {
   "cell_type": "markdown",
   "id": "843cad66",
   "metadata": {},
   "source": [
    "#### minimizar"
   ]
  },
  {
   "cell_type": "code",
   "execution_count": null,
   "id": "b2f6696b",
   "metadata": {},
   "outputs": [],
   "source": [
    "navegador.minimize_window()"
   ]
  },
  {
   "cell_type": "markdown",
   "id": "d2fbb53d",
   "metadata": {},
   "source": [
    "#### headless\n",
    "\n",
    "Atenção que nem sempre funciona igual"
   ]
  },
  {
   "cell_type": "code",
   "execution_count": null,
   "id": "e880f33f",
   "metadata": {},
   "outputs": [],
   "source": [
    "options = webdriver.ChromeOptions()\n",
    "options.add_argument(\"--headless\")\n",
    "\n",
    "novo_navegador = webdriver.Chrome(options=options)\n",
    "\n",
    "novo_navegador.get(\"https://www.hashtagtreinamentos.com/\")\n",
    "print(novo_navegador.title)"
   ]
  },
  {
   "cell_type": "code",
   "execution_count": null,
   "id": "794d661d",
   "metadata": {},
   "outputs": [],
   "source": [
    "options = webdriver.ChromeOptions()\n",
    "options.add_argument(\"--start-maximized\")\n",
    "\n",
    "novo_navegador2 = webdriver.Chrome(options=options)\n",
    "\n",
    "def encontrar_elemento(driver, metodo, seletor, tempo=10):\n",
    "    return WebDriverWait(driver, tempo).until(EC.presence_of_element_located((metodo, seletor)))\n",
    "\n",
    "def encontrar_elemento_clicavel(driver, metodo, seletor, tempo=10):\n",
    "    return WebDriverWait(driver, tempo).until(EC.element_to_be_clickable((metodo, seletor)))\n",
    "\n",
    "novo_caminho = os.getcwd()\n",
    "\n",
    "# construindo caminho abolsuto, combinando novo_caminho com a página HTML\n",
    "# Path substitui os.path.join(), deixando codigo mais clean e compatível com diferentes OS\n",
    "# resolve() -> converte o caminho para um caminho abolsuto real\n",
    "# as_uri() -> converte o caminho absoluto para um Formato URI, necessário para abrir arquivos locais com o navegador\n",
    "novo_arquivo = Path(novo_caminho, \"Pagina Hashtag.html\").resolve().as_uri()\n",
    "\n",
    "try:\n",
    "    novo_navegador2.get(novo_arquivo)\n",
    "\n",
    "    encontrar_elemento_clicavel(novo_navegador2, By.XPATH, \"/html/body/section[2]/div/div[4]/figure/a/img\").click()\n",
    "\n",
    "    WebDriverWait(novo_navegador2, 10).until(lambda wnd: len(wnd.window_handles) > 1)\n",
    "    novo_navegador2.switch_to.window(novo_navegador2.window_handles[1])\n",
    "\n",
    "    encontrar_elemento(novo_navegador2, By.ID, \"firstname\").send_keys(\"Brunno\")\n",
    "    time.sleep(0.7)\n",
    "    encontrar_elemento(novo_navegador2, By.ID, \"email\").send_keys(\"brunnomanduca@email.com\")\n",
    "    time.sleep(0.7)\n",
    "    encontrar_elemento(novo_navegador2, By.ID, \"phone\").send_keys(\"047992057887\")\n",
    "\n",
    "    encontrar_elemento_clicavel(novo_navegador2, By.ID, \"_form_178_submit\").click()\n",
    "\n",
    "except Exception as e:\n",
    "    print(f'Erro encontrado: {e}')\n",
    "finally:\n",
    "    time.sleep(10)\n",
    "    novo_navegador2.quit()"
   ]
  }
 ],
 "metadata": {
  "kernelspec": {
   "display_name": "venv",
   "language": "python",
   "name": "python3"
  },
  "language_info": {
   "codemirror_mode": {
    "name": "ipython",
    "version": 3
   },
   "file_extension": ".py",
   "mimetype": "text/x-python",
   "name": "python",
   "nbconvert_exporter": "python",
   "pygments_lexer": "ipython3",
   "version": "3.12.5"
  }
 },
 "nbformat": 4,
 "nbformat_minor": 5
}
