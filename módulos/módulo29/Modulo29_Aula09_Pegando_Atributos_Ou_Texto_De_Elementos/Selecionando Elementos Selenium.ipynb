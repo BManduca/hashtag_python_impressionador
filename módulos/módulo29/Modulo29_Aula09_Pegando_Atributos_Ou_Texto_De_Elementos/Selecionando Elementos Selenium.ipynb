{
 "cells": [
  {
   "cell_type": "markdown",
   "id": "367cd714",
   "metadata": {
    "id": "367cd714"
   },
   "source": [
    "### Documentação Selenium:\n",
    "\n",
    "- https://selenium-python.readthedocs.io/locating-elements.html"
   ]
  },
  {
   "cell_type": "code",
   "execution_count": 1,
   "id": "4e28f9f7",
   "metadata": {
    "id": "4e28f9f7"
   },
   "outputs": [],
   "source": [
    "from selenium import webdriver\n",
    "from selenium.webdriver.common.by import By\n",
    "\n",
    "navegador = webdriver.Chrome()"
   ]
  },
  {
   "cell_type": "code",
   "execution_count": 2,
   "id": "59c8398d",
   "metadata": {
    "colab": {
     "background_save": true,
     "base_uri": "https://localhost:8080/",
     "height": 200
    },
    "executionInfo": {
     "elapsed": 434,
     "status": "error",
     "timestamp": 1650480138491,
     "user": {
      "displayName": "Gabriel Jesus",
      "userId": "08988429652379830025"
     },
     "user_tz": 180
    },
    "id": "59c8398d",
    "outputId": "85b5236b-3753-4440-c1c9-d729311ed6af"
   },
   "outputs": [],
   "source": [
    "import os\n",
    "\n",
    "caminho = os.getcwd()\n",
    "arquivo = caminho + \"/Pagina Hashtag.html\"\n",
    "navegador.get(rf\"file:///{arquivo}\")"
   ]
  },
  {
   "cell_type": "markdown",
   "id": "7d964ce5",
   "metadata": {
    "id": "7d964ce5"
   },
   "source": [
    "#### Pegar informações de um elemento\n",
    "\n",
    "- texto\n",
    "- atributos"
   ]
  },
  {
   "cell_type": "markdown",
   "id": "b276fde6",
   "metadata": {
    "id": "b276fde6"
   },
   "source": [
    "\n",
    "\n",
    "```\n",
    "# This is formatted as code\n",
    "```\n",
    "\n",
    "##### Ex1: Link do Whatsapp"
   ]
  },
  {
   "cell_type": "code",
   "execution_count": 3,
   "id": "aa69181b",
   "metadata": {},
   "outputs": [
    {
     "name": "stdout",
     "output_type": "stream",
     "text": [
      "https://api.whatsapp.com/send?phone=5521998658852&text=Ol%C3%A1%2C%20gostaria%20de%20tirar%20uma%20d%C3%BAvida%20%20sobre%20o%20curso%20online\n"
     ]
    }
   ],
   "source": [
    "texto = navegador.find_element(By.XPATH, '/html/body/footer/div/div[1]/div[2]/div/a[2]').get_attribute('href')\n",
    "print(texto)"
   ]
  },
  {
   "cell_type": "markdown",
   "id": "35bdb584",
   "metadata": {
    "id": "35bdb584"
   },
   "source": [
    "##### Ex2: Imagens dos cursos"
   ]
  },
  {
   "cell_type": "code",
   "execution_count": 4,
   "id": "fcdd0b85",
   "metadata": {},
   "outputs": [
    {
     "name": "stdout",
     "output_type": "stream",
     "text": [
      "https://www.hashtagtreinamentos.com/curso-de-excel-online\n"
     ]
    }
   ],
   "source": [
    "link_image = navegador.find_element(By.XPATH, '/html/body/section[2]/div/div[4]/figure/a').get_attribute('href')\n",
    "print(link_image)"
   ]
  }
 ],
 "metadata": {
  "colab": {
   "name": "Selecionando Elementos Selenium.ipynb",
   "provenance": []
  },
  "kernelspec": {
   "display_name": "venv",
   "language": "python",
   "name": "python3"
  },
  "language_info": {
   "codemirror_mode": {
    "name": "ipython",
    "version": 3
   },
   "file_extension": ".py",
   "mimetype": "text/x-python",
   "name": "python",
   "nbconvert_exporter": "python",
   "pygments_lexer": "ipython3",
   "version": "3.12.5"
  }
 },
 "nbformat": 4,
 "nbformat_minor": 5
}
