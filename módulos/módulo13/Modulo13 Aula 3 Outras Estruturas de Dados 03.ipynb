{
 "cells": [
  {
   "cell_type": "markdown",
   "metadata": {},
   "source": [
    "# Set\n",
    "\n",
    "### Estrutura:\n",
    "\n",
    "meu_set = {valor, valor, valor, valor,...}\n",
    "\n",
    "### Observações:\n",
    "\n",
    "- Não pode ter valores duplicados\n",
    "- Não tem ordem fixa"
   ]
  },
  {
   "cell_type": "code",
   "execution_count": 1,
   "metadata": {},
   "outputs": [
    {
     "name": "stdout",
     "output_type": "stream",
     "text": [
      "{'arroz', 'feijao', 'atum', 'azeite', 'macarrao'}\n"
     ]
    }
   ],
   "source": [
    "set_produtos = {'arroz', 'feijao', 'macarrao', 'atum', 'azeite'}\n",
    "\n",
    "print(set_produtos)"
   ]
  },
  {
   "cell_type": "markdown",
   "metadata": {},
   "source": [
    "- Aplicação bem útil:\n",
    "\n",
    "    1. Quantos clientes tivemos na loja?"
   ]
  },
  {
   "cell_type": "code",
   "execution_count": 7,
   "metadata": {},
   "outputs": [
    {
     "name": "stdout",
     "output_type": "stream",
     "text": [
      "Temos 11 cientes na loja.\n",
      "[1]: 263.027.380-67\n",
      "[2]: 892.080.930-50\n",
      "[3]: 988.305.810-11\n",
      "[4]: 925.413.640-91\n",
      "[5]: 596.125.830-05\n",
      "[6]: 870.565.160-33\n",
      "[7]: 990.236.770-48\n",
      "[8]: 462.126.030-81\n",
      "[9]: 762.196.080-97\n",
      "[10]: 827.363.930-40\n",
      "[11]: 393.462.330-10\n"
     ]
    }
   ],
   "source": [
    "cpf_clientes = ['762.196.080-97', '263.027.380-67', '827.363.930-40', '925.413.640-91', '870.565.160-33', '892.080.930-50', '462.126.030-81', '393.462.330-10', '393.462.330-10', '393.462.330-10', '988.305.810-11', '596.125.830-05', '596.125.830-05', '990.236.770-48']\n",
    "\n",
    "set_cpf_clientes = set(cpf_clientes)\n",
    "list_cpf_clientes_unicos = list(set_cpf_clientes)\n",
    "\n",
    "print(f'Temos {len(set_cpf_clientes)} cientes na loja.')\n",
    "\n",
    "for i in range(len(list_cpf_clientes_unicos)):\n",
    "    print(f'[{i+1}]: {list_cpf_clientes_unicos[i]}')"
   ]
  }
 ],
 "metadata": {
  "kernelspec": {
   "display_name": "venv",
   "language": "python",
   "name": "python3"
  },
  "language_info": {
   "codemirror_mode": {
    "name": "ipython",
    "version": 3
   },
   "file_extension": ".py",
   "mimetype": "text/x-python",
   "name": "python",
   "nbconvert_exporter": "python",
   "pygments_lexer": "ipython3",
   "version": "3.12.5"
  }
 },
 "nbformat": 4,
 "nbformat_minor": 4
}
