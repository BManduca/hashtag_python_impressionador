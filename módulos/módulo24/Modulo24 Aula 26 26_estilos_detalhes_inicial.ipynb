{
 "cells": [
  {
   "cell_type": "code",
   "execution_count": null,
   "metadata": {
    "ExecuteTime": {
     "end_time": "2023-07-21T13:02:36.912686700Z",
     "start_time": "2023-07-21T13:02:36.391557300Z"
    },
    "tags": []
   },
   "outputs": [],
   "source": [
    "import matplotlib.pyplot as plt\n",
    "\n",
    "produtos = ['Produto A', 'Produto B', 'Produto C', 'Produto D', 'Produto E']\n",
    "quantidades = [23, 45, 17, 30, 37]\n",
    "\n",
    "plt.style.use('fivethirtyeight')\n",
    "\n",
    "barras = plt.barh(produtos, quantidades)\n",
    "\n",
    "plt.bar_label(barras, labels=quantidades, padding=3, fontsize=10, fontweight='bold')\n",
    "\n",
    "# plt.xlabel('Quantidade Vendida')\n",
    "# plt.ylabel('Produto')\n",
    "plt.xticks([])\n",
    "plt.title('Quantidade de Produtos Vendidos')\n",
    "plt.grid(False)\n",
    "\n",
    "plt.show()"
   ]
  },
  {
   "cell_type": "markdown",
   "metadata": {},
   "source": [
    "## Cores"
   ]
  },
  {
   "cell_type": "code",
   "execution_count": null,
   "metadata": {},
   "outputs": [],
   "source": [
    "print(plt.rcParams['axes.prop_cycle'])"
   ]
  },
  {
   "cell_type": "markdown",
   "metadata": {},
   "source": [
    "Descobrindo a cor associada a cada código: https://corhexa.com/\n",
    "\n",
    "Sobre os sistemas de cores: https://pt.wikipedia.org/wiki/RGB"
   ]
  },
  {
   "cell_type": "code",
   "execution_count": null,
   "metadata": {},
   "outputs": [],
   "source": [
    "print(plt.rcParams['axes.prop_cycle'].by_key()['color'])"
   ]
  },
  {
   "cell_type": "code",
   "execution_count": null,
   "metadata": {},
   "outputs": [],
   "source": [
    "print(plt.rcParams['axes.prop_cycle'].by_key()['color'][1])"
   ]
  },
  {
   "cell_type": "code",
   "execution_count": null,
   "metadata": {},
   "outputs": [],
   "source": [
    "import matplotlib.pyplot as plt\n",
    "\n",
    "produtos = ['Produto A', 'Produto B', 'Produto C', 'Produto D', 'Produto E']\n",
    "quantidades = [23, 45, 17, 30, 37]\n",
    "\n",
    "plt.style.use('fivethirtyeight')\n",
    "\n",
    "barras = plt.barh(produtos, quantidades)\n",
    "\n",
    "plt.bar_label(barras, labels=quantidades, padding=3, fontsize=10, fontweight='bold', color='#008fd5')\n",
    "\n",
    "# plt.xlabel('Quantidade Vendida')\n",
    "# plt.ylabel('Produto')\n",
    "plt.xticks([])\n",
    "plt.title('Quantidade de Produtos Vendidos')\n",
    "plt.grid(False)\n",
    "\n",
    "plt.show()"
   ]
  },
  {
   "cell_type": "code",
   "execution_count": null,
   "metadata": {},
   "outputs": [],
   "source": [
    "import matplotlib.pyplot as plt\n",
    "\n",
    "produtos = ['Produto A', 'Produto B', 'Produto C', 'Produto D', 'Produto E']\n",
    "quantidades = [23, 45, 17, 30, 37]\n",
    "\n",
    "plt.style.use('fivethirtyeight')\n",
    "\n",
    "barras = plt.barh(produtos, quantidades)\n",
    "\n",
    "plt.bar_label(barras, labels=quantidades, padding=3, fontsize=10, fontweight='bold', color='C1')\n",
    "\n",
    "# plt.xlabel('Quantidade Vendida')\n",
    "# plt.ylabel('Produto')\n",
    "plt.xticks([])\n",
    "plt.title('Quantidade de Produtos Vendidos')\n",
    "plt.grid(False)\n",
    "\n",
    "plt.show()"
   ]
  },
  {
   "cell_type": "code",
   "execution_count": null,
   "metadata": {},
   "outputs": [],
   "source": [
    "import matplotlib.pyplot as plt\n",
    "\n",
    "produtos = ['Produto A', 'Produto B', 'Produto C', 'Produto D', 'Produto E']\n",
    "quantidades = [23, 45, 17, 30, 37]\n",
    "\n",
    "plt.style.use('bmh')\n",
    "\n",
    "barras = plt.barh(produtos, quantidades)\n",
    "\n",
    "plt.bar_label(barras, labels=quantidades, padding=3, fontsize=10, fontweight='bold', color='C1')\n",
    "\n",
    "# plt.xlabel('Quantidade Vendida')\n",
    "# plt.ylabel('Produto')\n",
    "plt.xticks([])\n",
    "plt.title('Quantidade de Produtos Vendidos')\n",
    "plt.grid(False)\n",
    "\n",
    "plt.show()"
   ]
  },
  {
   "cell_type": "code",
   "execution_count": 15,
   "metadata": {},
   "outputs": [
    {
     "data": {
      "image/png": "[encoded data removed]",
      "text/plain": [
       "<Figure size 640x480 with 1 Axes>"
      ]
     },
     "metadata": {},
     "output_type": "display_data"
    }
   ],
   "source": [
    "import matplotlib.pyplot as plt\n",
    "\n",
    "produtos = ['Produto A', 'Produto B', 'Produto C', 'Produto D', 'Produto E']\n",
    "quantidades = [23, 45, 17, 30, 37]\n",
    "# criando uma lista de tupla chamada dados_ordenados e ordenando a mesma de maneira crescente\n",
    "dados_ordenados = sorted(zip(quantidades, produtos))\n",
    "lista_quantidades_ordenados = [x[0] for x in dados_ordenados]\n",
    "lista_produtos_ordenados = [x[1] for x in dados_ordenados]\n",
    "\n",
    "plt.style.use('bmh')\n",
    "\n",
    "barras = plt.barh(lista_produtos_ordenados, lista_quantidades_ordenados)\n",
    "\n",
    "plt.bar_label(barras, labels=lista_quantidades_ordenados, padding=3, fontsize=10, fontweight='bold')\n",
    "\n",
    "barras[4].set_color('C3')\n",
    "barras[0].set_color('C1')\n",
    "\n",
    "# plt.xlabel('Quantidade Vendida')\n",
    "# plt.ylabel('Produto')\n",
    "plt.xticks([])\n",
    "plt.tick_params(axis='y', length=0)\n",
    "plt.title('Quantidade de Produtos Vendidos')\n",
    "plt.grid(False)\n",
    "\n",
    "plt.show()"
   ]
  },
  {
   "cell_type": "code",
   "execution_count": 8,
   "metadata": {},
   "outputs": [
    {
     "name": "stdout",
     "output_type": "stream",
     "text": [
      "Rectangle(xy=(0, 0.6), width=23, height=0.8, angle=0)\n"
     ]
    }
   ],
   "source": [
    "print(barras[1])"
   ]
  }
 ],
 "metadata": {
  "kernelspec": {
   "display_name": "venv",
   "language": "python",
   "name": "python3"
  },
  "language_info": {
   "codemirror_mode": {
    "name": "ipython",
    "version": 3
   },
   "file_extension": ".py",
   "mimetype": "text/x-python",
   "name": "python",
   "nbconvert_exporter": "python",
   "pygments_lexer": "ipython3",
   "version": "3.12.5"
  }
 },
 "nbformat": 4,
 "nbformat_minor": 4
}
