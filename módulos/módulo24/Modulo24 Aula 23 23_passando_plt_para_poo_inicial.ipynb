{
 "cells": [
  {
   "cell_type": "markdown",
   "metadata": {},
   "source": [
    "# Passando de `plt` para `ax`\n"
   ]
  },
  {
   "cell_type": "markdown",
   "metadata": {},
   "source": [
    "## Gráfico de linha"
   ]
  },
  {
   "cell_type": "markdown",
   "metadata": {},
   "source": [
    "### Em plt"
   ]
  },
  {
   "cell_type": "code",
   "execution_count": null,
   "metadata": {
    "ExecuteTime": {
     "end_time": "2023-07-19T17:29:47.590287900Z",
     "start_time": "2023-07-19T17:29:46.969018Z"
    },
    "tags": []
   },
   "outputs": [],
   "source": [
    "import matplotlib.pyplot as plt\n",
    "from cycler import cycler\n",
    "import numpy as np\n",
    "\n",
    "meses = ['Jan', 'Fev', 'Mar', 'Abr', 'Mai', 'Jun', 'Jul', 'Ago', 'Set', 'Out', 'Nov', 'Dez']\n",
    "vendas = [85, 90, 78, 92, 88, 96, 94, 98, 100, 102, 105, 108]\n",
    "\n",
    "cores = plt.get_cmap('Pastel2').colors\n",
    "ciclo_cores = cycler('color', cores)\n",
    "plt.rc('axes', prop_cycle=ciclo_cores)\n",
    "\n",
    "plt.figure(figsize=(8, 4))\n",
    "plt.plot(meses, vendas)\n",
    "\n",
    "# adicionando um vspan para destacar o intervalo de meses com vendas a partir de julho\n",
    "plt.axvspan(6, 11, color=cores[1], alpha=0.15)\n",
    "\n",
    "# adicionando texto para destacar o intervalo de meses com vendas a partir de julho\n",
    "plt.text(6, 80, 'Recuperação de crescimento', fontsize=11, color='green', weight='bold')\n",
    "\n",
    "# usando o np where, crie uma lista de marcadores x para o valor mínimo e o para o resto\n",
    "marcadores = np.where(vendas == np.min(vendas), 'x', 'o')\n",
    "for posicao, marcador in enumerate(marcadores):\n",
    "    if marcador == 'x':\n",
    "        cor = 'red'\n",
    "        tamanho = 80\n",
    "    else:\n",
    "        cor = cores[0]\n",
    "        tamanho = 30\n",
    "    plt.scatter(meses[posicao], vendas[posicao], marker=marcador, s=tamanho, color=cor)\n",
    "    plt.annotate(vendas[posicao], color=cor, xy=(meses[posicao], vendas[posicao]), xytext=(-5, 5), textcoords='offset points')\n",
    "\n",
    "plt.ylabel('Vendas (em milhares)')\n",
    "plt.title('Crescimento das Vendas ao Longo do Ano')\n",
    "\n",
    "plt.yticks([])\n",
    "plt.tick_params(axis='x', length=0)\n",
    "plt.box(False)\n",
    "\n",
    "plt.show()\n"
   ]
  },
  {
   "cell_type": "markdown",
   "metadata": {},
   "source": [
    "### Em ax"
   ]
  },
  {
   "cell_type": "code",
   "execution_count": null,
   "metadata": {},
   "outputs": [],
   "source": [
    "import matplotlib.pyplot as plt\n",
    "from cycler import cycler\n",
    "import numpy as np\n",
    "\n",
    "meses = ['Jan', 'Fev', 'Mar', 'Abr', 'Mai', 'Jun', 'Jul', 'Ago', 'Set', 'Out', 'Nov', 'Dez']\n",
    "vendas = [85, 90, 78, 92, 88, 96, 94, 98, 100, 102, 105, 108]\n",
    "\n",
    "cores = plt.get_cmap('Pastel2').colors\n",
    "ciclo_cores = cycler('color', cores)\n",
    "plt.rc('axes', prop_cycle=ciclo_cores)\n",
    "\n",
    "fig, ax = plt.subplots(figsize=(10, 6))\n",
    "ax.plot(meses, vendas)\n",
    "\n",
    "# adicionando um vspan para destacar o intervalo de meses com vendas a partir de julho\n",
    "ax.axvspan(6, 11, color=cores[1], alpha=0.15)\n",
    "\n",
    "# adicionando texto para destacar o intervalo de meses com vendas a partir de julho\n",
    "ax.text(6, 80, 'Recuperação de crescimento', fontsize=11, color='green', weight='bold')\n",
    "\n",
    "# usando o np where, crie uma lista de marcadores x para o valor mínimo e o para o resto\n",
    "marcadores = np.where(vendas == np.min(vendas), 'x', 'o')\n",
    "for posicao, marcador in enumerate(marcadores):\n",
    "    if marcador == 'x':\n",
    "        cor = 'red'\n",
    "        tamanho = 80\n",
    "    else:\n",
    "        cor = cores[0]\n",
    "        tamanho = 30\n",
    "    ax.scatter(meses[posicao], vendas[posicao], marker=marcador, s=tamanho, color=cor)\n",
    "    ax.annotate(vendas[posicao], color=cor, xy=(meses[posicao], vendas[posicao]), xytext=(-5, 5), textcoords='offset points')\n",
    "\n",
    "ax.set_ylabel('Vendas (em milhares)')\n",
    "ax.set_title('Crescimento das Vendas ao Longo do Ano')\n",
    "\n",
    "ax.set_yticks([])\n",
    "ax.tick_params(axis='x', length=0)\n",
    "# plt.box(False)\n",
    "# ao utilizar varios sistemas de eixos e é referenciado cada sistema de eixos,\n",
    "# é mais semântico utilizar frame para cada sistema de eixos.\n",
    "ax.set_frame_on(False)\n",
    "\n",
    "plt.show()\n"
   ]
  },
  {
   "cell_type": "markdown",
   "metadata": {},
   "source": [
    "## Gráfico de barras\n"
   ]
  },
  {
   "cell_type": "markdown",
   "metadata": {},
   "source": [
    "### Em plt"
   ]
  },
  {
   "cell_type": "code",
   "execution_count": null,
   "metadata": {
    "ExecuteTime": {
     "end_time": "2023-07-19T17:29:47.682937400Z",
     "start_time": "2023-07-19T17:29:47.609938300Z"
    },
    "collapsed": false,
    "jupyter": {
     "outputs_hidden": false
    }
   },
   "outputs": [],
   "source": [
    "import matplotlib.pyplot as plt\n",
    "from cycler import cycler\n",
    "\n",
    "produtos = ['Produto A', 'Produto B', 'Produto C', 'Produto D', 'Produto E']\n",
    "quantidades = [23, 45, 17, 30, 37]\n",
    "dados_ordenados = sorted(zip(quantidades, produtos))  # por quantidade\n",
    "quantidades_ordenadas = [x[0] for x in dados_ordenados]\n",
    "produtos_ordenados = [x[1] for x in dados_ordenados]\n",
    "\n",
    "\n",
    "cores = plt.get_cmap('Pastel2').colors\n",
    "ciclo_cores = cycler('color', cores)\n",
    "plt.rc('axes', prop_cycle=ciclo_cores)\n",
    "\n",
    "barras = plt.barh(produtos_ordenados, quantidades_ordenadas)\n",
    "\n",
    "plt.bar_label(\n",
    "    barras, \n",
    "    labels=[max(quantidades_ordenadas) if x == max(quantidades_ordenadas) else '' for x in quantidades_ordenadas], \n",
    "    padding=3,\n",
    "    fontsize=10,\n",
    "    fontweight='bold'\n",
    ")\n",
    "\n",
    "# retirando as bordas do gráfico\n",
    "plt.box(False)\n",
    "\n",
    "# retirando o eixo x\n",
    "plt.xticks([])\n",
    "plt.tick_params(axis='y', length=0)\n",
    "\n",
    "# destacando a barra do produto com maior quantidade vendida\n",
    "for i, barra in enumerate(barras):\n",
    "    if i != quantidades_ordenadas.index(max(quantidades_ordenadas)):\n",
    "        barras[i].set_color(cores[1])\n",
    "        barras[i].set_alpha(0.2)\n",
    "\n",
    "\n",
    "plt.title('Quantidade de Produtos Vendidos')\n",
    "\n",
    "# caso queira inverter o eixo, descomente a linha abaixo\n",
    "# plt.gca().invert_yaxis()\n",
    "\n",
    "plt.show()\n"
   ]
  },
  {
   "cell_type": "markdown",
   "metadata": {},
   "source": [
    "### Em ax"
   ]
  },
  {
   "cell_type": "code",
   "execution_count": 22,
   "metadata": {},
   "outputs": [
    {
     "data": {
      "image/png": "[encoded data removed]",
      "text/plain": [
       "<Figure size 1000x600 with 1 Axes>"
      ]
     },
     "metadata": {},
     "output_type": "display_data"
    }
   ],
   "source": [
    "import matplotlib.pyplot as plt\n",
    "from cycler import cycler\n",
    "\n",
    "produtos = ['Produto A', 'Produto B', 'Produto C', 'Produto D', 'Produto E']\n",
    "quantidades = [23, 45, 17, 30, 37]\n",
    "# ordenando a lista de tuplas chamada dados_oredenados de maneira crescente\n",
    "dados_ordenados = sorted(zip(quantidades, produtos))  # por quantidade\n",
    "quantidades_ordenadas = [x[0] for x in dados_ordenados]\n",
    "produtos_ordenados = [x[1] for x in dados_ordenados]\n",
    "\n",
    "\n",
    "cores = plt.get_cmap('Pastel2').colors\n",
    "ciclo_cores = cycler('color', cores)\n",
    "plt.rc('axes', prop_cycle=ciclo_cores)\n",
    "\n",
    "fig, ax = plt.subplots(figsize=(10,6))\n",
    "\n",
    "barras = ax.barh(produtos_ordenados, quantidades_ordenadas)\n",
    "\n",
    "ax.bar_label(\n",
    "    barras, \n",
    "    labels=[max(quantidades_ordenadas) if x == max(quantidades_ordenadas) else '' for x in quantidades_ordenadas], \n",
    "    padding=3,\n",
    "    fontsize=10,\n",
    "    fontweight='bold'\n",
    ")\n",
    "\n",
    "# retirando as bordas do gráfico\n",
    "ax.set_frame_on(False)\n",
    "\n",
    "# retirando o eixo x\n",
    "ax.set_xticks([])\n",
    "ax.tick_params(axis='y', length=0)\n",
    "\n",
    "# destacando a barra do produto com maior quantidade vendida\n",
    "for i, barra in enumerate(barras):\n",
    "    if i != quantidades_ordenadas.index(max(quantidades_ordenadas)):\n",
    "        barras[i].set_color(cores[1])\n",
    "        barras[i].set_alpha(0.2)\n",
    "\n",
    "\n",
    "ax.set_title('Quantidade de Produtos Vendidos')\n",
    "\n",
    "# caso queira inverter o eixo, descomente a linha abaixo\n",
    "# ax.invert_yaxis()\n",
    "\n",
    "plt.show()\n"
   ]
  },
  {
   "cell_type": "code",
   "execution_count": null,
   "metadata": {},
   "outputs": [],
   "source": [
    "print(dados_ordenados)"
   ]
  },
  {
   "cell_type": "markdown",
   "metadata": {},
   "source": [
    "## Gráfico de pizza\n"
   ]
  },
  {
   "cell_type": "markdown",
   "metadata": {},
   "source": [
    "### Em plt"
   ]
  },
  {
   "cell_type": "code",
   "execution_count": null,
   "metadata": {
    "ExecuteTime": {
     "end_time": "2023-07-19T17:29:47.776680700Z",
     "start_time": "2023-07-19T17:29:47.702391900Z"
    },
    "collapsed": false,
    "jupyter": {
     "outputs_hidden": false
    }
   },
   "outputs": [],
   "source": [
    "import matplotlib.pyplot as plt\n",
    "\n",
    "categorias = ['Eletrônicos', 'Roupas', 'Alimentos', 'Livros']\n",
    "quantidades = [45, 30, 15, 10]\n",
    "destaque = [0.1, 0, 0, 0]  # destacar a primeira fatia\n",
    "\n",
    "cores = plt.get_cmap('Pastel2').colors\n",
    "\n",
    "plt.pie(quantidades, labels=categorias, colors=cores, autopct='%.1f', explode=destaque)\n",
    "plt.title('Distribuição de Categorias de Produtos em Porcentagem')\n",
    "plt.show()\n"
   ]
  },
  {
   "cell_type": "markdown",
   "metadata": {},
   "source": [
    "### Em ax"
   ]
  },
  {
   "cell_type": "code",
   "execution_count": 23,
   "metadata": {},
   "outputs": [
    {
     "data": {
      "image/png": "[encoded data removed]",
      "text/plain": [
       "<Figure size 640x480 with 1 Axes>"
      ]
     },
     "metadata": {},
     "output_type": "display_data"
    }
   ],
   "source": [
    "import matplotlib.pyplot as plt\n",
    "\n",
    "categorias = ['Eletrônicos', 'Roupas', 'Alimentos', 'Livros']\n",
    "quantidades = [45, 30, 15, 10]\n",
    "destaque = [0.1, 0, 0, 0]  # destacar a primeira fatia\n",
    "\n",
    "cores = plt.get_cmap('Pastel2').colors\n",
    "\n",
    "fig, ax = plt.subplots()\n",
    "\n",
    "ax.pie(quantidades, labels=categorias, colors=cores, autopct='%.1f', explode=destaque)\n",
    "ax.set_title('Distribuição de Categorias de Produtos em Porcentagem')\n",
    "plt.show()\n"
   ]
  },
  {
   "cell_type": "markdown",
   "metadata": {},
   "source": [
    "## Gráfico de barras empilhadas\n"
   ]
  },
  {
   "cell_type": "markdown",
   "metadata": {},
   "source": [
    "### Em plt"
   ]
  },
  {
   "cell_type": "code",
   "execution_count": null,
   "metadata": {
    "ExecuteTime": {
     "end_time": "2023-07-19T17:29:47.901213600Z",
     "start_time": "2023-07-19T17:29:47.796308300Z"
    },
    "collapsed": false,
    "jupyter": {
     "outputs_hidden": false
    }
   },
   "outputs": [],
   "source": [
    "import matplotlib.pyplot as plt\n",
    "from cycler import cycler\n",
    "\n",
    "anos = [2018, 2019, 2020, 2021]\n",
    "vendas_online = [5, 10, 15, 20]\n",
    "vendas_loja = [10, 8, 6, 4]\n",
    "\n",
    "# rc = runtime configuration (configuração quando executa)\n",
    "cores = plt.get_cmap('Pastel2').colors\n",
    "ciclo_cores = cycler('color', cores)\n",
    "plt.rc('axes', prop_cycle=ciclo_cores)\n",
    "\n",
    "barra_online = plt.bar(anos, vendas_online, label='Online')\n",
    "barra_loja = plt.bar(anos, vendas_loja, bottom=vendas_online, label='Loja')\n",
    "plt.bar_label(barra_online, labels=vendas_online, fontsize=10, fontweight='bold', label_type='center')\n",
    "plt.bar_label(barra_loja, labels=vendas_loja, fontsize=10, fontweight='bold', label_type='center')\n",
    "\n",
    "# forçar os anos a serem exibidos como inteiros\n",
    "plt.xticks(ticks=anos)\n",
    "plt.yticks([])\n",
    "plt.tick_params(axis='x', length=0)\n",
    "plt.box(False)\n",
    "\n",
    "plt.ylabel('Vendas (em milhões)')\n",
    "plt.title('Vendas Online vs Loja')\n",
    "plt.legend()\n",
    "plt.show()\n"
   ]
  },
  {
   "cell_type": "markdown",
   "metadata": {},
   "source": [
    "### Em ax\n"
   ]
  },
  {
   "cell_type": "code",
   "execution_count": 24,
   "metadata": {},
   "outputs": [
    {
     "data": {
      "image/png": "[encoded data removed]",
      "text/plain": [
       "<Figure size 1000x600 with 1 Axes>"
      ]
     },
     "metadata": {},
     "output_type": "display_data"
    }
   ],
   "source": [
    "import matplotlib.pyplot as plt\n",
    "from cycler import cycler\n",
    "\n",
    "anos = [2018, 2019, 2020, 2021]\n",
    "vendas_online = [5, 10, 15, 20]\n",
    "vendas_loja = [10, 8, 6, 4]\n",
    "\n",
    "# rc = runtime configuration (configuração quando executa)\n",
    "cores = plt.get_cmap('Pastel2').colors\n",
    "ciclo_cores = cycler('color', cores)\n",
    "plt.rc('axes', prop_cycle=ciclo_cores)\n",
    "\n",
    "fig, ax = plt.subplots(figsize=(10,6))\n",
    "\n",
    "barra_online = ax.bar(anos, vendas_online, label='Online')\n",
    "barra_loja = ax.bar(anos, vendas_loja, bottom=vendas_online, label='Loja')\n",
    "ax.bar_label(barra_online, labels=vendas_online, fontsize=10, fontweight='bold', label_type='center')\n",
    "ax.bar_label(barra_loja, labels=vendas_loja, fontsize=10, fontweight='bold', label_type='center')\n",
    "\n",
    "# forçar os anos a serem exibidos como inteiros\n",
    "ax.set_xticks(ticks=anos)\n",
    "ax.set_yticks([])\n",
    "ax.tick_params(axis='x', length=0)\n",
    "ax.set_frame_on(False)\n",
    "\n",
    "ax.set_ylabel('Vendas (em milhões)')\n",
    "ax.set_title('Vendas Online vs Loja')\n",
    "ax.legend()\n",
    "\n",
    "plt.show()\n"
   ]
  }
 ],
 "metadata": {
  "kernelspec": {
   "display_name": "venv",
   "language": "python",
   "name": "python3"
  },
  "language_info": {
   "codemirror_mode": {
    "name": "ipython",
    "version": 3
   },
   "file_extension": ".py",
   "mimetype": "text/x-python",
   "name": "python",
   "nbconvert_exporter": "python",
   "pygments_lexer": "ipython3",
   "version": "3.12.5"
  }
 },
 "nbformat": 4,
 "nbformat_minor": 4
}
