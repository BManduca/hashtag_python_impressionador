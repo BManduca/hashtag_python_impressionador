{
 "cells": [
  {
   "cell_type": "markdown",
   "metadata": {},
   "source": [
    "# Análise de dados com Pandas e Seaborn\n",
    "\n",
    "O Pandas é uma biblioteca Python de código aberto para análise de dados. Ela fornece ferramentas de análise de dados e estruturas de dados de alta performance e fáceis de usar. Já o Seaborn é uma biblioteca Python de visualização de dados baseada no matplotlib. Ela fornece uma interface de alto nível para desenhar gráficos estatísticos atraentes e informativos. Sua vantagem sobre o Matplotlib puro é que Seaborn fornece padrões de plotagem estatística que podem ser facilmente ativados com apenas alguns comandos.\n",
    "\n",
    "A base de dados utilizada aqui é de churn de clientes de uma empresa de telecomunicações. O churn é uma métrica que indica a taxa de evasão de clientes. Neste caso, o churn é definido como a perda de clientes para a concorrência ou por desinteresse em continuar com o serviço. O objetivo é analisar os dados e identificar os principais fatores que levam um cliente a cancelar o serviço.\n",
    "\n",
    "Temos o seguinte dicionário de dados:\n",
    "\n",
    "- `id_cliente`: identificador único do cliente\n",
    "- `genero`: gênero do cliente\n",
    "- `idoso`: indica se o cliente é idoso (mais de 65 anos) ou não\n",
    "- `tem_parceiro`: indica se o cliente tem parceiro ou não\n",
    "- `tem_dependentes`: indica se o cliente tem dependentes ou não\n",
    "- `meses_na_empresa`: quantidade de meses que o cliente permaneceu na empresa\n",
    "- `servico_telefone`: indica se o cliente tem serviço de telefone ou não\n",
    "- `multiplas_linhas`: indica se o cliente tem múltiplas linhas ou não\n",
    "- `servico_internet`: indica se o cliente tem serviço de internet (DSL ou fibra óptica) ou não\n",
    "- `servico_seguranca`: indica se o cliente tem serviço de segurança online ou não\n",
    "- `servico_backup`: indica se o cliente tem serviço de backup online ou não\n",
    "- `servico_protecao_equipamento`: indica se o cliente tem serviço de proteção do equipamento de conexão ou não\n",
    "- `servico_suporte_tecnico`: indica se o cliente tem serviço de suporte técnico prioritário ou não\n",
    "- `streaming_tv`: indica se o cliente tem serviço de streaming de TV ou não\n",
    "- `streaming_filmes`: indica se o cliente tem serviço de streaming de filmes ou não\n",
    "- `contrato`: tipo de contrato do cliente (mensal, anual ou dois anos)\n",
    "- `fatura_digital`: indica se o cliente recebe a fatura por e-mail ou não\n",
    "- `forma_pagamento`: forma de pagamento do cliente (cheque, boleto, transferência bancária ou cartão de crédito)\n",
    "- `valor_mensal`: valor mensal do serviço contratado\n",
    "- `total_gasto`: valor total gasto pelo cliente\n",
    "- `churn`: indica se o cliente cancelou o serviço no mês anterior ou não\n",
    "\n"
   ]
  },
  {
   "cell_type": "code",
   "execution_count": null,
   "metadata": {
    "ExecuteTime": {
     "end_time": "2023-07-26T00:46:25.331710800Z",
     "start_time": "2023-07-26T00:46:25.243390400Z"
    },
    "collapsed": true,
    "jupyter": {
     "outputs_hidden": true
    }
   },
   "outputs": [],
   "source": [
    "import pandas as pd\n",
    "import seaborn as sns\n",
    "import matplotlib.pyplot as plt\n",
    "\n",
    "sns.set_theme(style='dark', palette='bright', context='notebook')\n",
    "\n",
    "ARQUIVO_DADOS = 'dados/churn_clientes.csv'\n",
    "\n",
    "df_churn = pd.read_csv(ARQUIVO_DADOS)\n",
    "df_churn = df_churn.drop(columns='id_cliente', axis=1)\n",
    "\n",
    "\n",
    "colunas_numericas = df_churn.select_dtypes(include='number').columns\n",
    "colunas_categoricas = df_churn.select_dtypes(exclude='number').columns\n",
    "colunas_categoricas = colunas_categoricas.drop('churn')\n",
    "\n",
    "df_churn.head()"
   ]
  },
  {
   "cell_type": "markdown",
   "metadata": {},
   "source": [
    "## Variáveis categóricas\n"
   ]
  },
  {
   "cell_type": "code",
   "execution_count": null,
   "metadata": {
    "ExecuteTime": {
     "end_time": "2023-07-26T00:46:25.333723600Z",
     "start_time": "2023-07-26T00:46:25.283179300Z"
    },
    "collapsed": false,
    "jupyter": {
     "outputs_hidden": false
    }
   },
   "outputs": [],
   "source": [
    "print(colunas_categoricas)"
   ]
  },
  {
   "cell_type": "code",
   "execution_count": null,
   "metadata": {
    "ExecuteTime": {
     "end_time": "2023-07-26T00:46:25.333723600Z",
     "start_time": "2023-07-26T00:46:25.299408600Z"
    },
    "collapsed": false,
    "jupyter": {
     "outputs_hidden": false
    }
   },
   "outputs": [],
   "source": [
    "print(len(colunas_categoricas))"
   ]
  },
  {
   "cell_type": "markdown",
   "metadata": {},
   "source": [
    "### Análise dos percentuais de churn por categoria"
   ]
  },
  {
   "cell_type": "code",
   "execution_count": null,
   "metadata": {
    "ExecuteTime": {
     "end_time": "2023-07-26T00:46:27.332119100Z",
     "start_time": "2023-07-26T00:46:25.317068400Z"
    },
    "collapsed": false,
    "jupyter": {
     "outputs_hidden": false
    }
   },
   "outputs": [],
   "source": [
    "fig, axs = plt.subplots(nrows=4, ncols=4, figsize=(14, 14), sharey=True)\n",
    "\n",
    "for i, coluna in enumerate(colunas_categoricas):\n",
    "    # a propriedade fill preenche o histograma como se fosse uma barra que varia de 0 a 1\n",
    "    # para termos a porcentagem esperada, basta multiplicar por 100\n",
    "    h = sns.histplot(x=coluna, data=df_churn, hue='churn', multiple='fill',ax=axs.flat[i], stat='percent')\n",
    "\n",
    "plt.show()"
   ]
  },
  {
   "cell_type": "code",
   "execution_count": null,
   "metadata": {
    "ExecuteTime": {
     "end_time": "2023-07-26T00:46:29.430312Z",
     "start_time": "2023-07-26T00:46:27.332119100Z"
    },
    "collapsed": false,
    "jupyter": {
     "outputs_hidden": false
    }
   },
   "outputs": [],
   "source": [
    "fig, axs = plt.subplots(nrows=4, ncols=4, figsize=(14, 20), sharey=True, tight_layout=True)\n",
    "\n",
    "for i, coluna in enumerate(colunas_categoricas):\n",
    "    h = sns.histplot(x=coluna, data=df_churn, hue='churn', multiple='fill',ax=axs.flat[i], stat='percent', shrink=0.8)\n",
    "    h.tick_params(axis='x', labelrotation=45)\n",
    "\n",
    "    legenda = h.get_legend()\n",
    "    legenda.remove()\n",
    "\n",
    "rotulos = [text.get_text() for text in legenda.get_texts()]\n",
    "\n",
    "fig.legend(handles=legenda.legend_handles, labels=rotulos, loc='upper center', ncols=2, title='Churn', bbox_to_anchor=(0.5, 0.97))\n",
    "fig.suptitle('Churn por variáveis categóricas\\n\\n\\n', fontsize=16, fontweight='bold')\n",
    "fig.align_labels()\n",
    "\n",
    "plt.show()"
   ]
  },
  {
   "cell_type": "code",
   "execution_count": null,
   "metadata": {
    "ExecuteTime": {
     "end_time": "2023-07-26T00:46:31.671704800Z",
     "start_time": "2023-07-26T00:46:29.429180Z"
    },
    "collapsed": false,
    "jupyter": {
     "outputs_hidden": false
    }
   },
   "outputs": [],
   "source": [
    "from matplotlib.ticker import PercentFormatter\n",
    "\n",
    "fig, axs = plt.subplots(nrows=4, ncols=4, figsize=(14, 20), sharey=True)\n",
    "\n",
    "for i, coluna in enumerate(colunas_categoricas):\n",
    "    h = sns.histplot(x=coluna, data=df_churn, hue='churn', multiple='fill',ax=axs.flat[i], stat='percent', shrink=0.8)\n",
    "    h.tick_params(axis='x', labelrotation=45)\n",
    "    h.yaxis.set_major_formatter(PercentFormatter(1))\n",
    "    h.set_ylabel('')\n",
    "\n",
    "    for barras in h.containers:\n",
    "        h.bar_label(barras, label_type='center', labels=[f'{barra.get_height():.1%}' for barra in barras ], color='white', weight='bold', fontsize=10)\n",
    "\n",
    "    legenda = h.get_legend()\n",
    "    legenda.remove()\n",
    "\n",
    "rotulos = [text.get_text() for text in legenda.get_texts()]\n",
    "\n",
    "fig.legend(handles=legenda.legend_handles, labels=rotulos, loc='upper center', ncols=2, title='Churn', bbox_to_anchor=(0.5, 0.96))\n",
    "fig.suptitle('Churn por variáveis categóricas', fontsize=16, fontweight='bold')\n",
    "fig.align_labels()\n",
    "\n",
    "plt.subplots_adjust(wspace=0.4, hspace=0.4, top=0.9)\n",
    "\n",
    "plt.show()"
   ]
  },
  {
   "cell_type": "markdown",
   "metadata": {},
   "source": [
    "Recursos que parecem estar positivamente correlacionados com a rotatividade:\n",
    "\n",
    "- contratos mensais\n",
    "- ausência de backup online, segurança online e serviços de proteção de dispositivos\n",
    "- ausência de suporte técnico\n",
    "- ser um idoso\n",
    "- fatura digital\n",
    "- pagar com boleto\n",
    "- serviço de internet por fibra óptica\n",
    "\n",
    "Recursos que parecem estar negativamente correlacionados com a rotatividade:\n",
    "\n",
    "- contratos de dois anos\n",
    "- ausência de serviço de internet\n",
    "- ter um parceiro ou dependente\n",
    "\n",
    "Vamos quantificar essas correlações em breve. Primeiro, vamos tentar interpretar os resultados.\n",
    "\n",
    "Ambos os sexos se comportam de maneira semelhante quando se trata de migrar para outro provedor de serviços.\n",
    "\n",
    "Talvez o serviço de internet fornecido pela empresa tenha problemas de conectividade, particularmente o de fibra óptica. Também pode ser que a configuração não seja fácil, de modo que aqueles que optaram por não ter suporte técnico possam não conseguir usar os serviços. E isso seria mais grave em clientes idosos. Embora pareça que existam problemas com a internet de fibra óptica, a DSL tem uma taxa de rotatividade muito menor, apesar de ser uma conexão mais lenta."
   ]
  },
  {
   "cell_type": "markdown",
   "metadata": {},
   "source": [
    "Vamos detalhar a análise do serviço de internet. Abaixo, o boxplot considerando o valor mensal e o churn."
   ]
  },
  {
   "cell_type": "code",
   "execution_count": 9,
   "metadata": {},
   "outputs": [
    {
     "data": {
      "image/png": "[encoded data removed]",
      "text/plain": [
       "<Figure size 640x480 with 1 Axes>"
      ]
     },
     "metadata": {},
     "output_type": "display_data"
    }
   ],
   "source": [
    "sns.boxplot(x='servico_internet', y='valor_mensal', data=df_churn, hue='churn')\n",
    "\n",
    "plt.show()"
   ]
  },
  {
   "cell_type": "markdown",
   "metadata": {},
   "source": [
    "# Análise\n",
    "- Através do boxplot gerado, podemos analisar que tanto na categoria DSL quanto na fibra ótica, o valor na mediana aonde o churn é positivo, é menor do que o valor da mediana aonde o churn é negativo, então isso nos leva a pensar que o valor, nao deve impactar tanto neste quesito e sim, muitas vezes que o serviço em si não poderia ser tão bom, como na fibra ótica dessa empresa, que é um exemplo bem evidente, desta forma, essa é uma possibilidade bem relevante."
   ]
  }
 ],
 "metadata": {
  "kernelspec": {
   "display_name": "venv",
   "language": "python",
   "name": "python3"
  },
  "language_info": {
   "codemirror_mode": {
    "name": "ipython",
    "version": 3
   },
   "file_extension": ".py",
   "mimetype": "text/x-python",
   "name": "python",
   "nbconvert_exporter": "python",
   "pygments_lexer": "ipython3",
   "version": "3.12.5"
  }
 },
 "nbformat": 4,
 "nbformat_minor": 4
}
