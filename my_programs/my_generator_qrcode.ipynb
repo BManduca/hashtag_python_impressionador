{
 "cells": [
  {
   "cell_type": "markdown",
   "metadata": {},
   "source": [
    "# Criando QR Codes\n"
   ]
  },
  {
   "cell_type": "markdown",
   "metadata": {},
   "source": [
    "## instalação:\n",
    "- !pip3 install qrcode\n",
    "- !pip3 install pillow"
   ]
  },
  {
   "cell_type": "code",
   "execution_count": null,
   "metadata": {},
   "outputs": [],
   "source": [
    "!pip3 install qrcode"
   ]
  },
  {
   "cell_type": "code",
   "execution_count": null,
   "metadata": {},
   "outputs": [],
   "source": [
    "!pip3 install pillow"
   ]
  },
  {
   "cell_type": "code",
   "execution_count": null,
   "metadata": {},
   "outputs": [],
   "source": [
    "import qrcode\n",
    "import qrcode.constants\n",
    "from qrcode.image.styledpil import StyledPilImage\n",
    "\n",
    "# QRCode -> construtor de qrcode\n",
    "# criando um objeto qrcode\n",
    "\n",
    "# error_correction -> é um parâmetro para controlar a correção de erros nos pixels do\n",
    "# qrcode, se baseando em 4 constantes de correção: \n",
    "# ERROR_CORRECT_L -> em torno de 7% ou menos erros podem ser corrigidos\n",
    "# ERROR_CORRECT_H (default) -> em torno de 15% ou menos erros podem ser corrigidos\n",
    "# ERROR_CORRECT_Q -> em torno de 25% ou menos erros podem ser corrigidos\n",
    "# ERROR_CORRECT_H -> em torno de 30% ou menos erros podem ser corrigidos\n",
    "qr = qrcode.QRCode(error_correction=qrcode.constants.ERROR_CORRECT_H)\n",
    "\n",
    "# adicionando dados ao qrcode\n",
    "qr.add_data('https://www.linkedin.com/in/brunnomanduca/')\n",
    "\n",
    "# acoplando uma imagem ao qrcode\n",
    "imagem = qr.make_image(\n",
    "    image_factory=StyledPilImage,\n",
    "    embeded_image_path='icons/linkedin_logo.png'\n",
    ")\n",
    "\n",
    "imagem.save(\n",
    "    'qrcode_linkedin_brunno_manduca.png'\n",
    ")\n",
    "\n"
   ]
  }
 ],
 "metadata": {
  "kernelspec": {
   "display_name": "venv",
   "language": "python",
   "name": "python3"
  },
  "language_info": {
   "codemirror_mode": {
    "name": "ipython",
    "version": 3
   },
   "file_extension": ".py",
   "mimetype": "text/x-python",
   "name": "python",
   "nbconvert_exporter": "python",
   "pygments_lexer": "ipython3",
   "version": "3.12.5"
  }
 },
 "nbformat": 4,
 "nbformat_minor": 2
}
