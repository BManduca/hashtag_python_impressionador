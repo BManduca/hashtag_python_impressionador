{
 "cells": [
  {
   "cell_type": "markdown",
   "metadata": {},
   "source": [
    "# Análise de vendas\n",
    "\n",
    "Este programa tem o intuito de analisar as vendas de produtos de uma empresa de varejo.\n",
    "\n",
    "Essa lista tem: (produto, vendas de 2019, vendas de 2020) para cada produto.\n",
    "\n",
    "- Inicialmente criar uma lista com as vendas, por exemplo de 2019"
   ]
  },
  {
   "cell_type": "code",
   "execution_count": 1,
   "metadata": {},
   "outputs": [],
   "source": [
    "vendas_produtos = [('iphone', 558147, 951642), ('galaxy', 712350, 244295), ('ipad', 573823, 26964), ('tv', 405252, 787604), ('máquina de café', 718654, 867660), ('kindle', 531580, 78830), ('geladeira', 973139, 710331), ('adega', 892292, 646016), ('notebook dell', 422760, 694913), ('notebook hp', 154753, 539704), ('notebook asus', 887061, 324831), ('microsoft surface', 438508, 667179), ('webcam', 237467, 295633), ('caixa de som', 489705, 725316), ('microfone', 328311, 644622), ('câmera canon', 591120, 994303)]\n",
    "\n",
    "list_vendas_2019 = [vendas_2019 for produto, vendas_2019, vendas_2020 in vendas_produtos]"
   ]
  },
  {
   "cell_type": "markdown",
   "metadata": {},
   "source": [
    "- Posteriormente, analisar e descobrir o maior valor de vendas realizado em 2019"
   ]
  },
  {
   "cell_type": "code",
   "execution_count": 2,
   "metadata": {},
   "outputs": [],
   "source": [
    "maior_valor_vendas_2019 = max(list_vendas_2019)"
   ]
  },
  {
   "cell_type": "markdown",
   "metadata": {},
   "source": [
    "- Agora com o maior valor de vendas em mãos, buscar analisar e descobrir qual o produto que teve essa maior quantidade de vendas"
   ]
  },
  {
   "cell_type": "code",
   "execution_count": 3,
   "metadata": {},
   "outputs": [
    {
     "name": "stdout",
     "output_type": "stream",
     "text": [
      "O produto mais vendido em 2019 foi geladeira e foram vendidas 973139 unidades\n",
      "\n"
     ]
    }
   ],
   "source": [
    "# criando uma nova listagem, para ter a relação (qtde_venda, produto)\n",
    "listagem_vendas_produtos_2019 = [(vendas_2019, produto) for produto, vendas_2019, vendas_2020 in vendas_produtos]\n",
    "# ordenando a listagem de maneira decrescente\n",
    "listagem_vendas_produtos_2019.sort(reverse=True)\n",
    "# Buscando e armazenando maior valor de vendas e o produto\n",
    "produto_mais_vendido_2019 = max(listagem_vendas_produtos_2019)\n",
    "\n",
    "print(f'O produto mais vendido em 2019 foi {produto_mais_vendido_2019[1]} e foram vendidas {produto_mais_vendido_2019[0]} unidades\\n')"
   ]
  }
 ],
 "metadata": {
  "kernelspec": {
   "display_name": "venv",
   "language": "python",
   "name": "python3"
  },
  "language_info": {
   "codemirror_mode": {
    "name": "ipython",
    "version": 3
   },
   "file_extension": ".py",
   "mimetype": "text/x-python",
   "name": "python",
   "nbconvert_exporter": "python",
   "pygments_lexer": "ipython3",
   "version": "3.12.5"
  }
 },
 "nbformat": 4,
 "nbformat_minor": 2
}
